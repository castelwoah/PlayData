{
 "cells": [
  {
   "cell_type": "code",
   "execution_count": 1,
   "id": "78057bc5-15a1-4b7b-8d0e-2ac1548f2a02",
   "metadata": {},
   "outputs": [],
   "source": [
    "class Node:\n",
    "    def __init__(self, data, next=None):\n",
    "        self.data = data\n",
    "        self.next = next"
   ]
  },
  {
   "cell_type": "code",
   "execution_count": 12,
   "id": "bf6c98f7-02a2-4a76-8061-d2dcf1547a05",
   "metadata": {},
   "outputs": [],
   "source": [
    "class Node:\n",
    "    def __init__(self, data, next=None):\n",
    "        self.data = data\n",
    "        self.next = next\n",
    "\n",
    "class LinkedList:\n",
    "    def __init__(self):\n",
    "        self.head = None\n",
    "\n",
    "    def append(self, data):\n",
    "        if not self.head:\n",
    "            self.head = Node(data)\n",
    "            return \n",
    "        current = self.head\n",
    "        while current.next:\n",
    "            current = current.next \n",
    "        current.next = Node(data)\n",
    "\n",
    "\n",
    "    def print_list(self):\n",
    "        current = self.head\n",
    "        print(current.data)\n",
    "        while current.next:\n",
    "            current = current.next\n",
    "            print(current.data)\n",
    "\n",
    "    def search(self, target):\n",
    "        \"\"\"\n",
    "            사용자 찾는 데이터가 있으면 True return\n",
    "            없으면 False\n",
    "        \"\"\"\n",
    "        if self.head == None:\n",
    "            return False\n",
    "        current = self.head\n",
    "        if current.data == target:\n",
    "            return True\n",
    "        while current.next:\n",
    "            if current.data == target:\n",
    "                return True\n",
    "            else:\n",
    "                current = current.next\n",
    "        return False\n",
    "\n"
   ]
  },
  {
   "cell_type": "code",
   "execution_count": 13,
   "id": "3db4791b",
   "metadata": {},
   "outputs": [],
   "source": [
    "linked_list = LinkedList()"
   ]
  },
  {
   "cell_type": "code",
   "execution_count": 14,
   "id": "ded294ef",
   "metadata": {},
   "outputs": [],
   "source": [
    "linked_list.append('hi')"
   ]
  },
  {
   "cell_type": "code",
   "execution_count": 15,
   "id": "3cdec612",
   "metadata": {},
   "outputs": [
    {
     "name": "stdout",
     "output_type": "stream",
     "text": [
      "hi\n"
     ]
    }
   ],
   "source": [
    "linked_list.print_list()"
   ]
  },
  {
   "cell_type": "code",
   "execution_count": null,
   "id": "c5e4e935",
   "metadata": {},
   "outputs": [],
   "source": []
  },
  {
   "cell_type": "markdown",
   "id": "dd7c1904",
   "metadata": {},
   "source": [
    "# 숙제"
   ]
  },
  {
   "cell_type": "code",
   "execution_count": null,
   "id": "70c37cb1",
   "metadata": {},
   "outputs": [],
   "source": []
  },
  {
   "cell_type": "code",
   "execution_count": null,
   "id": "3da80d05",
   "metadata": {},
   "outputs": [],
   "source": []
  },
  {
   "cell_type": "markdown",
   "id": "b4b805b0",
   "metadata": {},
   "source": [
    "# 문제 3\n",
    "- 위의 결과를 바탕으로 목적지 공항 별 결항 횟수, 회항 횟수\n",
    "- 운항 횟수를 구하시오(Cancelled, Diverted, Air)\n",
    "- 문항 횟수는 결항과 회항을 제외한 것"
   ]
  },
  {
   "cell_type": "code",
   "execution_count": null,
   "id": "0df47f60-4ec0-4e54-b1f6-3558b90c5050",
   "metadata": {},
   "outputs": [],
   "source": []
  },
  {
   "cell_type": "code",
   "execution_count": null,
   "id": "b43248b2-bea2-4430-9d77-c5b4cf860422",
   "metadata": {},
   "outputs": [],
   "source": []
  },
  {
   "cell_type": "code",
   "execution_count": null,
   "id": "511bcbc0-fb24-4657-978e-88c1b1f077e8",
   "metadata": {},
   "outputs": [],
   "source": []
  },
  {
   "cell_type": "code",
   "execution_count": null,
   "id": "accbb961-8964-4c37-bb4e-75fd3e723c17",
   "metadata": {},
   "outputs": [],
   "source": []
  },
  {
   "cell_type": "code",
   "execution_count": null,
   "id": "0bb4282c-9f36-4100-ba44-81a6748921f8",
   "metadata": {},
   "outputs": [],
   "source": []
  },
  {
   "cell_type": "code",
   "execution_count": null,
   "id": "e9f0aaa7-3750-426b-9971-817ab10e4d7a",
   "metadata": {},
   "outputs": [],
   "source": []
  },
  {
   "cell_type": "code",
   "execution_count": null,
   "id": "3150a98b-edb3-490c-b8d5-0253c1b492db",
   "metadata": {},
   "outputs": [],
   "source": []
  },
  {
   "cell_type": "code",
   "execution_count": null,
   "id": "2b5cf704-b602-4cd7-8a51-ceb6a2c36e3e",
   "metadata": {},
   "outputs": [],
   "source": []
  },
  {
   "cell_type": "code",
   "execution_count": null,
   "id": "616940b4-d60b-4997-b757-d73a921004a4",
   "metadata": {},
   "outputs": [],
   "source": []
  },
  {
   "cell_type": "code",
   "execution_count": null,
   "id": "be293247-209e-419c-80ed-6f8c4bcff725",
   "metadata": {},
   "outputs": [],
   "source": []
  },
  {
   "cell_type": "code",
   "execution_count": null,
   "id": "dd7e243b-663f-454e-8a4c-4d0b07f2439b",
   "metadata": {},
   "outputs": [],
   "source": []
  },
  {
   "cell_type": "code",
   "execution_count": null,
   "id": "136b390a-8e2b-4cad-a910-1848f5fb3f34",
   "metadata": {},
   "outputs": [],
   "source": []
  }
 ],
 "metadata": {
  "kernelspec": {
   "display_name": "Python 3 (ipykernel)",
   "language": "python",
   "name": "python3"
  },
  "language_info": {
   "codemirror_mode": {
    "name": "ipython",
    "version": 3
   },
   "file_extension": ".py",
   "mimetype": "text/x-python",
   "name": "python",
   "nbconvert_exporter": "python",
   "pygments_lexer": "ipython3",
   "version": "3.9.5"
  }
 },
 "nbformat": 4,
 "nbformat_minor": 5
}
