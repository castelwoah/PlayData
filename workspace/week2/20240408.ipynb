{
 "cells": [
  {
   "cell_type": "markdown",
   "id": "c7be9939-4231-43b2-9246-d1f12261eecb",
   "metadata": {},
   "source": [
    "# 지난주 과제 설명"
   ]
  },
  {
   "cell_type": "code",
   "execution_count": 32,
   "id": "1bfa4486-f3d3-4e88-839a-f614dd83dc8a",
   "metadata": {},
   "outputs": [],
   "source": [
    "import zipfile\n",
    "import os\n",
    "import pandas as pd\n",
    "import shutil"
   ]
  },
  {
   "cell_type": "code",
   "execution_count": 7,
   "id": "24c2e7fb-4e9a-465e-92bf-1a4d50d07989",
   "metadata": {},
   "outputs": [
    {
     "data": {
      "text/plain": [
       "'/home/swp/workspace'"
      ]
     },
     "execution_count": 7,
     "metadata": {},
     "output_type": "execute_result"
    }
   ],
   "source": [
    "os.getcwd()"
   ]
  },
  {
   "cell_type": "code",
   "execution_count": 8,
   "id": "7e6bce1d-47fd-4b8d-bb73-e78ec6293a0a",
   "metadata": {},
   "outputs": [],
   "source": [
    "with zipfile.ZipFile(\"../이름_생년_성별_10000.zip\", \"r\") as f:\n",
    "    f.extractall(\"./data/\")"
   ]
  },
  {
   "cell_type": "code",
   "execution_count": 16,
   "id": "b36ab58a-edce-4b72-84da-5265710ce1b6",
   "metadata": {},
   "outputs": [],
   "source": [
    "gender = os.listdir(\"./data\")[0].split(\"_\")[-1][0]"
   ]
  },
  {
   "cell_type": "code",
   "execution_count": 17,
   "id": "b8f25bbd-ca55-47fe-957c-89f8b2800071",
   "metadata": {},
   "outputs": [
    {
     "data": {
      "text/plain": [
       "'1'"
      ]
     },
     "execution_count": 17,
     "metadata": {},
     "output_type": "execute_result"
    }
   ],
   "source": [
    "gender"
   ]
  },
  {
   "cell_type": "code",
   "execution_count": 33,
   "id": "58f1ee48-923a-4b59-b89f-c87ee639e93e",
   "metadata": {},
   "outputs": [],
   "source": [
    "male_list = []\n",
    "female_list = []\n",
    "\n",
    "if not os.path.isdir(\"./남성\"):\n",
    "    os.mkdir(\"./남성\")\n",
    "if not os.path.isdir(\"./여성\"):\n",
    "    os.mkdir(\"./여성\")\n",
    "\n",
    "for file in os.listdir(\"./data\"):\n",
    "    gender = file.split(\"_\")[-1][0]\n",
    "    if gender == '1' or gender == '3':\n",
    "    # 위코드와 같은 코드\n",
    "    # if gender in ['1','3']:\n",
    "    #     print(gender)\n",
    "        # print(\"남성\", end=\" \")\n",
    "        with open(f\"./data/{file}\", 'r', encoding='utf-8') as f:\n",
    "            male_list.append(['남성', f.read().replace(',', '')])\n",
    "        shutil.move(f\"./data/{file}\", f\"./남성/{file}\")\n",
    "    else: \n",
    "        with open(f\"./data/{file}\", 'r', encoding='utf-8') as f:\n",
    "            female_list.append(['여성', f.read().replace(',', '')])\n",
    "        shutil.move(f\"./data/{file}\", f\"./여성/{file}\")\n",
    "\n",
    "        # print(\"여성\", end=\" \")"
   ]
  },
  {
   "cell_type": "code",
   "execution_count": 34,
   "id": "0ddb8d28-ca95-4ca1-9040-2ac8f9d63475",
   "metadata": {},
   "outputs": [],
   "source": [
    "male_df = pd.DataFrame(male_list, columns=['성별', '금액'])\n",
    "female_df = pd.DataFrame(female_list, columns=['성별', '금액'])"
   ]
  },
  {
   "cell_type": "code",
   "execution_count": 36,
   "id": "5c632edb-52a6-485a-a503-3942a846444a",
   "metadata": {},
   "outputs": [],
   "source": [
    "df = pd.concat([male_df, female_df])"
   ]
  },
  {
   "cell_type": "code",
   "execution_count": 38,
   "id": "fbf2b26d-26c1-421f-8464-9ca15984924a",
   "metadata": {},
   "outputs": [
    {
     "name": "stdout",
     "output_type": "stream",
     "text": [
      "<class 'pandas.core.frame.DataFrame'>\n",
      "Index: 10000 entries, 0 to 5006\n",
      "Data columns (total 2 columns):\n",
      " #   Column  Non-Null Count  Dtype \n",
      "---  ------  --------------  ----- \n",
      " 0   성별      10000 non-null  object\n",
      " 1   금액      10000 non-null  object\n",
      "dtypes: object(2)\n",
      "memory usage: 234.4+ KB\n"
     ]
    }
   ],
   "source": [
    "df.info()"
   ]
  },
  {
   "cell_type": "code",
   "execution_count": 39,
   "id": "ed9e9fa4-1b7f-4511-b066-fd5f4cc52d64",
   "metadata": {},
   "outputs": [],
   "source": [
    "df['금액'] = df['금액'].astype(int)\n",
    "# for문 돌리면 너무 오래걸리고 int() 사용불가 -> 시리즈타입이기 때문에"
   ]
  },
  {
   "cell_type": "code",
   "execution_count": 44,
   "id": "884327ed-2f2b-40d2-b564-60f7d4915d3f",
   "metadata": {},
   "outputs": [
    {
     "data": {
      "text/html": [
       "<div>\n",
       "<style scoped>\n",
       "    .dataframe tbody tr th:only-of-type {\n",
       "        vertical-align: middle;\n",
       "    }\n",
       "\n",
       "    .dataframe tbody tr th {\n",
       "        vertical-align: top;\n",
       "    }\n",
       "\n",
       "    .dataframe thead th {\n",
       "        text-align: right;\n",
       "    }\n",
       "</style>\n",
       "<table border=\"1\" class=\"dataframe\">\n",
       "  <thead>\n",
       "    <tr style=\"text-align: right;\">\n",
       "      <th></th>\n",
       "      <th>금액</th>\n",
       "    </tr>\n",
       "    <tr>\n",
       "      <th>성별</th>\n",
       "      <th></th>\n",
       "    </tr>\n",
       "  </thead>\n",
       "  <tbody>\n",
       "    <tr>\n",
       "      <th>남성</th>\n",
       "      <td>1.190018e+07</td>\n",
       "    </tr>\n",
       "    <tr>\n",
       "      <th>여성</th>\n",
       "      <td>1.280237e+07</td>\n",
       "    </tr>\n",
       "  </tbody>\n",
       "</table>\n",
       "</div>"
      ],
      "text/plain": [
       "              금액\n",
       "성별              \n",
       "남성  1.190018e+07\n",
       "여성  1.280237e+07"
      ]
     },
     "execution_count": 44,
     "metadata": {},
     "output_type": "execute_result"
    }
   ],
   "source": [
    "df.groupby(['성별'])[['금액']].mean()\n",
    "# 공학적 숫자 표기법"
   ]
  },
  {
   "cell_type": "code",
   "execution_count": 43,
   "id": "e8797f0e-2e5e-4b22-9f2b-70f386595327",
   "metadata": {},
   "outputs": [
    {
     "data": {
      "text/plain": [
       "array([11900177.71239736, 12802368.48332335])"
      ]
     },
     "execution_count": 43,
     "metadata": {},
     "output_type": "execute_result"
    }
   ],
   "source": [
    "df.groupby(['성별'])['금액'].mean().values"
   ]
  },
  {
   "cell_type": "code",
   "execution_count": 45,
   "id": "0dd8885f-58b2-48f8-9f97-b52d2186feab",
   "metadata": {},
   "outputs": [
    {
     "data": {
      "text/html": [
       "<div>\n",
       "<style scoped>\n",
       "    .dataframe tbody tr th:only-of-type {\n",
       "        vertical-align: middle;\n",
       "    }\n",
       "\n",
       "    .dataframe tbody tr th {\n",
       "        vertical-align: top;\n",
       "    }\n",
       "\n",
       "    .dataframe thead th {\n",
       "        text-align: right;\n",
       "    }\n",
       "</style>\n",
       "<table border=\"1\" class=\"dataframe\">\n",
       "  <thead>\n",
       "    <tr style=\"text-align: right;\">\n",
       "      <th></th>\n",
       "      <th>성별</th>\n",
       "      <th>금액</th>\n",
       "    </tr>\n",
       "  </thead>\n",
       "  <tbody>\n",
       "    <tr>\n",
       "      <th>0</th>\n",
       "      <td>남성</td>\n",
       "      <td>1.190018e+07</td>\n",
       "    </tr>\n",
       "    <tr>\n",
       "      <th>1</th>\n",
       "      <td>여성</td>\n",
       "      <td>1.280237e+07</td>\n",
       "    </tr>\n",
       "  </tbody>\n",
       "</table>\n",
       "</div>"
      ],
      "text/plain": [
       "   성별            금액\n",
       "0  남성  1.190018e+07\n",
       "1  여성  1.280237e+07"
      ]
     },
     "execution_count": 45,
     "metadata": {},
     "output_type": "execute_result"
    }
   ],
   "source": [
    "df.groupby(['성별'])[['금액']].mean().reset_index()"
   ]
  },
  {
   "cell_type": "code",
   "execution_count": 46,
   "id": "92ec1115-8645-4d56-8c50-ea3344d4c59e",
   "metadata": {},
   "outputs": [
    {
     "data": {
      "text/html": [
       "<div>\n",
       "<style scoped>\n",
       "    .dataframe tbody tr th:only-of-type {\n",
       "        vertical-align: middle;\n",
       "    }\n",
       "\n",
       "    .dataframe tbody tr th {\n",
       "        vertical-align: top;\n",
       "    }\n",
       "\n",
       "    .dataframe thead th {\n",
       "        text-align: right;\n",
       "    }\n",
       "</style>\n",
       "<table border=\"1\" class=\"dataframe\">\n",
       "  <thead>\n",
       "    <tr style=\"text-align: right;\">\n",
       "      <th></th>\n",
       "      <th>성별</th>\n",
       "      <th>금액</th>\n",
       "    </tr>\n",
       "  </thead>\n",
       "  <tbody>\n",
       "    <tr>\n",
       "      <th>0</th>\n",
       "      <td>남성</td>\n",
       "      <td>1.190018e+07</td>\n",
       "    </tr>\n",
       "    <tr>\n",
       "      <th>1</th>\n",
       "      <td>여성</td>\n",
       "      <td>1.280237e+07</td>\n",
       "    </tr>\n",
       "  </tbody>\n",
       "</table>\n",
       "</div>"
      ],
      "text/plain": [
       "   성별            금액\n",
       "0  남성  1.190018e+07\n",
       "1  여성  1.280237e+07"
      ]
     },
     "execution_count": 46,
     "metadata": {},
     "output_type": "execute_result"
    }
   ],
   "source": [
    "df.groupby(['성별'], as_index=False)[['금액']].mean()"
   ]
  },
  {
   "cell_type": "code",
   "execution_count": 49,
   "id": "5cfa4cb3-2df6-4ae8-9c55-f0d7912459ef",
   "metadata": {},
   "outputs": [
    {
     "data": {
      "text/html": [
       "<div>\n",
       "<style scoped>\n",
       "    .dataframe tbody tr th:only-of-type {\n",
       "        vertical-align: middle;\n",
       "    }\n",
       "\n",
       "    .dataframe tbody tr th {\n",
       "        vertical-align: top;\n",
       "    }\n",
       "\n",
       "    .dataframe thead tr th {\n",
       "        text-align: left;\n",
       "    }\n",
       "</style>\n",
       "<table border=\"1\" class=\"dataframe\">\n",
       "  <thead>\n",
       "    <tr>\n",
       "      <th></th>\n",
       "      <th>성별</th>\n",
       "      <th colspan=\"5\" halign=\"left\">금액</th>\n",
       "    </tr>\n",
       "    <tr>\n",
       "      <th></th>\n",
       "      <th></th>\n",
       "      <th>mean</th>\n",
       "      <th>median</th>\n",
       "      <th>var</th>\n",
       "      <th>std</th>\n",
       "      <th>count</th>\n",
       "    </tr>\n",
       "  </thead>\n",
       "  <tbody>\n",
       "    <tr>\n",
       "      <th>0</th>\n",
       "      <td>남성</td>\n",
       "      <td>1.190018e+07</td>\n",
       "      <td>90329.0</td>\n",
       "      <td>6.400252e+14</td>\n",
       "      <td>2.529872e+07</td>\n",
       "      <td>4993</td>\n",
       "    </tr>\n",
       "    <tr>\n",
       "      <th>1</th>\n",
       "      <td>여성</td>\n",
       "      <td>1.280237e+07</td>\n",
       "      <td>96714.0</td>\n",
       "      <td>6.834308e+14</td>\n",
       "      <td>2.614251e+07</td>\n",
       "      <td>5007</td>\n",
       "    </tr>\n",
       "  </tbody>\n",
       "</table>\n",
       "</div>"
      ],
      "text/plain": [
       "   성별            금액                                           \n",
       "               mean   median           var           std count\n",
       "0  남성  1.190018e+07  90329.0  6.400252e+14  2.529872e+07  4993\n",
       "1  여성  1.280237e+07  96714.0  6.834308e+14  2.614251e+07  5007"
      ]
     },
     "execution_count": 49,
     "metadata": {},
     "output_type": "execute_result"
    }
   ],
   "source": [
    "# agg -> aggregate\n",
    "# avg -> mean\n",
    "df.groupby(['성별'], as_index=False)[['금액']].agg(['mean', 'median', 'var', 'std', 'count'])"
   ]
  },
  {
   "cell_type": "code",
   "execution_count": 50,
   "id": "adb47c43-16b0-4b53-afbc-7e25619edac8",
   "metadata": {},
   "outputs": [],
   "source": [
    "import pickle\n",
    "with open(\"./kbo_detail.pkl\", 'rb') as f:\n",
    "    kbo = pickle.load(f)\n",
    "    "
   ]
  },
  {
   "cell_type": "code",
   "execution_count": 54,
   "id": "5e13b70b-1c8e-4d19-8014-98fd721002ed",
   "metadata": {},
   "outputs": [],
   "source": [
    "data = {'df': df,\n",
    "'kbo': kbo}"
   ]
  },
  {
   "cell_type": "code",
   "execution_count": 57,
   "id": "006dc84d-5459-4024-ba13-80b2b81c9ac5",
   "metadata": {},
   "outputs": [],
   "source": [
    "with open('./tmp.pkl', 'wb') as f:\n",
    "    pickle.dump(data, f)"
   ]
  },
  {
   "cell_type": "code",
   "execution_count": 55,
   "id": "49d8c564-cd16-4ac3-b2a4-221dec650631",
   "metadata": {},
   "outputs": [
    {
     "data": {
      "text/html": [
       "<div>\n",
       "<style scoped>\n",
       "    .dataframe tbody tr th:only-of-type {\n",
       "        vertical-align: middle;\n",
       "    }\n",
       "\n",
       "    .dataframe tbody tr th {\n",
       "        vertical-align: top;\n",
       "    }\n",
       "\n",
       "    .dataframe thead th {\n",
       "        text-align: right;\n",
       "    }\n",
       "</style>\n",
       "<table border=\"1\" class=\"dataframe\">\n",
       "  <thead>\n",
       "    <tr style=\"text-align: right;\">\n",
       "      <th></th>\n",
       "      <th>선수명</th>\n",
       "      <th>등번호</th>\n",
       "      <th>생년월일</th>\n",
       "      <th>포지션</th>\n",
       "      <th>신장/체중</th>\n",
       "      <th>경력</th>\n",
       "      <th>입단 계약금</th>\n",
       "      <th>연봉</th>\n",
       "      <th>지명순위</th>\n",
       "      <th>입단년도</th>\n",
       "      <th>team</th>\n",
       "    </tr>\n",
       "  </thead>\n",
       "  <tbody>\n",
       "    <tr>\n",
       "      <th>0</th>\n",
       "      <td>강재민</td>\n",
       "      <td>No.</td>\n",
       "      <td>1997년 04월 03일</td>\n",
       "      <td>투수(우언우타)</td>\n",
       "      <td>180cm/89kg</td>\n",
       "      <td>양덕초-마산중-용마고-단국대</td>\n",
       "      <td>8000만원</td>\n",
       "      <td>14500만원</td>\n",
       "      <td>20 한화 2차 4라운드 38순위</td>\n",
       "      <td>20한화</td>\n",
       "      <td>한화 이글스</td>\n",
       "    </tr>\n",
       "    <tr>\n",
       "      <th>1</th>\n",
       "      <td>권광민</td>\n",
       "      <td>No.17</td>\n",
       "      <td>1997년 12월 12일</td>\n",
       "      <td>외야수(좌투좌타)</td>\n",
       "      <td>189cm/102kg</td>\n",
       "      <td>서울청구초-홍은중-장충고</td>\n",
       "      <td></td>\n",
       "      <td>3300만원</td>\n",
       "      <td>22 한화 2차 5라운드 41순위</td>\n",
       "      <td>16시카고컵스</td>\n",
       "      <td>한화 이글스</td>\n",
       "    </tr>\n",
       "    <tr>\n",
       "      <th>2</th>\n",
       "      <td>권동욱</td>\n",
       "      <td>No.02</td>\n",
       "      <td>2001년 01월 08일</td>\n",
       "      <td>외야수(우투우타)</td>\n",
       "      <td>173cm/85kg</td>\n",
       "      <td>가동초-휘문중-배명고-동국대</td>\n",
       "      <td></td>\n",
       "      <td>3000만원</td>\n",
       "      <td>24 한화 육성선수</td>\n",
       "      <td></td>\n",
       "      <td>한화 이글스</td>\n",
       "    </tr>\n",
       "    <tr>\n",
       "      <th>3</th>\n",
       "      <td>권현</td>\n",
       "      <td>No.111</td>\n",
       "      <td>2005년 02월 23일</td>\n",
       "      <td>외야수(우투우타)</td>\n",
       "      <td>182cm/88kg</td>\n",
       "      <td>사당초-언북중-장충고</td>\n",
       "      <td>3000만원</td>\n",
       "      <td>3000만원</td>\n",
       "      <td>24 한화 10라운드 91순위</td>\n",
       "      <td></td>\n",
       "      <td>한화 이글스</td>\n",
       "    </tr>\n",
       "    <tr>\n",
       "      <th>4</th>\n",
       "      <td>김강민</td>\n",
       "      <td>No.9</td>\n",
       "      <td>1982년 09월 13일</td>\n",
       "      <td>외야수(우투우타)</td>\n",
       "      <td>182cm/87kg</td>\n",
       "      <td>본리초-대구중-경북고-SK-SSG</td>\n",
       "      <td>11000만원</td>\n",
       "      <td>11000만원</td>\n",
       "      <td>01 SK 2차 2라운드 18순위</td>\n",
       "      <td>01SK</td>\n",
       "      <td>한화 이글스</td>\n",
       "    </tr>\n",
       "    <tr>\n",
       "      <th>...</th>\n",
       "      <td>...</td>\n",
       "      <td>...</td>\n",
       "      <td>...</td>\n",
       "      <td>...</td>\n",
       "      <td>...</td>\n",
       "      <td>...</td>\n",
       "      <td>...</td>\n",
       "      <td>...</td>\n",
       "      <td>...</td>\n",
       "      <td>...</td>\n",
       "      <td>...</td>\n",
       "    </tr>\n",
       "    <tr>\n",
       "      <th>839</th>\n",
       "      <td>한민우</td>\n",
       "      <td>No.96</td>\n",
       "      <td>1999년 04월 27일</td>\n",
       "      <td>투수(좌투좌타)</td>\n",
       "      <td>177cm/82kg</td>\n",
       "      <td>동일중앙초-경남중-경남고</td>\n",
       "      <td>1000만원</td>\n",
       "      <td>3000만원</td>\n",
       "      <td>23 KT 육성선수</td>\n",
       "      <td></td>\n",
       "      <td>KT 위즈</td>\n",
       "    </tr>\n",
       "    <tr>\n",
       "      <th>840</th>\n",
       "      <td>한차현</td>\n",
       "      <td>No.59</td>\n",
       "      <td>1998년 11월 30일</td>\n",
       "      <td>투수(우투우타)</td>\n",
       "      <td>180cm/80kg</td>\n",
       "      <td>사능초(남양주리틀)-청원중-포항제철고-성균관대</td>\n",
       "      <td>10000만원</td>\n",
       "      <td>3100만원</td>\n",
       "      <td>21 KT 2차 2라운드 15순위</td>\n",
       "      <td>21KT</td>\n",
       "      <td>KT 위즈</td>\n",
       "    </tr>\n",
       "    <tr>\n",
       "      <th>841</th>\n",
       "      <td>홍현빈</td>\n",
       "      <td>No.31</td>\n",
       "      <td>1997년 08월 29일</td>\n",
       "      <td>외야수(우투좌타)</td>\n",
       "      <td>174cm/70kg</td>\n",
       "      <td>수원신곡초-매송중-유신고-KT-상무</td>\n",
       "      <td>9000만원</td>\n",
       "      <td>4500만원</td>\n",
       "      <td>17 KT 2차 3라운드 21순위</td>\n",
       "      <td>17KT</td>\n",
       "      <td>KT 위즈</td>\n",
       "    </tr>\n",
       "    <tr>\n",
       "      <th>842</th>\n",
       "      <td>황의준</td>\n",
       "      <td>No.103</td>\n",
       "      <td>2002년 04월 06일</td>\n",
       "      <td>외야수(우투좌타)</td>\n",
       "      <td>185cm/95kg</td>\n",
       "      <td>칠성초-경복중-경북고-수성대</td>\n",
       "      <td>4000만원</td>\n",
       "      <td>3000만원</td>\n",
       "      <td>23 KT 8라운드 80순위</td>\n",
       "      <td></td>\n",
       "      <td>KT 위즈</td>\n",
       "    </tr>\n",
       "    <tr>\n",
       "      <th>843</th>\n",
       "      <td>황재균</td>\n",
       "      <td>No.10</td>\n",
       "      <td>1987년 07월 28일</td>\n",
       "      <td>내야수(우투우타)</td>\n",
       "      <td>183cm/96kg</td>\n",
       "      <td>사당초-서울이수중-경기고-현대-히어로즈-롯데-샌프란시스코</td>\n",
       "      <td>6000만원</td>\n",
       "      <td>100000만원</td>\n",
       "      <td>06 현대 2차 3라운드 24순위</td>\n",
       "      <td>06현대</td>\n",
       "      <td>KT 위즈</td>\n",
       "    </tr>\n",
       "  </tbody>\n",
       "</table>\n",
       "<p>844 rows × 11 columns</p>\n",
       "</div>"
      ],
      "text/plain": [
       "      선수명      등번호            생년월일         포지션         신장/체중  \\\n",
       "0     강재민      No.   1997년 04월 03일    투수(우언우타)    180cm/89kg   \n",
       "1     권광민    No.17   1997년 12월 12일   외야수(좌투좌타)   189cm/102kg   \n",
       "2     권동욱    No.02   2001년 01월 08일   외야수(우투우타)    173cm/85kg   \n",
       "3      권현   No.111   2005년 02월 23일   외야수(우투우타)    182cm/88kg   \n",
       "4     김강민     No.9   1982년 09월 13일   외야수(우투우타)    182cm/87kg   \n",
       "..    ...      ...             ...         ...           ...   \n",
       "839   한민우    No.96   1999년 04월 27일    투수(좌투좌타)    177cm/82kg   \n",
       "840   한차현    No.59   1998년 11월 30일    투수(우투우타)    180cm/80kg   \n",
       "841   홍현빈    No.31   1997년 08월 29일   외야수(우투좌타)    174cm/70kg   \n",
       "842   황의준   No.103   2002년 04월 06일   외야수(우투좌타)    185cm/95kg   \n",
       "843   황재균    No.10   1987년 07월 28일   내야수(우투우타)    183cm/96kg   \n",
       "\n",
       "                                   경력    입단 계약금         연봉  \\\n",
       "0                     양덕초-마산중-용마고-단국대    8000만원    14500만원   \n",
       "1                       서울청구초-홍은중-장충고               3300만원   \n",
       "2                     가동초-휘문중-배명고-동국대               3000만원   \n",
       "3                         사당초-언북중-장충고    3000만원     3000만원   \n",
       "4                  본리초-대구중-경북고-SK-SSG   11000만원    11000만원   \n",
       "..                                ...       ...        ...   \n",
       "839                     동일중앙초-경남중-경남고    1000만원     3000만원   \n",
       "840         사능초(남양주리틀)-청원중-포항제철고-성균관대   10000만원     3100만원   \n",
       "841               수원신곡초-매송중-유신고-KT-상무    9000만원     4500만원   \n",
       "842                   칠성초-경복중-경북고-수성대    4000만원     3000만원   \n",
       "843   사당초-서울이수중-경기고-현대-히어로즈-롯데-샌프란시스코    6000만원   100000만원   \n",
       "\n",
       "                    지명순위      입단년도    team  \n",
       "0     20 한화 2차 4라운드 38순위      20한화  한화 이글스  \n",
       "1     22 한화 2차 5라운드 41순위   16시카고컵스  한화 이글스  \n",
       "2             24 한화 육성선수            한화 이글스  \n",
       "3       24 한화 10라운드 91순위            한화 이글스  \n",
       "4     01 SK 2차 2라운드 18순위      01SK  한화 이글스  \n",
       "..                   ...       ...     ...  \n",
       "839           23 KT 육성선수             KT 위즈  \n",
       "840   21 KT 2차 2라운드 15순위      21KT   KT 위즈  \n",
       "841   17 KT 2차 3라운드 21순위      17KT   KT 위즈  \n",
       "842      23 KT 8라운드 80순위             KT 위즈  \n",
       "843   06 현대 2차 3라운드 24순위      06현대   KT 위즈  \n",
       "\n",
       "[844 rows x 11 columns]"
      ]
     },
     "execution_count": 55,
     "metadata": {},
     "output_type": "execute_result"
    }
   ],
   "source": [
    "data['kbo']"
   ]
  },
  {
   "cell_type": "code",
   "execution_count": 60,
   "id": "d553ce60-91ab-4392-97fa-3ebf33f04689",
   "metadata": {},
   "outputs": [],
   "source": [
    "kbo['초등'] = kbo['경력'].apply(lambda x : x.split('-')[0])"
   ]
  },
  {
   "cell_type": "code",
   "execution_count": 65,
   "id": "ef3a9edc-b40d-4035-9107-d0ecd83e2a02",
   "metadata": {},
   "outputs": [
    {
     "data": {
      "text/plain": [
       "초등\n",
       "부산수영초    19\n",
       "본리초      14\n",
       "가동초      14\n",
       "양정초      14\n",
       "광주대성초    13\n",
       "성동초      13\n",
       "광주수창초    13\n",
       "도신초      12\n",
       "송정동초     12\n",
       "광주서석초    11\n",
       "Name: 선수명, dtype: int64"
      ]
     },
     "execution_count": 65,
     "metadata": {},
     "output_type": "execute_result"
    }
   ],
   "source": [
    "kbo.groupby(['초등'])['선수명'].count().sort_values()[::-1].head(10)"
   ]
  },
  {
   "cell_type": "code",
   "execution_count": 67,
   "id": "2a9885a9-727d-4860-8361-6c2466d7df88",
   "metadata": {},
   "outputs": [
    {
     "data": {
      "text/plain": [
       "초등\n",
       "부산수영초            19\n",
       "본리초              14\n",
       "양정초              14\n",
       "가동초              14\n",
       "광주대성초            13\n",
       "                 ..\n",
       "방배초               1\n",
       "발산초               1\n",
       "반안초(해운대리틀)        1\n",
       "미국 Yucaipa(고)     1\n",
       "법동초               1\n",
       "Name: 선수명, Length: 343, dtype: int64"
      ]
     },
     "execution_count": 67,
     "metadata": {},
     "output_type": "execute_result"
    }
   ],
   "source": [
    "kbo.groupby(['초등'])['선수명'].count().sort_values(ascending=False)"
   ]
  },
  {
   "cell_type": "code",
   "execution_count": 69,
   "id": "ee5b8229-89eb-494b-9488-4b7294c15d06",
   "metadata": {},
   "outputs": [
    {
     "data": {
      "text/plain": [
       "초등           \n",
       "부산수영초            0.022512\n",
       "본리초              0.016588\n",
       "양정초              0.016588\n",
       "가동초              0.016588\n",
       "광주대성초            0.015403\n",
       "                   ...   \n",
       "방배초              0.001185\n",
       "발산초              0.001185\n",
       "반안초(해운대리틀)       0.001185\n",
       "미국 Yucaipa(고)    0.001185\n",
       "법동초              0.001185\n",
       "Name: proportion, Length: 343, dtype: float64"
      ]
     },
     "execution_count": 69,
     "metadata": {},
     "output_type": "execute_result"
    }
   ],
   "source": [
    "kbo.value_counts(['초등'], normalize=True)"
   ]
  },
  {
   "cell_type": "code",
   "execution_count": 72,
   "id": "b71026d2-4365-4cdb-916c-4fe55eeceffa",
   "metadata": {},
   "outputs": [],
   "source": [
    "from datetime import date, datetime"
   ]
  },
  {
   "cell_type": "code",
   "execution_count": 75,
   "id": "c07d5b18-2e78-4b39-9c94-06dc22edb3f0",
   "metadata": {},
   "outputs": [
    {
     "data": {
      "text/plain": [
       "datetime.datetime(1997, 4, 3, 0, 0)"
      ]
     },
     "execution_count": 75,
     "metadata": {},
     "output_type": "execute_result"
    }
   ],
   "source": [
    "datetime.strptime(\"1997년 04월 03일\", '%Y년 %m월 %d일')"
   ]
  },
  {
   "cell_type": "code",
   "execution_count": null,
   "id": "fe3b15d5-8cdf-445c-a945-87715ae75f89",
   "metadata": {},
   "outputs": [],
   "source": []
  },
  {
   "cell_type": "code",
   "execution_count": 77,
   "id": "14d8fb70-dd11-4719-ba9e-2cd914d79bd0",
   "metadata": {},
   "outputs": [],
   "source": [
    "kbo['생년월일'] = kbo['생년월일'].apply(lambda x : datetime.strptime(x.strip(), '%Y년 %m월 %d일'))"
   ]
  },
  {
   "cell_type": "code",
   "execution_count": 79,
   "id": "99bab40b-b40e-4f0a-9806-8598d3cc23bd",
   "metadata": {},
   "outputs": [
    {
     "data": {
      "text/plain": [
       "0     1997-04-03\n",
       "1     1997-12-12\n",
       "2     2001-01-08\n",
       "3     2005-02-23\n",
       "4     1982-09-13\n",
       "         ...    \n",
       "839   1999-04-27\n",
       "840   1998-11-30\n",
       "841   1997-08-29\n",
       "842   2002-04-06\n",
       "843   1987-07-28\n",
       "Name: 생년월일, Length: 844, dtype: datetime64[ns]"
      ]
     },
     "execution_count": 79,
     "metadata": {},
     "output_type": "execute_result"
    }
   ],
   "source": [
    "kbo['생년월일']"
   ]
  },
  {
   "cell_type": "code",
   "execution_count": 83,
   "id": "60fc9b63-ce4c-4887-911c-6a80a5b347e1",
   "metadata": {},
   "outputs": [],
   "source": [
    "kbo['생존일'] = kbo['생년월일'].apply(lambda x : (datetime.now() - x).days)"
   ]
  },
  {
   "cell_type": "code",
   "execution_count": 90,
   "id": "24314474-d32d-416e-b95f-c71074fda6f0",
   "metadata": {},
   "outputs": [
    {
     "data": {
      "text/html": [
       "<div>\n",
       "<style scoped>\n",
       "    .dataframe tbody tr th:only-of-type {\n",
       "        vertical-align: middle;\n",
       "    }\n",
       "\n",
       "    .dataframe tbody tr th {\n",
       "        vertical-align: top;\n",
       "    }\n",
       "\n",
       "    .dataframe thead th {\n",
       "        text-align: right;\n",
       "    }\n",
       "</style>\n",
       "<table border=\"1\" class=\"dataframe\">\n",
       "  <thead>\n",
       "    <tr style=\"text-align: right;\">\n",
       "      <th></th>\n",
       "      <th>선수명</th>\n",
       "      <th>등번호</th>\n",
       "      <th>생년월일</th>\n",
       "      <th>포지션</th>\n",
       "      <th>신장/체중</th>\n",
       "      <th>경력</th>\n",
       "      <th>입단 계약금</th>\n",
       "      <th>연봉</th>\n",
       "      <th>지명순위</th>\n",
       "      <th>입단년도</th>\n",
       "      <th>team</th>\n",
       "      <th>초등</th>\n",
       "      <th>생존일</th>\n",
       "    </tr>\n",
       "  </thead>\n",
       "  <tbody>\n",
       "    <tr>\n",
       "      <th>251</th>\n",
       "      <td>추신수</td>\n",
       "      <td>No.17</td>\n",
       "      <td>1982-07-13</td>\n",
       "      <td>외야수(좌투좌타)</td>\n",
       "      <td>180cm/97kg</td>\n",
       "      <td>부산수영초-부산중-부산고-SK</td>\n",
       "      <td></td>\n",
       "      <td>3000만원</td>\n",
       "      <td>07 해외진출선수 특별지명</td>\n",
       "      <td>00시애틀</td>\n",
       "      <td>SSG 랜더스</td>\n",
       "      <td>부산수영초</td>\n",
       "      <td>15245</td>\n",
       "    </tr>\n",
       "    <tr>\n",
       "      <th>718</th>\n",
       "      <td>오승환</td>\n",
       "      <td>No.21</td>\n",
       "      <td>1982-07-15</td>\n",
       "      <td>투수(우투우타)</td>\n",
       "      <td>178cm/93kg</td>\n",
       "      <td>도신초-우신중-경기고-단국대-삼성-한신-세인트루이스-토론토-콜로라도</td>\n",
       "      <td>18000만원</td>\n",
       "      <td>40000만원</td>\n",
       "      <td>05 삼성 2차 1라운드 5순위</td>\n",
       "      <td>05삼성</td>\n",
       "      <td>삼성 라이온즈</td>\n",
       "      <td>도신초</td>\n",
       "      <td>15243</td>\n",
       "    </tr>\n",
       "    <tr>\n",
       "      <th>4</th>\n",
       "      <td>김강민</td>\n",
       "      <td>No.9</td>\n",
       "      <td>1982-09-13</td>\n",
       "      <td>외야수(우투우타)</td>\n",
       "      <td>182cm/87kg</td>\n",
       "      <td>본리초-대구중-경북고-SK-SSG</td>\n",
       "      <td>11000만원</td>\n",
       "      <td>11000만원</td>\n",
       "      <td>01 SK 2차 2라운드 18순위</td>\n",
       "      <td>01SK</td>\n",
       "      <td>한화 이글스</td>\n",
       "      <td>본리초</td>\n",
       "      <td>15183</td>\n",
       "    </tr>\n",
       "  </tbody>\n",
       "</table>\n",
       "</div>"
      ],
      "text/plain": [
       "      선수명     등번호       생년월일         포지션        신장/체중  \\\n",
       "251   추신수   No.17 1982-07-13   외야수(좌투좌타)   180cm/97kg   \n",
       "718   오승환   No.21 1982-07-15    투수(우투우타)   178cm/93kg   \n",
       "4     김강민    No.9 1982-09-13   외야수(우투우타)   182cm/87kg   \n",
       "\n",
       "                                         경력    입단 계약금        연봉  \\\n",
       "251                        부산수영초-부산중-부산고-SK              3000만원   \n",
       "718   도신초-우신중-경기고-단국대-삼성-한신-세인트루이스-토론토-콜로라도   18000만원   40000만원   \n",
       "4                        본리초-대구중-경북고-SK-SSG   11000만원   11000만원   \n",
       "\n",
       "                    지명순위    입단년도     team      초등    생존일  \n",
       "251       07 해외진출선수 특별지명   00시애틀  SSG 랜더스   부산수영초  15245  \n",
       "718    05 삼성 2차 1라운드 5순위    05삼성  삼성 라이온즈     도신초  15243  \n",
       "4     01 SK 2차 2라운드 18순위    01SK   한화 이글스     본리초  15183  "
      ]
     },
     "execution_count": 90,
     "metadata": {},
     "output_type": "execute_result"
    }
   ],
   "source": [
    "kbo.sort_values(by=['생존일', '선수명'], ascending=[False, True]).head(3)"
   ]
  },
  {
   "cell_type": "code",
   "execution_count": 93,
   "id": "30fbd027-31db-45bd-b983-1b4be1a43a0b",
   "metadata": {},
   "outputs": [],
   "source": [
    "kbo['나이'] = kbo['생년월일'].apply(lambda x : datetime.now().year - x.year)"
   ]
  },
  {
   "cell_type": "code",
   "execution_count": 94,
   "id": "18169f0e-b94c-41d4-aa65-2c83b092d8f1",
   "metadata": {},
   "outputs": [
    {
     "data": {
      "text/html": [
       "<div>\n",
       "<style scoped>\n",
       "    .dataframe tbody tr th:only-of-type {\n",
       "        vertical-align: middle;\n",
       "    }\n",
       "\n",
       "    .dataframe tbody tr th {\n",
       "        vertical-align: top;\n",
       "    }\n",
       "\n",
       "    .dataframe thead th {\n",
       "        text-align: right;\n",
       "    }\n",
       "</style>\n",
       "<table border=\"1\" class=\"dataframe\">\n",
       "  <thead>\n",
       "    <tr style=\"text-align: right;\">\n",
       "      <th></th>\n",
       "      <th>선수명</th>\n",
       "      <th>등번호</th>\n",
       "      <th>생년월일</th>\n",
       "      <th>포지션</th>\n",
       "      <th>신장/체중</th>\n",
       "      <th>경력</th>\n",
       "      <th>입단 계약금</th>\n",
       "      <th>연봉</th>\n",
       "      <th>지명순위</th>\n",
       "      <th>입단년도</th>\n",
       "      <th>team</th>\n",
       "      <th>초등</th>\n",
       "      <th>생존일</th>\n",
       "      <th>나이</th>\n",
       "    </tr>\n",
       "  </thead>\n",
       "  <tbody>\n",
       "    <tr>\n",
       "      <th>0</th>\n",
       "      <td>강재민</td>\n",
       "      <td>No.</td>\n",
       "      <td>1997-04-03</td>\n",
       "      <td>투수(우언우타)</td>\n",
       "      <td>180cm/89kg</td>\n",
       "      <td>양덕초-마산중-용마고-단국대</td>\n",
       "      <td>8000만원</td>\n",
       "      <td>14500만원</td>\n",
       "      <td>20 한화 2차 4라운드 38순위</td>\n",
       "      <td>20한화</td>\n",
       "      <td>한화 이글스</td>\n",
       "      <td>양덕초</td>\n",
       "      <td>9867</td>\n",
       "      <td>27</td>\n",
       "    </tr>\n",
       "    <tr>\n",
       "      <th>1</th>\n",
       "      <td>권광민</td>\n",
       "      <td>No.17</td>\n",
       "      <td>1997-12-12</td>\n",
       "      <td>외야수(좌투좌타)</td>\n",
       "      <td>189cm/102kg</td>\n",
       "      <td>서울청구초-홍은중-장충고</td>\n",
       "      <td></td>\n",
       "      <td>3300만원</td>\n",
       "      <td>22 한화 2차 5라운드 41순위</td>\n",
       "      <td>16시카고컵스</td>\n",
       "      <td>한화 이글스</td>\n",
       "      <td>서울청구초</td>\n",
       "      <td>9614</td>\n",
       "      <td>27</td>\n",
       "    </tr>\n",
       "    <tr>\n",
       "      <th>2</th>\n",
       "      <td>권동욱</td>\n",
       "      <td>No.02</td>\n",
       "      <td>2001-01-08</td>\n",
       "      <td>외야수(우투우타)</td>\n",
       "      <td>173cm/85kg</td>\n",
       "      <td>가동초-휘문중-배명고-동국대</td>\n",
       "      <td></td>\n",
       "      <td>3000만원</td>\n",
       "      <td>24 한화 육성선수</td>\n",
       "      <td></td>\n",
       "      <td>한화 이글스</td>\n",
       "      <td>가동초</td>\n",
       "      <td>8491</td>\n",
       "      <td>23</td>\n",
       "    </tr>\n",
       "    <tr>\n",
       "      <th>3</th>\n",
       "      <td>권현</td>\n",
       "      <td>No.111</td>\n",
       "      <td>2005-02-23</td>\n",
       "      <td>외야수(우투우타)</td>\n",
       "      <td>182cm/88kg</td>\n",
       "      <td>사당초-언북중-장충고</td>\n",
       "      <td>3000만원</td>\n",
       "      <td>3000만원</td>\n",
       "      <td>24 한화 10라운드 91순위</td>\n",
       "      <td></td>\n",
       "      <td>한화 이글스</td>\n",
       "      <td>사당초</td>\n",
       "      <td>6984</td>\n",
       "      <td>19</td>\n",
       "    </tr>\n",
       "    <tr>\n",
       "      <th>4</th>\n",
       "      <td>김강민</td>\n",
       "      <td>No.9</td>\n",
       "      <td>1982-09-13</td>\n",
       "      <td>외야수(우투우타)</td>\n",
       "      <td>182cm/87kg</td>\n",
       "      <td>본리초-대구중-경북고-SK-SSG</td>\n",
       "      <td>11000만원</td>\n",
       "      <td>11000만원</td>\n",
       "      <td>01 SK 2차 2라운드 18순위</td>\n",
       "      <td>01SK</td>\n",
       "      <td>한화 이글스</td>\n",
       "      <td>본리초</td>\n",
       "      <td>15183</td>\n",
       "      <td>42</td>\n",
       "    </tr>\n",
       "    <tr>\n",
       "      <th>...</th>\n",
       "      <td>...</td>\n",
       "      <td>...</td>\n",
       "      <td>...</td>\n",
       "      <td>...</td>\n",
       "      <td>...</td>\n",
       "      <td>...</td>\n",
       "      <td>...</td>\n",
       "      <td>...</td>\n",
       "      <td>...</td>\n",
       "      <td>...</td>\n",
       "      <td>...</td>\n",
       "      <td>...</td>\n",
       "      <td>...</td>\n",
       "      <td>...</td>\n",
       "    </tr>\n",
       "    <tr>\n",
       "      <th>839</th>\n",
       "      <td>한민우</td>\n",
       "      <td>No.96</td>\n",
       "      <td>1999-04-27</td>\n",
       "      <td>투수(좌투좌타)</td>\n",
       "      <td>177cm/82kg</td>\n",
       "      <td>동일중앙초-경남중-경남고</td>\n",
       "      <td>1000만원</td>\n",
       "      <td>3000만원</td>\n",
       "      <td>23 KT 육성선수</td>\n",
       "      <td></td>\n",
       "      <td>KT 위즈</td>\n",
       "      <td>동일중앙초</td>\n",
       "      <td>9113</td>\n",
       "      <td>25</td>\n",
       "    </tr>\n",
       "    <tr>\n",
       "      <th>840</th>\n",
       "      <td>한차현</td>\n",
       "      <td>No.59</td>\n",
       "      <td>1998-11-30</td>\n",
       "      <td>투수(우투우타)</td>\n",
       "      <td>180cm/80kg</td>\n",
       "      <td>사능초(남양주리틀)-청원중-포항제철고-성균관대</td>\n",
       "      <td>10000만원</td>\n",
       "      <td>3100만원</td>\n",
       "      <td>21 KT 2차 2라운드 15순위</td>\n",
       "      <td>21KT</td>\n",
       "      <td>KT 위즈</td>\n",
       "      <td>사능초(남양주리틀)</td>\n",
       "      <td>9261</td>\n",
       "      <td>26</td>\n",
       "    </tr>\n",
       "    <tr>\n",
       "      <th>841</th>\n",
       "      <td>홍현빈</td>\n",
       "      <td>No.31</td>\n",
       "      <td>1997-08-29</td>\n",
       "      <td>외야수(우투좌타)</td>\n",
       "      <td>174cm/70kg</td>\n",
       "      <td>수원신곡초-매송중-유신고-KT-상무</td>\n",
       "      <td>9000만원</td>\n",
       "      <td>4500만원</td>\n",
       "      <td>17 KT 2차 3라운드 21순위</td>\n",
       "      <td>17KT</td>\n",
       "      <td>KT 위즈</td>\n",
       "      <td>수원신곡초</td>\n",
       "      <td>9719</td>\n",
       "      <td>27</td>\n",
       "    </tr>\n",
       "    <tr>\n",
       "      <th>842</th>\n",
       "      <td>황의준</td>\n",
       "      <td>No.103</td>\n",
       "      <td>2002-04-06</td>\n",
       "      <td>외야수(우투좌타)</td>\n",
       "      <td>185cm/95kg</td>\n",
       "      <td>칠성초-경복중-경북고-수성대</td>\n",
       "      <td>4000만원</td>\n",
       "      <td>3000만원</td>\n",
       "      <td>23 KT 8라운드 80순위</td>\n",
       "      <td></td>\n",
       "      <td>KT 위즈</td>\n",
       "      <td>칠성초</td>\n",
       "      <td>8038</td>\n",
       "      <td>22</td>\n",
       "    </tr>\n",
       "    <tr>\n",
       "      <th>843</th>\n",
       "      <td>황재균</td>\n",
       "      <td>No.10</td>\n",
       "      <td>1987-07-28</td>\n",
       "      <td>내야수(우투우타)</td>\n",
       "      <td>183cm/96kg</td>\n",
       "      <td>사당초-서울이수중-경기고-현대-히어로즈-롯데-샌프란시스코</td>\n",
       "      <td>6000만원</td>\n",
       "      <td>100000만원</td>\n",
       "      <td>06 현대 2차 3라운드 24순위</td>\n",
       "      <td>06현대</td>\n",
       "      <td>KT 위즈</td>\n",
       "      <td>사당초</td>\n",
       "      <td>13404</td>\n",
       "      <td>37</td>\n",
       "    </tr>\n",
       "  </tbody>\n",
       "</table>\n",
       "<p>844 rows × 14 columns</p>\n",
       "</div>"
      ],
      "text/plain": [
       "      선수명      등번호       생년월일         포지션         신장/체중  \\\n",
       "0     강재민      No. 1997-04-03    투수(우언우타)    180cm/89kg   \n",
       "1     권광민    No.17 1997-12-12   외야수(좌투좌타)   189cm/102kg   \n",
       "2     권동욱    No.02 2001-01-08   외야수(우투우타)    173cm/85kg   \n",
       "3      권현   No.111 2005-02-23   외야수(우투우타)    182cm/88kg   \n",
       "4     김강민     No.9 1982-09-13   외야수(우투우타)    182cm/87kg   \n",
       "..    ...      ...        ...         ...           ...   \n",
       "839   한민우    No.96 1999-04-27    투수(좌투좌타)    177cm/82kg   \n",
       "840   한차현    No.59 1998-11-30    투수(우투우타)    180cm/80kg   \n",
       "841   홍현빈    No.31 1997-08-29   외야수(우투좌타)    174cm/70kg   \n",
       "842   황의준   No.103 2002-04-06   외야수(우투좌타)    185cm/95kg   \n",
       "843   황재균    No.10 1987-07-28   내야수(우투우타)    183cm/96kg   \n",
       "\n",
       "                                   경력    입단 계약금         연봉  \\\n",
       "0                     양덕초-마산중-용마고-단국대    8000만원    14500만원   \n",
       "1                       서울청구초-홍은중-장충고               3300만원   \n",
       "2                     가동초-휘문중-배명고-동국대               3000만원   \n",
       "3                         사당초-언북중-장충고    3000만원     3000만원   \n",
       "4                  본리초-대구중-경북고-SK-SSG   11000만원    11000만원   \n",
       "..                                ...       ...        ...   \n",
       "839                     동일중앙초-경남중-경남고    1000만원     3000만원   \n",
       "840         사능초(남양주리틀)-청원중-포항제철고-성균관대   10000만원     3100만원   \n",
       "841               수원신곡초-매송중-유신고-KT-상무    9000만원     4500만원   \n",
       "842                   칠성초-경복중-경북고-수성대    4000만원     3000만원   \n",
       "843   사당초-서울이수중-경기고-현대-히어로즈-롯데-샌프란시스코    6000만원   100000만원   \n",
       "\n",
       "                    지명순위      입단년도    team           초등    생존일  나이  \n",
       "0     20 한화 2차 4라운드 38순위      20한화  한화 이글스          양덕초   9867  27  \n",
       "1     22 한화 2차 5라운드 41순위   16시카고컵스  한화 이글스        서울청구초   9614  27  \n",
       "2             24 한화 육성선수            한화 이글스          가동초   8491  23  \n",
       "3       24 한화 10라운드 91순위            한화 이글스          사당초   6984  19  \n",
       "4     01 SK 2차 2라운드 18순위      01SK  한화 이글스          본리초  15183  42  \n",
       "..                   ...       ...     ...          ...    ...  ..  \n",
       "839           23 KT 육성선수             KT 위즈        동일중앙초   9113  25  \n",
       "840   21 KT 2차 2라운드 15순위      21KT   KT 위즈   사능초(남양주리틀)   9261  26  \n",
       "841   17 KT 2차 3라운드 21순위      17KT   KT 위즈        수원신곡초   9719  27  \n",
       "842      23 KT 8라운드 80순위             KT 위즈          칠성초   8038  22  \n",
       "843   06 현대 2차 3라운드 24순위      06현대   KT 위즈          사당초  13404  37  \n",
       "\n",
       "[844 rows x 14 columns]"
      ]
     },
     "execution_count": 94,
     "metadata": {},
     "output_type": "execute_result"
    }
   ],
   "source": [
    "kbo"
   ]
  },
  {
   "cell_type": "code",
   "execution_count": 107,
   "id": "14376bbd-c442-4c23-a80e-cda93b7208f6",
   "metadata": {},
   "outputs": [
    {
     "data": {
      "text/plain": [
       "array(['한화 이글스', 'KIA 타이거즈', 'SSG 랜더스', 'NC 다이노스', 'LG 트윈스', '키움 히어로즈',\n",
       "       '두산 베어스', '롯데 자이언츠', '삼성 라이온즈', 'KT 위즈'], dtype=object)"
      ]
     },
     "execution_count": 107,
     "metadata": {},
     "output_type": "execute_result"
    }
   ],
   "source": [
    "kbo.team.unique()"
   ]
  },
  {
   "cell_type": "code",
   "execution_count": 106,
   "id": "f09bfdc5-9d4b-44fc-bed6-04f4a7c724c5",
   "metadata": {},
   "outputs": [],
   "source": [
    "kbo.loc[kbo.team == '고양 히어로즈', 'team'] = '키움 히어로즈'"
   ]
  },
  {
   "cell_type": "code",
   "execution_count": 109,
   "id": "b5dd32ac-98e8-4dc5-878b-22783b29f9d2",
   "metadata": {},
   "outputs": [
    {
     "data": {
      "text/html": [
       "<div>\n",
       "<style scoped>\n",
       "    .dataframe tbody tr th:only-of-type {\n",
       "        vertical-align: middle;\n",
       "    }\n",
       "\n",
       "    .dataframe tbody tr th {\n",
       "        vertical-align: top;\n",
       "    }\n",
       "\n",
       "    .dataframe thead th {\n",
       "        text-align: right;\n",
       "    }\n",
       "</style>\n",
       "<table border=\"1\" class=\"dataframe\">\n",
       "  <thead>\n",
       "    <tr style=\"text-align: right;\">\n",
       "      <th></th>\n",
       "      <th>mean</th>\n",
       "      <th>var</th>\n",
       "      <th>median</th>\n",
       "    </tr>\n",
       "    <tr>\n",
       "      <th>team</th>\n",
       "      <th></th>\n",
       "      <th></th>\n",
       "      <th></th>\n",
       "    </tr>\n",
       "  </thead>\n",
       "  <tbody>\n",
       "    <tr>\n",
       "      <th>KIA 타이거즈</th>\n",
       "      <td>25.988095</td>\n",
       "      <td>25.698652</td>\n",
       "      <td>25.0</td>\n",
       "    </tr>\n",
       "    <tr>\n",
       "      <th>KT 위즈</th>\n",
       "      <td>26.701149</td>\n",
       "      <td>29.467789</td>\n",
       "      <td>26.0</td>\n",
       "    </tr>\n",
       "    <tr>\n",
       "      <th>LG 트윈스</th>\n",
       "      <td>26.013514</td>\n",
       "      <td>23.027212</td>\n",
       "      <td>25.0</td>\n",
       "    </tr>\n",
       "    <tr>\n",
       "      <th>NC 다이노스</th>\n",
       "      <td>25.112360</td>\n",
       "      <td>20.214505</td>\n",
       "      <td>24.0</td>\n",
       "    </tr>\n",
       "    <tr>\n",
       "      <th>SSG 랜더스</th>\n",
       "      <td>26.259259</td>\n",
       "      <td>34.419444</td>\n",
       "      <td>25.0</td>\n",
       "    </tr>\n",
       "    <tr>\n",
       "      <th>두산 베어스</th>\n",
       "      <td>25.678571</td>\n",
       "      <td>23.064114</td>\n",
       "      <td>25.0</td>\n",
       "    </tr>\n",
       "    <tr>\n",
       "      <th>롯데 자이언츠</th>\n",
       "      <td>26.152941</td>\n",
       "      <td>30.131092</td>\n",
       "      <td>25.0</td>\n",
       "    </tr>\n",
       "    <tr>\n",
       "      <th>삼성 라이온즈</th>\n",
       "      <td>26.329412</td>\n",
       "      <td>32.961625</td>\n",
       "      <td>25.0</td>\n",
       "    </tr>\n",
       "    <tr>\n",
       "      <th>키움 히어로즈</th>\n",
       "      <td>24.719512</td>\n",
       "      <td>25.191960</td>\n",
       "      <td>24.0</td>\n",
       "    </tr>\n",
       "    <tr>\n",
       "      <th>한화 이글스</th>\n",
       "      <td>25.892473</td>\n",
       "      <td>26.118747</td>\n",
       "      <td>24.0</td>\n",
       "    </tr>\n",
       "  </tbody>\n",
       "</table>\n",
       "</div>"
      ],
      "text/plain": [
       "               mean        var  median\n",
       "team                                  \n",
       "KIA 타이거즈  25.988095  25.698652    25.0\n",
       "KT 위즈     26.701149  29.467789    26.0\n",
       "LG 트윈스    26.013514  23.027212    25.0\n",
       "NC 다이노스   25.112360  20.214505    24.0\n",
       "SSG 랜더스   26.259259  34.419444    25.0\n",
       "두산 베어스    25.678571  23.064114    25.0\n",
       "롯데 자이언츠   26.152941  30.131092    25.0\n",
       "삼성 라이온즈   26.329412  32.961625    25.0\n",
       "키움 히어로즈   24.719512  25.191960    24.0\n",
       "한화 이글스    25.892473  26.118747    24.0"
      ]
     },
     "execution_count": 109,
     "metadata": {},
     "output_type": "execute_result"
    }
   ],
   "source": [
    "kbo.groupby(['team'])['나이'].agg(['mean', 'var', 'median'])"
   ]
  },
  {
   "cell_type": "code",
   "execution_count": 112,
   "id": "0376afad-74a2-4eaf-8173-be069ed9387f",
   "metadata": {},
   "outputs": [
    {
     "data": {
      "text/plain": [
       "나이\n",
       "23    10\n",
       "25     9\n",
       "21     8\n",
       "20     7\n",
       "28     6\n",
       "Name: count, dtype: int64"
      ]
     },
     "execution_count": 112,
     "metadata": {},
     "output_type": "execute_result"
    }
   ],
   "source": [
    "kbo[kbo.team == '삼성 라이온즈'].value_counts('나이').head(5)"
   ]
  },
  {
   "cell_type": "code",
   "execution_count": 118,
   "id": "2e4b0435-09ef-499b-8640-08ac13bcd071",
   "metadata": {},
   "outputs": [
    {
     "data": {
      "text/plain": [
       "나이\n",
       "20    0.195122\n",
       "19    0.292683\n",
       "24    0.390244\n",
       "23    0.475610\n",
       "25    0.548780\n",
       "Name: proportion, dtype: float64"
      ]
     },
     "execution_count": 118,
     "metadata": {},
     "output_type": "execute_result"
    }
   ],
   "source": [
    "kbo[kbo.team == '키움 히어로즈'].value_counts('나이', normalize=True).head(5).cumsum()\n",
    "# cumsum() = 누적 합계"
   ]
  },
  {
   "cell_type": "code",
   "execution_count": 120,
   "id": "bdec73e5-1c86-44ca-be9d-92cea1b74002",
   "metadata": {},
   "outputs": [
    {
     "data": {
      "text/html": [
       "<div>\n",
       "<style scoped>\n",
       "    .dataframe tbody tr th:only-of-type {\n",
       "        vertical-align: middle;\n",
       "    }\n",
       "\n",
       "    .dataframe tbody tr th {\n",
       "        vertical-align: top;\n",
       "    }\n",
       "\n",
       "    .dataframe thead th {\n",
       "        text-align: right;\n",
       "    }\n",
       "</style>\n",
       "<table border=\"1\" class=\"dataframe\">\n",
       "  <thead>\n",
       "    <tr style=\"text-align: right;\">\n",
       "      <th></th>\n",
       "      <th>생년월일</th>\n",
       "      <th>생존일</th>\n",
       "      <th>나이</th>\n",
       "    </tr>\n",
       "  </thead>\n",
       "  <tbody>\n",
       "    <tr>\n",
       "      <th>count</th>\n",
       "      <td>844</td>\n",
       "      <td>844.000000</td>\n",
       "      <td>844.000000</td>\n",
       "    </tr>\n",
       "    <tr>\n",
       "      <th>mean</th>\n",
       "      <td>1998-07-30 14:19:54.312796160</td>\n",
       "      <td>9383.402844</td>\n",
       "      <td>25.883886</td>\n",
       "    </tr>\n",
       "    <tr>\n",
       "      <th>min</th>\n",
       "      <td>1982-07-13 00:00:00</td>\n",
       "      <td>6691.000000</td>\n",
       "      <td>19.000000</td>\n",
       "    </tr>\n",
       "    <tr>\n",
       "      <th>25%</th>\n",
       "      <td>1995-05-04 00:00:00</td>\n",
       "      <td>7955.000000</td>\n",
       "      <td>22.000000</td>\n",
       "    </tr>\n",
       "    <tr>\n",
       "      <th>50%</th>\n",
       "      <td>1999-09-12 12:00:00</td>\n",
       "      <td>8974.500000</td>\n",
       "      <td>25.000000</td>\n",
       "    </tr>\n",
       "    <tr>\n",
       "      <th>75%</th>\n",
       "      <td>2002-06-28 00:00:00</td>\n",
       "      <td>10567.000000</td>\n",
       "      <td>29.000000</td>\n",
       "    </tr>\n",
       "    <tr>\n",
       "      <th>max</th>\n",
       "      <td>2005-12-13 00:00:00</td>\n",
       "      <td>15245.000000</td>\n",
       "      <td>42.000000</td>\n",
       "    </tr>\n",
       "    <tr>\n",
       "      <th>std</th>\n",
       "      <td>NaN</td>\n",
       "      <td>1899.180359</td>\n",
       "      <td>5.200673</td>\n",
       "    </tr>\n",
       "  </tbody>\n",
       "</table>\n",
       "</div>"
      ],
      "text/plain": [
       "                                생년월일           생존일          나이\n",
       "count                            844    844.000000  844.000000\n",
       "mean   1998-07-30 14:19:54.312796160   9383.402844   25.883886\n",
       "min              1982-07-13 00:00:00   6691.000000   19.000000\n",
       "25%              1995-05-04 00:00:00   7955.000000   22.000000\n",
       "50%              1999-09-12 12:00:00   8974.500000   25.000000\n",
       "75%              2002-06-28 00:00:00  10567.000000   29.000000\n",
       "max              2005-12-13 00:00:00  15245.000000   42.000000\n",
       "std                              NaN   1899.180359    5.200673"
      ]
     },
     "execution_count": 120,
     "metadata": {},
     "output_type": "execute_result"
    }
   ],
   "source": [
    "# 기술통계값\n",
    "kbo.describe()"
   ]
  },
  {
   "cell_type": "markdown",
   "id": "d185b933-b0f1-4788-974f-2113e93ac8b9",
   "metadata": {},
   "source": [
    "# GS25 편의점"
   ]
  },
  {
   "cell_type": "code",
   "execution_count": null,
   "id": "243c27f0-4223-4ab8-896c-cd5dbdf4b507",
   "metadata": {},
   "outputs": [],
   "source": []
  },
  {
   "cell_type": "code",
   "execution_count": null,
   "id": "2d4a6ef1-9c01-41c5-b076-c7f79adf2519",
   "metadata": {},
   "outputs": [],
   "source": []
  },
  {
   "cell_type": "code",
   "execution_count": null,
   "id": "a5be6cd3-119b-4f3f-babe-7b9d09d5f0c7",
   "metadata": {},
   "outputs": [],
   "source": []
  },
  {
   "cell_type": "code",
   "execution_count": null,
   "id": "4b4bfc55-df34-4c33-be8b-a66a071d5f5b",
   "metadata": {},
   "outputs": [],
   "source": []
  },
  {
   "cell_type": "code",
   "execution_count": null,
   "id": "36193c59-7df0-4972-99df-2bfa32356a70",
   "metadata": {},
   "outputs": [],
   "source": []
  }
 ],
 "metadata": {
  "kernelspec": {
   "display_name": "Python 3 (ipykernel)",
   "language": "python",
   "name": "python3"
  },
  "language_info": {
   "codemirror_mode": {
    "name": "ipython",
    "version": 3
   },
   "file_extension": ".py",
   "mimetype": "text/x-python",
   "name": "python",
   "nbconvert_exporter": "python",
   "pygments_lexer": "ipython3",
   "version": "3.10.12"
  }
 },
 "nbformat": 4,
 "nbformat_minor": 5
}
