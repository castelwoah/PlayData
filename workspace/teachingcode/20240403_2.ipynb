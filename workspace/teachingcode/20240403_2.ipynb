{
  "cells": [
    {
      "cell_type": "markdown",
      "metadata": {
        "colab_type": "text",
        "id": "view-in-github"
      },
      "source": [
        "<a href=\"https://colab.research.google.com/github/castelwoah/PlayData/blob/main/workspace/teachingcode/20240403_2.ipynb\" target=\"_parent\"><img src=\"https://colab.research.google.com/assets/colab-badge.svg\" alt=\"Open In Colab\"/></a>"
      ]
    },
    {
      "cell_type": "code",
      "execution_count": null,
      "id": "6824e85d",
      "metadata": {
        "id": "6824e85d"
      },
      "outputs": [],
      "source": [
        "import requests"
      ]
    },
    {
      "cell_type": "code",
      "execution_count": null,
      "id": "c4344330",
      "metadata": {
        "id": "c4344330"
      },
      "outputs": [],
      "source": [
        "url = \"https://www.genie.co.kr/chart/top200\""
      ]
    },
    {
      "cell_type": "code",
      "execution_count": null,
      "id": "5f937e7f",
      "metadata": {
        "id": "5f937e7f"
      },
      "outputs": [],
      "source": [
        "head = {\"User-Agent\": \\\n",
        "        \"Mozilla/5.0 (Windows NT 10.0; Win64; x64) AppleWebKit/537.36 (KHTML, like Gecko) Chrome/116.0.0.0 Safari/537.36 Edg/116.0.1938.62\"}"
      ]
    },
    {
      "cell_type": "code",
      "execution_count": null,
      "id": "d1bcd5e8",
      "metadata": {
        "id": "d1bcd5e8"
      },
      "outputs": [],
      "source": [
        "r = requests.get(url, headers=head)"
      ]
    },
    {
      "cell_type": "code",
      "execution_count": null,
      "id": "6501fd23",
      "metadata": {
        "id": "6501fd23"
      },
      "outputs": [],
      "source": [
        "from bs4 import BeautifulSoup as BS\n",
        "#import pandas as pd\n",
        "#import numpy as np\n",
        "#import tensorflow as tf"
      ]
    },
    {
      "cell_type": "code",
      "execution_count": null,
      "id": "0ff8b154",
      "metadata": {
        "id": "0ff8b154"
      },
      "outputs": [],
      "source": [
        "bs = BS(r.text)"
      ]
    },
    {
      "cell_type": "code",
      "execution_count": null,
      "id": "d6c81004",
      "metadata": {
        "id": "d6c81004",
        "outputId": "8d42eb27-84d8-4be5-d5a5-914173a16a84"
      },
      "outputs": [
        {
          "name": "stderr",
          "output_type": "stream",
          "text": [
            "100%|██████████| 50/50 [00:07<00:00,  6.80it/s]\n"
          ]
        }
      ],
      "source": [
        "import os\n",
        "from tqdm import tqdm\n",
        "import re\n",
        "p = re.compile(\"[0-9]+\")\n",
        "lyrics_url = \"https://www.genie.co.kr/detail/songInfo?xgnm={}\"\n",
        "if not os.path.isdir(\"./lyrics\"):\n",
        "    os.mkdir(\"./lyrics\")\n",
        "for x in tqdm(bs.find(\"div\", {'class': \\\n",
        "                          \"music-list-wrap\"}).findAll(\"td\", {\"class\" : \"info\"})):\n",
        "\n",
        "    title = x.find(\"a\", class_=\"title ellipsis\").text.strip()\n",
        "    artist = x.find(\"a\", class_=\"artist ellipsis\").text\n",
        "    with open(f\"./lyrics/{artist}_{title}.txt\", \"w\", encoding='utf-8') as f:\n",
        "        f.write(BeautifulSoup(r3.text).find(\"pre\", id=\"pLyrics\").text.strip())\n",
        "    #print(f\"{artist}-{title}.txt\")\n",
        "    r3 = requests.get(lyrics_url.format(p.findall(str(x))[0]),headers=head)"
      ]
    },
    {
      "cell_type": "code",
      "execution_count": null,
      "id": "01fee519",
      "metadata": {
        "id": "01fee519"
      },
      "outputs": [],
      "source": []
    },
    {
      "cell_type": "code",
      "execution_count": null,
      "id": "be10af5a",
      "metadata": {
        "id": "be10af5a"
      },
      "outputs": [],
      "source": [
        "url = \"https://m.stock.naver.com/front-api/v1/external/chart/domestic/info?symbol={}&requestType=1&startTime={}&endTime={}&timeframe=day\""
      ]
    },
    {
      "cell_type": "code",
      "execution_count": null,
      "id": "93e2e2cf",
      "metadata": {
        "id": "93e2e2cf"
      },
      "outputs": [],
      "source": [
        "r = requests.get(url.format('005930', '20230102', '20240402'))"
      ]
    },
    {
      "cell_type": "code",
      "execution_count": null,
      "id": "9e3da18e",
      "metadata": {
        "id": "9e3da18e"
      },
      "outputs": [],
      "source": [
        "data = eval(r.text.strip())"
      ]
    },
    {
      "cell_type": "code",
      "execution_count": null,
      "id": "ffbf4486",
      "metadata": {
        "id": "ffbf4486"
      },
      "outputs": [],
      "source": [
        "import csv\n",
        "f = open(\"./삼성전자.csv\", 'w', newline='')\n",
        "write_stock = csv.writer(f)\n",
        "write_stock.writerows(data)\n",
        "f.close()"
      ]
    },
    {
      "cell_type": "code",
      "execution_count": null,
      "id": "50266f14",
      "metadata": {
        "id": "50266f14"
      },
      "outputs": [],
      "source": []
    },
    {
      "cell_type": "code",
      "execution_count": null,
      "id": "9a7e75a1",
      "metadata": {
        "id": "9a7e75a1"
      },
      "outputs": [],
      "source": []
    },
    {
      "cell_type": "code",
      "execution_count": null,
      "id": "d1ed25be",
      "metadata": {
        "id": "d1ed25be"
      },
      "outputs": [],
      "source": []
    },
    {
      "cell_type": "code",
      "execution_count": null,
      "id": "625347fb",
      "metadata": {
        "id": "625347fb"
      },
      "outputs": [],
      "source": [
        "def get_naver_stock(code, start_date, end_date):\n",
        "    \"\"\"\n",
        "    code -> 종목 코드 넣어\n",
        "    start_date -> 시작 날짜\n",
        "    end_date -> 끝나는 날짜\n",
        "    \"\"\"\n",
        "    pass"
      ]
    },
    {
      "cell_type": "code",
      "execution_count": null,
      "id": "c7a14dc1",
      "metadata": {
        "id": "c7a14dc1",
        "outputId": "0a1d57c8-df2d-4a9a-8f69-f989df5ebd35"
      },
      "outputs": [
        {
          "name": "stdout",
          "output_type": "stream",
          "text": [
            "Help on function get_naver_stock in module __main__:\n",
            "\n",
            "get_naver_stock(code, start_date, end_date)\n",
            "    code -> 종목 코드 넣어 \n",
            "    start_date -> 시작 날짜 \n",
            "    end_date -> 끝나는 날짜\n",
            "\n"
          ]
        }
      ],
      "source": [
        "help(get_naver_stock)"
      ]
    },
    {
      "cell_type": "code",
      "execution_count": null,
      "id": "9b578a79",
      "metadata": {
        "id": "9b578a79"
      },
      "outputs": [],
      "source": [
        "payload = {\"bld\" : \"dbms/MDC/STAT/standard/MDCSTAT01901\",\n",
        "\"locale\" : \"ko_KR\",\n",
        "\"mktId\" : \"ALL\",\n",
        "\"share\" : \"1\",\n",
        "\"csvxls_isNo\" : \"false\",}"
      ]
    },
    {
      "cell_type": "code",
      "execution_count": null,
      "id": "48ca0734",
      "metadata": {
        "id": "48ca0734"
      },
      "outputs": [],
      "source": [
        "url = \"http://data.krx.co.kr/comm/bldAttendant/getJsonData.cmd\"\n"
      ]
    },
    {
      "cell_type": "code",
      "execution_count": null,
      "id": "6b579af8",
      "metadata": {
        "id": "6b579af8"
      },
      "outputs": [],
      "source": [
        "r = requests.post(url, data=payload)"
      ]
    },
    {
      "cell_type": "code",
      "execution_count": null,
      "id": "868f7d38",
      "metadata": {
        "id": "868f7d38"
      },
      "outputs": [],
      "source": [
        "# MKT_TP_NM, ISU_ABBRV, ISU_SRT_CD\n",
        "# dict comprehension\n",
        "master = {x['ISU_SRT_CD'] : x['ISU_ABBRV'] for x in r.json()['OutBlock_1']}"
      ]
    },
    {
      "cell_type": "code",
      "execution_count": null,
      "id": "17a11305",
      "metadata": {
        "id": "17a11305"
      },
      "outputs": [],
      "source": [
        "def tmp(a, b):\n",
        "    global c\n",
        "    d = 10\n",
        "    c = 10\n",
        "    print (d)\n",
        "    return a + b"
      ]
    },
    {
      "cell_type": "code",
      "execution_count": null,
      "id": "863b50a3",
      "metadata": {
        "id": "863b50a3"
      },
      "outputs": [],
      "source": [
        "def vol_up():\n",
        "    # Insert your code please\n",
        "    pass"
      ]
    },
    {
      "cell_type": "code",
      "execution_count": null,
      "id": "eafad3a0",
      "metadata": {
        "id": "eafad3a0"
      },
      "outputs": [],
      "source": [
        "d = 20"
      ]
    },
    {
      "cell_type": "code",
      "execution_count": null,
      "id": "52ee2b92",
      "metadata": {
        "id": "52ee2b92",
        "outputId": "8659416c-265b-45e1-9b37-20032446eec2"
      },
      "outputs": [
        {
          "name": "stdout",
          "output_type": "stream",
          "text": [
            "10\n"
          ]
        },
        {
          "data": {
            "text/plain": [
              "30"
            ]
          },
          "execution_count": 92,
          "metadata": {},
          "output_type": "execute_result"
        }
      ],
      "source": [
        "tmp(10,20)"
      ]
    },
    {
      "cell_type": "code",
      "execution_count": null,
      "id": "b2947de4",
      "metadata": {
        "id": "b2947de4"
      },
      "outputs": [],
      "source": [
        "import csv\n",
        "def get_naver_stock(code, start_date, end_date):\n",
        "    \"\"\"\n",
        "    code -> 종목 코드 넣어\n",
        "    start_date -> 시작 날짜\n",
        "    end_date -> 끝나는 날짜\n",
        "    \"\"\"\n",
        "    if not os.path.isdir(\"./stocks\"):\n",
        "        os.mkdir(\"./stocks\")\n",
        "    url = \"https://m.stock.naver.com/front-api/v1/external/chart/domestic/info?symbol={}&requestType=1&startTime={}&endTime={}&timeframe=day\"\n",
        "    r = requests.get(url.format(code, start_date, end_date))\n",
        "    data = eval(r.text.strip())\n",
        "\n",
        "    f = open(f\"./stocks/{master[code]}.csv\", 'w', newline='')\n",
        "    write_stock = csv.writer(f)\n",
        "    write_stock.writerows(data)\n",
        "    f.close()"
      ]
    },
    {
      "cell_type": "code",
      "execution_count": null,
      "id": "96969705",
      "metadata": {
        "id": "96969705"
      },
      "outputs": [],
      "source": [
        "# ISU_ABBRV, ISU_SRT_CD\n",
        "for x in r.json()['OutBlock_1'][:10]:\n",
        "    if x['MKT_TP_NM'] == \"KOSPI\":\n",
        "        get_naver_stock(x['ISU_SRT_CD'], \"20230102\", \"20240402\")"
      ]
    },
    {
      "cell_type": "code",
      "execution_count": null,
      "id": "a13665cf",
      "metadata": {
        "id": "a13665cf"
      },
      "outputs": [],
      "source": [
        "import csv\n",
        "def get_naver_stock(code, start_date, end_date):\n",
        "    \"\"\"\n",
        "    code -> 종목 코드 넣어\n",
        "    start_date -> 시작 날짜\n",
        "    end_date -> 끝나는 날짜\n",
        "    \"\"\"\n",
        "    url = \"https://m.stock.naver.com/front-api/v1/external/chart/domestic/info?symbol={}&requestType=1&startTime={}&endTime={}&timeframe=day\"\n",
        "    r = requests.get(url.format(code, start_date, end_date))\n",
        "    data = eval(r.text.strip())\n",
        "    # 폴더가 없어서 에러가 발생한다면...\n",
        "    try:\n",
        "        f = open(f\"./stocks/{master[code]}.csv\", 'w', newline='')\n",
        "    except Exception as e:\n",
        "        print(e)\n",
        "        os.mkdir(\"./stocks\")\n",
        "        f = open(f\"./stocks/{master[code]}.csv\", 'w', newline='')\n",
        "    write_stock = csv.writer(f)\n",
        "    write_stock.writerows(data)\n",
        "    f.close()"
      ]
    },
    {
      "cell_type": "code",
      "execution_count": null,
      "id": "38a578e2",
      "metadata": {
        "id": "38a578e2",
        "outputId": "b7125b5e-344d-4b8e-e809-10c829a3bb24"
      },
      "outputs": [
        {
          "name": "stdout",
          "output_type": "stream",
          "text": [
            "[Errno 2] No such file or directory: './stocks/AJ네트웍스.csv'\n"
          ]
        }
      ],
      "source": [
        "# ISU_ABBRV, ISU_SRT_CD\n",
        "for x in r.json()['OutBlock_1'][:10]:\n",
        "    if x['MKT_TP_NM'] == \"KOSPI\":\n",
        "        get_naver_stock(x['ISU_SRT_CD'], \"20230102\", \"20240402\")"
      ]
    },
    {
      "cell_type": "code",
      "execution_count": null,
      "id": "5b233cb8",
      "metadata": {
        "id": "5b233cb8"
      },
      "outputs": [],
      "source": []
    }
  ],
  "metadata": {
    "colab": {
      "include_colab_link": true,
      "provenance": []
    },
    "kernelspec": {
      "display_name": "Python 3 (ipykernel)",
      "language": "python",
      "name": "python3"
    },
    "language_info": {
      "codemirror_mode": {
        "name": "ipython",
        "version": 3
      },
      "file_extension": ".py",
      "mimetype": "text/x-python",
      "name": "python",
      "nbconvert_exporter": "python",
      "pygments_lexer": "ipython3",
      "version": "3.8.12"
    }
  },
  "nbformat": 4,
  "nbformat_minor": 5
}
