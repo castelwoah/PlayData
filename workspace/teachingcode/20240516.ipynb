{
 "cells": [
  {
   "cell_type": "code",
   "execution_count": 7,
   "id": "575843a1-9235-4979-942d-abeacb9aa33c",
   "metadata": {
    "scrolled": true
   },
   "outputs": [],
   "source": [
    "from konlpy.tag import Okt, Komoran"
   ]
  },
  {
   "cell_type": "code",
   "execution_count": 4,
   "id": "7f1787c2-9206-49e1-9cb2-468d3e9b0dec",
   "metadata": {},
   "outputs": [],
   "source": [
    "okt = Okt()"
   ]
  },
  {
   "cell_type": "code",
   "execution_count": 10,
   "id": "ade4cae1-32ce-4fe4-a723-08b894fb253d",
   "metadata": {},
   "outputs": [],
   "source": [
    "text = '아버지가방에들어가신다'"
   ]
  },
  {
   "cell_type": "code",
   "execution_count": 11,
   "id": "004b67a9-1011-45a2-b909-4928c05b4189",
   "metadata": {},
   "outputs": [
    {
     "data": {
      "text/plain": [
       "[('아버지', 'Noun'), ('가방', 'Noun'), ('에', 'Josa'), ('들어가신다', 'Verb')]"
      ]
     },
     "execution_count": 11,
     "metadata": {},
     "output_type": "execute_result"
    }
   ],
   "source": [
    "okt.pos(text)"
   ]
  },
  {
   "cell_type": "code",
   "execution_count": 14,
   "id": "5dd10c18-fc7b-40be-80fe-622d2b917b01",
   "metadata": {},
   "outputs": [
    {
     "data": {
      "text/plain": [
       "[('아버지', 'NNG'),\n",
       " ('가방', 'NNP'),\n",
       " ('에', 'JKB'),\n",
       " ('들어가', 'VV'),\n",
       " ('시', 'EP'),\n",
       " ('ㄴ다', 'EC')]"
      ]
     },
     "execution_count": 14,
     "metadata": {},
     "output_type": "execute_result"
    }
   ],
   "source": [
    "Komoran().pos(text)"
   ]
  },
  {
   "cell_type": "markdown",
   "id": "66b76e6a-99f0-4fc0-867c-2b48ec8dcb75",
   "metadata": {},
   "source": [
    "불용어(stop words)\n",
    "- ㅋㅋㅋㅋㅋ\n",
    "- ㅎㅎㅎㅎ\n",
    "\n",
    "말뭉치(corpus)"
   ]
  },
  {
   "cell_type": "code",
   "execution_count": null,
   "id": "4d3f5ab7-4487-4337-834a-d04479f2d3cb",
   "metadata": {},
   "outputs": [],
   "source": []
  },
  {
   "cell_type": "code",
   "execution_count": null,
   "id": "667321df-618d-4c48-8fa4-2f83db87caf5",
   "metadata": {},
   "outputs": [],
   "source": []
  },
  {
   "cell_type": "code",
   "execution_count": null,
   "id": "2e0f504f-6a54-4cd4-b506-7598711d89e7",
   "metadata": {},
   "outputs": [],
   "source": []
  },
  {
   "cell_type": "code",
   "execution_count": null,
   "id": "26ce846d-380b-47ee-bfdf-cfee0c165f9a",
   "metadata": {},
   "outputs": [],
   "source": []
  },
  {
   "cell_type": "code",
   "execution_count": null,
   "id": "b40f753b-d879-4431-87cc-426898d6ea7c",
   "metadata": {},
   "outputs": [],
   "source": []
  },
  {
   "cell_type": "code",
   "execution_count": null,
   "id": "f1490ab1-3386-43c5-8164-2c43c074ea48",
   "metadata": {},
   "outputs": [],
   "source": []
  },
  {
   "cell_type": "code",
   "execution_count": null,
   "id": "f91cd2c3-fac1-4b62-a194-95b205540794",
   "metadata": {},
   "outputs": [],
   "source": []
  },
  {
   "cell_type": "code",
   "execution_count": null,
   "id": "41c9dd1b-4773-410b-ae65-a9bec1bb63b3",
   "metadata": {},
   "outputs": [],
   "source": []
  },
  {
   "cell_type": "code",
   "execution_count": null,
   "id": "8b38d315-b1ea-4174-a869-694941b1a863",
   "metadata": {},
   "outputs": [],
   "source": []
  },
  {
   "cell_type": "code",
   "execution_count": null,
   "id": "a409ea7c-f28c-4a3d-8058-d87ace61e84d",
   "metadata": {},
   "outputs": [],
   "source": []
  },
  {
   "cell_type": "code",
   "execution_count": null,
   "id": "79514188-3c1c-493f-9025-0a0d5bff8ca1",
   "metadata": {},
   "outputs": [],
   "source": []
  }
 ],
 "metadata": {
  "kernelspec": {
   "display_name": "gpu_venv",
   "language": "python",
   "name": "venv"
  },
  "language_info": {
   "codemirror_mode": {
    "name": "ipython",
    "version": 3
   },
   "file_extension": ".py",
   "mimetype": "text/x-python",
   "name": "python",
   "nbconvert_exporter": "python",
   "pygments_lexer": "ipython3",
   "version": "3.10.13"
  }
 },
 "nbformat": 4,
 "nbformat_minor": 5
}
