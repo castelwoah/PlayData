{
 "cells": [
  {
   "cell_type": "code",
   "execution_count": 1,
   "id": "ab65e4a8-1910-4c82-8420-2ce424643c55",
   "metadata": {},
   "outputs": [],
   "source": [
    "import numpy as np"
   ]
  },
  {
   "cell_type": "code",
   "execution_count": 2,
   "id": "486e897f-a03e-4642-b04d-ada1b724ccc1",
   "metadata": {},
   "outputs": [],
   "source": [
    "a = np.array([[1,0,5], [2,4,7]])"
   ]
  },
  {
   "cell_type": "code",
   "execution_count": 3,
   "id": "c0c8cdb4-b19d-41d7-ad33-84d12767c9ff",
   "metadata": {},
   "outputs": [
    {
     "data": {
      "text/plain": [
       "(2, 3)"
      ]
     },
     "execution_count": 3,
     "metadata": {},
     "output_type": "execute_result"
    }
   ],
   "source": [
    "a.shape"
   ]
  },
  {
   "cell_type": "code",
   "execution_count": 5,
   "id": "6fafe2eb-38df-451f-b8b2-1caa36110114",
   "metadata": {},
   "outputs": [
    {
     "data": {
      "text/plain": [
       "2"
      ]
     },
     "execution_count": 5,
     "metadata": {},
     "output_type": "execute_result"
    }
   ],
   "source": [
    "a.ndim"
   ]
  },
  {
   "cell_type": "code",
   "execution_count": 4,
   "id": "26af9e3a-da50-4302-b1a6-23dfd818836b",
   "metadata": {},
   "outputs": [],
   "source": [
    "b = np.array([[5,3,2], [6,1,4]])"
   ]
  },
  {
   "cell_type": "code",
   "execution_count": 7,
   "id": "24151b1d-9712-4fe3-9d26-ccb7ec19a5a9",
   "metadata": {},
   "outputs": [
    {
     "data": {
      "text/plain": [
       "array([[ 6,  3,  7],\n",
       "       [ 8,  5, 11]])"
      ]
     },
     "execution_count": 7,
     "metadata": {},
     "output_type": "execute_result"
    }
   ],
   "source": [
    "a+b"
   ]
  },
  {
   "cell_type": "code",
   "execution_count": 12,
   "id": "1b08cde4-75c1-4c77-bb20-29474a917e10",
   "metadata": {},
   "outputs": [
    {
     "data": {
      "text/plain": [
       "array([[ 5,  0, 10],\n",
       "       [12,  4, 28]])"
      ]
     },
     "execution_count": 12,
     "metadata": {},
     "output_type": "execute_result"
    }
   ],
   "source": [
    "a * b"
   ]
  },
  {
   "cell_type": "code",
   "execution_count": 19,
   "id": "50dee817-85b1-4548-9a09-4dfaed65e346",
   "metadata": {},
   "outputs": [
    {
     "data": {
      "text/plain": [
       "array([[15, 36],\n",
       "       [26, 44]])"
      ]
     },
     "execution_count": 19,
     "metadata": {},
     "output_type": "execute_result"
    }
   ],
   "source": [
    "b.dot(a.T)"
   ]
  },
  {
   "cell_type": "code",
   "execution_count": 18,
   "id": "d2f170bc-c1ec-4945-8bcf-4f8d397e9fdb",
   "metadata": {},
   "outputs": [
    {
     "name": "stdout",
     "output_type": "stream",
     "text": [
      "(3, 2)\n",
      "(2, 3)\n"
     ]
    }
   ],
   "source": [
    "print(a.T.shape)\n",
    "print(b.shape)"
   ]
  },
  {
   "cell_type": "code",
   "execution_count": 23,
   "id": "ac6e5c92-ccdc-494f-a99d-39d514e2cd59",
   "metadata": {},
   "outputs": [
    {
     "name": "stdout",
     "output_type": "stream",
     "text": [
      "[[1 0 5 2 4 7]]\n",
      "[[1 0 5]\n",
      " [2 4 7]]\n"
     ]
    }
   ],
   "source": [
    "a2 = a.reshape(-1, 6)\n",
    "print(a2)\n",
    "print(a2.reshape(-1, 3))"
   ]
  },
  {
   "cell_type": "code",
   "execution_count": 32,
   "id": "ec10ecc8-e2b0-460b-ae6a-c7ec94374ab6",
   "metadata": {},
   "outputs": [],
   "source": [
    "a1 = np.array([[-4,3], [7,4]])"
   ]
  },
  {
   "cell_type": "code",
   "execution_count": 33,
   "id": "9ffec974-5420-4ff6-bf74-407dd70be232",
   "metadata": {},
   "outputs": [
    {
     "data": {
      "text/plain": [
       "array([[ 1.00000000e+00, -5.55111512e-17],\n",
       "       [ 0.00000000e+00,  1.00000000e+00]])"
      ]
     },
     "execution_count": 33,
     "metadata": {},
     "output_type": "execute_result"
    }
   ],
   "source": [
    "np.dot(np.linalg.inv(a1),a1)"
   ]
  },
  {
   "cell_type": "code",
   "execution_count": 34,
   "id": "3866b318-cac7-4c93-981e-275db2c0027c",
   "metadata": {},
   "outputs": [
    {
     "data": {
      "text/plain": [
       "array([[1.00000000e+00, 5.55111512e-17],\n",
       "       [0.00000000e+00, 1.00000000e+00]])"
      ]
     },
     "execution_count": 34,
     "metadata": {},
     "output_type": "execute_result"
    }
   ],
   "source": [
    "a1.dot(np.linalg.inv(a1))"
   ]
  },
  {
   "cell_type": "code",
   "execution_count": 35,
   "id": "69a0aa0e-1271-4a3b-9385-4bfe4e3aed5a",
   "metadata": {},
   "outputs": [
    {
     "data": {
      "text/plain": [
       "array([[-4,  3],\n",
       "       [ 7,  4]])"
      ]
     },
     "execution_count": 35,
     "metadata": {},
     "output_type": "execute_result"
    }
   ],
   "source": []
  },
  {
   "cell_type": "code",
   "execution_count": 37,
   "id": "8e6d3f5f-7fe9-4c0b-ac4e-7fb5e409dfa1",
   "metadata": {},
   "outputs": [],
   "source": [
    "class Node:\n",
    "    def __init__(self, data, next=None):\n",
    "        self.data = data\n",
    "        self.next = next \n",
    "\n",
    "class Queue:\n",
    "    def __init__(self):\n",
    "        self.front = None \n",
    "        self.rear = None \n",
    "        self._size = 0 \n",
    "\n",
    "    def enqueue(self, item):\n",
    "        self._size += 1\n",
    "        node = Node(item)\n",
    "        if self.rear is None:\n",
    "            self.front = node \n",
    "            self.rear = node \n",
    "        else:\n",
    "            self.rear.next = node \n",
    "            self.rear = node \n",
    "\n",
    "    def dequeue(self):\n",
    "        if self.front is None:\n",
    "            raise IndexError('pop from empty queue')\n",
    "        self._size -= 1 \n",
    "        temp = self.front \n",
    "        self.front = self.front.next \n",
    "        if self.front is None:\n",
    "            self.rear = None \n",
    "        return temp.data \n",
    "    \n",
    "    def size(self):\n",
    "        return self._size "
   ]
  },
  {
   "cell_type": "code",
   "execution_count": 38,
   "id": "7f932783-218b-4d25-a6c6-0e2bcfd633dc",
   "metadata": {},
   "outputs": [
    {
     "name": "stdout",
     "output_type": "stream",
     "text": [
      "1\n",
      "2\n",
      "3\n"
     ]
    }
   ],
   "source": [
    "queue = Queue()\n",
    "queue.enqueue(1)\n",
    "queue.enqueue(2)\n",
    "queue.enqueue(3)\n",
    "queue.enqueue(4)\n",
    "for i in range(3):\n",
    "    print(queue.dequeue())"
   ]
  },
  {
   "cell_type": "code",
   "execution_count": 43,
   "id": "bbd4ab63-d6b1-4e8d-87d5-68fb2d1d35e8",
   "metadata": {},
   "outputs": [
    {
     "name": "stdout",
     "output_type": "stream",
     "text": [
      "13.26253366470337\n",
      "0.006349802017211914\n"
     ]
    }
   ],
   "source": [
    "from collections import deque\n",
    "import time \n",
    "\n",
    "lst = list(range(100000))\n",
    "dq = deque(range(100000))\n",
    "\n",
    "\n",
    "# pop 성능 \n",
    "start_time = time.time()\n",
    "for i in range(100000):\n",
    "\tlst.pop(0)\n",
    "print(time.time() - start_time)\n",
    "\n",
    "\n",
    "start_time = time.time()\n",
    "for i in range(100000):\n",
    "\tdq.popleft()\n",
    "print(time.time() - start_time)\n"
   ]
  },
  {
   "cell_type": "code",
   "execution_count": 44,
   "id": "f25c95af-a2a3-4728-9194-efda9ebeb273",
   "metadata": {},
   "outputs": [
    {
     "name": "stdout",
     "output_type": "stream",
     "text": [
      "1\n"
     ]
    },
    {
     "ename": "NameError",
     "evalue": "name 'frist_item' is not defined",
     "output_type": "error",
     "traceback": [
      "\u001b[0;31m---------------------------------------------------------------------------\u001b[0m",
      "\u001b[0;31mNameError\u001b[0m                                 Traceback (most recent call last)",
      "Cell \u001b[0;32mIn[44], line 19\u001b[0m\n\u001b[1;32m     17\u001b[0m \u001b[38;5;66;03m# 큐의 맨 앞 데이터 제거 \u001b[39;00m\n\u001b[1;32m     18\u001b[0m first_item \u001b[38;5;241m=\u001b[39m queue\u001b[38;5;241m.\u001b[39mpopleft()\n\u001b[0;32m---> 19\u001b[0m \u001b[38;5;28mprint\u001b[39m(\u001b[43mfrist_item\u001b[49m)\n",
      "\u001b[0;31mNameError\u001b[0m: name 'frist_item' is not defined"
     ]
    }
   ],
   "source": [
    "from collections import deque \n",
    "\n",
    "queue = deque()\n",
    "\n",
    "queue.append(1)\n",
    "queue.append(2)\n",
    "queue.append(3)\n",
    "\n",
    "# 큐의 맨 앞 데이터 제거 \n",
    "first_item = queue.popleft()\n",
    "print(first_item)\n",
    "\n",
    "# 큐에 데이터 추가 \n",
    "queue.append(4)\n",
    "queue.append(5) \n",
    "\n",
    "# 큐의 맨 앞 데이터 제거 \n",
    "first_item = queue.popleft()\n",
    "print(frist_item)"
   ]
  },
  {
   "cell_type": "code",
   "execution_count": null,
   "id": "d0ec2005-1150-43fc-b54c-b16ddc2914fc",
   "metadata": {},
   "outputs": [],
   "source": []
  },
  {
   "cell_type": "code",
   "execution_count": null,
   "id": "94df596d-77e2-45da-9c60-70f385b5821e",
   "metadata": {},
   "outputs": [],
   "source": []
  },
  {
   "cell_type": "code",
   "execution_count": null,
   "id": "c9565ea5-40e8-44da-aeb1-652b17931cdd",
   "metadata": {},
   "outputs": [],
   "source": []
  },
  {
   "cell_type": "code",
   "execution_count": null,
   "id": "90c90588-b973-4012-a461-b330d33947f4",
   "metadata": {},
   "outputs": [],
   "source": []
  },
  {
   "cell_type": "code",
   "execution_count": null,
   "id": "a3a7bec2-3028-455e-b15b-23b19e3cf7d4",
   "metadata": {},
   "outputs": [],
   "source": []
  },
  {
   "cell_type": "code",
   "execution_count": null,
   "id": "fd8dfcd9-dc7a-4303-9c45-a39fb7ab9e7f",
   "metadata": {},
   "outputs": [],
   "source": []
  },
  {
   "cell_type": "code",
   "execution_count": null,
   "id": "0f2e960f-8ec1-40a3-822a-9a7dec681522",
   "metadata": {},
   "outputs": [],
   "source": []
  },
  {
   "cell_type": "code",
   "execution_count": null,
   "id": "c9f67f88-6d61-446b-9c19-1886434fc753",
   "metadata": {},
   "outputs": [],
   "source": []
  }
 ],
 "metadata": {
  "kernelspec": {
   "display_name": "Python 3 (ipykernel)",
   "language": "python",
   "name": "python3"
  },
  "language_info": {
   "codemirror_mode": {
    "name": "ipython",
    "version": 3
   },
   "file_extension": ".py",
   "mimetype": "text/x-python",
   "name": "python",
   "nbconvert_exporter": "python",
   "pygments_lexer": "ipython3",
   "version": "3.10.13"
  }
 },
 "nbformat": 4,
 "nbformat_minor": 5
}
