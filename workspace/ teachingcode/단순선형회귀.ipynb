{
  "cells": [
    {
      "cell_type": "markdown",
      "metadata": {
        "id": "view-in-github",
        "colab_type": "text"
      },
      "source": [
        "<a href=\"https://colab.research.google.com/github/castelwoah/PlayData/blob/main/workspace/%20teachingcode/%EB%8B%A8%EC%88%9C%EC%84%A0%ED%98%95%ED%9A%8C%EA%B7%80.ipynb\" target=\"_parent\"><img src=\"https://colab.research.google.com/assets/colab-badge.svg\" alt=\"Open In Colab\"/></a>"
      ]
    },
    {
      "cell_type": "code",
      "execution_count": null,
      "metadata": {
        "id": "GeLiUTY9rGBA"
      },
      "outputs": [],
      "source": [
        "from sklearn.datasets import fetch_california_housing\n",
        "from sklearn.datasets import load_boston\n",
        "import numpy as np\n",
        "import pandas as pd\n",
        "import matplotlib.pyplot as plt\n",
        "import matplotlib as mpl\n",
        "import warnings\n",
        "\n",
        "warnings.filterwarnings(action='ignore')\n",
        "boston = load_boston()\n",
        "california = fetch_california_housing()"
      ]
    },
    {
      "cell_type": "code",
      "execution_count": null,
      "metadata": {
        "id": "FIWG15yirGBC"
      },
      "outputs": [],
      "source": [
        "dataset = pd.DataFrame(boston.data, columns=boston.feature_names)\n",
        "dataset['target'] = boston.target"
      ]
    },
    {
      "cell_type": "code",
      "execution_count": null,
      "metadata": {
        "id": "NeRRiyAvrGBD"
      },
      "outputs": [],
      "source": [
        "from sklearn import linear_model\n",
        "linear_regression = linear_model.LinearRegression(normalize=False, fit_intercept=True)"
      ]
    },
    {
      "cell_type": "code",
      "execution_count": null,
      "metadata": {
        "id": "cnPfp0k8rGBD"
      },
      "outputs": [],
      "source": [
        "observations = len(dataset)\n",
        "X = dataset['RM'].values.reshape((observations,1)) # X should be always a matrix, never a vector\n",
        "y = dataset['target'].values # y can be a vector"
      ]
    },
    {
      "cell_type": "code",
      "execution_count": null,
      "metadata": {
        "id": "Pj2E1xVfrGBD",
        "outputId": "b7cae383-bb6c-4b47-f058-aac70b2f27c0"
      },
      "outputs": [
        {
          "data": {
            "text/html": [
              "<style>#sk-container-id-2 {color: black;background-color: white;}#sk-container-id-2 pre{padding: 0;}#sk-container-id-2 div.sk-toggleable {background-color: white;}#sk-container-id-2 label.sk-toggleable__label {cursor: pointer;display: block;width: 100%;margin-bottom: 0;padding: 0.3em;box-sizing: border-box;text-align: center;}#sk-container-id-2 label.sk-toggleable__label-arrow:before {content: \"▸\";float: left;margin-right: 0.25em;color: #696969;}#sk-container-id-2 label.sk-toggleable__label-arrow:hover:before {color: black;}#sk-container-id-2 div.sk-estimator:hover label.sk-toggleable__label-arrow:before {color: black;}#sk-container-id-2 div.sk-toggleable__content {max-height: 0;max-width: 0;overflow: hidden;text-align: left;background-color: #f0f8ff;}#sk-container-id-2 div.sk-toggleable__content pre {margin: 0.2em;color: black;border-radius: 0.25em;background-color: #f0f8ff;}#sk-container-id-2 input.sk-toggleable__control:checked~div.sk-toggleable__content {max-height: 200px;max-width: 100%;overflow: auto;}#sk-container-id-2 input.sk-toggleable__control:checked~label.sk-toggleable__label-arrow:before {content: \"▾\";}#sk-container-id-2 div.sk-estimator input.sk-toggleable__control:checked~label.sk-toggleable__label {background-color: #d4ebff;}#sk-container-id-2 div.sk-label input.sk-toggleable__control:checked~label.sk-toggleable__label {background-color: #d4ebff;}#sk-container-id-2 input.sk-hidden--visually {border: 0;clip: rect(1px 1px 1px 1px);clip: rect(1px, 1px, 1px, 1px);height: 1px;margin: -1px;overflow: hidden;padding: 0;position: absolute;width: 1px;}#sk-container-id-2 div.sk-estimator {font-family: monospace;background-color: #f0f8ff;border: 1px dotted black;border-radius: 0.25em;box-sizing: border-box;margin-bottom: 0.5em;}#sk-container-id-2 div.sk-estimator:hover {background-color: #d4ebff;}#sk-container-id-2 div.sk-parallel-item::after {content: \"\";width: 100%;border-bottom: 1px solid gray;flex-grow: 1;}#sk-container-id-2 div.sk-label:hover label.sk-toggleable__label {background-color: #d4ebff;}#sk-container-id-2 div.sk-serial::before {content: \"\";position: absolute;border-left: 1px solid gray;box-sizing: border-box;top: 0;bottom: 0;left: 50%;z-index: 0;}#sk-container-id-2 div.sk-serial {display: flex;flex-direction: column;align-items: center;background-color: white;padding-right: 0.2em;padding-left: 0.2em;position: relative;}#sk-container-id-2 div.sk-item {position: relative;z-index: 1;}#sk-container-id-2 div.sk-parallel {display: flex;align-items: stretch;justify-content: center;background-color: white;position: relative;}#sk-container-id-2 div.sk-item::before, #sk-container-id-2 div.sk-parallel-item::before {content: \"\";position: absolute;border-left: 1px solid gray;box-sizing: border-box;top: 0;bottom: 0;left: 50%;z-index: -1;}#sk-container-id-2 div.sk-parallel-item {display: flex;flex-direction: column;z-index: 1;position: relative;background-color: white;}#sk-container-id-2 div.sk-parallel-item:first-child::after {align-self: flex-end;width: 50%;}#sk-container-id-2 div.sk-parallel-item:last-child::after {align-self: flex-start;width: 50%;}#sk-container-id-2 div.sk-parallel-item:only-child::after {width: 0;}#sk-container-id-2 div.sk-dashed-wrapped {border: 1px dashed gray;margin: 0 0.4em 0.5em 0.4em;box-sizing: border-box;padding-bottom: 0.4em;background-color: white;}#sk-container-id-2 div.sk-label label {font-family: monospace;font-weight: bold;display: inline-block;line-height: 1.2em;}#sk-container-id-2 div.sk-label-container {text-align: center;}#sk-container-id-2 div.sk-container {/* jupyter's `normalize.less` sets `[hidden] { display: none; }` but bootstrap.min.css set `[hidden] { display: none !important; }` so we also need the `!important` here to be able to override the default hidden behavior on the sphinx rendered scikit-learn.org. See: https://github.com/scikit-learn/scikit-learn/issues/21755 */display: inline-block !important;position: relative;}#sk-container-id-2 div.sk-text-repr-fallback {display: none;}</style><div id=\"sk-container-id-2\" class=\"sk-top-container\"><div class=\"sk-text-repr-fallback\"><pre>LinearRegression(normalize=False)</pre><b>In a Jupyter environment, please rerun this cell to show the HTML representation or trust the notebook. <br />On GitHub, the HTML representation is unable to render, please try loading this page with nbviewer.org.</b></div><div class=\"sk-container\" hidden><div class=\"sk-item\"><div class=\"sk-estimator sk-toggleable\"><input class=\"sk-toggleable__control sk-hidden--visually\" id=\"sk-estimator-id-2\" type=\"checkbox\" checked><label for=\"sk-estimator-id-2\" class=\"sk-toggleable__label sk-toggleable__label-arrow\">LinearRegression</label><div class=\"sk-toggleable__content\"><pre>LinearRegression(normalize=False)</pre></div></div></div></div></div>"
            ],
            "text/plain": [
              "LinearRegression(normalize=False)"
            ]
          },
          "execution_count": 37,
          "metadata": {},
          "output_type": "execute_result"
        }
      ],
      "source": [
        "linear_regression.fit(X,y)"
      ]
    },
    {
      "cell_type": "code",
      "execution_count": null,
      "metadata": {
        "id": "Q1fKJZCBrGBE",
        "outputId": "40b8361e-82cf-4a2d-f209-e7ec0fe2e93d"
      },
      "outputs": [
        {
          "name": "stdout",
          "output_type": "stream",
          "text": [
            "[9.10210898]\n",
            "-34.670620776438554\n"
          ]
        }
      ],
      "source": [
        "print (linear_regression.coef_)\n",
        "print (linear_regression.intercept_)"
      ]
    },
    {
      "cell_type": "markdown",
      "metadata": {
        "id": "WChiKFNRrGBE"
      },
      "source": [
        "# 비용함수를 사용한 회귀모델"
      ]
    },
    {
      "cell_type": "code",
      "execution_count": null,
      "metadata": {
        "id": "c1mUe4GgrGBG"
      },
      "outputs": [],
      "source": [
        "import numpy as np\n",
        "x = np.array([9.5, 8.5, 8.0, 7.0, 6.0])\n",
        "y = np.array([85, 95, 70, 65, 70])"
      ]
    },
    {
      "cell_type": "code",
      "execution_count": null,
      "metadata": {
        "id": "FtbxYyMGrGBH"
      },
      "outputs": [],
      "source": [
        "def squared_cost(v,e):\n",
        " return np.sum((v-e)**2)"
      ]
    },
    {
      "cell_type": "markdown",
      "metadata": {
        "id": "Io23Pa8jrGBH"
      },
      "source": []
    },
    {
      "cell_type": "code",
      "execution_count": null,
      "metadata": {
        "id": "4ztKQPnlrGBH",
        "outputId": "806b4604-2fa1-430d-f091-92b24fc788fc"
      },
      "outputs": [
        {
          "name": "stdout",
          "output_type": "stream",
          "text": [
            "Optimization terminated successfully.\n",
            "         Current function value: 7.300000\n",
            "         Iterations: 44\n",
            "         Function evaluations: 88\n"
          ]
        }
      ],
      "source": [
        "from scipy.optimize import fmin\n",
        "xopt = fmin(squared_cost, x0=0, xtol=1e-8, args=(x,))"
      ]
    },
    {
      "cell_type": "markdown",
      "metadata": {
        "id": "OdZ4EGVcrGBH"
      },
      "source": [
        "# 의사역행렬 방법을 이용한 최적화"
      ]
    },
    {
      "cell_type": "markdown",
      "metadata": {
        "id": "G_nG0nWLrGBI"
      },
      "source": [
        "* 회귀분석을 해결하고 비용 함수를 최소화하면서 데이터의 계수 벡터를 얻기 위한 분석적 공식은 아래와 같다.\n",
        "\n",
        "![image.png](attachment:image.png)\n",
        "\n",
        "* Numpy의 np.linalg.inv를 사용해 역행렬을 구하여 w의 값을 구할수 있다.\n"
      ]
    },
    {
      "cell_type": "code",
      "execution_count": null,
      "metadata": {
        "id": "P88Gl--rrGBI",
        "outputId": "176732f7-d6be-4dbe-9754-7c7a7d4f4750"
      },
      "outputs": [
        {
          "name": "stdout",
          "output_type": "stream",
          "text": [
            "[  9.10210898 -34.67062078]\n",
            "[  9.10210898 -34.67062078]\n",
            "[  9.10210898 -34.67062078]\n"
          ]
        }
      ],
      "source": [
        "observations = len(dataset)\n",
        "X  = dataset['RM'].values.reshape((observations,1)) # X should be always a matrix, never a vector\n",
        "Xb = np.column_stack((X,np.ones(observations))) # We add the bias\n",
        "y  = dataset['target'].values # y can be a vector\n",
        "\n",
        "def matrix_inverse(X,y, pseudo=False):\n",
        "    if pseudo:\n",
        "        return np.dot(np.linalg.pinv(np.dot(X.T, X)),np.dot(X.T,y))\n",
        "    else:\n",
        "        return np.dot(np.linalg.inv(np.dot(X.T, X)),np.dot(X.T,y))\n",
        "\n",
        "def normal_equations(X,y):\n",
        "    return np.linalg.solve(np.dot(X.T,X), np.dot(X.T,y))\n",
        "\n",
        "print (matrix_inverse(Xb, y))\n",
        "print (matrix_inverse(Xb, y, pseudo=True))\n",
        "print (normal_equations(Xb, y))"
      ]
    },
    {
      "cell_type": "code",
      "execution_count": null,
      "metadata": {
        "id": "i_aOc54LrGBI",
        "outputId": "150eab82-2dc0-43a0-8c9d-f3ca1face8bd"
      },
      "outputs": [
        {
          "data": {
            "text/plain": [
              "array([[6.575, 1.   ],\n",
              "       [6.421, 1.   ],\n",
              "       [7.185, 1.   ],\n",
              "       ...,\n",
              "       [6.976, 1.   ],\n",
              "       [6.794, 1.   ],\n",
              "       [6.03 , 1.   ]])"
            ]
          },
          "execution_count": 43,
          "metadata": {},
          "output_type": "execute_result"
        }
      ],
      "source": [
        "Xb"
      ]
    },
    {
      "cell_type": "markdown",
      "metadata": {
        "id": "op-hx1qcrGBJ"
      },
      "source": [
        "# 경사하강법"
      ]
    },
    {
      "cell_type": "markdown",
      "metadata": {
        "id": "xtY0OPcGrGBJ"
      },
      "source": [
        "![image.png](attachment:image.png)"
      ]
    },
    {
      "cell_type": "code",
      "execution_count": null,
      "metadata": {
        "id": "czxtIIe8rGBJ"
      },
      "outputs": [],
      "source": [
        "observations = len(dataset)\n",
        "X  = dataset['RM'].values.reshape((observations,1)) # X should be always a matrix, never a vector\n",
        "X = np.column_stack((X,np.ones(observations))) # We add the bias\n",
        "y  = dataset['target'].values # y can be a vector"
      ]
    },
    {
      "cell_type": "code",
      "execution_count": null,
      "metadata": {
        "id": "0UfAdk28rGBJ"
      },
      "outputs": [],
      "source": [
        "import random\n",
        "\n",
        "def random_w( p ):\n",
        "    return np.array([np.random.normal() for j in range(p)])\n",
        "\n",
        "def hypothesis(X,w):\n",
        "    return np.dot(X,w)\n",
        "\n",
        "def loss(X,w,y):\n",
        "    return hypothesis(X,w) - y\n",
        "\n",
        "def squared_loss(X,w,y):\n",
        "    return loss(X,w,y)**2\n",
        "\n",
        "def gradient(X,w,y):\n",
        "    gradients = list()\n",
        "    n = float(len( y ))\n",
        "    for j in range(len(w)):\n",
        "        gradients.append(np.sum(loss(X,w,y) * X[:,j]) / n)\n",
        "    return gradients\n",
        "\n",
        "def update(X,w,y, alpha=0.01):\n",
        "    return [t - alpha*g for t, g in zip(w, gradient(X,w,y))]\n",
        "\n",
        "def optimize(X,y, alpha=0.01, eta = 10**-12, iterations = 1000):\n",
        "    w = random_w(X.shape[1])\n",
        "    path = list()\n",
        "    for k in range(iterations):\n",
        "        SSL = np.sum(squared_loss(X,w,y))\n",
        "        new_w = update(X,w,y, alpha=alpha)\n",
        "        new_SSL = np.sum(squared_loss(X,new_w,y))\n",
        "        w = new_w\n",
        "        if k>=5 and (new_SSL - SSL <= eta and new_SSL - SSL >= -eta):\n",
        "            path.append(new_SSL)\n",
        "            return w, path\n",
        "        if k % (iterations / 20) == 0:\n",
        "            path.append(new_SSL)\n",
        "    return w, path\n",
        "\n"
      ]
    },
    {
      "cell_type": "code",
      "execution_count": null,
      "metadata": {
        "id": "-tzH-rC2rGBJ",
        "outputId": "5f843499-7d74-4901-a825-3ec2948ddea3"
      },
      "outputs": [
        {
          "name": "stdout",
          "output_type": "stream",
          "text": [
            "These are our final coefficients: [9.102103788009451, -34.67058774206589]\n",
            "Obtained walking on this path of squared loss [382347.1977645273, 23902.521961393577, 22496.563497364674, 22164.53379342263, 22086.12200024353, 22067.604351862785, 22063.23124307837, 22062.198494208365, 22061.954601298065, 22061.897003799368, 22061.88340163335, 22061.88018935983, 22061.879430752615, 22061.879251600716, 22061.87920929239, 22061.879199300893, 22061.879196941318, 22061.879196384078, 22061.879196252485, 22061.879196221405, 22061.879196218608]\n"
          ]
        }
      ],
      "source": [
        "alpha = 0.048\n",
        "w, path = optimize(X,y,alpha, eta = 10**-12, iterations = 25000)\n",
        "print (\"These are our final coefficients: %s\" % w)\n",
        "print (\"Obtained walking on this path of squared loss %s\" % path)\n",
        "\n",
        "# Just as a reminder, we previously estimated by other methods that\n",
        "# the best solution for our coefficients is w = [9.10210898, -34.67062078]"
      ]
    },
    {
      "cell_type": "markdown",
      "metadata": {
        "id": "-CXuZHcurGBK"
      },
      "source": [
        "# 정리\n",
        "* 역행렬을 이용하여 푸는 문제의 유일한 문제는 복잡성이다.\n",
        "* numpy의 역행렬을 구하는 함수의 시간 복잡도는 O(n^2)으로 추정할 수 있다.\n",
        "* 데이터의 건수가 1000개의 관측치로 작업을 진행할 경우 최악의 경우 10^9의 계산이 필요하다.\n",
        "* 10^6의 관측치로 작업할 때는 회귀 문제에 대한 해결책을 찾는데 필요한 계산 횟수가 10^18로 증가할 수 있다.\n",
        "* 경사 하강법은 휠씬 적은 계산을 사용해 선형회귀분석의 비용 함수를 최소화할 수 있는 기법이다.\n",
        "* 경사 하강법의 시간 복잡도는 O(n*p), n은 관측치, p는 변수의 수이다. 그렇기 때문에 회귀계수의 구현이 가능하다."
      ]
    },
    {
      "cell_type": "markdown",
      "metadata": {
        "id": "VF7M3EFerGBK"
      },
      "source": []
    }
  ],
  "metadata": {
    "kernelspec": {
      "display_name": "base",
      "language": "python",
      "name": "python3"
    },
    "language_info": {
      "codemirror_mode": {
        "name": "ipython",
        "version": 3
      },
      "file_extension": ".py",
      "mimetype": "text/x-python",
      "name": "python",
      "nbconvert_exporter": "python",
      "pygments_lexer": "ipython3",
      "version": "3.9.12"
    },
    "orig_nbformat": 4,
    "colab": {
      "provenance": [],
      "include_colab_link": true
    }
  },
  "nbformat": 4,
  "nbformat_minor": 0
}