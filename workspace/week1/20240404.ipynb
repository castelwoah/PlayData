{
  "cells": [
    {
      "cell_type": "markdown",
      "metadata": {
        "id": "view-in-github",
        "colab_type": "text"
      },
      "source": [
        "<a href=\"https://colab.research.google.com/github/castelwoah/PlayData/blob/main/workspace/week1/20240404.ipynb\" target=\"_parent\"><img src=\"https://colab.research.google.com/assets/colab-badge.svg\" alt=\"Open In Colab\"/></a>"
      ]
    },
    {
      "cell_type": "code",
      "execution_count": null,
      "id": "7ce3e750-3455-47c8-a76c-c830b7c23d76",
      "metadata": {
        "id": "7ce3e750-3455-47c8-a76c-c830b7c23d76",
        "outputId": "3ebff206-ddfc-4b57-a603-1be2d968ff69"
      },
      "outputs": [
        {
          "name": "stdout",
          "output_type": "stream",
          "text": [
            "Requirement already satisfied: webdriver_manager in c:\\users\\playdata\\miniconda3\\envs\\psw_py39\\lib\\site-packages (4.0.1)\n",
            "Requirement already satisfied: requests in c:\\users\\playdata\\miniconda3\\envs\\psw_py39\\lib\\site-packages (from webdriver_manager) (2.31.0)\n",
            "Requirement already satisfied: python-dotenv in c:\\users\\playdata\\miniconda3\\envs\\psw_py39\\lib\\site-packages (from webdriver_manager) (1.0.1)\n",
            "Requirement already satisfied: packaging in c:\\users\\playdata\\miniconda3\\envs\\psw_py39\\lib\\site-packages (from webdriver_manager) (23.2)\n",
            "Requirement already satisfied: charset-normalizer<4,>=2 in c:\\users\\playdata\\miniconda3\\envs\\psw_py39\\lib\\site-packages (from requests->webdriver_manager) (2.0.4)\n",
            "Requirement already satisfied: idna<4,>=2.5 in c:\\users\\playdata\\miniconda3\\envs\\psw_py39\\lib\\site-packages (from requests->webdriver_manager) (3.4)\n",
            "Requirement already satisfied: urllib3<3,>=1.21.1 in c:\\users\\playdata\\miniconda3\\envs\\psw_py39\\lib\\site-packages (from requests->webdriver_manager) (2.1.0)\n",
            "Requirement already satisfied: certifi>=2017.4.17 in c:\\users\\playdata\\miniconda3\\envs\\psw_py39\\lib\\site-packages (from requests->webdriver_manager) (2024.2.2)\n",
            "Note: you may need to restart the kernel to use updated packages.\n"
          ]
        }
      ],
      "source": [
        "pip install webdriver_manager"
      ]
    },
    {
      "cell_type": "code",
      "execution_count": null,
      "id": "e02869b5-3f72-4e12-9ea0-625ad826108a",
      "metadata": {
        "id": "e02869b5-3f72-4e12-9ea0-625ad826108a"
      },
      "outputs": [],
      "source": [
        "from selenium import webdriver\n",
        "from webdriver_manager.chrome import ChromeDriverManager\n",
        "from selenium.webdriver.chrome.service import Service\n",
        "driver = webdriver.Chrome(service=Service(ChromeDriverManager(driver_version=\"123.0.6312.105\").install()))\n"
      ]
    },
    {
      "cell_type": "code",
      "execution_count": null,
      "id": "bfd1bf1c-bd5c-4f38-b021-bee13b3fac4f",
      "metadata": {
        "id": "bfd1bf1c-bd5c-4f38-b021-bee13b3fac4f"
      },
      "outputs": [],
      "source": [
        "driver.get(\"https://www.koreabaseball.com/\")"
      ]
    },
    {
      "cell_type": "code",
      "execution_count": null,
      "id": "e51121b0-43f9-4980-9755-f391209b470b",
      "metadata": {
        "id": "e51121b0-43f9-4980-9755-f391209b470b"
      },
      "outputs": [],
      "source": []
    },
    {
      "cell_type": "code",
      "execution_count": null,
      "id": "4a6a7753-36a8-40ee-8d0b-58c808024773",
      "metadata": {
        "id": "4a6a7753-36a8-40ee-8d0b-58c808024773",
        "outputId": "c82cd39d-197f-4bcb-bd30-3a3a556881e4"
      },
      "outputs": [
        {
          "data": {
            "text/plain": [
              "'<html lang=\"ko\"><head><title>\\n\\t선수 조회 | 선수 | KBO\\n</title><meta http-equiv=\"Content-Type\" content=\"text/html; charset=utf-8\"><meta http-equiv=\"Content-Script-Type\" content=\"text/javascript\"><meta http-equiv=\"Content-Style-Type\" content=\"text/css\"><meta http-equiv=\"X-UA-Compatible\" content=\"IE=edge, Chrome\"><meta name=\"title\" content=\"KBO\"><meta name=\"author\" content=\"스포츠투아이\"><meta name=\"keywords\" content=\"KBO, 한국야구위원회, 프로야구, KBO 리그, 퓨처스리그, 프로야구순위, 프로야구 일정\"><meta name=\"viewport\" content=\"width=1200\">\\n    <!-- OG -->\\n    <meta property=\"og:type\" content=\"website\"><meta property=\"og:title\" content=\"KBO 홈페이지\"><meta property=\"og:description\" content=\"KBO, 한국야구위원회, 프로야구, KBO 리그, 퓨처스리그, 프로야구순위, 프로야구 일정\"><meta property=\"og:image\" content=\"https://lgcxydabfbch3774324.cdn.ntruss.com/KBO_IMAGE/KBOHome/resources/images/common/open_graph_kbo_2022.png\"><meta property=\"og:url\" content=\"https://www.koreabaseball.com/\">\\n\\n\\t<link rel=\"shortcut icon\" type=\"image/x-icon\" href=\"//lgcxydabfbch3774324.cdn.ntruss.com/KBO_IMAGE/KBOHome/resources/images/common/favicon.ico\">\\n    <link rel=\"stylesheet\" type=\"text/css\" href=\"/resources/min/css/font.min.css?version=20240327 %>\">\\n\\t<link rel=\"stylesheet\" type=\"text/css\" href=\"//lgcxydabfbch3774324.cdn.ntruss.com/KBO_IMAGE/KBOHome/resources/min/css/reset.min.css?version=20240327\">\\n\\t<link rel=\"stylesheet\" type=\"text/css\" href=\"//lgcxydabfbch3774324.cdn.ntruss.com/KBO_IMAGE/KBOHome/resources/min/css/common.min.css?version=20240327\">\\n\\t<link rel=\"stylesheet\" type=\"text/css\" href=\"//lgcxydabfbch3774324.cdn.ntruss.com/KBO_IMAGE/KBOHome/resources/min/css/layout.min.css?version=20240327\">\\n\\t<link rel=\"stylesheet\" type=\"text/css\" href=\"//lgcxydabfbch3774324.cdn.ntruss.com/KBO_IMAGE/KBOHome/resources/min/css/contents.min.css?version=20240327\">\\n    <link rel=\"stylesheet\" type=\"text/css\" href=\"//lgcxydabfbch3774324.cdn.ntruss.com/KBO_IMAGE/KBOHome/resources/min/css/jquery-ui.min.css?version=20240327\">\\n    <link rel=\"stylesheet\" type=\"text/css\" href=\"//lgcxydabfbch3774324.cdn.ntruss.com/KBO_IMAGE/KBOHome/resources/min/css/jquery-ui-theme.min.css?version=20240327\">\\n\\t<link rel=\"stylesheet\" type=\"text/css\" href=\"//lgcxydabfbch3774324.cdn.ntruss.com/KBO_IMAGE/KBOHome/resources/min/css/jquery.bxslider.min.css?version=20240327\">\\n\\n\\t<script type=\"text/javascript\" async=\"\" src=\"https://www.google-analytics.com/analytics.js\"></script><script type=\"text/javascript\" async=\"\" src=\"https://www.googletagmanager.com/gtag/js?id=G-L70ZGXMJEC&amp;l=dataLayer&amp;cx=c\"></script><script async=\"\" src=\"https://www.googletagmanager.com/gtm.js?id=GTM-K3BL64Q\"></script><script type=\"text/javascript\" charset=\"utf-8\" src=\"//lgcxydabfbch3774324.cdn.ntruss.com/KBO_IMAGE/KBOHome/resources/min/js/jquery-1.12.4.min.js?version=20240318\"></script>\\n    <script type=\"text/javascript\" charset=\"utf-8\" src=\"//lgcxydabfbch3774324.cdn.ntruss.com/KBO_IMAGE/KBOHome/resources/min/js/jquery-migrate-1.1.1.min.js?version=20240318\"></script>\\n    <script type=\"text/javascript\" charset=\"utf-8\" src=\"//lgcxydabfbch3774324.cdn.ntruss.com/KBO_IMAGE/KBOHome/resources/min/js/jquery-ui.min.js?version=20240318\"></script>\\n\\t<script type=\"text/javascript\" charset=\"utf-8\" src=\"//lgcxydabfbch3774324.cdn.ntruss.com/KBO_IMAGE/KBOHome/resources/min/js/jquery.bxslider.min.js?version=20240318\"></script>\\n    <script type=\"text/javascript\" charset=\"utf-8\" src=\"//lgcxydabfbch3774324.cdn.ntruss.com/KBO_IMAGE/KBOHome/resources/min/js/jquery.ui.datepicker-ko.min.js?version=20240318\"></script>\\n    <script type=\"text/javascript\" charset=\"utf-8\" src=\"//lgcxydabfbch3774324.cdn.ntruss.com/KBO_IMAGE/KBOHome/resources/min/js/S2i.Common-1.0.1.min.js?version=20240318\"></script>\\n    <script type=\"text/javascript\" charset=\"utf-8\" src=\"//lgcxydabfbch3774324.cdn.ntruss.com/KBO_IMAGE/KBOHome/resources/min/js/S2i.Paging-1.0.8.min.js?version=20240318\"></script>\\n\\t<script type=\"text/javascript\" charset=\"utf-8\" src=\"//lgcxydabfbch3774324.cdn.ntruss.com/KBO_IMAGE/KBOHome/resources/min/js/common.min.js?version=20240318\"></script>\\n    <script type=\"text/javascript\" charset=\"utf-8\" src=\"//lgcxydabfbch3774324.cdn.ntruss.com/KBO_IMAGE/KBOHome/resources/min/js/S2i.MakeTable-1.0.3.min.js?version=20240318\"></script>\\n    <script type=\"text/javascript\" charset=\"utf-8\" src=\"//lgcxydabfbch3774324.cdn.ntruss.com/KBO_IMAGE/KBOHome/resources/min/js/bTogether.min.js?version=20240318\"></script>\\n    \\n\\t<!--—[if lt IE 9]-->\\n\\t\\t<script src=\"//lgcxydabfbch3774324.cdn.ntruss.com/KBO_IMAGE/KBOHome/resources/min/js/html5shiv.min.js?version=20240318\"></script>\\n\\t<!--[endif]—-->\\n\\t<!-- Google Tag Manager -->\\n\\t<script>\\n\\t\\t(function (w, d, s, l, i) {\\n\\t\\t\\tw[l] = w[l] || []; w[l].push({\\n\\t\\t\\t\\t\\'gtm.start\\':\\n\\t\\t\\t\\t\\tnew Date().getTime(), event: \\'gtm.js\\'\\n\\t\\t\\t}); var f = d.getElementsByTagName(s)[0],\\n\\t\\t\\t\\tj = d.createElement(s), dl = l != \\'dataLayer\\' ? \\'&l=\\' + l : \\'\\'; j.async = true; j.src =\\n\\t\\t\\t\\t\\t\\'https://www.googletagmanager.com/gtm.js?id=\\' + i + dl; f.parentNode.insertBefore(j, f);\\n\\t\\t})(window, document, \\'script\\', \\'dataLayer\\', \\'GTM-K3BL64Q\\');\\n\\n        $(document).ready(function () {\\n            var jbOffset = $(\\'.lnb-wrap\\').offset();\\n            $(window).scroll(function () {\\n                if ($(document).scrollTop() > jbOffset.top) {\\n                    $(\\'.lnb-wrap\\').addClass(\\'fixed\\');\\n                }\\n                else {\\n                    $(\\'.lnb-wrap\\').removeClass(\\'fixed\\');\\n                }\\n            });\\n        });\\n    </script>\\n\\t<!-- End Google Tag Manager -->\\n    \\n    <link rel=\"stylesheet\" type=\"text/css\" href=\"//lgcxydabfbch3774324.cdn.ntruss.com/KBO_IMAGE/KBOHome/resources/min/css/sub.min.css?version=20240327\">\\n    \\n\\t<link type=\"text/css\" rel=\"stylesheet\" href=\"//lgcxydabfbch3774324.cdn.ntruss.com/KBO_IMAGE/KBOHome/resources/min/css/player.min.css?version=20240327\">\\n\\n\\n<meta http-equiv=\"origin-trial\" content=\"AymqwRC7u88Y4JPvfIF2F37QKylC04248hLCdJAsh8xgOfe/dVJPV3XS3wLFca1ZMVOtnBfVjaCMTVudWM//5g4AAAB7eyJvcmlnaW4iOiJodHRwczovL3d3dy5nb29nbGV0YWdtYW5hZ2VyLmNvbTo0NDMiLCJmZWF0dXJlIjoiUHJpdmFjeVNhbmRib3hBZHNBUElzIiwiZXhwaXJ5IjoxNjk1MTY3OTk5LCJpc1RoaXJkUGFydHkiOnRydWV9\"></head>\\n<body>\\n\\t<!-- Google Tag Manager (noscript) -->\\n\\t<noscript><iframe src=\"https://www.googletagmanager.com/ns.html?id=GTM-K3BL64Q\"\\n\\theight=\"0\" width=\"0\" style=\"display:none;visibility:hidden\"></iframe></noscript>\\n\\t<!-- End Google Tag Manager (noscript) -->\\n    <form method=\"post\" action=\"./Search.aspx\" id=\"mainForm\">\\n<div class=\"aspNetHidden\">\\n<input type=\"hidden\" name=\"__EVENTTARGET\" id=\"__EVENTTARGET\" value=\"\">\\n<input type=\"hidden\" name=\"__EVENTARGUMENT\" id=\"__EVENTARGUMENT\" value=\"\">\\n<input type=\"hidden\" name=\"__LASTFOCUS\" id=\"__LASTFOCUS\" value=\"\">\\n<input type=\"hidden\" name=\"__VIEWSTATE\" id=\"__VIEWSTATE\" value=\"/wEPDwUKMTg2NjUyOTUxOA9kFgJmD2QWAmYPZBYCZg9kFgICAQ9kFgJmD2QWAgIBD2QWAgIDD2QWAgICD2QWAmYPZBYIZg8QDxYGHg1EYXRhVGV4dEZpZWxkBQhGSVJTVF9OTR4ORGF0YVZhbHVlRmllbGQFBFRfSUQeC18hRGF0YUJvdW5kZ2QQFQsK7YyAIOyEoO2DnQbtlZztmZQDS0lBA1NTRwJOQwJMRwbtgqTsm4AG65GQ7IKwBuuhr+uNsAbsgrzshLECS1QVCwACSEgCSFQCU0sCTkMCTEcCV08CT0ICTFQCU1MCS1QUKwMLZ2dnZ2dnZ2dnZ2cWAWZkAgEPEGRkFgFmZAICDw9kFgIeCm9ua2V5cHJlc3MFeWlmKGV2ZW50LmtleUNvZGUgPT0gMTMpe19fZG9Qb3N0QmFjaygnY3RsMDAkY3RsMDAkY3RsMDAkY3BoQ29udGVudHMkY3BoQ29udGVudHMkY3BoQ29udGVudHMkYnRuU2VhcmNoJywnJyk7cmV0dXJuIGZhbHNlO31kAgUPDxYGHglQYWdlSW5kZXgFATEeCFBhZ2VTaXplBQIyMB4NVG90YWxSb3dDb3VudGZkFhwCAQ8PFgIeB1Zpc2libGVoZGQCAw8PFgIfB2hkZAIFDw8WBh4EVGV4dAUBMR4IQ3NzQ2xhc3MFAm9uHgRfIVNCAgJkZAIHDw8WCB8IBQEyHwllHwoCAh8HaGRkAgkPDxYIHwgFATMfCWUfCgICHwdoZGQCCw8PFggfCAUBNB8JZR8KAgIfB2hkZAINDw8WCB8IBQE1HwllHwoCAh8HaGRkAg8PDxYGHwllHwoCAh8HaGRkAhEPDxYGHwllHwoCAh8HaGRkAhMPDxYGHwllHwoCAh8HaGRkAhUPDxYGHwllHwoCAh8HaGRkAhcPDxYGHwllHwoCAh8HaGRkAhkPDxYCHwdoZGQCGw8PFgIfB2hkZGRlbENCvN5P6S7tf0Zqbemn/HTqvnKhmJ8om+wMlp4lgA==\">\\n</div>\\n\\n<script type=\"text/javascript\">\\n//<![CDATA[\\nvar theForm = document.forms[\\'mainForm\\'];\\nif (!theForm) {\\n    theForm = document.mainForm;\\n}\\nfunction __doPostBack(eventTarget, eventArgument) {\\n    if (!theForm.onsubmit || (theForm.onsubmit() != false)) {\\n        theForm.__EVENTTARGET.value = eventTarget;\\n        theForm.__EVENTARGUMENT.value = eventArgument;\\n        theForm.submit();\\n    }\\n}\\n//]]>\\n</script>\\n\\n\\n<script src=\"/WebResource.axd?d=olnV6V0NxhTPpnGME-bNNQ6pi75OV_deSGeqFxpioAx0cQkwDM2mNvhy4kTxbV6cPswqqmdks9Vwl__B9jsMMXiuRyr-_P1xLqWVz_rHh381&amp;t=638403948553933774\" type=\"text/javascript\"></script>\\n\\n\\n<script src=\"/ScriptResource.axd?d=eLqvTZrSDFtYbPijNtyjIT6CVEgjpBaYOXOadsXTlFHYXIHUwPYcJXQzz3Z7lykZBuXl4A9Xj7n7yBoZ8IStMlsNtFc27j6WGyPVl81XsDWWuDpDofyRThhVLkxWNlX4IqkhRSTznXpsTOu2gxjlxeLlbk_PmW_CInh0qHnCDMiBW3zvAHoQSIWpasgKujn20&amp;t=3cf0aaa4\" type=\"text/javascript\"></script>\\n<script type=\"text/javascript\">\\n//<![CDATA[\\nif (typeof(Sys) === \\'undefined\\') throw new Error(\\'ASP.NET Ajax 클라이언트 쪽 프레임워크를 로드하지 못했습니다.\\');\\n//]]>\\n</script>\\n\\n<script src=\"/ScriptResource.axd?d=IOnAAAPDuS0PgKHiQk14EYOCdHyPkTAcqSpwegGFc2wfv36lCYBem21UeaNPPaoqZzGNcLB1DcP-3rWrTJ3u4SE4LCAC1YeyOhhg1dfzQudQM2Ecd2jpkeCyI_GYwC1nB5MKkkRs_7ZKlw9FY-9FKGquBfoJ5VCgagj_zlARsUNlnLMfPW9BV7Ix6pqzesGE0&amp;t=3cf0aaa4\" type=\"text/javascript\"></script>\\n<div class=\"aspNetHidden\">\\n\\n\\t<input type=\"hidden\" name=\"__VIEWSTATEGENERATOR\" id=\"__VIEWSTATEGENERATOR\" value=\"6942A5F7\">\\n\\t<input type=\"hidden\" name=\"__EVENTVALIDATION\" id=\"__EVENTVALIDATION\" value=\"/wEdABXX0kHSt1LaEkWD/dZ7ZqIlqUK6+mRsdxhnNCA+WG212kNgeBSbNKLKcKTg82HGZ5NVZUXxd/uiJhLNEa+9Xxmnq4ym2DyQjvtJtTj77nmU2SWPyJkVhvXuOBYs5qqOoCkBG/Pf3I75C3rKX8xVtEwoiVx6kVF0VGZJQWZrhVqbDXQgPm7fZa70OwZ7d7Dp1WD6RDwCo8sThGuE7pkUKp4ELFTyRKjJp7D7xwfXSCRqX+YV1RayUE7lu2lnIyp2EXiuz8ymDRyZ9YseNRvSITkLYsasFt+7FfwAs6g8a36bapjfFDeu2NDc13pCkdcMGuGM1LdB1BdIShiN9H1skvV4F1JgdjTRh5oeAN6Yg5M8ELpmrE3ZItDca36f0/kynHQIcBFwjnAKA7Co0KA6ls0JuuwNcLXb9Hf3j9q4Bnx0xSIEsp38v5tQJGTakYgKU9E2Tf5SdzgwDnnmUIUE47JLSG/AbS+d3x9CxKPJsqvhGw==\">\\n</div>\\n\\t    <!-- wrap -->\\n\\t    <div id=\"wrap\">\\n\\t\\t    <!-- header -->\\n\\t\\t    <header>\\t\\n\\t\\t\\t    <div id=\"gnb\" class=\"bgf3\">\\n\\t\\t\\t\\t    <div class=\"gnb-wrap\">\\n\\t\\t\\t\\t\\t\\t\\n\\t\\t\\t\\t\\t\\t\\n\\t\\t\\t\\t\\t    <ul class=\"menu\">\\n                            \\n\\t\\t\\t\\t\\t\\t    <li><a href=\"/Member/Login.aspx\">로그인</a></li>\\n                            <li><a href=\"/Member/Join/Accessterms.aspx\">회원가입</a></li>\\n                            \\n\\t\\t\\t\\t\\t\\t    <li><a href=\"http://eng.koreabaseball.com/\">ENGLISH</a></li>\\t\\t\\t\\t\\t\\t\\n\\t\\t\\t\\t\\t    </ul>\\n\\t\\t\\t\\t\\t    <div class=\"search-area\">\\n\\t\\t\\t\\t\\t\\t    <div class=\"search-box\">\\n\\t\\t\\t\\t\\t\\t\\t    <input class=\"ipt-search\" type=\"text\" id=\"txtTopPlayerWord\" placeholder=\"선수 검색하기\">\\n\\t\\t\\t\\t\\t\\t\\t    <a href=\"#none;\" id=\"btnTopPlayerSearch\" class=\"btn-search\"><img src=\"//lgcxydabfbch3774324.cdn.ntruss.com/KBO_IMAGE/KBOHome/resources/images/common/btn_search.png\" alt=\"검색\"></a>\\n\\t\\t\\t\\t\\t\\t    </div>\\n\\t\\t\\t\\t\\t\\t    <div id=\"player_search_area\" class=\"search-result\">\\n\\t\\t\\t\\t\\t\\t\\t    <!-- <p class=\"null\">검색 결과가 없습니다.</p> -->\\n\\t\\t\\t\\t\\t\\t\\t    \\n\\t\\t\\t\\t\\t\\t    </div>\\n\\t\\t\\t\\t\\t    </div>\\n\\t\\t\\t\\t    </div>\\n\\t\\t\\t    </div>\\n\\t\\t\\t    <div class=\"wrapping lnb-wrap\">\\n                    <div class=\"lnb-box\">\\n\\t\\t\\t\\t\\t\\t<h1 class=\"logo\"><a href=\"/Default.aspx\"><img src=\"//lgcxydabfbch3774324.cdn.ntruss.com/KBO_IMAGE/KBOHome/resources/images/common/h1_logo.png\" alt=\"\"></a></h1>\\n\\t\\t\\t\\t\\t\\t<nav>\\n\\t\\t\\t\\t\\t    <ul id=\"lnb\">\\n\\t\\t\\t\\t\\t\\t    <li>\\n\\t\\t\\t\\t\\t\\t\\t    <a href=\"/Schedule/Schedule.aspx\">일정・결과</a>\\n\\t\\t\\t\\t\\t\\t\\t    <div class=\"lnb-sub\">\\n\\t\\t\\t\\t\\t\\t\\t\\t    <ul class=\"lnb01\">\\n                                        <li><a href=\"/Schedule/Schedule.aspx\">경기일정・결과</a></li>\\n\\t\\t\\t\\t\\t\\t\\t\\t\\t    \\n\\t\\t\\t\\t\\t\\t\\t\\t\\t    <li><a href=\"/Schedule/GameCenter/Main.aspx\">게임센터</a></li>\\n\\t\\t\\t\\t\\t\\t\\t\\t\\t    <li><a href=\"/Schedule/ScoreBoard.aspx\">스코어보드</a></li>\\n                                        <li><a href=\"/Schedule/Allstar/Game/Main2023.aspx\">올스타전</a></li>\\n\\t\\t\\t\\t\\t\\t\\t\\t\\t    <li><a href=\"/Schedule/International/APBC/Main2023.aspx\">국제대회</a></li>\\n                                        <li><a href=\"/Schedule/Weather.aspx\">야구장 날씨</a></li>\\n\\t\\t\\t\\t\\t\\t\\t\\t    </ul>\\n\\t\\t\\t\\t\\t\\t\\t    </div>\\n\\t\\t\\t\\t\\t\\t    </li>\\n\\t\\t\\t\\t\\t\\t    <li>\\n\\t\\t\\t\\t\\t\\t\\t    <a href=\"/Record/Player/HitterBasic/Basic1.aspx?sort=HRA_RT\">기록・순위</a>\\n\\t\\t\\t\\t\\t\\t\\t    <div class=\"lnb-sub\">\\n\\t\\t\\t\\t\\t\\t\\t\\t    <ul class=\"lnb02\">\\n\\t\\t\\t\\t\\t\\t\\t\\t\\t    <li><a href=\"/Record/Player/HitterBasic/Basic1.aspx?sort=HRA_RT\">기록실</a></li>\\n\\t\\t\\t\\t\\t\\t\\t\\t\\t    <li><a href=\"/Record/TeamRank/TeamRankDaily.aspx\">팀 순위</a></li>\\n\\t\\t\\t\\t\\t\\t\\t\\t\\t    <li><a href=\"/Record/Ranking/Top5.aspx\">선수 순위</a></li>\\n\\t\\t\\t\\t\\t\\t\\t\\t\\t    <li><a href=\"/Record/History/Top/Hitter.aspx\">역대 기록</a></li>\\n                                        <li><a href=\"/Record/Expectation/WeekList.aspx\">예상 달성 기록</a></li>\\n\\t\\t\\t\\t\\t\\t\\t\\t\\t\\t<li><a href=\"/Record/RecordCorrect/RecordCorrect.aspx\">기록 정정 현황</a></li>\\n\\t\\t\\t\\t\\t\\t\\t\\t\\t\\t<li><a href=\"/Record/Crowd/GraphTeam.aspx\">관중 현황</a></li>\\n\\t\\t\\t                            \\n\\t\\t\\t\\t\\t\\t\\t\\t    </ul>\\n\\t\\t\\t\\t\\t\\t\\t    </div>\\n\\t\\t\\t\\t\\t\\t    </li>\\n\\t\\t\\t\\t\\t\\t    <li>\\n\\t\\t\\t\\t\\t\\t\\t    <a href=\"/Player/Search.aspx\">선수</a>\\n\\t\\t\\t\\t\\t\\t\\t    <div class=\"lnb-sub\">\\n\\t\\t\\t\\t\\t\\t\\t\\t    <ul class=\"lnb04\">\\n\\t\\t\\t\\t\\t\\t\\t\\t\\t    <li><a href=\"/Player/Search.aspx\">선수 조회</a></li>\\n\\t\\t\\t\\t\\t\\t\\t\\t\\t    <li><a href=\"/Player/Register.aspx\">선수 등록 현황</a></li>\\n\\t\\t\\t\\t\\t\\t\\t\\t\\t\\t<li><a href=\"/Player/Trade.aspx\">선수 이동 현황</a></li>\\n\\t\\t\\t\\t\\t\\t\\t\\t\\t\\t<li><a href=\"/Player/Awards/PlayerPrize.aspx\">수상 현황</a></li>\\n\\t\\t\\t\\t\\t\\t\\t\\t\\t\\t<li><a href=\"/Player/Legend40.aspx\">레전드 40</a></li>\\n\\t\\t\\t\\t\\t\\t\\t\\t\\t    <li><a href=\"/Player/CareerCertificate.aspx\">경력증명서 신청</a></li>\\n\\n\\t\\t\\t\\t\\t\\t\\t\\t\\t    \\n\\t\\t\\t\\t\\t\\t\\t\\t\\t\\t\\n\\t\\t\\t\\t\\t\\t\\t\\t\\t\\t\\n\\t\\t\\t\\t\\t\\t\\t\\t    </ul>\\n\\t\\t\\t\\t\\t\\t\\t    </div>\\n\\t\\t\\t\\t\\t\\t    </li>\\t\\t\\t\\t\\t\\t    \\n\\t\\t\\t\\t\\t\\t    <li>\\n\\t\\t\\t\\t\\t\\t\\t    <a href=\"/MediaNews/Highlight/List.aspx\">미디어・뉴스</a>\\n\\t\\t\\t\\t\\t\\t\\t    <div class=\"lnb-sub\">\\n\\t\\t\\t\\t\\t\\t\\t\\t    <ul class=\"lnb05\">\\n\\t\\t\\t\\t\\t\\t\\t\\t\\t\\t<li><a href=\"/MediaNews/Highlight/List.aspx\">하이라이트</a></li>\\n\\t\\t\\t\\t\\t\\t\\t\\t\\t\\t<li><a href=\"/MediaNews/News/BreakingNews/List.aspx\">뉴스</a></li>\\n\\t\\t\\t\\t\\t\\t\\t\\t\\t\\t<li><a href=\"/MediaNews/Notice/List.aspx\">KBO 보도자료</a></li>\\n\\t\\t\\t\\t\\t\\t\\t\\t\\t\\t\\n\\t\\t\\t\\t\\t\\t\\t\\t\\t\\t<li><a href=\"/MediaNews/UbivMarketer/VideoList.aspx\">대학생 마케터</a></li>\\n\\t\\t\\t\\t\\t\\t\\t\\t\\t\\t\\n\\t\\t\\t\\t\\t\\t\\t\\t\\t\\t\\n\\t\\t\\t\\t\\t\\t\\t\\t\\t\\t\\n                                        \\n\\t\\t\\t\\t\\t\\t\\t\\t\\t</ul>\\n\\t\\t\\t\\t\\t\\t\\t    </div>\\n\\t\\t\\t\\t\\t\\t    </li>\\n\\t\\t\\t\\t\\t\\t    <li>\\n\\t\\t\\t\\t\\t\\t\\t    <a href=\"javascript:;\">KBO</a>\\n\\t\\t\\t\\t\\t\\t\\t    <div class=\"lnb-sub lnb-style-all\">\\n\\t\\t\\t\\t\\t\\t\\t\\t    <div class=\"wrapping lnb-all-wrap\" style=\"width:713px;\">\\n\\t\\t\\t\\t\\t\\t\\t\\t\\t    <h3>KBO</h3>\\n\\t\\t\\t\\t\\t\\t\\t\\t\\t    <div class=\"lnb-all kbo01\">\\n\\t\\t\\t\\t\\t\\t\\t\\t\\t\\t    <h4>KBO 리그</h4>\\n\\t\\t\\t\\t\\t\\t\\t\\t\\t\\t    <ul>\\n\\t\\t\\t\\t\\t\\t\\t\\t\\t\\t\\t    <li><a href=\"/Kbo/League/GameManage2024.aspx\">2024 규정∙규칙 변화</a></li>\\n\\t\\t\\t\\t\\t\\t\\t\\t\\t\\t\\t    <li><a href=\"/Kbo/League/GameManageRule/GameManage.aspx\">경기운영제도</a></li>\\n\\t\\t\\t\\t\\t\\t\\t\\t\\t\\t\\t\\t<li><a href=\"/Kbo/League/TeamInfo.aspx\">구단 소개</a></li>\\n\\t\\t\\t\\t\\t\\t\\t\\t\\t\\t\\t    <li><a href=\"/Kbo/League/TeamHistory.aspx\">구단 변천사</a></li>\\n\\t\\t\\t\\t\\t\\t\\t\\t\\t\\t\\t\\t<li><a href=\"/Kbo/League/Map.aspx\">티켓 안내</a></li>\\n\\t\\t\\t\\t\\t\\t\\t\\t\\t\\t    </ul>\\n\\t\\t\\t\\t\\t\\t\\t\\t\\t    </div>\\n\\t\\t\\t\\t\\t\\t\\t\\t\\t    <div class=\"lnb-all kbo02\">\\n\\t\\t\\t\\t\\t\\t\\t\\t\\t\\t    <h4>게시판</h4>\\n\\t\\t\\t\\t\\t\\t\\t\\t\\t\\t    <ul>\\n\\t\\t\\t\\t\\t\\t\\t\\t\\t\\t\\t    <li><a href=\"/Kbo/Board/Notice/List.aspx\">NOTICE</a></li>\\n\\t\\t\\t\\t\\t\\t\\t\\t\\t\\t\\t    <li><a href=\"/Kbo/Board/Faqs/List.aspx\">자주 하는 질문</a></li>\\n\\t\\t\\t\\t\\t\\t\\t\\t\\t\\t\\t\\t<li><a href=\"/Kbo/Board/Ebook/EbookPublication.aspx\">규정・자료실</a></li>\\n\\n\\t\\t\\t\\t\\t\\t\\t\\t\\t\\t\\t    \\n\\t\\t\\t\\t\\t\\t\\t\\t\\t\\t\\t    \\n\\t\\t\\t\\t\\t\\t\\t\\t\\t\\t\\t    \\n\\t\\t\\t\\t\\t\\t\\t\\t\\t\\t\\t\\t\\n\\t\\t\\t\\t\\t\\t\\t\\t\\t\\t\\t\\t\\n\\t\\t\\t\\t\\t\\t\\t\\t\\t\\t\\t\\t\\n\\t\\t\\t\\t\\t\\t\\t\\t\\t\\t\\t\\t\\n\\t\\t\\t\\t\\t\\t\\t\\t\\t\\t\\t\\t\\n\\t\\t\\t\\t\\t\\t\\t\\t\\t\\t\\t\\t\\n\\t\\t\\t\\t\\t\\t\\t\\t\\t\\t\\t    \\n\\t\\t\\t\\t\\t\\t\\t\\t\\t\\t\\t    \\n\\t\\t\\t\\t\\t\\t\\t\\t\\t\\t\\t    \\n\\t\\t\\t\\t\\t\\t\\t\\t\\t\\t\\t    \\n\\t\\t\\t\\t\\t\\t\\t\\t\\t\\t\\t    \\n\\t\\t\\t\\t\\t\\t\\t\\t\\t\\t    </ul>\\n\\t\\t\\t\\t\\t\\t\\t\\t\\t    </div>\\t\\n\\t\\t\\t\\t\\t\\t\\t\\t\\t    <div class=\"lnb-all kbo03\">\\n\\t\\t\\t\\t\\t\\t\\t\\t\\t\\t    <h4>ABOUT KBO</h4>\\n\\t\\t\\t\\t\\t\\t\\t\\t\\t\\t    <ul>\\n\\t\\t\\t\\t\\t\\t\\t\\t\\t\\t\\t\\t<li><a href=\"/Kbo/AboutKbo/GroupAndActivity.aspx\">조직・활동</a></li>\\n\\t\\t\\t\\t\\t\\t\\t\\t\\t\\t\\t\\t<li><a href=\"/Kbo/AboutKbo/Logo/Logo.aspx\">KBO 로고</a></li>\\n\\t\\t\\t\\t\\t\\t\\t\\t\\t\\t\\t\\t<li><a href=\"/Kbo/AboutKbo/Committee/OrganizationChart.aspx\">기록위원회</a></li>\\n\\t\\t\\t\\t\\t\\t\\t\\t\\t\\t\\t\\t<li><a href=\"/Kbo/AboutKbo/MedicalCommittee/MedicalOrganization.aspx\">의무위원회</a></li>\\n                                                \\n\\t\\t\\t\\t\\t\\t\\t\\t\\t\\t\\t    \\n                                                \\n\\t\\t\\t\\t\\t\\t\\t\\t\\t\\t    </ul>\\n\\t\\t\\t\\t\\t\\t\\t\\t\\t    </div>\\t\\n\\t\\t\\t\\t\\t\\t\\t\\t\\t    <div class=\"lnb-all kbo04\">\\n\\t\\t\\t\\t\\t\\t\\t\\t\\t\\t    <h4>주요 사업・행사</h4>\\n\\t\\t\\t\\t\\t\\t\\t\\t\\t\\t    <ul>\\n\\t\\t\\t\\t\\t\\t\\t\\t\\t\\t\\t\\t\\n\\t\\t\\t\\t\\t\\t\\t\\t\\t\\t\\t\\t<li class=\"lnbMedia\"><a href=\"/Kbo/BusinessAndEvent/MediaDay.aspx\">미디어데이&amp;팬페스트</a></li>\\n\\t\\t\\t\\t\\t\\t\\t\\t\\t\\t\\t\\t\\n\\t\\t\\t\\t\\t\\t\\t\\t\\t\\t\\t\\t \\n\\t\\t\\t\\t\\t\\t\\t\\t\\t\\t\\t\\t<li><a href=\"/Kbo/BusinessAndEvent/SafeGuide.aspx\">KBO 경기장 안전정책</a></li>\\n\\t\\t\\t\\t\\t\\t\\t\\t\\t\\t\\t\\t \\n\\t\\t\\t\\t\\t\\t\\t\\t\\t\\t\\t\\t \\n\\n\\t\\t\\t\\t\\t\\t\\t\\t\\t\\t\\t                                                    \\n\\t\\t\\t\\t\\t\\t\\t\\t\\t\\t\\t    \\n\\t\\t\\t\\t\\t\\t\\t\\t\\t\\t\\t    \\n\\t\\t\\t\\t\\t\\t\\t\\t\\t\\t\\t\\t\\n\\n\\t\\t\\t\\t\\t\\t\\t\\t\\t\\t\\t\\t\\n\\t\\t\\t\\t                                \\n\\t\\t\\t\\t                                \\n\\t\\t\\t\\t\\t\\t\\t\\t\\t\\t    </ul>\\n\\t\\t\\t\\t\\t\\t\\t\\t\\t    </div>\\t\\n\\t\\t\\t\\t\\t\\t\\t\\t\\t    \\t\\n\\t\\t\\t\\t\\t\\t\\t\\t\\t    \\n\\t\\t\\t\\t\\t\\t\\t\\t    </div>\\n\\t\\t\\t\\t\\t\\t\\t\\t    \\n\\t\\t\\t\\t\\t\\t\\t    </div>\\n\\t\\t\\t\\t\\t\\t    </li>\\n\\t\\t\\t\\t\\t\\t\\t<li class=\"futures\">\\n\\t\\t\\t\\t\\t\\t\\t    <a href=\"/Futures/Main.aspx\">퓨처스리그</a>\\n\\t\\t\\t\\t\\t\\t\\t    <div class=\"lnb-sub\">\\n\\t\\t\\t\\t\\t\\t\\t\\t    <ul class=\"lnb06\">\\n\\t\\t\\t\\t\\t\\t\\t\\t\\t    <li><a href=\"/Futures/Schedule/GameList.aspx\">경기일정・결과</a></li>\\n\\t\\t\\t\\t\\t\\t\\t\\t\\t    <li><a href=\"/Futures/TeamRank/North.aspx\">팀 순위</a></li>\\n\\t\\t\\t\\t\\t\\t\\t\\t\\t    <li><a href=\"/Futures/Top/Main.aspx\">TOP5</a></li>\\n\\t\\t\\t\\t\\t\\t\\t\\t\\t    <li><a href=\"/Futures/Player/Hitter.aspx\">기록실</a></li>\\n\\t\\t\\t\\t\\t\\t\\t\\t\\t\\t<li><a href=\"/Futures/Player/Register.aspx\">선수 등록 현황</a></li>\\n\\t\\t\\t\\t\\t\\t\\t\\t\\t    \\n                                        \\n                                        \\n\\t\\t\\t\\t\\t\\t\\t\\t\\t    \\n\\t\\t\\t\\t\\t\\t\\t\\t\\t    \\t\\t\\t\\t\\t\\t\\t\\t\\t\\t\\n\\t\\t\\t\\t\\t\\t\\t\\t    </ul>\\n\\t\\t\\t\\t\\t\\t\\t    </div>\\t\\t\\t\\t\\t\\n\\t\\t\\t\\t\\t\\t    </li>\\n\\t\\t\\t\\t\\t\\t\\t<li id=\"market\" class=\"market\"><a href=\"https://www.kbomarket.com/\" target=\"_blank\">KBO 마켓</a></li>\\n\\t\\t\\t\\t\\t\\t\\t\\n\\t\\t\\t\\t\\t\\t\\t<li id=\"\" class=\"kbofont\" data-tab=\"KboFont\"><a href=\"/Reference/etc/KboFont.aspx\">KBO 폰트</a></li>\\n\\t\\t\\t\\t\\t\\t    <li id=\"lnbAll\">\\n\\t\\t\\t\\t\\t\\t\\t    <a href=\"javascript:;\">전체 메뉴</a>\\n\\t\\t\\t\\t\\t\\t\\t    <div class=\"lnb-sub lnb-style-all\">\\n\\t\\t\\t\\t\\t\\t\\t\\t    <div class=\"wrapping lnb-all-wrap\">\\n\\t\\t\\t\\t\\t\\t\\t\\t\\t    <div class=\"line line01\">\\n\\t\\t\\t\\t\\t\\t\\t\\t\\t\\t    <h3>전체 메뉴</h3>\\n\\t\\t\\t\\t\\t\\t\\t\\t\\t\\t    <div class=\"lnb-all menu01\">\\n\\t\\t\\t\\t\\t\\t\\t\\t\\t\\t\\t    <h4>일정・결과</h4>\\n\\t\\t\\t\\t\\t\\t\\t\\t\\t\\t\\t    <ul>\\n\\t\\t\\t\\t\\t\\t\\t\\t\\t\\t\\t\\t    <li><a href=\"/Schedule/Schedule.aspx\">경기일정・결과</a></li>\\n\\t\\t\\t\\t\\t\\t\\t\\t\\t\\t\\t\\t\\t\\n\\t\\t\\t\\t\\t\\t\\t\\t\\t\\t\\t\\t\\t<li><a href=\"/Schedule/GameCenter/Main.aspx\">게임센터</a></li>\\n\\t\\t\\t\\t\\t\\t\\t\\t\\t\\t\\t\\t\\t<li><a href=\"/Schedule/ScoreBoard.aspx\">스코어보드</a></li>\\n\\t\\t\\t\\t\\t\\t\\t\\t\\t\\t\\t\\t\\t<li><a href=\"/Schedule/Allstar/Game/Main2023.aspx\">올스타전</a></li>\\n\\t\\t\\t\\t\\t\\t\\t\\t\\t\\t\\t\\t\\t<li><a href=\"/Schedule/International/APBC/Main2023.aspx\">국제대회</a></li>\\n\\t\\t\\t\\t\\t\\t\\t\\t\\t\\t\\t\\t\\t<li><a href=\"/Schedule/Weather.aspx\">야구장 날씨</a></li>\\n\\t\\t\\t\\t\\t\\t\\t\\t\\t\\t\\t    </ul>\\n\\t\\t\\t\\t\\t\\t\\t\\t\\t\\t    </div>\\n\\t\\t\\t\\t\\t\\t\\t\\t\\t\\t    <div class=\"lnb-all menu02\">\\n\\t\\t\\t\\t\\t\\t\\t\\t\\t\\t\\t    <h4>기록・순위</h4>\\n\\t\\t\\t\\t\\t\\t\\t\\t\\t\\t\\t    <ul>\\n\\t\\t\\t\\t\\t\\t\\t\\t\\t\\t\\t\\t\\t<li><a href=\"/Record/Player/HitterBasic/BasicOld.aspx?sort=HRA_RT\">기록실</a></li>\\n\\t\\t\\t\\t\\t\\t\\t\\t\\t\\t\\t\\t\\t<li><a href=\"/Record/TeamRank/TeamRankDaily.aspx\">팀 순위</a></li>\\n\\t\\t\\t\\t\\t\\t\\t\\t\\t\\t\\t\\t\\t<li><a href=\"/Record/Ranking/Top5.aspx\">선수 순위</a></li>\\n\\t\\t\\t\\t\\t\\t\\t\\t\\t\\t\\t\\t\\t<li><a href=\"/Record/History/Top/Hitter.aspx\">역대 기록</a></li>\\n\\t\\t\\t\\t\\t\\t\\t\\t\\t\\t\\t\\t\\t<li><a href=\"/Record/Expectation/WeekList.aspx\">예상 달성 기록</a></li>\\n\\t\\t\\t\\t\\t\\t\\t\\t\\t\\t\\t\\t\\t<li><a href=\"/Record/RecordCorrect/RecordCorrect.aspx\">기록 정정 현황</a></li>\\n\\t\\t\\t\\t\\t\\t\\t\\t\\t\\t\\t\\t\\t<li><a href=\"/Record/Crowd/GraphTeam.aspx\">관중 현황</a></li>\\n\\t\\t\\t\\t\\t\\t\\t\\t\\t\\t\\t\\t\\t\\n\\t\\t\\t\\t\\t\\t\\t\\t\\t\\t\\t    </ul>\\n\\t\\t\\t\\t\\t\\t\\t\\t\\t\\t    </div>\\t\\n\\t\\t\\t\\t\\t\\t\\t\\t\\t\\t    <div class=\"lnb-all menu03\">\\n\\t\\t\\t\\t\\t\\t\\t\\t\\t\\t\\t    <h4>선수</h4>\\n\\t\\t\\t\\t\\t\\t\\t\\t\\t\\t\\t    <ul>\\n\\t\\t\\t\\t\\t\\t\\t\\t\\t\\t\\t\\t\\t<li><a href=\"/Player/Search.aspx\">선수 조회</a></li>\\n\\t\\t\\t\\t\\t\\t\\t\\t\\t\\t\\t\\t\\t<li><a href=\"/Player/Register.aspx\">선수 등록 현황</a></li>\\n\\t\\t\\t\\t\\t\\t\\t\\t\\t\\t\\t\\t\\t<li><a href=\"/Player/Trade.aspx\">선수 이동 현황</a></li>\\n\\t\\t\\t\\t\\t\\t\\t\\t\\t\\t\\t\\t\\t<li><a href=\"/Player/Awards/PlayerPrize.aspx\">수상 현황</a></li>\\n\\t\\t\\t\\t\\t\\t\\t\\t\\t\\t\\t\\t\\t<li><a href=\"/Player/Legend40.aspx\">레전드 40</a></li>\\n\\t\\t\\t\\t\\t\\t\\t\\t\\t\\t\\t\\t\\t<li><a href=\"/Player/CareerCertificate.aspx\">경력증명서 신청</a></li>\\n\\t\\t\\t\\t\\t\\t\\t\\t\\t\\t\\t    </ul>\\n\\t\\t\\t\\t\\t\\t\\t\\t\\t\\t    </div>\\t\\n\\t\\t\\t\\t\\t\\t\\t\\t\\t\\t    <div class=\"lnb-all menu04\">\\n\\t\\t\\t\\t\\t\\t\\t\\t\\t\\t\\t    <h4>미디어・뉴스</h4>\\n\\t\\t\\t\\t\\t\\t\\t\\t\\t\\t\\t    <ul>\\n\\t\\t\\t\\t\\t\\t\\t\\t\\t\\t\\t\\t    <li><a href=\"/MediaNews/Highlight/List.aspx\">하이라이트</a></li>\\n\\t\\t\\t\\t\\t\\t\\t\\t\\t\\t\\t\\t\\t<li><a href=\"/MediaNews/News/BreakingNews/List.aspx\">뉴스</a></li>\\n\\t\\t\\t\\t\\t\\t\\t\\t\\t\\t\\t\\t\\t<li><a href=\"/MediaNews/Notice/List.aspx\">KBO 보도자료</a></li>\\n\\t\\t\\t\\t\\t\\t\\t\\t\\t\\t\\t\\t\\t\\n\\t\\t\\t\\t\\t\\t\\t\\t\\t\\t\\t\\t\\t<li><a href=\"/MediaNews/UbivMarketer/VideoList.aspx\">대학생 마케터</a></li>\\n\\t\\t\\t\\t\\t\\t\\t\\t\\t\\t\\t\\t\\t\\n\\t\\t\\t\\t\\t\\t\\t\\t\\t\\t\\t\\t\\t\\n\\t\\t\\t\\t\\t\\t\\t\\t\\t\\t\\t\\t\\t\\n\\t\\t\\t\\t\\t\\t\\t\\t\\t\\t\\t\\t\\t\\n\\t\\t\\t\\t\\t\\t\\t\\t\\t\\t\\t    </ul>\\n\\t\\t\\t\\t\\t\\t\\t\\t\\t\\t    </div>\\t\\n\\t\\t\\t\\t\\t\\t\\t\\t\\t\\t    <div class=\"lnb-all menu05\">\\n\\t\\t\\t\\t\\t\\t\\t\\t\\t\\t\\t    <h4>퓨처스리그</h4>\\n\\t\\t\\t\\t\\t\\t\\t\\t\\t\\t\\t    <ul>\\n\\t\\t\\t\\t\\t\\t\\t\\t\\t\\t\\t\\t    <li><a href=\"/Futures/Schedule/GameList.aspx\">경기일정・결과</a></li>\\n\\t\\t\\t\\t\\t\\t\\t\\t\\t\\t\\t\\t    <li><a href=\"/Futures/TeamRank/North.aspx\">팀 순위</a></li>\\n\\t\\t\\t\\t\\t\\t\\t\\t\\t\\t\\t\\t    <li><a href=\"/Futures/Top/Main.aspx\">TOP5</a></li>\\n\\t\\t\\t\\t\\t\\t\\t\\t\\t\\t\\t\\t    <li><a href=\"/Futures/Player/Hitter.aspx\">기록실</a></li>\\n\\t\\t\\t\\t\\t\\t\\t\\t\\t\\t\\t\\t\\t<li><a href=\"/Futures/Player/Register.aspx\">선수 등록 현황</a></li>\\n\\t\\t\\t\\t\\t\\t\\t\\t\\t\\t\\t\\t    \\t\\t\\t\\t\\t\\t\\t\\t\\t\\t\\t\\t\\n\\t\\t\\t\\t\\t\\t\\t\\t\\t\\t\\t    </ul>\\n\\t\\t\\t\\t\\t\\t\\t\\t\\t\\t    </div>\\n\\t\\t\\t\\t\\t\\t\\t\\t\\t    </div>\\n\\t\\t\\t\\t\\t\\t\\t\\t\\t    <div class=\"line line02\">\\n\\t\\t\\t\\t\\t\\t\\t\\t\\t\\t    <h3>KBO</h3>\\n\\t\\t\\t\\t\\t\\t\\t\\t\\t\\t    <div class=\"lnb-all menu07\">\\n\\t\\t\\t\\t\\t\\t\\t\\t\\t\\t\\t    <h4>KBO 리그</h4>\\n\\t\\t\\t\\t\\t\\t\\t\\t\\t\\t\\t    <ul>\\n\\t\\t\\t\\t\\t\\t\\t\\t\\t\\t\\t\\t\\t<li><a href=\"/Kbo/League/GameManage2024.aspx\">2024 규정∙규칙 변화</a></li>\\n                                                    <li><a href=\"/Kbo/League/GameManageRule/GameManage.aspx\">경기운영제도</a></li>\\n\\t\\t\\t\\t\\t\\t\\t\\t\\t\\t\\t\\t\\t<li><a href=\"/Kbo/League/TeamInfo.aspx\">구단 소개</a></li>\\n\\t\\t\\t\\t\\t\\t\\t\\t\\t\\t\\t\\t\\t<li><a href=\"/Kbo/League/TeamHistory.aspx\">구단 변천사</a></li>\\n\\t\\t\\t\\t\\t\\t\\t\\t\\t\\t\\t\\t\\t<li><a href=\"/Kbo/League/Map.aspx\">티켓 안내</a></li>\\n\\t\\t\\t\\t\\t\\t\\t\\t\\t\\t\\t    </ul>\\n\\t\\t\\t\\t\\t\\t\\t\\t\\t\\t    </div>\\n\\t\\t\\t\\t\\t\\t\\t\\t\\t\\t    <div class=\"lnb-all menu08\">\\n\\t\\t\\t\\t\\t\\t\\t\\t\\t\\t\\t    <h4>게시판</h4>\\n\\t\\t\\t\\t\\t\\t\\t\\t\\t\\t\\t    <ul>\\n\\t\\t\\t\\t\\t\\t\\t\\t\\t\\t\\t\\t    <li><a href=\"/Kbo/Board/Notice/List.aspx\">NOTICE</a></li>\\n\\t\\t\\t\\t\\t\\t\\t\\t\\t\\t\\t\\t\\t<li><a href=\"/Kbo/Board/Faqs/List.aspx\">자주 하는 질문</a></li>\\n\\t\\t\\t\\t\\t\\t\\t\\t\\t\\t\\t\\t\\t<li><a href=\"/Kbo/Board/Ebook/EbookPublication.aspx\">규정・자료실</a></li>\\n\\t\\t\\t\\t\\t\\t\\t\\t\\t\\t\\t\\t\\t\\n\\t\\t\\t\\t\\t\\t\\t\\t\\t\\t\\t\\t\\t\\n\\t\\t\\t\\t\\t\\t\\t\\t\\t\\t\\t\\t\\t\\n\\t\\t\\t\\t\\t\\t\\t\\t\\t\\t\\t\\t\\t\\n\\t\\t\\t\\t\\t\\t\\t\\t\\t\\t\\t\\t\\t\\n\\t\\t\\t\\t\\t\\t\\t\\t\\t\\t\\t\\t\\t\\n\\t\\t\\t\\t\\t\\t\\t\\t\\t\\t\\t\\t\\t\\n\\t\\t\\t\\t\\t\\t\\t\\t\\t\\t\\t\\t\\t\\n\\t\\t\\t\\t\\t\\t\\t\\t\\t\\t\\t\\t\\t\\n\\t\\t\\t\\t\\t\\t\\t\\t\\t\\t\\t\\t\\t\\n\\t\\t\\t\\t\\t\\t\\t\\t\\t\\t\\t\\t\\t\\n\\t\\t\\t\\t\\t\\t\\t\\t\\t\\t\\t\\t\\t\\n\\t\\t\\t\\t\\t\\t\\t\\t\\t\\t\\t\\t\\t\\n\\t\\t\\t\\t\\t\\t\\t\\t\\t\\t\\t\\t\\t\\n\\t\\t\\t\\t\\t\\t\\t\\t\\t\\t\\t\\t\\t\\n\\t\\t\\t\\t\\t\\t\\t\\t\\t\\t\\t    </ul>\\n\\t\\t\\t\\t\\t\\t\\t\\t\\t\\t    </div>\\t\\n\\t\\t\\t\\t\\t\\t\\t\\t\\t\\t    <div class=\"lnb-all menu09\">\\n\\t\\t\\t\\t\\t\\t\\t\\t\\t\\t\\t    <h4>ABOUT KBO</h4>\\n\\t\\t\\t\\t\\t\\t\\t\\t\\t\\t\\t    <ul>\\n\\t\\t\\t\\t\\t\\t\\t\\t\\t\\t\\t\\t\\t<li><a href=\"/Kbo/AboutKbo/GroupAndActivity.aspx\">조직・활동</a></li>\\n\\t\\t\\t\\t\\t\\t\\t\\t\\t\\t\\t\\t\\t<li><a href=\"/Kbo/AboutKbo/Logo/Logo.aspx\">KBO 로고</a></li>\\n\\t\\t\\t\\t\\t\\t\\t\\t\\t\\t\\t\\t\\t<li><a href=\"/Kbo/AboutKbo/Committee/OrganizationChart.aspx\">기록위원회</a></li>\\n\\t\\t\\t\\t\\t\\t\\t\\t\\t\\t\\t\\t\\t<li><a href=\"/Kbo/AboutKbo/MedicalCommittee/MedicalOrganization.aspx\">의무위원회</a></li>\\n\\t\\t\\t\\t\\t\\t\\t\\t\\t\\t\\t\\t\\t\\n\\t\\t\\t\\t\\t\\t\\t\\t\\t\\t\\t\\t\\t\\n\\t\\t\\t\\t\\t\\t\\t\\t\\t\\t\\t\\t\\t\\n\\t\\t\\t\\t\\t\\t\\t\\t\\t\\t\\t    </ul>\\n\\t\\t\\t\\t\\t\\t\\t\\t\\t\\t    </div>\\t\\n\\t\\t\\t\\t\\t\\t\\t\\t\\t\\t    <div class=\"lnb-all menu10 \">\\n\\t\\t\\t\\t\\t\\t\\t\\t\\t\\t\\t    <h4>주요 사업・행사</h4>\\n\\t\\t\\t\\t\\t\\t\\t\\t\\t\\t\\t    <ul>\\n\\t\\t\\t\\t\\t\\t\\t\\t\\t\\t\\t\\t\\t<li class=\"lnbMedia\"><a href=\"/Kbo/BusinessAndEvent/MediaDay.aspx\">미디어데이&amp;팬페스트</a></li>\\n\\t\\t\\t\\t\\t\\t\\t\\t\\t\\t\\t\\t\\t \\n\\t\\t\\t\\t\\t\\t\\t\\t\\t\\t\\t\\t    \\n\\t\\t\\t\\t\\t\\t\\t\\t\\t\\t\\t\\t    \\n\\t\\t\\t\\t\\t\\t\\t\\t\\t\\t\\t\\t\\t<li><a href=\"/Kbo/BusinessAndEvent/SafeGuide.aspx\">KBO 경기장 안전정책</a></li>\\n\\t\\t\\t\\t\\t\\t\\t\\t\\t\\t\\t\\t\\t \\n\\t\\t\\t\\t\\t\\t\\t\\t\\t\\t\\t\\t\\t\\n\\t\\t\\t\\t\\t\\t\\t\\t\\t\\t\\t    </ul>\\n\\t\\t\\t\\t\\t\\t\\t\\t\\t\\t    </div>\\n\\t\\t\\t\\t\\t\\t\\t\\t\\t    </div>\\n\\t\\t\\t\\t\\t\\t\\t\\t    </div>\\n\\t\\t\\t\\t\\t\\t\\t\\t    <div class=\"btn-close\">\\n\\t\\t\\t\\t\\t\\t\\t\\t\\t    <a href=\"javascript:;\">\\n\\t\\t\\t\\t\\t\\t\\t\\t\\t\\t    <img src=\"//lgcxydabfbch3774324.cdn.ntruss.com/KBO_IMAGE/KBOHome/resources/images/common/btn_close_fff.png\" alt=\"\">\\n\\t\\t\\t\\t\\t\\t\\t\\t\\t\\t    <span>닫기</span>\\n\\t\\t\\t\\t\\t\\t\\t\\t\\t    </a>\\t\\t\\t\\t\\t\\t\\t\\t\\t\\n\\t\\t\\t\\t\\t\\t\\t\\t    </div>\\n\\t\\t\\t\\t\\t\\t\\t    </div>\\n\\t\\t\\t\\t\\t\\t    </li>\\n\\t\\t\\t\\t\\t    </ul>\\n\\t\\t\\t\\t    </nav>\\n\\t\\t\\t\\t\\t</div>\\n\\t\\t\\t    </div>\\n\\t\\t    </header>\\n\\t\\t    <!-- // header -->\\n\\t\\t    <hr>\\n\\t\\t    <!-- container -->\\n\\t\\t    \\n    \\n<section id=\"container\">\\n\\t<div class=\"wrapping container-wrap\">\\t\\t\\t\\n\\t\\t<aside>\\n\\t\\t\\t<h3>선수</h3>\\n\\t\\t\\t<ul id=\"snb\">\\n\\t\\t\\t\\t<li class=\"on\"><a href=\"/Player/Search.aspx\" id=\"lnbPlayerSearch\">선수 조회</a></li>\\n\\t\\t\\t    <li><a href=\"/Player/Register.aspx\" id=\"lnbPlayerRegister\">선수 등록 현황</a></li>\\n\\t\\t\\t\\t<li><a href=\"/Player/Trade.aspx\" id=\"lnbPlayerTrade\">선수 이동 현황</a></li>\\n\\t\\t\\t\\t<li><a href=\"/Player/Awards/PlayerPrize.aspx\" id=\"lnbPlayerAwards\">수상 현황</a></li>\\n\\t\\t\\t\\t<li><a href=\"/Player/Legend40.aspx\" id=\"lnbLegend\">레전드 40</a></li>\\n                <li><a href=\"/Player/CareerCertificate.aspx\" id=\"lnbCareerCertificate\">경력증명서 신청</a></li>\\n\\n\\t\\t\\t\\t\\n\\t\\t\\t</ul>\\n\\t\\t\\t\\n\\t\\t</aside>\\n\\t\\t\\n<input type=\"hidden\" name=\"ctl00$ctl00$ctl00$cphContents$cphContents$cphContents$hfPage\" id=\"cphContents_cphContents_cphContents_hfPage\" value=\"1\">\\n<script type=\"text/javascript\">\\n//<![CDATA[\\nSys.WebForms.PageRequestManager._initialize(\\'ctl00$ctl00$ctl00$cphContents$cphContents$cphContents$ScriptManager1\\', \\'mainForm\\', [\\'tctl00$ctl00$ctl00$cphContents$cphContents$cphContents$udpRecord\\',\\'cphContents_cphContents_cphContents_udpRecord\\'], [\\'ctl00$ctl00$ctl00$cphContents$cphContents$cphContents$ddlTeam\\',\\'cphContents_cphContents_cphContents_ddlTeam\\',\\'ctl00$ctl00$ctl00$cphContents$cphContents$cphContents$ddlPosition\\',\\'cphContents_cphContents_cphContents_ddlPosition\\',\\'ctl00$ctl00$ctl00$cphContents$cphContents$cphContents$btnSearch\\',\\'cphContents_cphContents_cphContents_btnSearch\\'], [], 90, \\'ctl00$ctl00$ctl00\\');\\n//]]>\\n</script>\\n\\n<div id=\"contents\" class=\"content01\">\\n\\t<!--sub title & location -->\\n\\t<div class=\"location\">\\n\\t\\t<span class=\"home\"><a href=\"/Default.aspx\"><img src=\"//lgcxydabfbch3774324.cdn.ntruss.com/KBO_IMAGE/KBOHome/resources/images/common/ico_home.gif\" alt=\"홈으로\"></a></span> &gt;\\n\\t\\t<span class=\"depth1\"><a href=\"/Player/Search.aspx\">선수</a></span> &gt;\\n\\t\\t<span class=\"depth2\">선수 조회</span>\\n\\t</div>\\n\\t<h4 class=\"tit-page\">선수 조회</h4>\\n\\t<!-- // sub title & location -->\\n\\t\\n\\t<div class=\"sub-content\">    \\n\\t\\t<div id=\"cphContents_cphContents_cphContents_udpRecord\">\\n\\t\\n\\t\\t\\t<div class=\"compare\">\\n\\t\\t\\t\\t<select name=\"ctl00$ctl00$ctl00$cphContents$cphContents$cphContents$ddlTeam\" onchange=\"javascript:setTimeout(\\'__doPostBack(\\\\\\'ctl00$ctl00$ctl00$cphContents$cphContents$cphContents$ddlTeam\\\\\\',\\\\\\'\\\\\\')\\', 0)\" id=\"cphContents_cphContents_cphContents_ddlTeam\" class=\"select02\">\\n\\t\\t<option selected=\"selected\" value=\"\">팀 선택</option>\\n\\t\\t<option value=\"HH\">한화</option>\\n\\t\\t<option value=\"HT\">KIA</option>\\n\\t\\t<option value=\"SK\">SSG</option>\\n\\t\\t<option value=\"NC\">NC</option>\\n\\t\\t<option value=\"LG\">LG</option>\\n\\t\\t<option value=\"WO\">키움</option>\\n\\t\\t<option value=\"OB\">두산</option>\\n\\t\\t<option value=\"LT\">롯데</option>\\n\\t\\t<option value=\"SS\">삼성</option>\\n\\t\\t<option value=\"KT\">KT</option>\\n\\n\\t</select>\\n\\t\\t\\t\\t<select name=\"ctl00$ctl00$ctl00$cphContents$cphContents$cphContents$ddlPosition\" onchange=\"javascript:setTimeout(\\'__doPostBack(\\\\\\'ctl00$ctl00$ctl00$cphContents$cphContents$cphContents$ddlPosition\\\\\\',\\\\\\'\\\\\\')\\', 0)\" id=\"cphContents_cphContents_cphContents_ddlPosition\" class=\"select02\">\\n\\t\\t<option selected=\"selected\" value=\"\">포지션 선택</option>\\n\\t\\t<option value=\"1\">투수</option>\\n\\t\\t<option value=\"2\">포수</option>\\n\\t\\t<option value=\"3,4,5,6\">내야수</option>\\n\\t\\t<option value=\"7,8,9\">외야수</option>\\n\\n\\t</select>\\n\\t\\t\\t\\t<input name=\"ctl00$ctl00$ctl00$cphContents$cphContents$cphContents$txtSearchPlayerName\" type=\"text\" id=\"cphContents_cphContents_cphContents_txtSearchPlayerName\" class=\"srch_all\" onkeypress=\"if(event.keyCode == 13){__doPostBack(\\'ctl00$ctl00$ctl00$cphContents$cphContents$cphContents$btnSearch\\',\\'\\');return false;}\">\\n\\t\\t\\t\\t<input type=\"submit\" name=\"ctl00$ctl00$ctl00$cphContents$cphContents$cphContents$btnSearch\" value=\"검색\" id=\"cphContents_cphContents_cphContents_btnSearch\" class=\"btn_srch02\">\\n\\t\\t\\t</div>\\n\\n\\t\\t\\t<div class=\"inquiry\">\\n\\t\\t\\t\\t<p class=\"title\"><strong>검색결과 : <span class=\"point\">0</span>건</strong></p>\\n\\t\\t\\t\\t<table class=\"tEx\" cellpadding=\"0\" cellspacing=\"0\" summary=\"경기내용인 2루타,3루타,홈런,도루를 확인 하실 수 있습니다\">\\n\\t\\t\\t\\t\\t<caption>경기내용</caption>\\n\\t\\t\\t\\t\\t<colgroup>\\n\\t\\t\\t\\t\\t\\t<col width=\"65\">\\n\\t\\t\\t\\t\\t\\t<col width=\"70\">\\n\\t\\t\\t\\t\\t\\t<col width=\"60\">\\n\\t\\t\\t\\t\\t\\t<col width=\"60\">\\n\\t\\t\\t\\t\\t\\t<col width=\"130\">\\n\\t\\t\\t\\t\\t\\t<col width=\"120\">\\n\\t\\t\\t\\t\\t\\t<col width=\"*\">\\n\\t\\t\\t\\t\\t</colgroup>\\n\\t\\t\\t\\t\\t<thead>\\n\\t\\t\\t\\t\\t\\t<tr>\\n\\t\\t\\t\\t\\t\\t\\t<th>등번호</th>\\n\\t\\t\\t\\t\\t\\t\\t<th>선수명</th>\\n\\t\\t\\t\\t\\t\\t\\t<th>팀명</th>\\n\\t\\t\\t\\t\\t\\t\\t<th>포지션</th>\\n\\t\\t\\t\\t\\t\\t\\t<th>생년월일</th>\\n\\t\\t\\t\\t\\t\\t\\t<th>체격</th>\\n\\t\\t\\t\\t\\t\\t\\t<th>출신교</th>\\n\\t\\t\\t\\t\\t\\t</tr>\\n\\t\\t\\t\\t\\t</thead>\\n\\t\\t\\t\\t\\t<tbody>\\n\\t\\t\\t\\t\\t\\t\\n\\t\\t\\t\\t\\t</tbody>\\n\\t\\t\\t\\t</table>\\n\\n\\t\\t\\t\\t\\n<div class=\"paging\">    \\n\\t\\n\\t\\n\\t<a id=\"cphContents_cphContents_cphContents_ucPager_btnNo1\" class=\"on\" href=\"javascript:__doPostBack(\\'ctl00$ctl00$ctl00$cphContents$cphContents$cphContents$ucPager$btnNo1\\',\\'\\')\">1</a>\\n\\t\\n\\t\\n\\t\\n\\t\\n\\t\\n\\t\\n\\t\\n\\t\\n\\t\\n\\t\\n\\t\\n</div>\\n\\t\\t\\t</div>\\n\\t\\t\\n</div>\\n\\t</div>\\n</div>\\n\\n\\t</div>\\n</section>\\n\\n\\n\\t\\t    <!-- // container -->\\t\\n\\t\\t    <hr>\\n\\t\\t    <!-- footer -->\\n\\t\\t    <footer>\\n\\t\\t\\t    <div id=\"fnb\">\\n\\t\\t\\t\\t    <div class=\"wrapping fnb-wrap\">\\n\\t\\t\\t\\t\\t    <ul class=\"fnb-list\">\\n\\t\\t\\t\\t\\t\\t    <li class=\"privacy\"><a href=\"/Etc/Privacy.aspx\">개인정보 처리방침</a></li>\\n\\t\\t\\t\\t\\t\\t    <li><a href=\"/Schedule/ScoreBoard.aspx\">문자중계</a></li>\\n\\t\\t\\t\\t\\t\\t    <li><a href=\"/Kbo/Board/Faqs/List.aspx\">고객질문</a></li>\\n\\t\\t\\t\\t\\t\\t    <li><a href=\"/Etc/SiteMap.aspx\">사이트맵</a></li>\\n\\t\\t\\t\\t\\t\\t    \\n\\t\\t\\t\\t\\t    </ul>\\n\\t\\t\\t\\t    </div>\\n\\t\\t\\t    </div>\\n\\t\\t\\t    <div id=\"kboInfo\" class=\"wrapping\">\\n\\t\\t\\t\\t    <h2><a href=\"/Etc/PressRelease.aspx\"><img src=\"//lgcxydabfbch3774324.cdn.ntruss.com/KBO_IMAGE/KBOHome/resources/images/common/h2_logo.png\" alt=\"KBO\"></a></h2>\\n\\t\\t\\t\\t    <address class=\"kbo-info\">\\n\\t\\t\\t\\t\\t    <div class=\"address01\">\\n\\t\\t\\t\\t\\t\\t    <p>(사)한국야구위원회 | 서울시 강남구 강남대로 278 | 02)3460-4600</p>\\t\\t\\t\\t\\t\\n\\t\\t\\t\\t\\t    </div>\\n\\t\\t\\t\\t\\t    \\n\\t\\t\\t\\t    </address>\\n\\t\\t\\t\\t    <div class=\"copyright\">\\n\\t\\t\\t\\t\\t    <span>Copyrightⓒ KBO, All Rights Reserved.</span>\\n\\t\\t\\t\\t    </div>\\n\\t\\t\\t\\t\\t<div class=\"certification\">\\n\\t\\t\\t\\t\\t\\t<img src=\"//lgcxydabfbch3774324.cdn.ntruss.com/KBO_IMAGE/KBOHome/resources/images/main/img_certification.png\" alt=\"w3c xhtml 3.0, Verisign\">\\n\\t\\t\\t\\t\\t</div>\\n\\t\\t\\t    </div>\\n\\t\\t    </footer>\\n\\t\\t    <!-- // footer -->\\n\\t    </div>\\n\\t    <!-- // wrap -->\\n    </form>\\n    \\n    \\n\\n    \\n    \\n    \\n<script type=\"text/javascript\">\\n    currentLnb(\"PlayerSearch\");\\n</script>\\n\\n\\n\\n    <script type=\"text/javascript\">\\n        $(document).ready(function () {\\n            // 선수 검색\\n            $(document).on(\"click\", \"#btnTopPlayerSearch\", function (e) {\\n                getPlayerSearch();\\n                e.preventDefault();\\n            });\\n\\n            // 선수 검색 엔터\\n            $(document).on(\"keypress\", \"#txtTopPlayerWord\", function (e) {\\n                if (event.keyCode == 13) {\\n                    getPlayerSearch();\\n                    e.preventDefault();\\n                }\\n            });\\n\\n            //// 선수 검색 마우스 아웃\\n            //$(\"body\").click(function (e) {\\n            //    var container = $(\"#player_search_area\");\\n\\n            //    if (container.css(\"display\") == \"block\") {\\n            //        if (!container.has(e.target).length) {\\n            //            container.hide();\\n            //        }\\n            //    }\\n            //});\\n\\n\\t\\t\\t// 21.06.29 | veron | 나중에 탭들 다 지우고 배너 다시 원복 후 이부분 삭제해야함\\n\\t\\t\\t// 8월 15일 00시 지나가면 삭제\\n            //if (new Date().getTime() > new Date(\"2021/08/15 00:00:00\").getTime()) {\\n\\t\\t\\t//\\t// 위에 탭 삭제\\n            //    $(\".menu04 li:last\").remove();\\n            //    $(\".lnb-sub ul.lnb04 li:last\").remove();\\n\\t\\t\\t//\\t// Player.master 삭제\\n            //    $(\"#liRookie\").remove();\\n\\t\\t\\t//\\t// 메인 배너 교체\\n            //    $(\"#imgGijang\").attr(\"href\", \"http://gijangcmc.or.kr/baseball/main/main.asp\");\\n            //    $(\"#imgGijang img\").attr(\"src\", \"//lgcxydabfbch3774324.cdn.ntruss.com/KBO_IMAGE/KBOHome/resources/images/main/img_banner01.jpg\");\\n\\t\\t\\t//}\\n\\n\\t\\t\\t// 2023 미디어데이\\n            if (new Date().getTime() < new Date(\"2023/03/22 09:00:00\"))\\n\\t\\t\\t\\t$(\\'.lnbMedia\\').hide();\\n\\t\\t\\t// SaveSacrifice\\n\\t\\t\\tif (new Date().getTime() < new Date(\"2023/04/01 09:00:00\"))\\n\\t\\t\\t\\t$(\\'[data-tab=SaveSacrifice]\\').hide();\\n            // draft\\n            if (new Date().getTime() < new Date(\"2023/09/06 09:00:00\"))\\n\\t\\t\\t\\t$(\\'[data-tab=DraftApplication]\\').hide();\\n\\t\\t\\t// KBO 시상식\\n            if (new Date().getTime() < new Date(\"2023/11/23 10:00:00\"))\\n\\t\\t\\t\\t$(\\'[data-tab=MvpApplication]\\').hide();\\n            // KBO 골든글러브\\n            if (new Date().getTime() < new Date(\"2023/12/06 10:00:00\"))\\n                $(\\'[data-tab=GGApplication]\\').hide();\\n        });\\n\\n        // 선수 검색\\n        function getPlayerSearch() {\\n            if ($(\"#txtTopPlayerWord\").val() == \"\") {\\n                alert(\"선수명은 필수 입니다.\");\\n                $(\"#txtTopPlayerWord\").focus();\\n                return false;\\n            } else {\\n                //var searchWord = encodeURI($(\"#txtTopPlayerWord\").val());\\n\\n                //if (searchWord != \"\") {\\n                //    location.href = \"/Player/Search.aspx?searchWord=\" + searchWord;\\n                //}\\n                var request = $.ajax({\\n                    type: \"post\"\\n                    , url: \"/ws/Controls.asmx/GetSearchPlayer\"\\n                    , dataType: \"json\"\\n                    , data: {\\n                        name: $(\"#txtTopPlayerWord\").val()\\n                    }\\n                    , error: ajaxFailed\\n                    , async: true\\n                });\\n\\n                request.done(function (data) {\\n                    if (data.code == \"100\") {\\n                        var container = $(\".search-result\");\\n                        container.children().remove();\\n\\n                        container.hide();\\n\\n                        if (data.now.length > 0 || data.retire.length > 0) {\\n                            // 2017-05-22 yeeun, 홍지희 사원 요청, 결과가 1명일 경우 바로 페이지 연결\\n                            if (data.now.length + data.retire.length == 1) {\\n                                var link = \"\";\\n\\n                                if (data.now.length == 1) {\\n                                    link = data.now[0][\"P_LINK\"];\\n                                } else {\\n                                    link = data.retire[0][\"P_LINK\"];\\n                                }\\n\\n                                location.href = link;\\n                            } else {\\n                                if (data.now.length > 0) {\\n                                    container.append($(\"<h4>등록 선수</h4>\"));\\n\\n                                    var div = $(\"<div class=\\'active\\' />\");\\n                                    div.children().remove();\\n\\n                                    setPlayerDiv(data.now, div, true);\\n\\n                                    container.append(div);\\n                                }\\n\\n                                if (data.retire.length > 0) {\\n                                    container.append($(\"<h4>역대 선수</h4>\"));\\n\\n                                    var div = $(\"<div class=\\'retire\\'/>\");\\n                                    div.children().remove();\\n\\n                                    setPlayerDiv(data.retire, div, false);\\n\\n                                    container.append(div);\\n                                }\\n\\n                                //container.append($(String.format(\"<p><a href=\\'/Player/Search.aspx?searchWord={0}\\'\\'>\\'{0}\\' 검색결과 모두 보기</a></p>\", $(\"#txtTopPlayerWord\").val())));\\n                                container.append($(\"<p><a href=\\'/Player/Search.aspx?searchWord=\" + $(\"#txtTopPlayerWord\").val() + \"\\'\\'>\\'\" + $(\"#txtTopPlayerWord\").val() + \"\\' 검색결과 모두 보기</a></p>\"));\\n                                container.show();\\n                            }\\n                        } else {\\n                            container.append($(\"<p class=\\'null\\'>검색 결과가 없습니다.</p>\"));\\n                            container.show();\\n                        }\\n                    }\\n                });\\n            }\\n        }\\n\\n        // 선수 검색 div \\n        function setPlayerDiv(list, div, isActive) {\\n            $.each(list, function (index, player) {\\n                var aLink = $(\"<a />\");\\n                aLink.attr(\"href\", player[\"P_LINK\"]);\\n\\n                var dl = $(\"<dl />\");\\n                var dt = $(\"<dt />\");\\n                var backNo = \"\";\\n\\n                if (isActive) {\\n                    //backNo = String.format(\"No.{0}\", player[\"BACK_NO\"]);\\n                    backNo = \"No.\" + player[\"BACK_NO\"];\\n                }\\n\\n                //dt.text(String.format(\"{0} {1}\", player[\"P_NM\"], backNo));\\n                dt.text(player[\"P_NM\"] + \" \" + backNo);\\n                dl.append(dt);\\n\\n                var dd = $(\"<dd />\");\\n                //dd.text(String.format(\"{0} {1}({2})\", player[\"T_NM\"], player[\"POS_NO\"], player[\"P_TYPE\"]));\\n                dd.text(player[\"T_NM\"] + \" \" + player[\"POS_NO\"] + \"(\" + player[\"P_TYPE\"] + \")\");\\n                dl.append(dd);\\n\\n                var ddImg = $(String.format(\"<dd class=\\'btn-arrow\\'><img src=\\'{0}/resources/images/common/btn_arrow_search.png\\' alt=\\'\\' /></dd>\", \"//lgcxydabfbch3774324.cdn.ntruss.com/KBO_IMAGE/KBOHome\"));\\n                dl.append(ddImg);\\n\\n                aLink.append(dl);\\n                div.append(aLink);\\n            });\\n        }\\n    </script>\\n\\n</body></html>'"
            ]
          },
          "execution_count": 29,
          "metadata": {},
          "output_type": "execute_result"
        }
      ],
      "source": [
        "from selenium.webdriver.common.by import By\n",
        "driver.find_element(By.CSS_SELECTOR, \"#lnb > li:nth-child(3) > a\").click()\n",
        "driver.page_source\n"
      ]
    },
    {
      "cell_type": "code",
      "execution_count": null,
      "id": "7ade84ba-bdb9-4320-aa14-d7b6a7480848",
      "metadata": {
        "id": "7ade84ba-bdb9-4320-aa14-d7b6a7480848"
      },
      "outputs": [],
      "source": [
        "driver.find_element(By.CSS_SELECTOR, \"#cphContents_cphContents_cphContents_ddlTeam > option:nth-child(3)\").click()"
      ]
    },
    {
      "cell_type": "code",
      "execution_count": null,
      "id": "5d82692b-ef22-4a10-b14f-7d2f9745c705",
      "metadata": {
        "id": "5d82692b-ef22-4a10-b14f-7d2f9745c705"
      },
      "outputs": [],
      "source": []
    },
    {
      "cell_type": "code",
      "execution_count": null,
      "id": "b3f1e1cb-5f91-4940-8399-d3b5fec1a639",
      "metadata": {
        "id": "b3f1e1cb-5f91-4940-8399-d3b5fec1a639"
      },
      "outputs": [],
      "source": []
    },
    {
      "cell_type": "code",
      "execution_count": null,
      "id": "de4816ec-0f15-4bdb-8546-2f474073ef1b",
      "metadata": {
        "id": "de4816ec-0f15-4bdb-8546-2f474073ef1b",
        "outputId": "aa58e7c8-efdd-4365-802a-f8f593dad915"
      },
      "outputs": [
        {
          "name": "stdout",
          "output_type": "stream",
          "text": [
            "page 없음 \n"
          ]
        }
      ],
      "source": [
        "import time\n",
        "import re\n",
        "pattern = re.compile(\"playerId=([0-9]+)\")\n",
        "\n",
        "select_page = \"#cphContents_cphContents_cphContents_ucPager_btnNo{}\"\n",
        "select_team = \"#cphContents_cphContents_cphContents_ddlTeam > option:nth-child({})\"\n",
        "playid = []\n",
        "for x in range(2,12):\n",
        "    for_1 = select_team.format(x)\n",
        "    driver.find_element(By.CSS_SELECTOR, for_1).click()\n",
        "    time.sleep(2)\n",
        "    #playid.extend(pattern.findall(driver.page_source))\n",
        "    for y in range(1,6):\n",
        "        f2 = select_page.format(y)\n",
        "        try:\n",
        "            driver.find_element(By.CSS_SELECTOR, f2).click()\n",
        "            time.sleep(1)\n",
        "            playid.extend(pattern.findall(driver.page_source))\n",
        "        except Exception as e:\n",
        "            print (\"page 없음 \")\n",
        "        time.sleep(2)\n"
      ]
    },
    {
      "cell_type": "code",
      "execution_count": null,
      "id": "754cdca0-0224-4cd7-ae64-ec2e69a8b0d0",
      "metadata": {
        "id": "754cdca0-0224-4cd7-ae64-ec2e69a8b0d0",
        "outputId": "c47b9df3-7950-41e4-bf14-5dcd62aae0cc"
      },
      "outputs": [
        {
          "data": {
            "text/plain": [
              "844"
            ]
          },
          "execution_count": 32,
          "metadata": {},
          "output_type": "execute_result"
        }
      ],
      "source": [
        "len(list(set(playid)))"
      ]
    },
    {
      "cell_type": "code",
      "execution_count": null,
      "id": "0ab34cbb-9b87-4c27-93ee-d2db223821b5",
      "metadata": {
        "id": "0ab34cbb-9b87-4c27-93ee-d2db223821b5"
      },
      "outputs": [],
      "source": [
        "import pickle\n",
        "# binary save, load\n",
        "with open()"
      ]
    },
    {
      "cell_type": "code",
      "execution_count": null,
      "id": "210915fc-1278-4fd5-bbff-783e7589ea59",
      "metadata": {
        "id": "210915fc-1278-4fd5-bbff-783e7589ea59"
      },
      "outputs": [],
      "source": [
        "import pickle\n",
        "# binary save , load\n",
        "with open(\"./kbo.pkl\", \"wb\") as f:\n",
        "    pickle.dump(playid, f)"
      ]
    },
    {
      "cell_type": "code",
      "execution_count": null,
      "id": "ee124c3a-a6b6-4daa-bd26-bd2ed0e8a80f",
      "metadata": {
        "id": "ee124c3a-a6b6-4daa-bd26-bd2ed0e8a80f"
      },
      "outputs": [],
      "source": [
        "import pickle\n",
        "with open(\"./kbo.pkl\", \"rb\") as f:\n",
        "    abc = pickle.load(f)"
      ]
    },
    {
      "cell_type": "code",
      "execution_count": null,
      "id": "f1cec807-f9ab-4705-b580-da0fc2ab9830",
      "metadata": {
        "id": "f1cec807-f9ab-4705-b580-da0fc2ab9830",
        "outputId": "ef24a6e0-c235-4511-802d-23491f8af708"
      },
      "outputs": [
        {
          "data": {
            "text/plain": [
              "['50705',\n",
              " '52769',\n",
              " '54707',\n",
              " '54708',\n",
              " '71837',\n",
              " '69702',\n",
              " '51713',\n",
              " '51715',\n",
              " '54705',\n",
              " '68707',\n",
              " '65764',\n",
              " '65769',\n",
              " '50710',\n",
              " '53754',\n",
              " '54709',\n",
              " '50711',\n",
              " '66715',\n",
              " '63765',\n",
              " '52706',\n",
              " '68701',\n",
              " '66704',\n",
              " '69518',\n",
              " '50720',\n",
              " '69737',\n",
              " '76715',\n",
              " '52701',\n",
              " '51705',\n",
              " '53764',\n",
              " '66707',\n",
              " '67703',\n",
              " '68703',\n",
              " '51761',\n",
              " '69974',\n",
              " '53714',\n",
              " '54704',\n",
              " '53711',\n",
              " '53704',\n",
              " '51767',\n",
              " '54701',\n",
              " '53717',\n",
              " '51704',\n",
              " '79608',\n",
              " '52702',\n",
              " '69703',\n",
              " '51202',\n",
              " '54702',\n",
              " '69766',\n",
              " '52765',\n",
              " '63464',\n",
              " '54703',\n",
              " '65703',\n",
              " '76849',\n",
              " '65616',\n",
              " '53795',\n",
              " '65117',\n",
              " '52704',\n",
              " '52714',\n",
              " '68706',\n",
              " '68797',\n",
              " '54706',\n",
              " '68700',\n",
              " '67993',\n",
              " '76812',\n",
              " '66657',\n",
              " '63749',\n",
              " '60768',\n",
              " '50704',\n",
              " '51762',\n",
              " '79764',\n",
              " '77318',\n",
              " '69645',\n",
              " '66706',\n",
              " '54794',\n",
              " '74857',\n",
              " '68743',\n",
              " '69767',\n",
              " '54768',\n",
              " '51796',\n",
              " '69705',\n",
              " '65707',\n",
              " '79192',\n",
              " '50707',\n",
              " '78288',\n",
              " '54710',\n",
              " '52720',\n",
              " '54730',\n",
              " '62700',\n",
              " '52710',\n",
              " '50726',\n",
              " '61666',\n",
              " '69706',\n",
              " '54795',\n",
              " '54729',\n",
              " '54607',\n",
              " '54613',\n",
              " '67604',\n",
              " '68069',\n",
              " '61353',\n",
              " '53609',\n",
              " '51640',\n",
              " '76225',\n",
              " '66614',\n",
              " '69620',\n",
              " '60337',\n",
              " '52605',\n",
              " '53618',\n",
              " '69745',\n",
              " '54614',\n",
              " '69627',\n",
              " '54608',\n",
              " '54645',\n",
              " '63894',\n",
              " '67610',\n",
              " '78603',\n",
              " '66492',\n",
              " '51666',\n",
              " '68659',\n",
              " '53619',\n",
              " '52661',\n",
              " '78122',\n",
              " '54609',\n",
              " '69516',\n",
              " '65653',\n",
              " '62947',\n",
              " '54640',\n",
              " '51645',\n",
              " '50657',\n",
              " '52634',\n",
              " '67609',\n",
              " '63638',\n",
              " '64646',\n",
              " '69727',\n",
              " '78168',\n",
              " '54610',\n",
              " '52630',\n",
              " '77637',\n",
              " '50622',\n",
              " '69636',\n",
              " '68614',\n",
              " '67640',\n",
              " '50604',\n",
              " '52667',\n",
              " '53613',\n",
              " '68619',\n",
              " '53615',\n",
              " '54644',\n",
              " '52647',\n",
              " '53663',\n",
              " '51605',\n",
              " '63260',\n",
              " '51648',\n",
              " '65665',\n",
              " '64560',\n",
              " '62951',\n",
              " '62754',\n",
              " '66833',\n",
              " '51665',\n",
              " '51603',\n",
              " '63950',\n",
              " '66609',\n",
              " '50662',\n",
              " '53659',\n",
              " '54667',\n",
              " '66354',\n",
              " '66807',\n",
              " '66606',\n",
              " '65464',\n",
              " '52639',\n",
              " '54611',\n",
              " '72443',\n",
              " '54612',\n",
              " '63722',\n",
              " '68646',\n",
              " '69643',\n",
              " '50600',\n",
              " '65610',\n",
              " '52641',\n",
              " '62925',\n",
              " '51868',\n",
              " '72523',\n",
              " '53803',\n",
              " '77829',\n",
              " '54810',\n",
              " '62864',\n",
              " '53893',\n",
              " '50848',\n",
              " '76802',\n",
              " '53865',\n",
              " '65411',\n",
              " '54811',\n",
              " '66917',\n",
              " '69825',\n",
              " '52803',\n",
              " '73211',\n",
              " '54804',\n",
              " '53806',\n",
              " '50868',\n",
              " '62869',\n",
              " '54802',\n",
              " '64944',\n",
              " '64893',\n",
              " '54807',\n",
              " '67893',\n",
              " '53800',\n",
              " '50812',\n",
              " '51860',\n",
              " '60841',\n",
              " '54805',\n",
              " '69839',\n",
              " '54814',\n",
              " '54808',\n",
              " '69803',\n",
              " '61895',\n",
              " '53898',\n",
              " '66662',\n",
              " '52873',\n",
              " '66864',\n",
              " '53897',\n",
              " '53827',\n",
              " '53825',\n",
              " '50859',\n",
              " '60558',\n",
              " '68801',\n",
              " '54809',\n",
              " '64861',\n",
              " '52868',\n",
              " '53892',\n",
              " '54806',\n",
              " '53809',\n",
              " '67807',\n",
              " '79456',\n",
              " '67164',\n",
              " '68869',\n",
              " '50820',\n",
              " '66858',\n",
              " '65058',\n",
              " '54812',\n",
              " '54815',\n",
              " '51897',\n",
              " '51865',\n",
              " '69804',\n",
              " '69802',\n",
              " '68856',\n",
              " '65157',\n",
              " '68805',\n",
              " '69893',\n",
              " '52805',\n",
              " '75847',\n",
              " '68868',\n",
              " '50854',\n",
              " '54803',\n",
              " '51817',\n",
              " '69813',\n",
              " '68092',\n",
              " '62895',\n",
              " '69801',\n",
              " '54813',\n",
              " '50840',\n",
              " '53994',\n",
              " '54908',\n",
              " '63963',\n",
              " '54913',\n",
              " '54901',\n",
              " '69980',\n",
              " '62934',\n",
              " '54905',\n",
              " '67900',\n",
              " '68928',\n",
              " '68900',\n",
              " '54909',\n",
              " '64580',\n",
              " '51907',\n",
              " '53993',\n",
              " '54910',\n",
              " '67954',\n",
              " '67956',\n",
              " '54912',\n",
              " '53990',\n",
              " '50902',\n",
              " '68912',\n",
              " '54959',\n",
              " '69996',\n",
              " '53914',\n",
              " '54944',\n",
              " '66965',\n",
              " '65949',\n",
              " '53973',\n",
              " '67063',\n",
              " '79215',\n",
              " '62907',\n",
              " '62244',\n",
              " '50996',\n",
              " '50906',\n",
              " '54911',\n",
              " '69900',\n",
              " '68097',\n",
              " '69994',\n",
              " '53992',\n",
              " '53988',\n",
              " '64995',\n",
              " '53999',\n",
              " '66068',\n",
              " '52906',\n",
              " '69995',\n",
              " '67962',\n",
              " '77532',\n",
              " '54904',\n",
              " '69962',\n",
              " '69203',\n",
              " '68902',\n",
              " '53989',\n",
              " '53919',\n",
              " '53991',\n",
              " '61411',\n",
              " '50901',\n",
              " '64022',\n",
              " '68904',\n",
              " '54906',\n",
              " '63905',\n",
              " '51948',\n",
              " '77211',\n",
              " '65964',\n",
              " '60263',\n",
              " '53996',\n",
              " '52905',\n",
              " '54900',\n",
              " '63959',\n",
              " '50900',\n",
              " '69204',\n",
              " '69969',\n",
              " '54907',\n",
              " '51701',\n",
              " '65241',\n",
              " '67905',\n",
              " '68909',\n",
              " '66920',\n",
              " '69984',\n",
              " '54903',\n",
              " '66963',\n",
              " '69992',\n",
              " '54920',\n",
              " '69991',\n",
              " '54930',\n",
              " '64101',\n",
              " '51994',\n",
              " '50903',\n",
              " '54902',\n",
              " '50105',\n",
              " '54104',\n",
              " '51143',\n",
              " '69100',\n",
              " '51109',\n",
              " '54164',\n",
              " '66145',\n",
              " '54107',\n",
              " '67504',\n",
              " '53144',\n",
              " '52105',\n",
              " '69105',\n",
              " '68130',\n",
              " '64596',\n",
              " '50157',\n",
              " '68109',\n",
              " '54103',\n",
              " '66162',\n",
              " '75867',\n",
              " '51154',\n",
              " '50115',\n",
              " '76290',\n",
              " '54166',\n",
              " '51103',\n",
              " '69102',\n",
              " '68119',\n",
              " '79365',\n",
              " '53139',\n",
              " '51112',\n",
              " '62415',\n",
              " '54116',\n",
              " '63145',\n",
              " '68096',\n",
              " '65109',\n",
              " '68159',\n",
              " '54156',\n",
              " '67143',\n",
              " '68110',\n",
              " '65207',\n",
              " '54108',\n",
              " '65115',\n",
              " '54134',\n",
              " '53123',\n",
              " '54105',\n",
              " '79109',\n",
              " '51526',\n",
              " '50106',\n",
              " '63961',\n",
              " '51110',\n",
              " '69168',\n",
              " '61145',\n",
              " '68106',\n",
              " '50904',\n",
              " '69108',\n",
              " '54110',\n",
              " '61101',\n",
              " '67123',\n",
              " '69159',\n",
              " '54149',\n",
              " '51163',\n",
              " '54148',\n",
              " '79140',\n",
              " '54112',\n",
              " '65905',\n",
              " '52103',\n",
              " '65320',\n",
              " '69103',\n",
              " '50107',\n",
              " '50096',\n",
              " '63248',\n",
              " '50108',\n",
              " '77243',\n",
              " '53102',\n",
              " '66108',\n",
              " '54344',\n",
              " '53312',\n",
              " '53164',\n",
              " '50393',\n",
              " '53344',\n",
              " '50360',\n",
              " '50304',\n",
              " '66018',\n",
              " '67828',\n",
              " '68346',\n",
              " '51303',\n",
              " '54368',\n",
              " '65898',\n",
              " '54319',\n",
              " '69367',\n",
              " '67391',\n",
              " '62332',\n",
              " '69306',\n",
              " '54302',\n",
              " '51393',\n",
              " '54397',\n",
              " '64984',\n",
              " '67304',\n",
              " '51344',\n",
              " '52394',\n",
              " '53327',\n",
              " '60336',\n",
              " '54304',\n",
              " '53305',\n",
              " '52305',\n",
              " '66305',\n",
              " '54350',\n",
              " '53301',\n",
              " '69363',\n",
              " '52348',\n",
              " '54303',\n",
              " '68305',\n",
              " '53307',\n",
              " '53309',\n",
              " '54363',\n",
              " '65357',\n",
              " '53303',\n",
              " '54394',\n",
              " '50312',\n",
              " '54308',\n",
              " '54306',\n",
              " '53308',\n",
              " '67365',\n",
              " '68330',\n",
              " '53300',\n",
              " '67116',\n",
              " '53304',\n",
              " '54307',\n",
              " '76118',\n",
              " '52395',\n",
              " '69399',\n",
              " '69366',\n",
              " '52397',\n",
              " '53302',\n",
              " '74163',\n",
              " '54301',\n",
              " '75566',\n",
              " '54305',\n",
              " '50354',\n",
              " '50167',\n",
              " '78135',\n",
              " '53306',\n",
              " '64346',\n",
              " '64340',\n",
              " '51359',\n",
              " '54362',\n",
              " '78148',\n",
              " '63342',\n",
              " '68848',\n",
              " '69360',\n",
              " '69332',\n",
              " '52396',\n",
              " '52330',\n",
              " '76267',\n",
              " '64350',\n",
              " '54354',\n",
              " '53375',\n",
              " '63123',\n",
              " '54268',\n",
              " '51269',\n",
              " '68220',\n",
              " '68204',\n",
              " '77263',\n",
              " '66112',\n",
              " '69238',\n",
              " '51294',\n",
              " '51230',\n",
              " '67246',\n",
              " '54215',\n",
              " '53205',\n",
              " '68200',\n",
              " '65269',\n",
              " '53262',\n",
              " '63257',\n",
              " '74206',\n",
              " '78224',\n",
              " '68830',\n",
              " '69207',\n",
              " '54217',\n",
              " '54263',\n",
              " '68269',\n",
              " '53201',\n",
              " '52025',\n",
              " '54219',\n",
              " '67259',\n",
              " '64468',\n",
              " '53204',\n",
              " '63292',\n",
              " '68249',\n",
              " '65639',\n",
              " '66928',\n",
              " '54213',\n",
              " '50204',\n",
              " '67266',\n",
              " '68207',\n",
              " '53298',\n",
              " '52257',\n",
              " '66203',\n",
              " '54216',\n",
              " '64011',\n",
              " '69045',\n",
              " '64153',\n",
              " '76232',\n",
              " '50293',\n",
              " '51200',\n",
              " '54205',\n",
              " '50208',\n",
              " '53296',\n",
              " '69205',\n",
              " '69206',\n",
              " '52204',\n",
              " '51296',\n",
              " '64805',\n",
              " '66291',\n",
              " '52295',\n",
              " '67207',\n",
              " '50262',\n",
              " '53293',\n",
              " '54236',\n",
              " '50244',\n",
              " '63202',\n",
              " '54221',\n",
              " '54214',\n",
              " '68205',\n",
              " '69211',\n",
              " '79231',\n",
              " '64202',\n",
              " '68242',\n",
              " '50211',\n",
              " '66209',\n",
              " '50296',\n",
              " '50298',\n",
              " '51264',\n",
              " '67263',\n",
              " '50206',\n",
              " '53259',\n",
              " '52206',\n",
              " '53297',\n",
              " '79240',\n",
              " '61643',\n",
              " '66233',\n",
              " '54567',\n",
              " '54506',\n",
              " '65514',\n",
              " '54508',\n",
              " '69517',\n",
              " '63543',\n",
              " '54510',\n",
              " '65522',\n",
              " '54511',\n",
              " '68585',\n",
              " '69592',\n",
              " '52504',\n",
              " '53554',\n",
              " '77564',\n",
              " '76430',\n",
              " '62528',\n",
              " '51516',\n",
              " '67539',\n",
              " '51551',\n",
              " '62931',\n",
              " '54529',\n",
              " '50592',\n",
              " '54502',\n",
              " '64021',\n",
              " '62802',\n",
              " '69507',\n",
              " '50563',\n",
              " '54503',\n",
              " '69594',\n",
              " '63512',\n",
              " '52528',\n",
              " '54504',\n",
              " '54507',\n",
              " '53569',\n",
              " '54512',\n",
              " '51528',\n",
              " '50150',\n",
              " '51594',\n",
              " '69508',\n",
              " '60140',\n",
              " '64017',\n",
              " '54509',\n",
              " '78756',\n",
              " '53546',\n",
              " '61102',\n",
              " '54513',\n",
              " '52591',\n",
              " '67588',\n",
              " '52530',\n",
              " '51592',\n",
              " '54595',\n",
              " '68529',\n",
              " '64565',\n",
              " '67644',\n",
              " '51560',\n",
              " '53562',\n",
              " '53594',\n",
              " '69453',\n",
              " '54598',\n",
              " '62611',\n",
              " '68507',\n",
              " '54561',\n",
              " '78513',\n",
              " '54505',\n",
              " '53568',\n",
              " '68518',\n",
              " '68556',\n",
              " '51546',\n",
              " '53559',\n",
              " '54537',\n",
              " '60523',\n",
              " '64717',\n",
              " '52558',\n",
              " '76650',\n",
              " '64718',\n",
              " '51564',\n",
              " '68036',\n",
              " '51574',\n",
              " '50556',\n",
              " '62884',\n",
              " '68525',\n",
              " '62363',\n",
              " '68260',\n",
              " '50596',\n",
              " '50500',\n",
              " '74540',\n",
              " '64610',\n",
              " '68407',\n",
              " '62404',\n",
              " '61365',\n",
              " '54401',\n",
              " '69442',\n",
              " '66838',\n",
              " '51403',\n",
              " '54402',\n",
              " '64793',\n",
              " '53421',\n",
              " '52460',\n",
              " '54403',\n",
              " '67449',\n",
              " '51409',\n",
              " '67467',\n",
              " '52430',\n",
              " '53400',\n",
              " '65132',\n",
              " '65062',\n",
              " '52424',\n",
              " '54407',\n",
              " '50458',\n",
              " '68454',\n",
              " '62360',\n",
              " '65040',\n",
              " '61404',\n",
              " '51417',\n",
              " '54460',\n",
              " '54443',\n",
              " '53404',\n",
              " '62234',\n",
              " '54424',\n",
              " '53469',\n",
              " '53409',\n",
              " '53416',\n",
              " '54466',\n",
              " '53411',\n",
              " '77446',\n",
              " '53428',\n",
              " '54405',\n",
              " '66406',\n",
              " '54408',\n",
              " '69403',\n",
              " '61268',\n",
              " '75421',\n",
              " '75334',\n",
              " '51466',\n",
              " '69446',\n",
              " '54406',\n",
              " '54404',\n",
              " '68463',\n",
              " '62929',\n",
              " '69428',\n",
              " '63960',\n",
              " '66409',\n",
              " '50464',\n",
              " '51454',\n",
              " '60146',\n",
              " '63492',\n",
              " '52415',\n",
              " '54410',\n",
              " '51407',\n",
              " '54411',\n",
              " '53455',\n",
              " '78352',\n",
              " '52417',\n",
              " '77927',\n",
              " '65586',\n",
              " '54467',\n",
              " '50414',\n",
              " '51468',\n",
              " '62146',\n",
              " '67421',\n",
              " '68419',\n",
              " '66451',\n",
              " '68501',\n",
              " '54452',\n",
              " '50413',\n",
              " '51462',\n",
              " '51408',\n",
              " '50430',\n",
              " '65496',\n",
              " '50441',\n",
              " '53006',\n",
              " '69064',\n",
              " '68050',\n",
              " '50066',\n",
              " '64001',\n",
              " '53049',\n",
              " '51005',\n",
              " '51008',\n",
              " '68043',\n",
              " '54097',\n",
              " '54094',\n",
              " '65048',\n",
              " '64004',\n",
              " '52002',\n",
              " '79402',\n",
              " '50093',\n",
              " '51097',\n",
              " '53029',\n",
              " '62558',\n",
              " '54013',\n",
              " '68906',\n",
              " '66064',\n",
              " '67025',\n",
              " '53036',\n",
              " '64007',\n",
              " '67419',\n",
              " '73113',\n",
              " '69056',\n",
              " '75125',\n",
              " '66047',\n",
              " '60559',\n",
              " '68068',\n",
              " '52060',\n",
              " '54008',\n",
              " '54009',\n",
              " '64166',\n",
              " '52043',\n",
              " '50109',\n",
              " '50030',\n",
              " '69041',\n",
              " '64012',\n",
              " '51057',\n",
              " '68067',\n",
              " '62556',\n",
              " '54007',\n",
              " '67006',\n",
              " '68002',\n",
              " '65056',\n",
              " '64504',\n",
              " '73117',\n",
              " '54063',\n",
              " '54064',\n",
              " '68093',\n",
              " '50092',\n",
              " '54010',\n",
              " '69054',\n",
              " '69068',\n",
              " '54012',\n",
              " '54011',\n",
              " '67048',\n",
              " '67066',\n",
              " '53005',\n",
              " '53001',\n",
              " '68896',\n",
              " '69623',\n",
              " '68504',\n",
              " '78548',\n",
              " '64115',\n",
              " '69047',\n",
              " '53058',\n",
              " '53004',\n",
              " '68089',\n",
              " '50114',\n",
              " '64868',\n",
              " '64768',\n",
              " '65060',\n",
              " '50054',\n",
              " '51007',\n",
              " '54006',\n",
              " '53010',\n",
              " '69032',\n",
              " '78517',\n",
              " '53096',\n",
              " '51058',\n",
              " '67005',\n",
              " '53003',\n",
              " '76313']"
            ]
          },
          "execution_count": 37,
          "metadata": {},
          "output_type": "execute_result"
        }
      ],
      "source": [
        "# 선수 번호\n",
        "playid"
      ]
    },
    {
      "cell_type": "code",
      "execution_count": null,
      "id": "550415a3-1bf0-41d0-9748-6783d8316bec",
      "metadata": {
        "id": "550415a3-1bf0-41d0-9748-6783d8316bec"
      },
      "outputs": [],
      "source": [
        "# 링크확보\n",
        "url = \"https://www.koreabaseball.com/Record/Player/PitcherDetail/Basic.aspx?playerId={}\""
      ]
    },
    {
      "cell_type": "code",
      "execution_count": null,
      "id": "61738acd-f18f-46b0-9635-f29ddc9e9df7",
      "metadata": {
        "id": "61738acd-f18f-46b0-9635-f29ddc9e9df7"
      },
      "outputs": [],
      "source": [
        "head = {\"User-Agent\": \\\n",
        "        \"Mozilla/5.0 (Windows NT 10.0; Win64; x64) AppleWebKit/537.36 (KHTML, like Gecko) Chrome/116.0.0.0 Safari/537.36 Edg/116.0.1938.62\"}"
      ]
    },
    {
      "cell_type": "code",
      "execution_count": null,
      "id": "6c8c81ec-d158-401c-9b85-72e1ae241996",
      "metadata": {
        "id": "6c8c81ec-d158-401c-9b85-72e1ae241996"
      },
      "outputs": [],
      "source": [
        "import requests\n",
        "r = requests.get(url, headers=head)"
      ]
    },
    {
      "cell_type": "code",
      "execution_count": null,
      "id": "e8a9e285-d02b-4672-b146-9b36d0dc11e6",
      "metadata": {
        "id": "e8a9e285-d02b-4672-b146-9b36d0dc11e6"
      },
      "outputs": [],
      "source": [
        "# 50705 선수 정보 주소\n",
        "r = requests.get(url.format(\"50705\"))"
      ]
    },
    {
      "cell_type": "code",
      "execution_count": null,
      "id": "932149ca-ea7f-4ac7-82f4-7d0bb1f45749",
      "metadata": {
        "id": "932149ca-ea7f-4ac7-82f4-7d0bb1f45749"
      },
      "outputs": [],
      "source": [
        "from bs4 import BeautifulSoup as BS\n",
        "# html로 변경\n",
        "bs = BS(r.text)"
      ]
    },
    {
      "cell_type": "code",
      "execution_count": null,
      "id": "46b4d83c-3d8d-4514-8296-3418a4ec672a",
      "metadata": {
        "id": "46b4d83c-3d8d-4514-8296-3418a4ec672a"
      },
      "outputs": [],
      "source": []
    },
    {
      "cell_type": "code",
      "execution_count": null,
      "id": "44ae3a91-7a7a-498a-aa1f-c22013555607",
      "metadata": {
        "id": "44ae3a91-7a7a-498a-aa1f-c22013555607",
        "outputId": "63a7ec63-f902-43d2-fa0e-e2fa062d698e"
      },
      "outputs": [
        {
          "data": {
            "text/plain": [
              "'한화 이글스'"
            ]
          },
          "execution_count": 169,
          "metadata": {},
          "output_type": "execute_result"
        }
      ],
      "source": [
        "bs.findAll(\"h4\", class_=\"team regular/2024/emblem_HH\")[0].text"
      ]
    },
    {
      "cell_type": "code",
      "execution_count": null,
      "id": "8c01514b-bac1-40f3-a0f4-d5d4d485b5da",
      "metadata": {
        "id": "8c01514b-bac1-40f3-a0f4-d5d4d485b5da",
        "outputId": "51b93f48-07fc-4568-d85d-9ff885529633"
      },
      "outputs": [
        {
          "data": {
            "text/plain": [
              "'한화 이글스'"
            ]
          },
          "execution_count": 211,
          "metadata": {},
          "output_type": "execute_result"
        }
      ],
      "source": [
        "playerinfo = bs.find('div', class_='player_info')\n",
        "playerinfo.find('h4').text"
      ]
    },
    {
      "cell_type": "code",
      "execution_count": null,
      "id": "6d45f8e6-8479-4061-9acc-899cbca07bb6",
      "metadata": {
        "id": "6d45f8e6-8479-4061-9acc-899cbca07bb6",
        "outputId": "b688d39c-cbd3-42b8-e271-5290040f0d10"
      },
      "outputs": [
        {
          "data": {
            "text/plain": [
              "'선수명'"
            ]
          },
          "execution_count": 194,
          "metadata": {},
          "output_type": "execute_result"
        }
      ],
      "source": [
        "stronglist = playerinfo.findAll('strong')\n",
        "stronglist[0].text.strip()[:-1]"
      ]
    },
    {
      "cell_type": "code",
      "execution_count": null,
      "id": "cdcd8f78-c74e-4aed-8c93-4051d3520efe",
      "metadata": {
        "id": "cdcd8f78-c74e-4aed-8c93-4051d3520efe",
        "outputId": "fcd0cf25-b247-4a08-ca6b-837e4170bd14"
      },
      "outputs": [
        {
          "data": {
            "text/plain": [
              "'강재민'"
            ]
          },
          "execution_count": 201,
          "metadata": {},
          "output_type": "execute_result"
        }
      ],
      "source": [
        "spanlist = playerinfo.findAll('span')\n",
        "spanlist[1].text"
      ]
    },
    {
      "cell_type": "code",
      "execution_count": null,
      "id": "fe7bbe4f-06c9-4a88-96fa-f2dca411a7a2",
      "metadata": {
        "id": "fe7bbe4f-06c9-4a88-96fa-f2dca411a7a2"
      },
      "outputs": [],
      "source": [
        "# 선수정보 수집\n",
        "# strong: 구분\n",
        "stronglist = playerinfo.findAll('strong')\n",
        "# span: 답\n",
        "spanlist = playerinfo.findAll('span')\n",
        "playerdict= {}\n",
        "for i in range(len(playerinfo)):\n",
        "    playerdict[stronglist[i].text.strip()[:-1]] = spanlist[i+1].text"
      ]
    },
    {
      "cell_type": "code",
      "execution_count": null,
      "id": "43e6a38d-7a20-4e6e-abbd-5e2ceb7698f5",
      "metadata": {
        "id": "43e6a38d-7a20-4e6e-abbd-5e2ceb7698f5",
        "outputId": "05aa2056-806c-428a-ac7c-ff055b1e23fd"
      },
      "outputs": [
        {
          "data": {
            "text/plain": [
              "{'선수명': '강재민',\n",
              " '등번호': '',\n",
              " '생년월일': '1997년 04월 03일',\n",
              " '포지션': '투수(우언우타)',\n",
              " '신장/체중': '180cm/89kg',\n",
              " '경력': '양덕초-마산중-용마고-단국대',\n",
              " '입단 계약금': '8000만원',\n",
              " '연봉': '14500만원',\n",
              " '지명순위': '20 한화 2차 4라운드 38순위'}"
            ]
          },
          "execution_count": 205,
          "metadata": {},
          "output_type": "execute_result"
        }
      ],
      "source": [
        "playerdict"
      ]
    },
    {
      "cell_type": "code",
      "execution_count": null,
      "id": "1c41f13e-531e-47e9-9d8f-d8f659d139d1",
      "metadata": {
        "id": "1c41f13e-531e-47e9-9d8f-d8f659d139d1",
        "outputId": "9f0572ee-477b-4d35-fa29-cceed03cc4ca"
      },
      "outputs": [
        {
          "name": "stdout",
          "output_type": "stream",
          "text": [
            "10\n",
            "all done\n"
          ]
        }
      ],
      "source": [
        "# 선수 번호 대입\n",
        "from bs4 import BeautifulSoup as BS\n",
        "import requests\n",
        "\n",
        "# 선수 번호\n",
        "# playid\n",
        "\n",
        "profilelist = []\n",
        "count = 0\n",
        "\"\"\"len(playid)\"\"\"\n",
        "for j in range(0, 10):\n",
        "    # 선수정보주소\n",
        "    r = requests.get(url.format(playid[j]))\n",
        "    # html로 변경\n",
        "    bs = BS(r.text)\n",
        "    playerinfo = bs.find('div', class_='player_info')\n",
        "    # strong: 구분\n",
        "    stronglist = playerinfo.findAll('strong')\n",
        "    # span: 답\n",
        "    spanlist = playerinfo.findAll('span')\n",
        "\n",
        "    playerdict= {}\n",
        "    for i in range(len(playerinfo)):\n",
        "        playerdict['팀'] = playerinfo.find('h4').text\n",
        "        playerdict[stronglist[i].text.strip()[:-1]] = spanlist[i+1].text\n",
        "    profilelist.append(playerdict)\n",
        "\n",
        "    count += 1\n",
        "    if count%10 == 0:\n",
        "        print(count)\n",
        "\n",
        "print(\"all done\")\n"
      ]
    },
    {
      "cell_type": "code",
      "execution_count": null,
      "id": "e5899cda-19f7-4f38-bd02-9ff5e63051b4",
      "metadata": {
        "id": "e5899cda-19f7-4f38-bd02-9ff5e63051b4",
        "outputId": "3be24bc1-da58-45e2-b947-e224017fae22"
      },
      "outputs": [
        {
          "data": {
            "text/plain": [
              "{'팀': '한화 이글스',\n",
              " '선수명': '권동욱',\n",
              " '등번호': '02',\n",
              " '생년월일': '2001년 01월 08일',\n",
              " '포지션': '외야수(우투우타)',\n",
              " '신장/체중': '173cm/85kg',\n",
              " '경력': '가동초-휘문중-배명고-동국대',\n",
              " '입단 계약금': '',\n",
              " '연봉': '3000만원',\n",
              " '지명순위': '24 한화 육성선수'}"
            ]
          },
          "execution_count": 213,
          "metadata": {},
          "output_type": "execute_result"
        }
      ],
      "source": [
        "profilelist[2]"
      ]
    },
    {
      "cell_type": "code",
      "execution_count": null,
      "id": "705f2c60-20b6-426c-93b6-a1d7af12569f",
      "metadata": {
        "id": "705f2c60-20b6-426c-93b6-a1d7af12569f",
        "outputId": "1c04d95f-10ad-411e-e948-2dded2b582c1"
      },
      "outputs": [
        {
          "data": {
            "text/plain": [
              "'김진욱'"
            ]
          },
          "execution_count": 159,
          "metadata": {},
          "output_type": "execute_result"
        }
      ],
      "source": [
        "bs.findAll('li', class_='odd')[0].find('span').text"
      ]
    },
    {
      "cell_type": "code",
      "execution_count": null,
      "id": "6d87ebaa-9776-4a8f-8809-40101093745e",
      "metadata": {
        "id": "6d87ebaa-9776-4a8f-8809-40101093745e",
        "outputId": "5cca6a62-277c-49fd-8c1c-2cd02bd8fd29"
      },
      "outputs": [
        {
          "data": {
            "text/plain": [
              "'54707'"
            ]
          },
          "execution_count": 160,
          "metadata": {},
          "output_type": "execute_result"
        }
      ],
      "source": [
        "playid[2]"
      ]
    },
    {
      "cell_type": "markdown",
      "id": "27f87a57-dec4-45d4-b5b5-780cbee863b3",
      "metadata": {
        "id": "27f87a57-dec4-45d4-b5b5-780cbee863b3"
      },
      "source": [
        "## 함수로 제작"
      ]
    },
    {
      "cell_type": "code",
      "execution_count": null,
      "id": "b17fd95a-d3ae-41e8-961f-dbada68fda3f",
      "metadata": {
        "id": "b17fd95a-d3ae-41e8-961f-dbada68fda3f"
      },
      "outputs": [],
      "source": [
        "play_url = \"https://www.koreabaseball.com/Record/Player/PitcherDetail/Basic.aspx?playerId={}\"\n",
        "from bs4 import BeautifulSoup as BS\n",
        "import requests\n"
      ]
    },
    {
      "cell_type": "code",
      "execution_count": null,
      "id": "74f8bc1e-dcc0-41e7-b736-fd4ce2bfed72",
      "metadata": {
        "id": "74f8bc1e-dcc0-41e7-b736-fd4ce2bfed72"
      },
      "outputs": [],
      "source": [
        "def get_kbo(id_):\n",
        "    kbo_r = requests.get(play_url.format(id_))\n",
        "    bs = BS(kbo_r.text)\n",
        "    data = {x.text.split(\":\")[0] : x.text.split(\":\")[1] for x in bs.find(\"div\", class_= \"player_basic\").findAll(\"li\")}\n",
        "    data['team'] = bs.find(\"h4\", id=\"h4Team\").text\n",
        "    return data\n"
      ]
    },
    {
      "cell_type": "code",
      "execution_count": null,
      "id": "bd0e45f7-a94d-4b4a-833a-88200cb6018c",
      "metadata": {
        "scrolled": true,
        "id": "bd0e45f7-a94d-4b4a-833a-88200cb6018c"
      },
      "outputs": [],
      "source": []
    },
    {
      "cell_type": "code",
      "execution_count": null,
      "id": "7bc06180-77a6-470f-bf37-b46e70d3d2d9",
      "metadata": {
        "id": "7bc06180-77a6-470f-bf37-b46e70d3d2d9",
        "outputId": "82df6ebb-2aba-4a50-aea5-f6bd761b6ccb"
      },
      "outputs": [
        {
          "data": {
            "text/plain": [
              "{'선수명': ' 권현',\n",
              " '등번호': ' No.111',\n",
              " '생년월일': ' 2005년 02월 23일',\n",
              " '포지션': ' 외야수(우투우타)',\n",
              " '신장/체중': ' 182cm/88kg',\n",
              " '경력': ' 사당초-언북중-장충고',\n",
              " '입단 계약금': ' 3000만원',\n",
              " '연봉': ' 3000만원',\n",
              " '지명순위': ' 24 한화 10라운드 91순위',\n",
              " '입단년도': ' ',\n",
              " 'team': '한화 이글스'}"
            ]
          },
          "execution_count": 222,
          "metadata": {},
          "output_type": "execute_result"
        }
      ],
      "source": [
        "get_kbo(54708)"
      ]
    },
    {
      "cell_type": "markdown",
      "id": "c7ccd55a-fd2c-4f18-8fb2-20800df82a1c",
      "metadata": {
        "id": "c7ccd55a-fd2c-4f18-8fb2-20800df82a1c"
      },
      "source": [
        "# 데이터 프레임 제작"
      ]
    },
    {
      "cell_type": "code",
      "execution_count": null,
      "id": "74516183-885e-401c-8599-83b25b37b75b",
      "metadata": {
        "id": "74516183-885e-401c-8599-83b25b37b75b",
        "outputId": "9de8af1d-a709-4692-a06b-4066b0b59266"
      },
      "outputs": [
        {
          "name": "stdout",
          "output_type": "stream",
          "text": [
            "Collecting pandas\n",
            "  Downloading pandas-2.2.1-cp39-cp39-win_amd64.whl.metadata (19 kB)\n",
            "Collecting numpy<2,>=1.22.4 (from pandas)\n",
            "  Downloading numpy-1.26.4-cp39-cp39-win_amd64.whl.metadata (61 kB)\n",
            "     ---------------------------------------- 0.0/61.0 kB ? eta -:--:--\n",
            "     ------ --------------------------------- 10.2/61.0 kB ? eta -:--:--\n",
            "     ------------------------------- ------ 51.2/61.0 kB 660.6 kB/s eta 0:00:01\n",
            "     -------------------------------------- 61.0/61.0 kB 651.3 kB/s eta 0:00:00\n",
            "Requirement already satisfied: python-dateutil>=2.8.2 in c:\\users\\playdata\\miniconda3\\envs\\psw_py39\\lib\\site-packages (from pandas) (2.8.2)\n",
            "Requirement already satisfied: pytz>=2020.1 in c:\\users\\playdata\\miniconda3\\envs\\psw_py39\\lib\\site-packages (from pandas) (2023.3.post1)\n",
            "Collecting tzdata>=2022.7 (from pandas)\n",
            "  Downloading tzdata-2024.1-py2.py3-none-any.whl.metadata (1.4 kB)\n",
            "Requirement already satisfied: six>=1.5 in c:\\users\\playdata\\miniconda3\\envs\\psw_py39\\lib\\site-packages (from python-dateutil>=2.8.2->pandas) (1.16.0)\n",
            "Downloading pandas-2.2.1-cp39-cp39-win_amd64.whl (11.6 MB)\n",
            "   ---------------------------------------- 0.0/11.6 MB ? eta -:--:--\n",
            "   - -------------------------------------- 0.3/11.6 MB 6.3 MB/s eta 0:00:02\n",
            "   --- ------------------------------------ 1.0/11.6 MB 10.7 MB/s eta 0:00:01\n",
            "   ------- -------------------------------- 2.1/11.6 MB 14.7 MB/s eta 0:00:01\n",
            "   -------- ------------------------------- 2.4/11.6 MB 12.9 MB/s eta 0:00:01\n",
            "   ------------ --------------------------- 3.6/11.6 MB 15.3 MB/s eta 0:00:01\n",
            "   ---------------- ----------------------- 4.7/11.6 MB 16.7 MB/s eta 0:00:01\n",
            "   ------------------- -------------------- 5.8/11.6 MB 17.5 MB/s eta 0:00:01\n",
            "   ---------------------- ----------------- 6.5/11.6 MB 17.4 MB/s eta 0:00:01\n",
            "   ------------------------ --------------- 7.0/11.6 MB 17.2 MB/s eta 0:00:01\n",
            "   --------------------------- ------------ 8.0/11.6 MB 18.2 MB/s eta 0:00:01\n",
            "   ---------------------------- ----------- 8.4/11.6 MB 16.2 MB/s eta 0:00:01\n",
            "   --------------------------------- ------ 9.6/11.6 MB 17.0 MB/s eta 0:00:01\n",
            "   ----------------------------------- ---- 10.2/11.6 MB 17.7 MB/s eta 0:00:01\n",
            "   ---------------------------------------  11.6/11.6 MB 19.3 MB/s eta 0:00:01\n",
            "   ---------------------------------------- 11.6/11.6 MB 18.2 MB/s eta 0:00:00\n",
            "Downloading numpy-1.26.4-cp39-cp39-win_amd64.whl (15.8 MB)\n",
            "   ---------------------------------------- 0.0/15.8 MB ? eta -:--:--\n",
            "   --- ------------------------------------ 1.2/15.8 MB 26.1 MB/s eta 0:00:01\n",
            "   ------ --------------------------------- 2.6/15.8 MB 32.7 MB/s eta 0:00:01\n",
            "   ------ --------------------------------- 2.6/15.8 MB 32.7 MB/s eta 0:00:01\n",
            "   ---------- ----------------------------- 4.3/15.8 MB 25.2 MB/s eta 0:00:01\n",
            "   ------------ --------------------------- 5.0/15.8 MB 24.6 MB/s eta 0:00:01\n",
            "   ------------------- -------------------- 7.7/15.8 MB 30.9 MB/s eta 0:00:01\n",
            "   ------------------- -------------------- 7.8/15.8 MB 24.9 MB/s eta 0:00:01\n",
            "   --------------------- ------------------ 8.6/15.8 MB 23.0 MB/s eta 0:00:01\n",
            "   ------------------------------- -------- 12.6/15.8 MB 29.7 MB/s eta 0:00:01\n",
            "   ----------------------------------- ---- 14.2/15.8 MB 32.7 MB/s eta 0:00:01\n",
            "   ---------------------------------------  15.8/15.8 MB 36.4 MB/s eta 0:00:01\n",
            "   ---------------------------------------- 15.8/15.8 MB 32.7 MB/s eta 0:00:00\n",
            "Downloading tzdata-2024.1-py2.py3-none-any.whl (345 kB)\n",
            "   ---------------------------------------- 0.0/345.4 kB ? eta -:--:--\n",
            "   --------------------------------------- 345.4/345.4 kB 20.9 MB/s eta 0:00:00\n",
            "Installing collected packages: tzdata, numpy, pandas\n",
            "Successfully installed numpy-1.26.4 pandas-2.2.1 tzdata-2024.1\n",
            "Note: you may need to restart the kernel to use updated packages.\n"
          ]
        }
      ],
      "source": [
        "pip install pandas"
      ]
    },
    {
      "cell_type": "code",
      "execution_count": null,
      "id": "df56d77a-054e-427d-9d84-83d2d8abdf47",
      "metadata": {
        "id": "df56d77a-054e-427d-9d84-83d2d8abdf47",
        "outputId": "de60a108-7ace-42a5-ea54-ac3044e8c6b9"
      },
      "outputs": [
        {
          "ename": "KeyboardInterrupt",
          "evalue": "",
          "output_type": "error",
          "traceback": [
            "\u001b[1;31m---------------------------------------------------------------------------\u001b[0m",
            "\u001b[1;31mKeyboardInterrupt\u001b[0m                         Traceback (most recent call last)",
            "Cell \u001b[1;32mIn[244], line 2\u001b[0m\n\u001b[0;32m      1\u001b[0m \u001b[38;5;28;01mimport\u001b[39;00m \u001b[38;5;21;01mpandas\u001b[39;00m \u001b[38;5;28;01mas\u001b[39;00m \u001b[38;5;21;01mpd\u001b[39;00m\n\u001b[1;32m----> 2\u001b[0m df \u001b[38;5;241m=\u001b[39m pd\u001b[38;5;241m.\u001b[39mDataFrame([get_kbo(x) \u001b[38;5;28;01mfor\u001b[39;00m x \u001b[38;5;129;01min\u001b[39;00m playid])\n",
            "Cell \u001b[1;32mIn[244], line 2\u001b[0m, in \u001b[0;36m<listcomp>\u001b[1;34m(.0)\u001b[0m\n\u001b[0;32m      1\u001b[0m \u001b[38;5;28;01mimport\u001b[39;00m \u001b[38;5;21;01mpandas\u001b[39;00m \u001b[38;5;28;01mas\u001b[39;00m \u001b[38;5;21;01mpd\u001b[39;00m\n\u001b[1;32m----> 2\u001b[0m df \u001b[38;5;241m=\u001b[39m pd\u001b[38;5;241m.\u001b[39mDataFrame([\u001b[43mget_kbo\u001b[49m\u001b[43m(\u001b[49m\u001b[43mx\u001b[49m\u001b[43m)\u001b[49m \u001b[38;5;28;01mfor\u001b[39;00m x \u001b[38;5;129;01min\u001b[39;00m playid])\n",
            "Cell \u001b[1;32mIn[218], line 2\u001b[0m, in \u001b[0;36mget_kbo\u001b[1;34m(id_)\u001b[0m\n\u001b[0;32m      1\u001b[0m \u001b[38;5;28;01mdef\u001b[39;00m \u001b[38;5;21mget_kbo\u001b[39m(id_):\n\u001b[1;32m----> 2\u001b[0m     kbo_r \u001b[38;5;241m=\u001b[39m \u001b[43mrequests\u001b[49m\u001b[38;5;241;43m.\u001b[39;49m\u001b[43mget\u001b[49m\u001b[43m(\u001b[49m\u001b[43mplay_url\u001b[49m\u001b[38;5;241;43m.\u001b[39;49m\u001b[43mformat\u001b[49m\u001b[43m(\u001b[49m\u001b[43mid_\u001b[49m\u001b[43m)\u001b[49m\u001b[43m)\u001b[49m\n\u001b[0;32m      3\u001b[0m     bs \u001b[38;5;241m=\u001b[39m BS(kbo_r\u001b[38;5;241m.\u001b[39mtext)\n\u001b[0;32m      4\u001b[0m     data \u001b[38;5;241m=\u001b[39m {x\u001b[38;5;241m.\u001b[39mtext\u001b[38;5;241m.\u001b[39msplit(\u001b[38;5;124m\"\u001b[39m\u001b[38;5;124m:\u001b[39m\u001b[38;5;124m\"\u001b[39m)[\u001b[38;5;241m0\u001b[39m] : x\u001b[38;5;241m.\u001b[39mtext\u001b[38;5;241m.\u001b[39msplit(\u001b[38;5;124m\"\u001b[39m\u001b[38;5;124m:\u001b[39m\u001b[38;5;124m\"\u001b[39m)[\u001b[38;5;241m1\u001b[39m] \u001b[38;5;28;01mfor\u001b[39;00m x \u001b[38;5;129;01min\u001b[39;00m bs\u001b[38;5;241m.\u001b[39mfind(\u001b[38;5;124m\"\u001b[39m\u001b[38;5;124mdiv\u001b[39m\u001b[38;5;124m\"\u001b[39m, class_\u001b[38;5;241m=\u001b[39m \u001b[38;5;124m\"\u001b[39m\u001b[38;5;124mplayer_basic\u001b[39m\u001b[38;5;124m\"\u001b[39m)\u001b[38;5;241m.\u001b[39mfindAll(\u001b[38;5;124m\"\u001b[39m\u001b[38;5;124mli\u001b[39m\u001b[38;5;124m\"\u001b[39m)}\n",
            "File \u001b[1;32m~\\miniconda3\\envs\\psw_py39\\lib\\site-packages\\requests\\api.py:73\u001b[0m, in \u001b[0;36mget\u001b[1;34m(url, params, **kwargs)\u001b[0m\n\u001b[0;32m     62\u001b[0m \u001b[38;5;28;01mdef\u001b[39;00m \u001b[38;5;21mget\u001b[39m(url, params\u001b[38;5;241m=\u001b[39m\u001b[38;5;28;01mNone\u001b[39;00m, \u001b[38;5;241m*\u001b[39m\u001b[38;5;241m*\u001b[39mkwargs):\n\u001b[0;32m     63\u001b[0m \u001b[38;5;250m    \u001b[39m\u001b[38;5;124mr\u001b[39m\u001b[38;5;124;03m\"\"\"Sends a GET request.\u001b[39;00m\n\u001b[0;32m     64\u001b[0m \n\u001b[0;32m     65\u001b[0m \u001b[38;5;124;03m    :param url: URL for the new :class:`Request` object.\u001b[39;00m\n\u001b[1;32m   (...)\u001b[0m\n\u001b[0;32m     70\u001b[0m \u001b[38;5;124;03m    :rtype: requests.Response\u001b[39;00m\n\u001b[0;32m     71\u001b[0m \u001b[38;5;124;03m    \"\"\"\u001b[39;00m\n\u001b[1;32m---> 73\u001b[0m     \u001b[38;5;28;01mreturn\u001b[39;00m request(\u001b[38;5;124m\"\u001b[39m\u001b[38;5;124mget\u001b[39m\u001b[38;5;124m\"\u001b[39m, url, params\u001b[38;5;241m=\u001b[39mparams, \u001b[38;5;241m*\u001b[39m\u001b[38;5;241m*\u001b[39mkwargs)\n",
            "File \u001b[1;32m~\\miniconda3\\envs\\psw_py39\\lib\\site-packages\\requests\\api.py:59\u001b[0m, in \u001b[0;36mrequest\u001b[1;34m(method, url, **kwargs)\u001b[0m\n\u001b[0;32m     55\u001b[0m \u001b[38;5;66;03m# By using the 'with' statement we are sure the session is closed, thus we\u001b[39;00m\n\u001b[0;32m     56\u001b[0m \u001b[38;5;66;03m# avoid leaving sockets open which can trigger a ResourceWarning in some\u001b[39;00m\n\u001b[0;32m     57\u001b[0m \u001b[38;5;66;03m# cases, and look like a memory leak in others.\u001b[39;00m\n\u001b[0;32m     58\u001b[0m \u001b[38;5;28;01mwith\u001b[39;00m sessions\u001b[38;5;241m.\u001b[39mSession() \u001b[38;5;28;01mas\u001b[39;00m session:\n\u001b[1;32m---> 59\u001b[0m     \u001b[38;5;28;01mreturn\u001b[39;00m session\u001b[38;5;241m.\u001b[39mrequest(method\u001b[38;5;241m=\u001b[39mmethod, url\u001b[38;5;241m=\u001b[39murl, \u001b[38;5;241m*\u001b[39m\u001b[38;5;241m*\u001b[39mkwargs)\n",
            "File \u001b[1;32m~\\miniconda3\\envs\\psw_py39\\lib\\site-packages\\requests\\sessions.py:589\u001b[0m, in \u001b[0;36mSession.request\u001b[1;34m(self, method, url, params, data, headers, cookies, files, auth, timeout, allow_redirects, proxies, hooks, stream, verify, cert, json)\u001b[0m\n\u001b[0;32m    584\u001b[0m send_kwargs \u001b[38;5;241m=\u001b[39m {\n\u001b[0;32m    585\u001b[0m     \u001b[38;5;124m\"\u001b[39m\u001b[38;5;124mtimeout\u001b[39m\u001b[38;5;124m\"\u001b[39m: timeout,\n\u001b[0;32m    586\u001b[0m     \u001b[38;5;124m\"\u001b[39m\u001b[38;5;124mallow_redirects\u001b[39m\u001b[38;5;124m\"\u001b[39m: allow_redirects,\n\u001b[0;32m    587\u001b[0m }\n\u001b[0;32m    588\u001b[0m send_kwargs\u001b[38;5;241m.\u001b[39mupdate(settings)\n\u001b[1;32m--> 589\u001b[0m resp \u001b[38;5;241m=\u001b[39m \u001b[38;5;28mself\u001b[39m\u001b[38;5;241m.\u001b[39msend(prep, \u001b[38;5;241m*\u001b[39m\u001b[38;5;241m*\u001b[39msend_kwargs)\n\u001b[0;32m    591\u001b[0m \u001b[38;5;28;01mreturn\u001b[39;00m resp\n",
            "File \u001b[1;32m~\\miniconda3\\envs\\psw_py39\\lib\\site-packages\\requests\\sessions.py:747\u001b[0m, in \u001b[0;36mSession.send\u001b[1;34m(self, request, **kwargs)\u001b[0m\n\u001b[0;32m    744\u001b[0m         \u001b[38;5;28;01mpass\u001b[39;00m\n\u001b[0;32m    746\u001b[0m \u001b[38;5;28;01mif\u001b[39;00m \u001b[38;5;129;01mnot\u001b[39;00m stream:\n\u001b[1;32m--> 747\u001b[0m     \u001b[43mr\u001b[49m\u001b[38;5;241;43m.\u001b[39;49m\u001b[43mcontent\u001b[49m\n\u001b[0;32m    749\u001b[0m \u001b[38;5;28;01mreturn\u001b[39;00m r\n",
            "File \u001b[1;32m~\\miniconda3\\envs\\psw_py39\\lib\\site-packages\\requests\\models.py:899\u001b[0m, in \u001b[0;36mResponse.content\u001b[1;34m(self)\u001b[0m\n\u001b[0;32m    897\u001b[0m         \u001b[38;5;28mself\u001b[39m\u001b[38;5;241m.\u001b[39m_content \u001b[38;5;241m=\u001b[39m \u001b[38;5;28;01mNone\u001b[39;00m\n\u001b[0;32m    898\u001b[0m     \u001b[38;5;28;01melse\u001b[39;00m:\n\u001b[1;32m--> 899\u001b[0m         \u001b[38;5;28mself\u001b[39m\u001b[38;5;241m.\u001b[39m_content \u001b[38;5;241m=\u001b[39m \u001b[38;5;124;43mb\u001b[39;49m\u001b[38;5;124;43m\"\u001b[39;49m\u001b[38;5;124;43m\"\u001b[39;49m\u001b[38;5;241;43m.\u001b[39;49m\u001b[43mjoin\u001b[49m\u001b[43m(\u001b[49m\u001b[38;5;28;43mself\u001b[39;49m\u001b[38;5;241;43m.\u001b[39;49m\u001b[43miter_content\u001b[49m\u001b[43m(\u001b[49m\u001b[43mCONTENT_CHUNK_SIZE\u001b[49m\u001b[43m)\u001b[49m\u001b[43m)\u001b[49m \u001b[38;5;129;01mor\u001b[39;00m \u001b[38;5;124mb\u001b[39m\u001b[38;5;124m\"\u001b[39m\u001b[38;5;124m\"\u001b[39m\n\u001b[0;32m    901\u001b[0m \u001b[38;5;28mself\u001b[39m\u001b[38;5;241m.\u001b[39m_content_consumed \u001b[38;5;241m=\u001b[39m \u001b[38;5;28;01mTrue\u001b[39;00m\n\u001b[0;32m    902\u001b[0m \u001b[38;5;66;03m# don't need to release the connection; that's been handled by urllib3\u001b[39;00m\n\u001b[0;32m    903\u001b[0m \u001b[38;5;66;03m# since we exhausted the data.\u001b[39;00m\n",
            "File \u001b[1;32m~\\miniconda3\\envs\\psw_py39\\lib\\site-packages\\requests\\models.py:816\u001b[0m, in \u001b[0;36mResponse.iter_content.<locals>.generate\u001b[1;34m()\u001b[0m\n\u001b[0;32m    814\u001b[0m \u001b[38;5;28;01mif\u001b[39;00m \u001b[38;5;28mhasattr\u001b[39m(\u001b[38;5;28mself\u001b[39m\u001b[38;5;241m.\u001b[39mraw, \u001b[38;5;124m\"\u001b[39m\u001b[38;5;124mstream\u001b[39m\u001b[38;5;124m\"\u001b[39m):\n\u001b[0;32m    815\u001b[0m     \u001b[38;5;28;01mtry\u001b[39;00m:\n\u001b[1;32m--> 816\u001b[0m         \u001b[38;5;28;01myield from\u001b[39;00m \u001b[38;5;28mself\u001b[39m\u001b[38;5;241m.\u001b[39mraw\u001b[38;5;241m.\u001b[39mstream(chunk_size, decode_content\u001b[38;5;241m=\u001b[39m\u001b[38;5;28;01mTrue\u001b[39;00m)\n\u001b[0;32m    817\u001b[0m     \u001b[38;5;28;01mexcept\u001b[39;00m ProtocolError \u001b[38;5;28;01mas\u001b[39;00m e:\n\u001b[0;32m    818\u001b[0m         \u001b[38;5;28;01mraise\u001b[39;00m ChunkedEncodingError(e)\n",
            "File \u001b[1;32m~\\miniconda3\\envs\\psw_py39\\lib\\site-packages\\urllib3\\response.py:934\u001b[0m, in \u001b[0;36mHTTPResponse.stream\u001b[1;34m(self, amt, decode_content)\u001b[0m\n\u001b[0;32m    932\u001b[0m \u001b[38;5;28;01melse\u001b[39;00m:\n\u001b[0;32m    933\u001b[0m     \u001b[38;5;28;01mwhile\u001b[39;00m \u001b[38;5;129;01mnot\u001b[39;00m is_fp_closed(\u001b[38;5;28mself\u001b[39m\u001b[38;5;241m.\u001b[39m_fp) \u001b[38;5;129;01mor\u001b[39;00m \u001b[38;5;28mlen\u001b[39m(\u001b[38;5;28mself\u001b[39m\u001b[38;5;241m.\u001b[39m_decoded_buffer) \u001b[38;5;241m>\u001b[39m \u001b[38;5;241m0\u001b[39m:\n\u001b[1;32m--> 934\u001b[0m         data \u001b[38;5;241m=\u001b[39m \u001b[38;5;28;43mself\u001b[39;49m\u001b[38;5;241;43m.\u001b[39;49m\u001b[43mread\u001b[49m\u001b[43m(\u001b[49m\u001b[43mamt\u001b[49m\u001b[38;5;241;43m=\u001b[39;49m\u001b[43mamt\u001b[49m\u001b[43m,\u001b[49m\u001b[43m \u001b[49m\u001b[43mdecode_content\u001b[49m\u001b[38;5;241;43m=\u001b[39;49m\u001b[43mdecode_content\u001b[49m\u001b[43m)\u001b[49m\n\u001b[0;32m    936\u001b[0m         \u001b[38;5;28;01mif\u001b[39;00m data:\n\u001b[0;32m    937\u001b[0m             \u001b[38;5;28;01myield\u001b[39;00m data\n",
            "File \u001b[1;32m~\\miniconda3\\envs\\psw_py39\\lib\\site-packages\\urllib3\\response.py:877\u001b[0m, in \u001b[0;36mHTTPResponse.read\u001b[1;34m(self, amt, decode_content, cache_content)\u001b[0m\n\u001b[0;32m    874\u001b[0m     \u001b[38;5;28;01mif\u001b[39;00m \u001b[38;5;28mlen\u001b[39m(\u001b[38;5;28mself\u001b[39m\u001b[38;5;241m.\u001b[39m_decoded_buffer) \u001b[38;5;241m>\u001b[39m\u001b[38;5;241m=\u001b[39m amt:\n\u001b[0;32m    875\u001b[0m         \u001b[38;5;28;01mreturn\u001b[39;00m \u001b[38;5;28mself\u001b[39m\u001b[38;5;241m.\u001b[39m_decoded_buffer\u001b[38;5;241m.\u001b[39mget(amt)\n\u001b[1;32m--> 877\u001b[0m data \u001b[38;5;241m=\u001b[39m \u001b[38;5;28;43mself\u001b[39;49m\u001b[38;5;241;43m.\u001b[39;49m\u001b[43m_raw_read\u001b[49m\u001b[43m(\u001b[49m\u001b[43mamt\u001b[49m\u001b[43m)\u001b[49m\n\u001b[0;32m    879\u001b[0m flush_decoder \u001b[38;5;241m=\u001b[39m amt \u001b[38;5;129;01mis\u001b[39;00m \u001b[38;5;28;01mNone\u001b[39;00m \u001b[38;5;129;01mor\u001b[39;00m (amt \u001b[38;5;241m!=\u001b[39m \u001b[38;5;241m0\u001b[39m \u001b[38;5;129;01mand\u001b[39;00m \u001b[38;5;129;01mnot\u001b[39;00m data)\n\u001b[0;32m    881\u001b[0m \u001b[38;5;28;01mif\u001b[39;00m \u001b[38;5;129;01mnot\u001b[39;00m data \u001b[38;5;129;01mand\u001b[39;00m \u001b[38;5;28mlen\u001b[39m(\u001b[38;5;28mself\u001b[39m\u001b[38;5;241m.\u001b[39m_decoded_buffer) \u001b[38;5;241m==\u001b[39m \u001b[38;5;241m0\u001b[39m:\n",
            "File \u001b[1;32m~\\miniconda3\\envs\\psw_py39\\lib\\site-packages\\urllib3\\response.py:812\u001b[0m, in \u001b[0;36mHTTPResponse._raw_read\u001b[1;34m(self, amt)\u001b[0m\n\u001b[0;32m    809\u001b[0m fp_closed \u001b[38;5;241m=\u001b[39m \u001b[38;5;28mgetattr\u001b[39m(\u001b[38;5;28mself\u001b[39m\u001b[38;5;241m.\u001b[39m_fp, \u001b[38;5;124m\"\u001b[39m\u001b[38;5;124mclosed\u001b[39m\u001b[38;5;124m\"\u001b[39m, \u001b[38;5;28;01mFalse\u001b[39;00m)\n\u001b[0;32m    811\u001b[0m \u001b[38;5;28;01mwith\u001b[39;00m \u001b[38;5;28mself\u001b[39m\u001b[38;5;241m.\u001b[39m_error_catcher():\n\u001b[1;32m--> 812\u001b[0m     data \u001b[38;5;241m=\u001b[39m \u001b[38;5;28;43mself\u001b[39;49m\u001b[38;5;241;43m.\u001b[39;49m\u001b[43m_fp_read\u001b[49m\u001b[43m(\u001b[49m\u001b[43mamt\u001b[49m\u001b[43m)\u001b[49m \u001b[38;5;28;01mif\u001b[39;00m \u001b[38;5;129;01mnot\u001b[39;00m fp_closed \u001b[38;5;28;01melse\u001b[39;00m \u001b[38;5;124mb\u001b[39m\u001b[38;5;124m\"\u001b[39m\u001b[38;5;124m\"\u001b[39m\n\u001b[0;32m    813\u001b[0m     \u001b[38;5;28;01mif\u001b[39;00m amt \u001b[38;5;129;01mis\u001b[39;00m \u001b[38;5;129;01mnot\u001b[39;00m \u001b[38;5;28;01mNone\u001b[39;00m \u001b[38;5;129;01mand\u001b[39;00m amt \u001b[38;5;241m!=\u001b[39m \u001b[38;5;241m0\u001b[39m \u001b[38;5;129;01mand\u001b[39;00m \u001b[38;5;129;01mnot\u001b[39;00m data:\n\u001b[0;32m    814\u001b[0m         \u001b[38;5;66;03m# Platform-specific: Buggy versions of Python.\u001b[39;00m\n\u001b[0;32m    815\u001b[0m         \u001b[38;5;66;03m# Close the connection when no data is returned\u001b[39;00m\n\u001b[1;32m   (...)\u001b[0m\n\u001b[0;32m    820\u001b[0m         \u001b[38;5;66;03m# not properly close the connection in all cases. There is\u001b[39;00m\n\u001b[0;32m    821\u001b[0m         \u001b[38;5;66;03m# no harm in redundantly calling close.\u001b[39;00m\n\u001b[0;32m    822\u001b[0m         \u001b[38;5;28mself\u001b[39m\u001b[38;5;241m.\u001b[39m_fp\u001b[38;5;241m.\u001b[39mclose()\n",
            "File \u001b[1;32m~\\miniconda3\\envs\\psw_py39\\lib\\site-packages\\urllib3\\response.py:797\u001b[0m, in \u001b[0;36mHTTPResponse._fp_read\u001b[1;34m(self, amt)\u001b[0m\n\u001b[0;32m    794\u001b[0m     \u001b[38;5;28;01mreturn\u001b[39;00m buffer\u001b[38;5;241m.\u001b[39mgetvalue()\n\u001b[0;32m    795\u001b[0m \u001b[38;5;28;01melse\u001b[39;00m:\n\u001b[0;32m    796\u001b[0m     \u001b[38;5;66;03m# StringIO doesn't like amt=None\u001b[39;00m\n\u001b[1;32m--> 797\u001b[0m     \u001b[38;5;28;01mreturn\u001b[39;00m \u001b[38;5;28;43mself\u001b[39;49m\u001b[38;5;241;43m.\u001b[39;49m\u001b[43m_fp\u001b[49m\u001b[38;5;241;43m.\u001b[39;49m\u001b[43mread\u001b[49m\u001b[43m(\u001b[49m\u001b[43mamt\u001b[49m\u001b[43m)\u001b[49m \u001b[38;5;28;01mif\u001b[39;00m amt \u001b[38;5;129;01mis\u001b[39;00m \u001b[38;5;129;01mnot\u001b[39;00m \u001b[38;5;28;01mNone\u001b[39;00m \u001b[38;5;28;01melse\u001b[39;00m \u001b[38;5;28mself\u001b[39m\u001b[38;5;241m.\u001b[39m_fp\u001b[38;5;241m.\u001b[39mread()\n",
            "File \u001b[1;32m~\\miniconda3\\envs\\psw_py39\\lib\\http\\client.py:463\u001b[0m, in \u001b[0;36mHTTPResponse.read\u001b[1;34m(self, amt)\u001b[0m\n\u001b[0;32m    460\u001b[0m \u001b[38;5;28;01mif\u001b[39;00m amt \u001b[38;5;129;01mis\u001b[39;00m \u001b[38;5;129;01mnot\u001b[39;00m \u001b[38;5;28;01mNone\u001b[39;00m:\n\u001b[0;32m    461\u001b[0m     \u001b[38;5;66;03m# Amount is given, implement using readinto\u001b[39;00m\n\u001b[0;32m    462\u001b[0m     b \u001b[38;5;241m=\u001b[39m \u001b[38;5;28mbytearray\u001b[39m(amt)\n\u001b[1;32m--> 463\u001b[0m     n \u001b[38;5;241m=\u001b[39m \u001b[38;5;28;43mself\u001b[39;49m\u001b[38;5;241;43m.\u001b[39;49m\u001b[43mreadinto\u001b[49m\u001b[43m(\u001b[49m\u001b[43mb\u001b[49m\u001b[43m)\u001b[49m\n\u001b[0;32m    464\u001b[0m     \u001b[38;5;28;01mreturn\u001b[39;00m \u001b[38;5;28mmemoryview\u001b[39m(b)[:n]\u001b[38;5;241m.\u001b[39mtobytes()\n\u001b[0;32m    465\u001b[0m \u001b[38;5;28;01melse\u001b[39;00m:\n\u001b[0;32m    466\u001b[0m     \u001b[38;5;66;03m# Amount is not given (unbounded read) so we must check self.length\u001b[39;00m\n\u001b[0;32m    467\u001b[0m     \u001b[38;5;66;03m# and self.chunked\u001b[39;00m\n",
            "File \u001b[1;32m~\\miniconda3\\envs\\psw_py39\\lib\\http\\client.py:507\u001b[0m, in \u001b[0;36mHTTPResponse.readinto\u001b[1;34m(self, b)\u001b[0m\n\u001b[0;32m    502\u001b[0m         b \u001b[38;5;241m=\u001b[39m \u001b[38;5;28mmemoryview\u001b[39m(b)[\u001b[38;5;241m0\u001b[39m:\u001b[38;5;28mself\u001b[39m\u001b[38;5;241m.\u001b[39mlength]\n\u001b[0;32m    504\u001b[0m \u001b[38;5;66;03m# we do not use _safe_read() here because this may be a .will_close\u001b[39;00m\n\u001b[0;32m    505\u001b[0m \u001b[38;5;66;03m# connection, and the user is reading more bytes than will be provided\u001b[39;00m\n\u001b[0;32m    506\u001b[0m \u001b[38;5;66;03m# (for example, reading in 1k chunks)\u001b[39;00m\n\u001b[1;32m--> 507\u001b[0m n \u001b[38;5;241m=\u001b[39m \u001b[38;5;28;43mself\u001b[39;49m\u001b[38;5;241;43m.\u001b[39;49m\u001b[43mfp\u001b[49m\u001b[38;5;241;43m.\u001b[39;49m\u001b[43mreadinto\u001b[49m\u001b[43m(\u001b[49m\u001b[43mb\u001b[49m\u001b[43m)\u001b[49m\n\u001b[0;32m    508\u001b[0m \u001b[38;5;28;01mif\u001b[39;00m \u001b[38;5;129;01mnot\u001b[39;00m n \u001b[38;5;129;01mand\u001b[39;00m b:\n\u001b[0;32m    509\u001b[0m     \u001b[38;5;66;03m# Ideally, we would raise IncompleteRead if the content-length\u001b[39;00m\n\u001b[0;32m    510\u001b[0m     \u001b[38;5;66;03m# wasn't satisfied, but it might break compatibility.\u001b[39;00m\n\u001b[0;32m    511\u001b[0m     \u001b[38;5;28mself\u001b[39m\u001b[38;5;241m.\u001b[39m_close_conn()\n",
            "File \u001b[1;32m~\\miniconda3\\envs\\psw_py39\\lib\\socket.py:704\u001b[0m, in \u001b[0;36mSocketIO.readinto\u001b[1;34m(self, b)\u001b[0m\n\u001b[0;32m    702\u001b[0m \u001b[38;5;28;01mwhile\u001b[39;00m \u001b[38;5;28;01mTrue\u001b[39;00m:\n\u001b[0;32m    703\u001b[0m     \u001b[38;5;28;01mtry\u001b[39;00m:\n\u001b[1;32m--> 704\u001b[0m         \u001b[38;5;28;01mreturn\u001b[39;00m \u001b[38;5;28;43mself\u001b[39;49m\u001b[38;5;241;43m.\u001b[39;49m\u001b[43m_sock\u001b[49m\u001b[38;5;241;43m.\u001b[39;49m\u001b[43mrecv_into\u001b[49m\u001b[43m(\u001b[49m\u001b[43mb\u001b[49m\u001b[43m)\u001b[49m\n\u001b[0;32m    705\u001b[0m     \u001b[38;5;28;01mexcept\u001b[39;00m timeout:\n\u001b[0;32m    706\u001b[0m         \u001b[38;5;28mself\u001b[39m\u001b[38;5;241m.\u001b[39m_timeout_occurred \u001b[38;5;241m=\u001b[39m \u001b[38;5;28;01mTrue\u001b[39;00m\n",
            "File \u001b[1;32m~\\miniconda3\\envs\\psw_py39\\lib\\ssl.py:1275\u001b[0m, in \u001b[0;36mSSLSocket.recv_into\u001b[1;34m(self, buffer, nbytes, flags)\u001b[0m\n\u001b[0;32m   1271\u001b[0m     \u001b[38;5;28;01mif\u001b[39;00m flags \u001b[38;5;241m!=\u001b[39m \u001b[38;5;241m0\u001b[39m:\n\u001b[0;32m   1272\u001b[0m         \u001b[38;5;28;01mraise\u001b[39;00m \u001b[38;5;167;01mValueError\u001b[39;00m(\n\u001b[0;32m   1273\u001b[0m           \u001b[38;5;124m\"\u001b[39m\u001b[38;5;124mnon-zero flags not allowed in calls to recv_into() on \u001b[39m\u001b[38;5;132;01m%s\u001b[39;00m\u001b[38;5;124m\"\u001b[39m \u001b[38;5;241m%\u001b[39m\n\u001b[0;32m   1274\u001b[0m           \u001b[38;5;28mself\u001b[39m\u001b[38;5;241m.\u001b[39m\u001b[38;5;18m__class__\u001b[39m)\n\u001b[1;32m-> 1275\u001b[0m     \u001b[38;5;28;01mreturn\u001b[39;00m \u001b[38;5;28;43mself\u001b[39;49m\u001b[38;5;241;43m.\u001b[39;49m\u001b[43mread\u001b[49m\u001b[43m(\u001b[49m\u001b[43mnbytes\u001b[49m\u001b[43m,\u001b[49m\u001b[43m \u001b[49m\u001b[43mbuffer\u001b[49m\u001b[43m)\u001b[49m\n\u001b[0;32m   1276\u001b[0m \u001b[38;5;28;01melse\u001b[39;00m:\n\u001b[0;32m   1277\u001b[0m     \u001b[38;5;28;01mreturn\u001b[39;00m \u001b[38;5;28msuper\u001b[39m()\u001b[38;5;241m.\u001b[39mrecv_into(buffer, nbytes, flags)\n",
            "File \u001b[1;32m~\\miniconda3\\envs\\psw_py39\\lib\\ssl.py:1133\u001b[0m, in \u001b[0;36mSSLSocket.read\u001b[1;34m(self, len, buffer)\u001b[0m\n\u001b[0;32m   1131\u001b[0m \u001b[38;5;28;01mtry\u001b[39;00m:\n\u001b[0;32m   1132\u001b[0m     \u001b[38;5;28;01mif\u001b[39;00m buffer \u001b[38;5;129;01mis\u001b[39;00m \u001b[38;5;129;01mnot\u001b[39;00m \u001b[38;5;28;01mNone\u001b[39;00m:\n\u001b[1;32m-> 1133\u001b[0m         \u001b[38;5;28;01mreturn\u001b[39;00m \u001b[38;5;28;43mself\u001b[39;49m\u001b[38;5;241;43m.\u001b[39;49m\u001b[43m_sslobj\u001b[49m\u001b[38;5;241;43m.\u001b[39;49m\u001b[43mread\u001b[49m\u001b[43m(\u001b[49m\u001b[38;5;28;43mlen\u001b[39;49m\u001b[43m,\u001b[49m\u001b[43m \u001b[49m\u001b[43mbuffer\u001b[49m\u001b[43m)\u001b[49m\n\u001b[0;32m   1134\u001b[0m     \u001b[38;5;28;01melse\u001b[39;00m:\n\u001b[0;32m   1135\u001b[0m         \u001b[38;5;28;01mreturn\u001b[39;00m \u001b[38;5;28mself\u001b[39m\u001b[38;5;241m.\u001b[39m_sslobj\u001b[38;5;241m.\u001b[39mread(\u001b[38;5;28mlen\u001b[39m)\n",
            "\u001b[1;31mKeyboardInterrupt\u001b[0m: "
          ]
        }
      ],
      "source": [
        "import pandas as pd\n",
        "df = pd.DataFrame([get_kbo(x) for x in playid])\n",
        ""
      ]
    },
    {
      "cell_type": "code",
      "execution_count": null,
      "id": "e49774e9-6a58-41fe-84e7-812fd2af3030",
      "metadata": {
        "id": "e49774e9-6a58-41fe-84e7-812fd2af3030",
        "outputId": "1f84fb9d-a024-45df-ce5d-628b517419ed"
      },
      "outputs": [
        {
          "ename": "NameError",
          "evalue": "name 'df' is not defined",
          "output_type": "error",
          "traceback": [
            "\u001b[1;31m---------------------------------------------------------------------------\u001b[0m",
            "\u001b[1;31mNameError\u001b[0m                                 Traceback (most recent call last)",
            "Cell \u001b[1;32mIn[226], line 2\u001b[0m\n\u001b[0;32m      1\u001b[0m \u001b[38;5;28;01mwith\u001b[39;00m \u001b[38;5;28mopen\u001b[39m(\u001b[38;5;124m'\u001b[39m\u001b[38;5;124m./kbo_detail.pk1\u001b[39m\u001b[38;5;124m'\u001b[39m, \u001b[38;5;124m'\u001b[39m\u001b[38;5;124mwb\u001b[39m\u001b[38;5;124m'\u001b[39m) \u001b[38;5;28;01mas\u001b[39;00m f:\n\u001b[1;32m----> 2\u001b[0m     pickle\u001b[38;5;241m.\u001b[39mdump(\u001b[43mdf\u001b[49m, f)\n",
            "\u001b[1;31mNameError\u001b[0m: name 'df' is not defined"
          ]
        }
      ],
      "source": [
        "with open('./kbo_detail.pk1', 'wb') as f:\n",
        "    pickle.dump(df, f)"
      ]
    },
    {
      "cell_type": "code",
      "execution_count": null,
      "id": "e660eb46-26b6-406c-9f3a-c776bd2cab9e",
      "metadata": {
        "scrolled": true,
        "id": "e660eb46-26b6-406c-9f3a-c776bd2cab9e",
        "outputId": "215f6d93-1876-442b-94a6-13d4ecfc731c"
      },
      "outputs": [
        {
          "data": {
            "text/plain": [
              "'C:\\\\Users\\\\Playdata'"
            ]
          },
          "execution_count": 242,
          "metadata": {},
          "output_type": "execute_result"
        }
      ],
      "source": [
        "import os\n",
        "os.getcwd()"
      ]
    },
    {
      "cell_type": "code",
      "execution_count": null,
      "id": "90c58d20-7abc-4ecb-8d9c-524a3d4ac3a4",
      "metadata": {
        "id": "90c58d20-7abc-4ecb-8d9c-524a3d4ac3a4"
      },
      "outputs": [],
      "source": [
        "with open('./kbo_detail.pkl', 'rb') as f:\n",
        "    txt = pickle.load(f)"
      ]
    },
    {
      "cell_type": "code",
      "execution_count": null,
      "id": "815b175a-f884-481e-8352-8bb2c42c0d74",
      "metadata": {
        "id": "815b175a-f884-481e-8352-8bb2c42c0d74",
        "outputId": "fa68c186-1d21-426f-8043-c7666f4bc21b"
      },
      "outputs": [
        {
          "data": {
            "text/html": [
              "<div>\n",
              "<style scoped>\n",
              "    .dataframe tbody tr th:only-of-type {\n",
              "        vertical-align: middle;\n",
              "    }\n",
              "\n",
              "    .dataframe tbody tr th {\n",
              "        vertical-align: top;\n",
              "    }\n",
              "\n",
              "    .dataframe thead th {\n",
              "        text-align: right;\n",
              "    }\n",
              "</style>\n",
              "<table border=\"1\" class=\"dataframe\">\n",
              "  <thead>\n",
              "    <tr style=\"text-align: right;\">\n",
              "      <th></th>\n",
              "      <th>선수명</th>\n",
              "      <th>등번호</th>\n",
              "      <th>생년월일</th>\n",
              "      <th>포지션</th>\n",
              "      <th>신장/체중</th>\n",
              "      <th>경력</th>\n",
              "      <th>입단 계약금</th>\n",
              "      <th>연봉</th>\n",
              "      <th>지명순위</th>\n",
              "      <th>입단년도</th>\n",
              "      <th>team</th>\n",
              "    </tr>\n",
              "  </thead>\n",
              "  <tbody>\n",
              "    <tr>\n",
              "      <th>0</th>\n",
              "      <td>강재민</td>\n",
              "      <td>No.</td>\n",
              "      <td>1997년 04월 03일</td>\n",
              "      <td>투수(우언우타)</td>\n",
              "      <td>180cm/89kg</td>\n",
              "      <td>양덕초-마산중-용마고-단국대</td>\n",
              "      <td>8000만원</td>\n",
              "      <td>14500만원</td>\n",
              "      <td>20 한화 2차 4라운드 38순위</td>\n",
              "      <td>20한화</td>\n",
              "      <td>한화 이글스</td>\n",
              "    </tr>\n",
              "    <tr>\n",
              "      <th>1</th>\n",
              "      <td>권광민</td>\n",
              "      <td>No.17</td>\n",
              "      <td>1997년 12월 12일</td>\n",
              "      <td>외야수(좌투좌타)</td>\n",
              "      <td>189cm/102kg</td>\n",
              "      <td>서울청구초-홍은중-장충고</td>\n",
              "      <td></td>\n",
              "      <td>3300만원</td>\n",
              "      <td>22 한화 2차 5라운드 41순위</td>\n",
              "      <td>16시카고컵스</td>\n",
              "      <td>한화 이글스</td>\n",
              "    </tr>\n",
              "    <tr>\n",
              "      <th>2</th>\n",
              "      <td>권동욱</td>\n",
              "      <td>No.02</td>\n",
              "      <td>2001년 01월 08일</td>\n",
              "      <td>외야수(우투우타)</td>\n",
              "      <td>173cm/85kg</td>\n",
              "      <td>가동초-휘문중-배명고-동국대</td>\n",
              "      <td></td>\n",
              "      <td>3000만원</td>\n",
              "      <td>24 한화 육성선수</td>\n",
              "      <td></td>\n",
              "      <td>한화 이글스</td>\n",
              "    </tr>\n",
              "    <tr>\n",
              "      <th>3</th>\n",
              "      <td>권현</td>\n",
              "      <td>No.111</td>\n",
              "      <td>2005년 02월 23일</td>\n",
              "      <td>외야수(우투우타)</td>\n",
              "      <td>182cm/88kg</td>\n",
              "      <td>사당초-언북중-장충고</td>\n",
              "      <td>3000만원</td>\n",
              "      <td>3000만원</td>\n",
              "      <td>24 한화 10라운드 91순위</td>\n",
              "      <td></td>\n",
              "      <td>한화 이글스</td>\n",
              "    </tr>\n",
              "    <tr>\n",
              "      <th>4</th>\n",
              "      <td>김강민</td>\n",
              "      <td>No.9</td>\n",
              "      <td>1982년 09월 13일</td>\n",
              "      <td>외야수(우투우타)</td>\n",
              "      <td>182cm/87kg</td>\n",
              "      <td>본리초-대구중-경북고-SK-SSG</td>\n",
              "      <td>11000만원</td>\n",
              "      <td>11000만원</td>\n",
              "      <td>01 SK 2차 2라운드 18순위</td>\n",
              "      <td>01SK</td>\n",
              "      <td>한화 이글스</td>\n",
              "    </tr>\n",
              "    <tr>\n",
              "      <th>...</th>\n",
              "      <td>...</td>\n",
              "      <td>...</td>\n",
              "      <td>...</td>\n",
              "      <td>...</td>\n",
              "      <td>...</td>\n",
              "      <td>...</td>\n",
              "      <td>...</td>\n",
              "      <td>...</td>\n",
              "      <td>...</td>\n",
              "      <td>...</td>\n",
              "      <td>...</td>\n",
              "    </tr>\n",
              "    <tr>\n",
              "      <th>839</th>\n",
              "      <td>한민우</td>\n",
              "      <td>No.96</td>\n",
              "      <td>1999년 04월 27일</td>\n",
              "      <td>투수(좌투좌타)</td>\n",
              "      <td>177cm/82kg</td>\n",
              "      <td>동일중앙초-경남중-경남고</td>\n",
              "      <td>1000만원</td>\n",
              "      <td>3000만원</td>\n",
              "      <td>23 KT 육성선수</td>\n",
              "      <td></td>\n",
              "      <td>KT 위즈</td>\n",
              "    </tr>\n",
              "    <tr>\n",
              "      <th>840</th>\n",
              "      <td>한차현</td>\n",
              "      <td>No.59</td>\n",
              "      <td>1998년 11월 30일</td>\n",
              "      <td>투수(우투우타)</td>\n",
              "      <td>180cm/80kg</td>\n",
              "      <td>사능초(남양주리틀)-청원중-포항제철고-성균관대</td>\n",
              "      <td>10000만원</td>\n",
              "      <td>3100만원</td>\n",
              "      <td>21 KT 2차 2라운드 15순위</td>\n",
              "      <td>21KT</td>\n",
              "      <td>KT 위즈</td>\n",
              "    </tr>\n",
              "    <tr>\n",
              "      <th>841</th>\n",
              "      <td>홍현빈</td>\n",
              "      <td>No.31</td>\n",
              "      <td>1997년 08월 29일</td>\n",
              "      <td>외야수(우투좌타)</td>\n",
              "      <td>174cm/70kg</td>\n",
              "      <td>수원신곡초-매송중-유신고-KT-상무</td>\n",
              "      <td>9000만원</td>\n",
              "      <td>4500만원</td>\n",
              "      <td>17 KT 2차 3라운드 21순위</td>\n",
              "      <td>17KT</td>\n",
              "      <td>KT 위즈</td>\n",
              "    </tr>\n",
              "    <tr>\n",
              "      <th>842</th>\n",
              "      <td>황의준</td>\n",
              "      <td>No.103</td>\n",
              "      <td>2002년 04월 06일</td>\n",
              "      <td>외야수(우투좌타)</td>\n",
              "      <td>185cm/95kg</td>\n",
              "      <td>칠성초-경복중-경북고-수성대</td>\n",
              "      <td>4000만원</td>\n",
              "      <td>3000만원</td>\n",
              "      <td>23 KT 8라운드 80순위</td>\n",
              "      <td></td>\n",
              "      <td>KT 위즈</td>\n",
              "    </tr>\n",
              "    <tr>\n",
              "      <th>843</th>\n",
              "      <td>황재균</td>\n",
              "      <td>No.10</td>\n",
              "      <td>1987년 07월 28일</td>\n",
              "      <td>내야수(우투우타)</td>\n",
              "      <td>183cm/96kg</td>\n",
              "      <td>사당초-서울이수중-경기고-현대-히어로즈-롯데-샌프란시스코</td>\n",
              "      <td>6000만원</td>\n",
              "      <td>100000만원</td>\n",
              "      <td>06 현대 2차 3라운드 24순위</td>\n",
              "      <td>06현대</td>\n",
              "      <td>KT 위즈</td>\n",
              "    </tr>\n",
              "  </tbody>\n",
              "</table>\n",
              "<p>844 rows × 11 columns</p>\n",
              "</div>"
            ],
            "text/plain": [
              "      선수명      등번호            생년월일         포지션         신장/체중  \\\n",
              "0     강재민      No.   1997년 04월 03일    투수(우언우타)    180cm/89kg   \n",
              "1     권광민    No.17   1997년 12월 12일   외야수(좌투좌타)   189cm/102kg   \n",
              "2     권동욱    No.02   2001년 01월 08일   외야수(우투우타)    173cm/85kg   \n",
              "3      권현   No.111   2005년 02월 23일   외야수(우투우타)    182cm/88kg   \n",
              "4     김강민     No.9   1982년 09월 13일   외야수(우투우타)    182cm/87kg   \n",
              "..    ...      ...             ...         ...           ...   \n",
              "839   한민우    No.96   1999년 04월 27일    투수(좌투좌타)    177cm/82kg   \n",
              "840   한차현    No.59   1998년 11월 30일    투수(우투우타)    180cm/80kg   \n",
              "841   홍현빈    No.31   1997년 08월 29일   외야수(우투좌타)    174cm/70kg   \n",
              "842   황의준   No.103   2002년 04월 06일   외야수(우투좌타)    185cm/95kg   \n",
              "843   황재균    No.10   1987년 07월 28일   내야수(우투우타)    183cm/96kg   \n",
              "\n",
              "                                   경력    입단 계약금         연봉  \\\n",
              "0                     양덕초-마산중-용마고-단국대    8000만원    14500만원   \n",
              "1                       서울청구초-홍은중-장충고               3300만원   \n",
              "2                     가동초-휘문중-배명고-동국대               3000만원   \n",
              "3                         사당초-언북중-장충고    3000만원     3000만원   \n",
              "4                  본리초-대구중-경북고-SK-SSG   11000만원    11000만원   \n",
              "..                                ...       ...        ...   \n",
              "839                     동일중앙초-경남중-경남고    1000만원     3000만원   \n",
              "840         사능초(남양주리틀)-청원중-포항제철고-성균관대   10000만원     3100만원   \n",
              "841               수원신곡초-매송중-유신고-KT-상무    9000만원     4500만원   \n",
              "842                   칠성초-경복중-경북고-수성대    4000만원     3000만원   \n",
              "843   사당초-서울이수중-경기고-현대-히어로즈-롯데-샌프란시스코    6000만원   100000만원   \n",
              "\n",
              "                    지명순위      입단년도    team  \n",
              "0     20 한화 2차 4라운드 38순위      20한화  한화 이글스  \n",
              "1     22 한화 2차 5라운드 41순위   16시카고컵스  한화 이글스  \n",
              "2             24 한화 육성선수            한화 이글스  \n",
              "3       24 한화 10라운드 91순위            한화 이글스  \n",
              "4     01 SK 2차 2라운드 18순위      01SK  한화 이글스  \n",
              "..                   ...       ...     ...  \n",
              "839           23 KT 육성선수             KT 위즈  \n",
              "840   21 KT 2차 2라운드 15순위      21KT   KT 위즈  \n",
              "841   17 KT 2차 3라운드 21순위      17KT   KT 위즈  \n",
              "842      23 KT 8라운드 80순위             KT 위즈  \n",
              "843   06 현대 2차 3라운드 24순위      06현대   KT 위즈  \n",
              "\n",
              "[844 rows x 11 columns]"
            ]
          },
          "execution_count": 264,
          "metadata": {},
          "output_type": "execute_result"
        }
      ],
      "source": [
        "txt"
      ]
    },
    {
      "cell_type": "code",
      "execution_count": null,
      "id": "80660c36-74bf-4769-a9a9-01e6496b2e98",
      "metadata": {
        "id": "80660c36-74bf-4769-a9a9-01e6496b2e98",
        "outputId": "9f562d9e-f9b9-4bcb-ee26-bce31614f456"
      },
      "outputs": [
        {
          "data": {
            "text/plain": [
              "(844, 11)"
            ]
          },
          "execution_count": 265,
          "metadata": {},
          "output_type": "execute_result"
        }
      ],
      "source": [
        "txt.shape"
      ]
    },
    {
      "cell_type": "code",
      "execution_count": null,
      "id": "746380c4-dd64-4e1e-88d4-e3c11b15eb21",
      "metadata": {
        "id": "746380c4-dd64-4e1e-88d4-e3c11b15eb21",
        "outputId": "d478f152-ceaf-4f5b-e1f6-63ebc4d2fd12"
      },
      "outputs": [
        {
          "data": {
            "text/plain": [
              "0"
            ]
          },
          "execution_count": 266,
          "metadata": {},
          "output_type": "execute_result"
        }
      ],
      "source": [
        "txt.duplicated().sum()"
      ]
    },
    {
      "cell_type": "code",
      "execution_count": null,
      "id": "1e194b26-fb47-41b3-88e2-45551e323da4",
      "metadata": {
        "id": "1e194b26-fb47-41b3-88e2-45551e323da4",
        "outputId": "b1fe57b4-5000-43fa-db21-091a5ec5843b"
      },
      "outputs": [
        {
          "data": {
            "text/plain": [
              "(844, 11)"
            ]
          },
          "execution_count": 267,
          "metadata": {},
          "output_type": "execute_result"
        }
      ],
      "source": [
        "txt.drop_duplicates().shape\n",
        "# 중복값 제거"
      ]
    },
    {
      "cell_type": "code",
      "execution_count": null,
      "id": "04c95a5d-b398-4216-af77-a0fafc3ba0a4",
      "metadata": {
        "id": "04c95a5d-b398-4216-af77-a0fafc3ba0a4",
        "outputId": "2fbc9837-2acf-411d-d17b-0f9238c7a20c"
      },
      "outputs": [
        {
          "data": {
            "text/plain": [
              "(844, 11)"
            ]
          },
          "execution_count": 268,
          "metadata": {},
          "output_type": "execute_result"
        }
      ],
      "source": [
        "txt.shape"
      ]
    },
    {
      "cell_type": "code",
      "execution_count": null,
      "id": "42d9040b-abe2-46e5-aa97-3b32b631069e",
      "metadata": {
        "id": "42d9040b-abe2-46e5-aa97-3b32b631069e"
      },
      "outputs": [],
      "source": [
        "txt.drop_duplicates(inplace=True)"
      ]
    },
    {
      "cell_type": "code",
      "execution_count": null,
      "id": "020fee75-2ea2-4592-8b5f-3819aa87991c",
      "metadata": {
        "id": "020fee75-2ea2-4592-8b5f-3819aa87991c",
        "outputId": "eaf0c860-c75e-4d4b-9358-2d512ce5d363"
      },
      "outputs": [
        {
          "data": {
            "text/plain": [
              "(844, 11)"
            ]
          },
          "execution_count": 270,
          "metadata": {},
          "output_type": "execute_result"
        }
      ],
      "source": [
        "txt.shape"
      ]
    },
    {
      "cell_type": "code",
      "execution_count": null,
      "id": "0cbfaa47-8e52-4e57-8e69-36c220b6ee15",
      "metadata": {
        "id": "0cbfaa47-8e52-4e57-8e69-36c220b6ee15",
        "outputId": "db2246d8-b7bc-47e1-c114-cbb0bdc0a394"
      },
      "outputs": [
        {
          "data": {
            "text/plain": [
              "team\n",
              "한화 이글스      93\n",
              "NC 다이노스     89\n",
              "KT 위즈       87\n",
              "롯데 자이언츠     85\n",
              "삼성 라이온즈     85\n",
              "KIA 타이거즈    84\n",
              "두산 베어스      84\n",
              "SSG 랜더스     81\n",
              "LG 트윈스      74\n",
              "키움 히어로즈     59\n",
              "고양 히어로즈     23\n",
              "Name: count, dtype: int64"
            ]
          },
          "execution_count": 271,
          "metadata": {},
          "output_type": "execute_result"
        }
      ],
      "source": [
        "txt['team'].value_counts()"
      ]
    },
    {
      "cell_type": "code",
      "execution_count": null,
      "id": "6476d546-e052-42dd-8b2d-3aceb00eb84f",
      "metadata": {
        "id": "6476d546-e052-42dd-8b2d-3aceb00eb84f",
        "outputId": "c0db9927-bd1b-4101-a987-9b85bab42546"
      },
      "outputs": [
        {
          "data": {
            "text/plain": [
              "{' 송민섭',\n",
              " ' 신범준',\n",
              " ' 신병률',\n",
              " ' 신본기',\n",
              " ' 신호준',\n",
              " ' 안치영',\n",
              " ' 양승혁',\n",
              " ' 엄상백',\n",
              " ' 오윤석',\n",
              " ' 우규민',\n",
              " ' 원상현',\n",
              " ' 육청명',\n",
              " ' 윤강찬',\n",
              " ' 윤준혁',\n",
              " ' 이근혁',\n",
              " ' 이상동',\n",
              " ' 이선우',\n",
              " ' 이승언',\n",
              " ' 이승현',\n",
              " ' 이정현'}"
            ]
          },
          "execution_count": 272,
          "metadata": {},
          "output_type": "execute_result"
        }
      ],
      "source": [
        "set(txt[txt.team == 'KT 위즈'].선수명.values) - set([' 강건', ' 강민성', ' 강백호', ' 강현우', ' 고영표', ' 김건웅', ' 김건형', ' 김규대',\n",
        "       ' 김민', ' 김민석', ' 김민성', ' 김민수', ' 김민혁', ' 김병준', ' 김상수', ' 김성균',\n",
        "       ' 김영현', ' 김정운', ' 김준태', ' 김지민', ' 김철호', ' 김태오', ' 로하스', ' 류현인',\n",
        "       ' 문상철', ' 문용익', ' 박경수', ' 박민석', ' 박병호', ' 박세진', ' 박시영', ' 박시윤',\n",
        "       ' 박영현', ' 박정현', ' 박태완', ' 배정대', ' 벤자민', ' 성재헌', ' 소형준', ' 손동현',\n",
        "       ' 이종혁', ' 이준명', ' 이준희', ' 이채호', ' 이태규', ' 이호연', ' 장성우', ' 장준원',\n",
        "       ' 전용주', ' 정준영', ' 정진호', ' 조대현', ' 조용근', ' 조용호', ' 조이현', ' 주권',\n",
        "       ' 천성호', ' 최성민', ' 최윤서', ' 최정태', ' 쿠에바스', ' 하준호', ' 한민우', ' 한차현',\n",
        "       ' 홍현빈', ' 황의준', ' 황재균'])"
      ]
    },
    {
      "cell_type": "code",
      "execution_count": null,
      "id": "95dd1b82-ff6d-4da3-b8fe-2ecd577abd0b",
      "metadata": {
        "id": "95dd1b82-ff6d-4da3-b8fe-2ecd577abd0b",
        "outputId": "abe29670-fb2c-44e2-f791-29b23a02d594"
      },
      "outputs": [
        {
          "data": {
            "text/plain": [
              "team\n",
              "한화 이글스      93\n",
              "NC 다이노스     89\n",
              "KT 위즈       87\n",
              "롯데 자이언츠     85\n",
              "삼성 라이온즈     85\n",
              "KIA 타이거즈    84\n",
              "두산 베어스      84\n",
              "SSG 랜더스     81\n",
              "LG 트윈스      74\n",
              "키움 히어로즈     59\n",
              "고양 히어로즈     23\n",
              "Name: count, dtype: int64"
            ]
          },
          "execution_count": 273,
          "metadata": {},
          "output_type": "execute_result"
        }
      ],
      "source": [
        "txt['team'].value_counts()"
      ]
    },
    {
      "cell_type": "code",
      "execution_count": null,
      "id": "f68d868d-39ed-4e5e-88cd-8db5fd3964d6",
      "metadata": {
        "id": "f68d868d-39ed-4e5e-88cd-8db5fd3964d6",
        "outputId": "45d5a061-7455-42c1-a82a-05d4f322dbc9"
      },
      "outputs": [
        {
          "data": {
            "text/plain": [
              "19"
            ]
          },
          "execution_count": 276,
          "metadata": {},
          "output_type": "execute_result"
        }
      ],
      "source": [
        "len(txt['포지션'].value_counts().index)"
      ]
    },
    {
      "cell_type": "code",
      "execution_count": null,
      "id": "c70a1ba7-1055-4f74-8ec9-4203bccc9393",
      "metadata": {
        "id": "c70a1ba7-1055-4f74-8ec9-4203bccc9393",
        "outputId": "7b3322bc-ac3b-4d45-ad67-0162b7c32e28"
      },
      "outputs": [
        {
          "data": {
            "text/plain": [
              "19"
            ]
          },
          "execution_count": 278,
          "metadata": {},
          "output_type": "execute_result"
        }
      ],
      "source": [
        "txt['포지션'].unique().size"
      ]
    },
    {
      "cell_type": "code",
      "execution_count": null,
      "id": "bde2031c-cf62-49a4-815a-8d1f7e8bc26c",
      "metadata": {
        "id": "bde2031c-cf62-49a4-815a-8d1f7e8bc26c",
        "outputId": "31714fed-e1eb-4359-c50d-494f0f8cf302"
      },
      "outputs": [
        {
          "data": {
            "text/plain": [
              "0        180cm/89kg\n",
              "1       189cm/102kg\n",
              "2        173cm/85kg\n",
              "3        182cm/88kg\n",
              "4        182cm/87kg\n",
              "           ...     \n",
              "839      177cm/82kg\n",
              "840      180cm/80kg\n",
              "841      174cm/70kg\n",
              "842      185cm/95kg\n",
              "843      183cm/96kg\n",
              "Name: 신장/체중, Length: 844, dtype: object"
            ]
          },
          "execution_count": 281,
          "metadata": {},
          "output_type": "execute_result"
        }
      ],
      "source": [
        "txt['신장/체중']"
      ]
    },
    {
      "cell_type": "markdown",
      "id": "789db193-8b9c-4384-b468-1289fb039e7e",
      "metadata": {
        "id": "789db193-8b9c-4384-b468-1289fb039e7e"
      },
      "source": [
        "# 파생변수\n",
        "\n",
        "### 데이터 내에 새로운 변수"
      ]
    },
    {
      "cell_type": "code",
      "execution_count": null,
      "id": "86d780e9-9fce-4a98-a6bd-9c19291a42c0",
      "metadata": {
        "id": "86d780e9-9fce-4a98-a6bd-9c19291a42c0"
      },
      "outputs": [],
      "source": [
        "import numpy as np"
      ]
    },
    {
      "cell_type": "code",
      "execution_count": null,
      "id": "d04ab52d-12e8-4138-8ab1-573ba0e5a436",
      "metadata": {
        "id": "d04ab52d-12e8-4138-8ab1-573ba0e5a436",
        "outputId": "82ea795f-d1f0-48ed-f16c-4795e65407a0"
      },
      "outputs": [
        {
          "name": "stdout",
          "output_type": "stream",
          "text": [
            "CPU times: total: 5 s\n",
            "Wall time: 5.02 s\n"
          ]
        }
      ],
      "source": [
        "%%time\n",
        "tmp = [x**2 for x in range(10000000)]"
      ]
    },
    {
      "cell_type": "code",
      "execution_count": null,
      "id": "73fe81a9-12f9-47d8-bc41-f18ba7e9a33b",
      "metadata": {
        "id": "73fe81a9-12f9-47d8-bc41-f18ba7e9a33b",
        "outputId": "36c7af1e-8aa1-4470-9297-3ebf513665f9"
      },
      "outputs": [
        {
          "name": "stdout",
          "output_type": "stream",
          "text": [
            "CPU times: total: 125 ms\n",
            "Wall time: 133 ms\n"
          ]
        }
      ],
      "source": [
        "%%time\n",
        "# 브로드캐스팅\n",
        "# 벡터연산\n",
        "tmp2 = np.array(np.arange(10000000)) ** 2"
      ]
    },
    {
      "cell_type": "code",
      "execution_count": null,
      "id": "00533bd7-3f06-4566-a5b2-0086903cf566",
      "metadata": {
        "id": "00533bd7-3f06-4566-a5b2-0086903cf566"
      },
      "outputs": [],
      "source": [
        "txt['신장'] = txt['신장/체중'].apply(lambda x : int(x.split(\"/\")[0].replace(\"cm\", '')))"
      ]
    },
    {
      "cell_type": "code",
      "execution_count": null,
      "id": "375dc9a9-6f79-4a9f-b405-59715d746fb3",
      "metadata": {
        "id": "375dc9a9-6f79-4a9f-b405-59715d746fb3"
      },
      "outputs": [],
      "source": [
        "txt['체중'] = txt['신장/체중'].apply(lambda x : int(x.split(\"/\")[1].replace(\"kg\", '')))"
      ]
    },
    {
      "cell_type": "code",
      "execution_count": null,
      "id": "beb1f106-d1c0-458e-ba7e-908742d11040",
      "metadata": {
        "id": "beb1f106-d1c0-458e-ba7e-908742d11040",
        "outputId": "ea732dd3-429f-4bdd-9acd-d475141b55c5"
      },
      "outputs": [
        {
          "data": {
            "text/html": [
              "<div>\n",
              "<style scoped>\n",
              "    .dataframe tbody tr th:only-of-type {\n",
              "        vertical-align: middle;\n",
              "    }\n",
              "\n",
              "    .dataframe tbody tr th {\n",
              "        vertical-align: top;\n",
              "    }\n",
              "\n",
              "    .dataframe thead th {\n",
              "        text-align: right;\n",
              "    }\n",
              "</style>\n",
              "<table border=\"1\" class=\"dataframe\">\n",
              "  <thead>\n",
              "    <tr style=\"text-align: right;\">\n",
              "      <th></th>\n",
              "      <th>선수명</th>\n",
              "      <th>등번호</th>\n",
              "      <th>생년월일</th>\n",
              "      <th>포지션</th>\n",
              "      <th>신장/체중</th>\n",
              "      <th>경력</th>\n",
              "      <th>입단 계약금</th>\n",
              "      <th>연봉</th>\n",
              "      <th>지명순위</th>\n",
              "      <th>입단년도</th>\n",
              "      <th>team</th>\n",
              "      <th>신장</th>\n",
              "      <th>체중</th>\n",
              "    </tr>\n",
              "  </thead>\n",
              "  <tbody>\n",
              "    <tr>\n",
              "      <th>0</th>\n",
              "      <td>강재민</td>\n",
              "      <td>No.</td>\n",
              "      <td>1997년 04월 03일</td>\n",
              "      <td>투수(우언우타)</td>\n",
              "      <td>180cm/89kg</td>\n",
              "      <td>양덕초-마산중-용마고-단국대</td>\n",
              "      <td>8000만원</td>\n",
              "      <td>14500만원</td>\n",
              "      <td>20 한화 2차 4라운드 38순위</td>\n",
              "      <td>20한화</td>\n",
              "      <td>한화 이글스</td>\n",
              "      <td>180</td>\n",
              "      <td>89</td>\n",
              "    </tr>\n",
              "    <tr>\n",
              "      <th>1</th>\n",
              "      <td>권광민</td>\n",
              "      <td>No.17</td>\n",
              "      <td>1997년 12월 12일</td>\n",
              "      <td>외야수(좌투좌타)</td>\n",
              "      <td>189cm/102kg</td>\n",
              "      <td>서울청구초-홍은중-장충고</td>\n",
              "      <td></td>\n",
              "      <td>3300만원</td>\n",
              "      <td>22 한화 2차 5라운드 41순위</td>\n",
              "      <td>16시카고컵스</td>\n",
              "      <td>한화 이글스</td>\n",
              "      <td>189</td>\n",
              "      <td>102</td>\n",
              "    </tr>\n",
              "    <tr>\n",
              "      <th>2</th>\n",
              "      <td>권동욱</td>\n",
              "      <td>No.02</td>\n",
              "      <td>2001년 01월 08일</td>\n",
              "      <td>외야수(우투우타)</td>\n",
              "      <td>173cm/85kg</td>\n",
              "      <td>가동초-휘문중-배명고-동국대</td>\n",
              "      <td></td>\n",
              "      <td>3000만원</td>\n",
              "      <td>24 한화 육성선수</td>\n",
              "      <td></td>\n",
              "      <td>한화 이글스</td>\n",
              "      <td>173</td>\n",
              "      <td>85</td>\n",
              "    </tr>\n",
              "  </tbody>\n",
              "</table>\n",
              "</div>"
            ],
            "text/plain": [
              "    선수명     등번호            생년월일         포지션         신장/체중                경력  \\\n",
              "0   강재민     No.   1997년 04월 03일    투수(우언우타)    180cm/89kg   양덕초-마산중-용마고-단국대   \n",
              "1   권광민   No.17   1997년 12월 12일   외야수(좌투좌타)   189cm/102kg     서울청구초-홍은중-장충고   \n",
              "2   권동욱   No.02   2001년 01월 08일   외야수(우투우타)    173cm/85kg   가동초-휘문중-배명고-동국대   \n",
              "\n",
              "    입단 계약금        연봉                 지명순위      입단년도    team   신장   체중  \n",
              "0   8000만원   14500만원   20 한화 2차 4라운드 38순위      20한화  한화 이글스  180   89  \n",
              "1             3300만원   22 한화 2차 5라운드 41순위   16시카고컵스  한화 이글스  189  102  \n",
              "2             3000만원           24 한화 육성선수            한화 이글스  173   85  "
            ]
          },
          "execution_count": 297,
          "metadata": {},
          "output_type": "execute_result"
        }
      ],
      "source": [
        "txt.head(3)"
      ]
    },
    {
      "cell_type": "code",
      "execution_count": null,
      "id": "d0b06b8e-65e6-47e2-9da5-11db9d7b3af9",
      "metadata": {
        "id": "d0b06b8e-65e6-47e2-9da5-11db9d7b3af9",
        "outputId": "17282036-a57d-4ec3-b4ae-4effbe0b6137"
      },
      "outputs": [
        {
          "data": {
            "text/html": [
              "<div>\n",
              "<style scoped>\n",
              "    .dataframe tbody tr th:only-of-type {\n",
              "        vertical-align: middle;\n",
              "    }\n",
              "\n",
              "    .dataframe tbody tr th {\n",
              "        vertical-align: top;\n",
              "    }\n",
              "\n",
              "    .dataframe thead th {\n",
              "        text-align: right;\n",
              "    }\n",
              "</style>\n",
              "<table border=\"1\" class=\"dataframe\">\n",
              "  <thead>\n",
              "    <tr style=\"text-align: right;\">\n",
              "      <th></th>\n",
              "      <th>선수명</th>\n",
              "      <th>등번호</th>\n",
              "      <th>생년월일</th>\n",
              "      <th>포지션</th>\n",
              "      <th>신장/체중</th>\n",
              "      <th>경력</th>\n",
              "      <th>입단 계약금</th>\n",
              "      <th>연봉</th>\n",
              "      <th>지명순위</th>\n",
              "      <th>입단년도</th>\n",
              "      <th>team</th>\n",
              "      <th>신장</th>\n",
              "      <th>체중</th>\n",
              "    </tr>\n",
              "  </thead>\n",
              "  <tbody>\n",
              "    <tr>\n",
              "      <th>841</th>\n",
              "      <td>홍현빈</td>\n",
              "      <td>No.31</td>\n",
              "      <td>1997년 08월 29일</td>\n",
              "      <td>외야수(우투좌타)</td>\n",
              "      <td>174cm/70kg</td>\n",
              "      <td>수원신곡초-매송중-유신고-KT-상무</td>\n",
              "      <td>9000만원</td>\n",
              "      <td>4500만원</td>\n",
              "      <td>17 KT 2차 3라운드 21순위</td>\n",
              "      <td>17KT</td>\n",
              "      <td>KT 위즈</td>\n",
              "      <td>174</td>\n",
              "      <td>70</td>\n",
              "    </tr>\n",
              "    <tr>\n",
              "      <th>842</th>\n",
              "      <td>황의준</td>\n",
              "      <td>No.103</td>\n",
              "      <td>2002년 04월 06일</td>\n",
              "      <td>외야수(우투좌타)</td>\n",
              "      <td>185cm/95kg</td>\n",
              "      <td>칠성초-경복중-경북고-수성대</td>\n",
              "      <td>4000만원</td>\n",
              "      <td>3000만원</td>\n",
              "      <td>23 KT 8라운드 80순위</td>\n",
              "      <td></td>\n",
              "      <td>KT 위즈</td>\n",
              "      <td>185</td>\n",
              "      <td>95</td>\n",
              "    </tr>\n",
              "    <tr>\n",
              "      <th>843</th>\n",
              "      <td>황재균</td>\n",
              "      <td>No.10</td>\n",
              "      <td>1987년 07월 28일</td>\n",
              "      <td>내야수(우투우타)</td>\n",
              "      <td>183cm/96kg</td>\n",
              "      <td>사당초-서울이수중-경기고-현대-히어로즈-롯데-샌프란시스코</td>\n",
              "      <td>6000만원</td>\n",
              "      <td>100000만원</td>\n",
              "      <td>06 현대 2차 3라운드 24순위</td>\n",
              "      <td>06현대</td>\n",
              "      <td>KT 위즈</td>\n",
              "      <td>183</td>\n",
              "      <td>96</td>\n",
              "    </tr>\n",
              "  </tbody>\n",
              "</table>\n",
              "</div>"
            ],
            "text/plain": [
              "      선수명      등번호            생년월일         포지션        신장/체중  \\\n",
              "841   홍현빈    No.31   1997년 08월 29일   외야수(우투좌타)   174cm/70kg   \n",
              "842   황의준   No.103   2002년 04월 06일   외야수(우투좌타)   185cm/95kg   \n",
              "843   황재균    No.10   1987년 07월 28일   내야수(우투우타)   183cm/96kg   \n",
              "\n",
              "                                   경력   입단 계약금         연봉  \\\n",
              "841               수원신곡초-매송중-유신고-KT-상무   9000만원     4500만원   \n",
              "842                   칠성초-경복중-경북고-수성대   4000만원     3000만원   \n",
              "843   사당초-서울이수중-경기고-현대-히어로즈-롯데-샌프란시스코   6000만원   100000만원   \n",
              "\n",
              "                    지명순위   입단년도   team   신장  체중  \n",
              "841   17 KT 2차 3라운드 21순위   17KT  KT 위즈  174  70  \n",
              "842      23 KT 8라운드 80순위         KT 위즈  185  95  \n",
              "843   06 현대 2차 3라운드 24순위   06현대  KT 위즈  183  96  "
            ]
          },
          "execution_count": 298,
          "metadata": {},
          "output_type": "execute_result"
        }
      ],
      "source": [
        "txt.tail(3)"
      ]
    },
    {
      "cell_type": "code",
      "execution_count": null,
      "id": "4744619f-91c4-4a66-8a9e-48e8656e7979",
      "metadata": {
        "id": "4744619f-91c4-4a66-8a9e-48e8656e7979"
      },
      "outputs": [],
      "source": [
        "# 신체질량지수(BMI) = 체중(kg) / [신장(m)]2\n",
        "txt[\"bmi\"] = txt['체중'] / (txt['신장'] / 100)**2"
      ]
    },
    {
      "cell_type": "code",
      "execution_count": null,
      "id": "9d4713ff-bd8c-4757-8030-f946fb51b6b5",
      "metadata": {
        "id": "9d4713ff-bd8c-4757-8030-f946fb51b6b5",
        "outputId": "0c0ecdab-cd23-4fe3-a550-883bc209f90e"
      },
      "outputs": [
        {
          "data": {
            "text/html": [
              "<div>\n",
              "<style scoped>\n",
              "    .dataframe tbody tr th:only-of-type {\n",
              "        vertical-align: middle;\n",
              "    }\n",
              "\n",
              "    .dataframe tbody tr th {\n",
              "        vertical-align: top;\n",
              "    }\n",
              "\n",
              "    .dataframe thead th {\n",
              "        text-align: right;\n",
              "    }\n",
              "</style>\n",
              "<table border=\"1\" class=\"dataframe\">\n",
              "  <thead>\n",
              "    <tr style=\"text-align: right;\">\n",
              "      <th></th>\n",
              "      <th>선수명</th>\n",
              "      <th>등번호</th>\n",
              "      <th>생년월일</th>\n",
              "      <th>포지션</th>\n",
              "      <th>신장/체중</th>\n",
              "      <th>경력</th>\n",
              "      <th>입단 계약금</th>\n",
              "      <th>연봉</th>\n",
              "      <th>지명순위</th>\n",
              "      <th>입단년도</th>\n",
              "      <th>team</th>\n",
              "      <th>신장</th>\n",
              "      <th>체중</th>\n",
              "      <th>bmi</th>\n",
              "    </tr>\n",
              "  </thead>\n",
              "  <tbody>\n",
              "    <tr>\n",
              "      <th>10</th>\n",
              "      <td>김민우</td>\n",
              "      <td>No.53</td>\n",
              "      <td>1995년 07월 25일</td>\n",
              "      <td>투수(우투우타)</td>\n",
              "      <td>186cm/123kg</td>\n",
              "      <td>사파초-마산중-용마고</td>\n",
              "      <td>20000만원</td>\n",
              "      <td>16700만원</td>\n",
              "      <td>15 한화 2차 1라운드 1순위</td>\n",
              "      <td>15한화</td>\n",
              "      <td>한화 이글스</td>\n",
              "      <td>186</td>\n",
              "      <td>123</td>\n",
              "      <td>35.553243</td>\n",
              "    </tr>\n",
              "    <tr>\n",
              "      <th>356</th>\n",
              "      <td>김범석</td>\n",
              "      <td>No.55</td>\n",
              "      <td>2004년 05월 21일</td>\n",
              "      <td>포수(우투우타)</td>\n",
              "      <td>178cm/110kg</td>\n",
              "      <td>김해삼성초-경남중-경남고</td>\n",
              "      <td>25000만원</td>\n",
              "      <td>3300만원</td>\n",
              "      <td>23 LG 1라운드 7순위</td>\n",
              "      <td>23LG</td>\n",
              "      <td>LG 트윈스</td>\n",
              "      <td>178</td>\n",
              "      <td>110</td>\n",
              "      <td>34.717839</td>\n",
              "    </tr>\n",
              "    <tr>\n",
              "      <th>30</th>\n",
              "      <td>박성웅</td>\n",
              "      <td>No.63</td>\n",
              "      <td>1999년 08월 20일</td>\n",
              "      <td>투수(좌투좌타)</td>\n",
              "      <td>178cm/109kg</td>\n",
              "      <td>광주서석초-충장중-광주제일고</td>\n",
              "      <td>10000만원</td>\n",
              "      <td>3300만원</td>\n",
              "      <td>18 한화 2차 2라운드 14순위</td>\n",
              "      <td>18한화</td>\n",
              "      <td>한화 이글스</td>\n",
              "      <td>178</td>\n",
              "      <td>109</td>\n",
              "      <td>34.402222</td>\n",
              "    </tr>\n",
              "    <tr>\n",
              "      <th>57</th>\n",
              "      <td>이성원</td>\n",
              "      <td>No.98</td>\n",
              "      <td>1999년 11월 02일</td>\n",
              "      <td>내야수(우투우타)</td>\n",
              "      <td>185cm/115kg</td>\n",
              "      <td>수원신곡초-매향중-장안고</td>\n",
              "      <td>6000만원</td>\n",
              "      <td>3000만원</td>\n",
              "      <td>18 한화 2차 6라운드 54순위</td>\n",
              "      <td></td>\n",
              "      <td>한화 이글스</td>\n",
              "      <td>185</td>\n",
              "      <td>115</td>\n",
              "      <td>33.601169</td>\n",
              "    </tr>\n",
              "    <tr>\n",
              "      <th>509</th>\n",
              "      <td>김기연</td>\n",
              "      <td>No.45</td>\n",
              "      <td>1997년 09월 07일</td>\n",
              "      <td>포수(우투우타)</td>\n",
              "      <td>178cm/106kg</td>\n",
              "      <td>광주수창초-진흥중-진흥고-LG</td>\n",
              "      <td>7000만원</td>\n",
              "      <td>4000만원</td>\n",
              "      <td>16 LG 2차 4라운드 34순위</td>\n",
              "      <td>17LG</td>\n",
              "      <td>두산 베어스</td>\n",
              "      <td>178</td>\n",
              "      <td>106</td>\n",
              "      <td>33.455372</td>\n",
              "    </tr>\n",
              "    <tr>\n",
              "      <th>...</th>\n",
              "      <td>...</td>\n",
              "      <td>...</td>\n",
              "      <td>...</td>\n",
              "      <td>...</td>\n",
              "      <td>...</td>\n",
              "      <td>...</td>\n",
              "      <td>...</td>\n",
              "      <td>...</td>\n",
              "      <td>...</td>\n",
              "      <td>...</td>\n",
              "      <td>...</td>\n",
              "      <td>...</td>\n",
              "      <td>...</td>\n",
              "      <td>...</td>\n",
              "    </tr>\n",
              "    <tr>\n",
              "      <th>35</th>\n",
              "      <td>성지훈</td>\n",
              "      <td>No.97</td>\n",
              "      <td>2000년 01월 29일</td>\n",
              "      <td>투수(좌투좌타)</td>\n",
              "      <td>181cm/68kg</td>\n",
              "      <td>송정동초-무등중-광주제일고-동아대</td>\n",
              "      <td></td>\n",
              "      <td>3000만원</td>\n",
              "      <td>23 한화 육성선수</td>\n",
              "      <td>24한화</td>\n",
              "      <td>한화 이글스</td>\n",
              "      <td>181</td>\n",
              "      <td>68</td>\n",
              "      <td>20.756387</td>\n",
              "    </tr>\n",
              "    <tr>\n",
              "      <th>804</th>\n",
              "      <td>엄상백</td>\n",
              "      <td>No.18</td>\n",
              "      <td>1996년 10월 04일</td>\n",
              "      <td>투수(우언우타)</td>\n",
              "      <td>187cm/72kg</td>\n",
              "      <td>역삼초-언북중-덕수고-KT-상무</td>\n",
              "      <td>23000만원</td>\n",
              "      <td>25000만원</td>\n",
              "      <td>15 KT 1차</td>\n",
              "      <td>15KT</td>\n",
              "      <td>KT 위즈</td>\n",
              "      <td>187</td>\n",
              "      <td>72</td>\n",
              "      <td>20.589665</td>\n",
              "    </tr>\n",
              "    <tr>\n",
              "      <th>821</th>\n",
              "      <td>이태규</td>\n",
              "      <td>No.45</td>\n",
              "      <td>2000년 02월 21일</td>\n",
              "      <td>투수(우투좌타)</td>\n",
              "      <td>188cm/72kg</td>\n",
              "      <td>희망대초-매향중-장안고-KIA</td>\n",
              "      <td>8000만원</td>\n",
              "      <td>3000만원</td>\n",
              "      <td>19 KIA 2차 3라운드 30순위</td>\n",
              "      <td>23KIA</td>\n",
              "      <td>KT 위즈</td>\n",
              "      <td>188</td>\n",
              "      <td>72</td>\n",
              "      <td>20.371209</td>\n",
              "    </tr>\n",
              "    <tr>\n",
              "      <th>379</th>\n",
              "      <td>백선기</td>\n",
              "      <td>No.114</td>\n",
              "      <td>1998년 08월 27일</td>\n",
              "      <td>투수(좌투좌타)</td>\n",
              "      <td>186cm/70kg</td>\n",
              "      <td>남도초-경상중-대구상원고-KT</td>\n",
              "      <td>5000만원</td>\n",
              "      <td>3000만원</td>\n",
              "      <td>18 KT 2차 7라운드 61순위</td>\n",
              "      <td></td>\n",
              "      <td>LG 트윈스</td>\n",
              "      <td>186</td>\n",
              "      <td>70</td>\n",
              "      <td>20.233553</td>\n",
              "    </tr>\n",
              "    <tr>\n",
              "      <th>673</th>\n",
              "      <td>강한울</td>\n",
              "      <td>No.6</td>\n",
              "      <td>1991년 09월 12일</td>\n",
              "      <td>내야수(우투좌타)</td>\n",
              "      <td>181cm/66kg</td>\n",
              "      <td>사당초-중앙중-안산공고-원광대-KIA-삼성-상무</td>\n",
              "      <td>14000만원</td>\n",
              "      <td>10000만원</td>\n",
              "      <td>14 KIA 2차 1라운드 5순위</td>\n",
              "      <td>14KIA</td>\n",
              "      <td>삼성 라이온즈</td>\n",
              "      <td>181</td>\n",
              "      <td>66</td>\n",
              "      <td>20.145905</td>\n",
              "    </tr>\n",
              "  </tbody>\n",
              "</table>\n",
              "<p>844 rows × 14 columns</p>\n",
              "</div>"
            ],
            "text/plain": [
              "      선수명      등번호            생년월일         포지션         신장/체중  \\\n",
              "10    김민우    No.53   1995년 07월 25일    투수(우투우타)   186cm/123kg   \n",
              "356   김범석    No.55   2004년 05월 21일    포수(우투우타)   178cm/110kg   \n",
              "30    박성웅    No.63   1999년 08월 20일    투수(좌투좌타)   178cm/109kg   \n",
              "57    이성원    No.98   1999년 11월 02일   내야수(우투우타)   185cm/115kg   \n",
              "509   김기연    No.45   1997년 09월 07일    포수(우투우타)   178cm/106kg   \n",
              "..    ...      ...             ...         ...           ...   \n",
              "35    성지훈    No.97   2000년 01월 29일    투수(좌투좌타)    181cm/68kg   \n",
              "804   엄상백    No.18   1996년 10월 04일    투수(우언우타)    187cm/72kg   \n",
              "821   이태규    No.45   2000년 02월 21일    투수(우투좌타)    188cm/72kg   \n",
              "379   백선기   No.114   1998년 08월 27일    투수(좌투좌타)    186cm/70kg   \n",
              "673   강한울     No.6   1991년 09월 12일   내야수(우투좌타)    181cm/66kg   \n",
              "\n",
              "                              경력    입단 계약금        연봉                  지명순위  \\\n",
              "10                   사파초-마산중-용마고   20000만원   16700만원     15 한화 2차 1라운드 1순위   \n",
              "356                김해삼성초-경남중-경남고   25000만원    3300만원        23 LG 1라운드 7순위   \n",
              "30               광주서석초-충장중-광주제일고   10000만원    3300만원    18 한화 2차 2라운드 14순위   \n",
              "57                 수원신곡초-매향중-장안고    6000만원    3000만원    18 한화 2차 6라운드 54순위   \n",
              "509             광주수창초-진흥중-진흥고-LG    7000만원    4000만원    16 LG 2차 4라운드 34순위   \n",
              "..                           ...       ...       ...                   ...   \n",
              "35            송정동초-무등중-광주제일고-동아대              3000만원            23 한화 육성선수   \n",
              "804            역삼초-언북중-덕수고-KT-상무   23000만원   25000만원              15 KT 1차   \n",
              "821             희망대초-매향중-장안고-KIA    8000만원    3000만원   19 KIA 2차 3라운드 30순위   \n",
              "379             남도초-경상중-대구상원고-KT    5000만원    3000만원    18 KT 2차 7라운드 61순위   \n",
              "673   사당초-중앙중-안산공고-원광대-KIA-삼성-상무   14000만원   10000만원    14 KIA 2차 1라운드 5순위   \n",
              "\n",
              "       입단년도     team   신장   체중        bmi  \n",
              "10     15한화   한화 이글스  186  123  35.553243  \n",
              "356    23LG   LG 트윈스  178  110  34.717839  \n",
              "30     18한화   한화 이글스  178  109  34.402222  \n",
              "57            한화 이글스  185  115  33.601169  \n",
              "509    17LG   두산 베어스  178  106  33.455372  \n",
              "..      ...      ...  ...  ...        ...  \n",
              "35     24한화   한화 이글스  181   68  20.756387  \n",
              "804    15KT    KT 위즈  187   72  20.589665  \n",
              "821   23KIA    KT 위즈  188   72  20.371209  \n",
              "379           LG 트윈스  186   70  20.233553  \n",
              "673   14KIA  삼성 라이온즈  181   66  20.145905  \n",
              "\n",
              "[844 rows x 14 columns]"
            ]
          },
          "execution_count": 307,
          "metadata": {},
          "output_type": "execute_result"
        }
      ],
      "source": [
        "txt.sort_values(by=['bmi'], ascending=False)"
      ]
    },
    {
      "cell_type": "code",
      "execution_count": null,
      "id": "8ca1b7c9-aa3e-499a-8fd4-df14d4d266e9",
      "metadata": {
        "id": "8ca1b7c9-aa3e-499a-8fd4-df14d4d266e9",
        "outputId": "43ce51ef-1228-4038-fb7c-4a8be5c66998"
      },
      "outputs": [
        {
          "data": {
            "text/html": [
              "<div>\n",
              "<style scoped>\n",
              "    .dataframe tbody tr th:only-of-type {\n",
              "        vertical-align: middle;\n",
              "    }\n",
              "\n",
              "    .dataframe tbody tr th {\n",
              "        vertical-align: top;\n",
              "    }\n",
              "\n",
              "    .dataframe thead th {\n",
              "        text-align: right;\n",
              "    }\n",
              "</style>\n",
              "<table border=\"1\" class=\"dataframe\">\n",
              "  <thead>\n",
              "    <tr style=\"text-align: right;\">\n",
              "      <th></th>\n",
              "      <th>선수명</th>\n",
              "      <th>등번호</th>\n",
              "      <th>생년월일</th>\n",
              "      <th>포지션</th>\n",
              "      <th>경력</th>\n",
              "      <th>입단 계약금</th>\n",
              "      <th>연봉</th>\n",
              "      <th>지명순위</th>\n",
              "      <th>입단년도</th>\n",
              "      <th>team</th>\n",
              "      <th>신장</th>\n",
              "      <th>체중</th>\n",
              "      <th>bmi</th>\n",
              "    </tr>\n",
              "  </thead>\n",
              "  <tbody>\n",
              "    <tr>\n",
              "      <th>0</th>\n",
              "      <td>강재민</td>\n",
              "      <td>No.</td>\n",
              "      <td>1997년 04월 03일</td>\n",
              "      <td>투수(우언우타)</td>\n",
              "      <td>양덕초-마산중-용마고-단국대</td>\n",
              "      <td>8000만원</td>\n",
              "      <td>14500만원</td>\n",
              "      <td>20 한화 2차 4라운드 38순위</td>\n",
              "      <td>20한화</td>\n",
              "      <td>한화 이글스</td>\n",
              "      <td>180</td>\n",
              "      <td>89</td>\n",
              "      <td>27.469136</td>\n",
              "    </tr>\n",
              "    <tr>\n",
              "      <th>1</th>\n",
              "      <td>권광민</td>\n",
              "      <td>No.17</td>\n",
              "      <td>1997년 12월 12일</td>\n",
              "      <td>외야수(좌투좌타)</td>\n",
              "      <td>서울청구초-홍은중-장충고</td>\n",
              "      <td></td>\n",
              "      <td>3300만원</td>\n",
              "      <td>22 한화 2차 5라운드 41순위</td>\n",
              "      <td>16시카고컵스</td>\n",
              "      <td>한화 이글스</td>\n",
              "      <td>189</td>\n",
              "      <td>102</td>\n",
              "      <td>28.554632</td>\n",
              "    </tr>\n",
              "    <tr>\n",
              "      <th>2</th>\n",
              "      <td>권동욱</td>\n",
              "      <td>No.02</td>\n",
              "      <td>2001년 01월 08일</td>\n",
              "      <td>외야수(우투우타)</td>\n",
              "      <td>가동초-휘문중-배명고-동국대</td>\n",
              "      <td></td>\n",
              "      <td>3000만원</td>\n",
              "      <td>24 한화 육성선수</td>\n",
              "      <td></td>\n",
              "      <td>한화 이글스</td>\n",
              "      <td>173</td>\n",
              "      <td>85</td>\n",
              "      <td>28.400548</td>\n",
              "    </tr>\n",
              "    <tr>\n",
              "      <th>3</th>\n",
              "      <td>권현</td>\n",
              "      <td>No.111</td>\n",
              "      <td>2005년 02월 23일</td>\n",
              "      <td>외야수(우투우타)</td>\n",
              "      <td>사당초-언북중-장충고</td>\n",
              "      <td>3000만원</td>\n",
              "      <td>3000만원</td>\n",
              "      <td>24 한화 10라운드 91순위</td>\n",
              "      <td></td>\n",
              "      <td>한화 이글스</td>\n",
              "      <td>182</td>\n",
              "      <td>88</td>\n",
              "      <td>26.566840</td>\n",
              "    </tr>\n",
              "    <tr>\n",
              "      <th>4</th>\n",
              "      <td>김강민</td>\n",
              "      <td>No.9</td>\n",
              "      <td>1982년 09월 13일</td>\n",
              "      <td>외야수(우투우타)</td>\n",
              "      <td>본리초-대구중-경북고-SK-SSG</td>\n",
              "      <td>11000만원</td>\n",
              "      <td>11000만원</td>\n",
              "      <td>01 SK 2차 2라운드 18순위</td>\n",
              "      <td>01SK</td>\n",
              "      <td>한화 이글스</td>\n",
              "      <td>182</td>\n",
              "      <td>87</td>\n",
              "      <td>26.264944</td>\n",
              "    </tr>\n",
              "    <tr>\n",
              "      <th>...</th>\n",
              "      <td>...</td>\n",
              "      <td>...</td>\n",
              "      <td>...</td>\n",
              "      <td>...</td>\n",
              "      <td>...</td>\n",
              "      <td>...</td>\n",
              "      <td>...</td>\n",
              "      <td>...</td>\n",
              "      <td>...</td>\n",
              "      <td>...</td>\n",
              "      <td>...</td>\n",
              "      <td>...</td>\n",
              "      <td>...</td>\n",
              "    </tr>\n",
              "    <tr>\n",
              "      <th>839</th>\n",
              "      <td>한민우</td>\n",
              "      <td>No.96</td>\n",
              "      <td>1999년 04월 27일</td>\n",
              "      <td>투수(좌투좌타)</td>\n",
              "      <td>동일중앙초-경남중-경남고</td>\n",
              "      <td>1000만원</td>\n",
              "      <td>3000만원</td>\n",
              "      <td>23 KT 육성선수</td>\n",
              "      <td></td>\n",
              "      <td>KT 위즈</td>\n",
              "      <td>177</td>\n",
              "      <td>82</td>\n",
              "      <td>26.173833</td>\n",
              "    </tr>\n",
              "    <tr>\n",
              "      <th>840</th>\n",
              "      <td>한차현</td>\n",
              "      <td>No.59</td>\n",
              "      <td>1998년 11월 30일</td>\n",
              "      <td>투수(우투우타)</td>\n",
              "      <td>사능초(남양주리틀)-청원중-포항제철고-성균관대</td>\n",
              "      <td>10000만원</td>\n",
              "      <td>3100만원</td>\n",
              "      <td>21 KT 2차 2라운드 15순위</td>\n",
              "      <td>21KT</td>\n",
              "      <td>KT 위즈</td>\n",
              "      <td>180</td>\n",
              "      <td>80</td>\n",
              "      <td>24.691358</td>\n",
              "    </tr>\n",
              "    <tr>\n",
              "      <th>841</th>\n",
              "      <td>홍현빈</td>\n",
              "      <td>No.31</td>\n",
              "      <td>1997년 08월 29일</td>\n",
              "      <td>외야수(우투좌타)</td>\n",
              "      <td>수원신곡초-매송중-유신고-KT-상무</td>\n",
              "      <td>9000만원</td>\n",
              "      <td>4500만원</td>\n",
              "      <td>17 KT 2차 3라운드 21순위</td>\n",
              "      <td>17KT</td>\n",
              "      <td>KT 위즈</td>\n",
              "      <td>174</td>\n",
              "      <td>70</td>\n",
              "      <td>23.120624</td>\n",
              "    </tr>\n",
              "    <tr>\n",
              "      <th>842</th>\n",
              "      <td>황의준</td>\n",
              "      <td>No.103</td>\n",
              "      <td>2002년 04월 06일</td>\n",
              "      <td>외야수(우투좌타)</td>\n",
              "      <td>칠성초-경복중-경북고-수성대</td>\n",
              "      <td>4000만원</td>\n",
              "      <td>3000만원</td>\n",
              "      <td>23 KT 8라운드 80순위</td>\n",
              "      <td></td>\n",
              "      <td>KT 위즈</td>\n",
              "      <td>185</td>\n",
              "      <td>95</td>\n",
              "      <td>27.757487</td>\n",
              "    </tr>\n",
              "    <tr>\n",
              "      <th>843</th>\n",
              "      <td>황재균</td>\n",
              "      <td>No.10</td>\n",
              "      <td>1987년 07월 28일</td>\n",
              "      <td>내야수(우투우타)</td>\n",
              "      <td>사당초-서울이수중-경기고-현대-히어로즈-롯데-샌프란시스코</td>\n",
              "      <td>6000만원</td>\n",
              "      <td>100000만원</td>\n",
              "      <td>06 현대 2차 3라운드 24순위</td>\n",
              "      <td>06현대</td>\n",
              "      <td>KT 위즈</td>\n",
              "      <td>183</td>\n",
              "      <td>96</td>\n",
              "      <td>28.666129</td>\n",
              "    </tr>\n",
              "  </tbody>\n",
              "</table>\n",
              "<p>844 rows × 13 columns</p>\n",
              "</div>"
            ],
            "text/plain": [
              "      선수명      등번호            생년월일         포지션  \\\n",
              "0     강재민      No.   1997년 04월 03일    투수(우언우타)   \n",
              "1     권광민    No.17   1997년 12월 12일   외야수(좌투좌타)   \n",
              "2     권동욱    No.02   2001년 01월 08일   외야수(우투우타)   \n",
              "3      권현   No.111   2005년 02월 23일   외야수(우투우타)   \n",
              "4     김강민     No.9   1982년 09월 13일   외야수(우투우타)   \n",
              "..    ...      ...             ...         ...   \n",
              "839   한민우    No.96   1999년 04월 27일    투수(좌투좌타)   \n",
              "840   한차현    No.59   1998년 11월 30일    투수(우투우타)   \n",
              "841   홍현빈    No.31   1997년 08월 29일   외야수(우투좌타)   \n",
              "842   황의준   No.103   2002년 04월 06일   외야수(우투좌타)   \n",
              "843   황재균    No.10   1987년 07월 28일   내야수(우투우타)   \n",
              "\n",
              "                                   경력    입단 계약금         연봉  \\\n",
              "0                     양덕초-마산중-용마고-단국대    8000만원    14500만원   \n",
              "1                       서울청구초-홍은중-장충고               3300만원   \n",
              "2                     가동초-휘문중-배명고-동국대               3000만원   \n",
              "3                         사당초-언북중-장충고    3000만원     3000만원   \n",
              "4                  본리초-대구중-경북고-SK-SSG   11000만원    11000만원   \n",
              "..                                ...       ...        ...   \n",
              "839                     동일중앙초-경남중-경남고    1000만원     3000만원   \n",
              "840         사능초(남양주리틀)-청원중-포항제철고-성균관대   10000만원     3100만원   \n",
              "841               수원신곡초-매송중-유신고-KT-상무    9000만원     4500만원   \n",
              "842                   칠성초-경복중-경북고-수성대    4000만원     3000만원   \n",
              "843   사당초-서울이수중-경기고-현대-히어로즈-롯데-샌프란시스코    6000만원   100000만원   \n",
              "\n",
              "                    지명순위      입단년도    team   신장   체중        bmi  \n",
              "0     20 한화 2차 4라운드 38순위      20한화  한화 이글스  180   89  27.469136  \n",
              "1     22 한화 2차 5라운드 41순위   16시카고컵스  한화 이글스  189  102  28.554632  \n",
              "2             24 한화 육성선수            한화 이글스  173   85  28.400548  \n",
              "3       24 한화 10라운드 91순위            한화 이글스  182   88  26.566840  \n",
              "4     01 SK 2차 2라운드 18순위      01SK  한화 이글스  182   87  26.264944  \n",
              "..                   ...       ...     ...  ...  ...        ...  \n",
              "839           23 KT 육성선수             KT 위즈  177   82  26.173833  \n",
              "840   21 KT 2차 2라운드 15순위      21KT   KT 위즈  180   80  24.691358  \n",
              "841   17 KT 2차 3라운드 21순위      17KT   KT 위즈  174   70  23.120624  \n",
              "842      23 KT 8라운드 80순위             KT 위즈  185   95  27.757487  \n",
              "843   06 현대 2차 3라운드 24순위      06현대   KT 위즈  183   96  28.666129  \n",
              "\n",
              "[844 rows x 13 columns]"
            ]
          },
          "execution_count": 308,
          "metadata": {},
          "output_type": "execute_result"
        }
      ],
      "source": [
        "txt.drop(['신장/체중'], axis=1)\n",
        "# 신장/체중을 지워줘 일단 반영하진말고"
      ]
    },
    {
      "cell_type": "code",
      "execution_count": null,
      "id": "e3b5a010-c662-4e16-ada9-c24c590faa84",
      "metadata": {
        "id": "e3b5a010-c662-4e16-ada9-c24c590faa84"
      },
      "outputs": [],
      "source": [
        "txt.drop(['신장/체중'], axis=1, inplace=True)\n",
        "# 신장/체중을 지워줘 바로 반영"
      ]
    },
    {
      "cell_type": "code",
      "execution_count": null,
      "id": "a430323d-3fef-458d-b775-c61ee7c6669a",
      "metadata": {
        "id": "a430323d-3fef-458d-b775-c61ee7c6669a",
        "outputId": "12bf96aa-9501-4e08-a238-39fdad2007ab"
      },
      "outputs": [
        {
          "data": {
            "text/plain": [
              "team\n",
              "KIA 타이거즈    26.544495\n",
              "KT 위즈       25.736477\n",
              "LG 트윈스      26.030905\n",
              "NC 다이노스     25.957081\n",
              "SSG 랜더스     25.967989\n",
              "고양 히어로즈     25.514269\n",
              "두산 베어스      25.987765\n",
              "롯데 자이언츠     26.481472\n",
              "삼성 라이온즈     26.194392\n",
              "키움 히어로즈     26.615679\n",
              "한화 이글스      26.665788\n",
              "Name: bmi, dtype: float64"
            ]
          },
          "execution_count": 311,
          "metadata": {},
          "output_type": "execute_result"
        }
      ],
      "source": [
        "txt.groupby(['team'])['bmi'].mean()\n",
        "# 시리즈"
      ]
    },
    {
      "cell_type": "code",
      "execution_count": null,
      "id": "08193c60-cf2e-4103-ac0c-c3fcde2d512e",
      "metadata": {
        "id": "08193c60-cf2e-4103-ac0c-c3fcde2d512e",
        "outputId": "939b76c6-47bd-473d-b788-a1750a317db8"
      },
      "outputs": [
        {
          "data": {
            "text/html": [
              "<div>\n",
              "<style scoped>\n",
              "    .dataframe tbody tr th:only-of-type {\n",
              "        vertical-align: middle;\n",
              "    }\n",
              "\n",
              "    .dataframe tbody tr th {\n",
              "        vertical-align: top;\n",
              "    }\n",
              "\n",
              "    .dataframe thead th {\n",
              "        text-align: right;\n",
              "    }\n",
              "</style>\n",
              "<table border=\"1\" class=\"dataframe\">\n",
              "  <thead>\n",
              "    <tr style=\"text-align: right;\">\n",
              "      <th></th>\n",
              "      <th>team</th>\n",
              "      <th>bmi</th>\n",
              "    </tr>\n",
              "  </thead>\n",
              "  <tbody>\n",
              "    <tr>\n",
              "      <th>0</th>\n",
              "      <td>KIA 타이거즈</td>\n",
              "      <td>26.544495</td>\n",
              "    </tr>\n",
              "    <tr>\n",
              "      <th>1</th>\n",
              "      <td>KT 위즈</td>\n",
              "      <td>25.736477</td>\n",
              "    </tr>\n",
              "    <tr>\n",
              "      <th>2</th>\n",
              "      <td>LG 트윈스</td>\n",
              "      <td>26.030905</td>\n",
              "    </tr>\n",
              "    <tr>\n",
              "      <th>3</th>\n",
              "      <td>NC 다이노스</td>\n",
              "      <td>25.957081</td>\n",
              "    </tr>\n",
              "    <tr>\n",
              "      <th>4</th>\n",
              "      <td>SSG 랜더스</td>\n",
              "      <td>25.967989</td>\n",
              "    </tr>\n",
              "    <tr>\n",
              "      <th>5</th>\n",
              "      <td>고양 히어로즈</td>\n",
              "      <td>25.514269</td>\n",
              "    </tr>\n",
              "    <tr>\n",
              "      <th>6</th>\n",
              "      <td>두산 베어스</td>\n",
              "      <td>25.987765</td>\n",
              "    </tr>\n",
              "    <tr>\n",
              "      <th>7</th>\n",
              "      <td>롯데 자이언츠</td>\n",
              "      <td>26.481472</td>\n",
              "    </tr>\n",
              "    <tr>\n",
              "      <th>8</th>\n",
              "      <td>삼성 라이온즈</td>\n",
              "      <td>26.194392</td>\n",
              "    </tr>\n",
              "    <tr>\n",
              "      <th>9</th>\n",
              "      <td>키움 히어로즈</td>\n",
              "      <td>26.615679</td>\n",
              "    </tr>\n",
              "    <tr>\n",
              "      <th>10</th>\n",
              "      <td>한화 이글스</td>\n",
              "      <td>26.665788</td>\n",
              "    </tr>\n",
              "  </tbody>\n",
              "</table>\n",
              "</div>"
            ],
            "text/plain": [
              "        team        bmi\n",
              "0   KIA 타이거즈  26.544495\n",
              "1      KT 위즈  25.736477\n",
              "2     LG 트윈스  26.030905\n",
              "3    NC 다이노스  25.957081\n",
              "4    SSG 랜더스  25.967989\n",
              "5    고양 히어로즈  25.514269\n",
              "6     두산 베어스  25.987765\n",
              "7    롯데 자이언츠  26.481472\n",
              "8    삼성 라이온즈  26.194392\n",
              "9    키움 히어로즈  26.615679\n",
              "10    한화 이글스  26.665788"
            ]
          },
          "execution_count": 314,
          "metadata": {},
          "output_type": "execute_result"
        }
      ],
      "source": [
        "txt.groupby(['team'], as_index=False)[['bmi']].mean()\n",
        "# 데이터프레임"
      ]
    },
    {
      "cell_type": "code",
      "execution_count": null,
      "id": "e320aad0-2fb9-44ff-9873-bcaac81f30a0",
      "metadata": {
        "id": "e320aad0-2fb9-44ff-9873-bcaac81f30a0",
        "outputId": "3d11ce85-3ad4-4808-bf7c-dc1771377b2f"
      },
      "outputs": [
        {
          "data": {
            "text/plain": [
              "5.5"
            ]
          },
          "execution_count": 315,
          "metadata": {},
          "output_type": "execute_result"
        }
      ],
      "source": [
        "np.array(np.arange(1,11)).mean()\n",
        "#평균"
      ]
    },
    {
      "cell_type": "code",
      "execution_count": null,
      "id": "7043cbd2-ee2e-4a1a-8dc9-715735e33e28",
      "metadata": {
        "id": "7043cbd2-ee2e-4a1a-8dc9-715735e33e28",
        "outputId": "1ab741fc-fae2-45c7-a801-6516afbcb846"
      },
      "outputs": [
        {
          "data": {
            "text/plain": [
              "8.25"
            ]
          },
          "execution_count": 320,
          "metadata": {},
          "output_type": "execute_result"
        }
      ],
      "source": [
        "np.array(np.arange(1,11)).var()\n",
        "# 분산"
      ]
    },
    {
      "cell_type": "code",
      "execution_count": null,
      "id": "ac2b30e7-63fa-453a-9bec-042df01b755d",
      "metadata": {
        "id": "ac2b30e7-63fa-453a-9bec-042df01b755d",
        "outputId": "78f9b058-b32e-48fe-ca3f-9cd24dda44e3"
      },
      "outputs": [
        {
          "data": {
            "text/plain": [
              "a    5.5\n",
              "dtype: float64"
            ]
          },
          "execution_count": 321,
          "metadata": {},
          "output_type": "execute_result"
        }
      ],
      "source": [
        "pd.DataFrame({'a':range(1,11)}).mean()\n",
        "# 평균"
      ]
    },
    {
      "cell_type": "code",
      "execution_count": null,
      "id": "12f0624f-6282-4efb-bffe-28a3f68e82a6",
      "metadata": {
        "id": "12f0624f-6282-4efb-bffe-28a3f68e82a6",
        "outputId": "2f1ed2df-2bd6-4818-d764-ea5df7672483"
      },
      "outputs": [
        {
          "data": {
            "text/plain": [
              "a    9.166667\n",
              "dtype: float64"
            ]
          },
          "execution_count": 322,
          "metadata": {},
          "output_type": "execute_result"
        }
      ],
      "source": [
        "pd.DataFrame({'a':range(1,11)}).var()\n",
        "# 분산"
      ]
    },
    {
      "cell_type": "code",
      "execution_count": null,
      "id": "a53df713-bdcd-40a7-9698-808707b0135d",
      "metadata": {
        "id": "a53df713-bdcd-40a7-9698-808707b0135d"
      },
      "outputs": [],
      "source": []
    },
    {
      "cell_type": "code",
      "execution_count": null,
      "id": "74cd6172-f005-4545-8e49-48b88529c297",
      "metadata": {
        "id": "74cd6172-f005-4545-8e49-48b88529c297"
      },
      "outputs": [],
      "source": []
    },
    {
      "cell_type": "code",
      "execution_count": null,
      "id": "91174891-a1a4-4928-8f40-1db9ef113567",
      "metadata": {
        "id": "91174891-a1a4-4928-8f40-1db9ef113567"
      },
      "outputs": [],
      "source": []
    },
    {
      "cell_type": "code",
      "execution_count": null,
      "id": "cee5ff85-eb31-437c-8df4-72ce40ba5768",
      "metadata": {
        "id": "cee5ff85-eb31-437c-8df4-72ce40ba5768"
      },
      "outputs": [],
      "source": []
    },
    {
      "cell_type": "code",
      "execution_count": null,
      "id": "1444a286-ad4e-4e48-8df0-492eed63942e",
      "metadata": {
        "id": "1444a286-ad4e-4e48-8df0-492eed63942e"
      },
      "outputs": [],
      "source": []
    }
  ],
  "metadata": {
    "kernelspec": {
      "display_name": "Python 3 (ipykernel)",
      "language": "python",
      "name": "python3"
    },
    "language_info": {
      "codemirror_mode": {
        "name": "ipython",
        "version": 3
      },
      "file_extension": ".py",
      "mimetype": "text/x-python",
      "name": "python",
      "nbconvert_exporter": "python",
      "pygments_lexer": "ipython3",
      "version": "3.9.19"
    },
    "colab": {
      "provenance": [],
      "include_colab_link": true
    }
  },
  "nbformat": 4,
  "nbformat_minor": 5
}