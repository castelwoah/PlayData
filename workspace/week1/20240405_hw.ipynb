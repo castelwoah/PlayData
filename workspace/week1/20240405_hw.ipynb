{
  "cells": [
    {
      "cell_type": "markdown",
      "metadata": {
        "colab_type": "text",
        "id": "view-in-github"
      },
      "source": [
        "<a href=\"https://colab.research.google.com/github/castelwoah/PlayData/blob/main/workspace/week1/20240405_1.ipynb\" target=\"_parent\"><img src=\"https://colab.research.google.com/assets/colab-badge.svg\" alt=\"Open In Colab\"/></a>"
      ]
    },
    {
      "cell_type": "code",
      "execution_count": 3,
      "metadata": {},
      "outputs": [
        {
          "name": "stdout",
          "output_type": "stream",
          "text": [
            "Collecting pandas\n",
            "  Downloading pandas-2.0.3-cp38-cp38-manylinux_2_17_x86_64.manylinux2014_x86_64.whl (12.4 MB)\n",
            "\u001b[K     |████████████████████████████████| 12.4 MB 1.8 MB/s eta 0:00:01\n",
            "\u001b[?25hRequirement already satisfied: pytz>=2020.1 in /usr/local/lib/python3.8/dist-packages (from pandas) (2024.1)\n",
            "Collecting numpy>=1.20.3; python_version < \"3.10\"\n",
            "  Downloading numpy-1.24.4-cp38-cp38-manylinux_2_17_x86_64.manylinux2014_x86_64.whl (17.3 MB)\n",
            "\u001b[K     |████████████████████████████████| 17.3 MB 11.8 MB/s eta 0:00:01\n",
            "\u001b[?25hRequirement already satisfied: python-dateutil>=2.8.2 in /usr/local/lib/python3.8/dist-packages (from pandas) (2.9.0.post0)\n",
            "Collecting tzdata>=2022.1\n",
            "  Downloading tzdata-2024.1-py2.py3-none-any.whl (345 kB)\n",
            "\u001b[K     |████████████████████████████████| 345 kB 19.3 MB/s eta 0:00:01\n",
            "\u001b[?25hRequirement already satisfied: six>=1.5 in /usr/lib/python3/dist-packages (from python-dateutil>=2.8.2->pandas) (1.14.0)\n",
            "Installing collected packages: numpy, tzdata, pandas\n",
            "Successfully installed numpy-1.24.4 pandas-2.0.3 tzdata-2024.1\n",
            "Note: you may need to restart the kernel to use updated packages.\n"
          ]
        }
      ],
      "source": [
        "pip install pandas"
      ]
    },
    {
      "cell_type": "code",
      "execution_count": 4,
      "metadata": {
        "id": "S81wQ4soeHHG"
      },
      "outputs": [],
      "source": [
        "import os\n",
        "import pandas as pd"
      ]
    },
    {
      "cell_type": "code",
      "execution_count": 5,
      "metadata": {
        "id": "lNizLD-ueHHH",
        "outputId": "d266cd40-0439-4f11-f279-792935962687"
      },
      "outputs": [
        {
          "name": "stdout",
          "output_type": "stream",
          "text": [
            "/root/data/강주헌_19601129_1xxxxxx.txt\n",
            "\n",
            "<class 'list'>\n",
            "<class 'str'> 강주헌_19601129_1xxxxxx.txt\n",
            "1\n"
          ]
        }
      ],
      "source": [
        "count = 0\n",
        "for roots, dirs, files in os.walk(\"/root/data\"):\n",
        "    for file in files:\n",
        "        # open(\"./file.txt\", \"w\", encoding=\"utf-8\")\n",
        "        print((f\"{roots}/{file}\\n\"))\n",
        "        print(type(files))\n",
        "        print(type(file), file)\n",
        "        print(file.split('_')[2][0])\n",
        "        count += 1\n",
        "        break\n",
        "\n",
        "# f.close()\n",
        "# kdf['신장'] = kdf['신장/체중'].apply(lambda x : int(x.split(\"/\")[0].replace(\"cm\", '')))"
      ]
    },
    {
      "cell_type": "markdown",
      "metadata": {
        "id": "lqgINlW1eHHJ"
      },
      "source": [
        "# 2. 남여 구분"
      ]
    },
    {
      "cell_type": "code",
      "execution_count": 39,
      "metadata": {
        "id": "eChb1LKIeHHK"
      },
      "outputs": [],
      "source": [
        "mail_loc = []\n",
        "for roots, dirs, files in os.walk(\"/root/mail\"):\n",
        "        for file in files:\n",
        "            mail_loc.append(f\"{roots}/{file}\")\n"
      ]
    },
    {
      "cell_type": "code",
      "execution_count": 40,
      "metadata": {},
      "outputs": [
        {
          "data": {
            "text/plain": [
              "4993"
            ]
          },
          "execution_count": 40,
          "metadata": {},
          "output_type": "execute_result"
        }
      ],
      "source": [
        "len(mail_loc)"
      ]
    },
    {
      "cell_type": "code",
      "execution_count": 41,
      "metadata": {
        "id": "xAluYKAceHHL"
      },
      "outputs": [],
      "source": [
        "# 파일읽기\n",
        "# maildata 리스트에 어팬드\n",
        "# readline_test.py\n",
        "maildata = []\n",
        "for i in range(len(files)):\n",
        "    f = open(mail_loc[i], 'r')\n",
        "    line = f.readline()\n",
        "    if not line: break\n",
        "    maildata.append(line)\n",
        "    f.close()"
      ]
    },
    {
      "cell_type": "code",
      "execution_count": 42,
      "metadata": {
        "id": "_mSJ89okeHHL"
      },
      "outputs": [],
      "source": [
        "for i, x in enumerate(maildata):\n",
        "    maildata[i] = x.replace(',', '')\n"
      ]
    },
    {
      "cell_type": "code",
      "execution_count": 43,
      "metadata": {
        "id": "niztZwOmeHHL",
        "outputId": "60e21570-4897-4880-d6fe-911b3fcca342"
      },
      "outputs": [
        {
          "data": {
            "text/plain": [
              "4993"
            ]
          },
          "execution_count": 43,
          "metadata": {},
          "output_type": "execute_result"
        }
      ],
      "source": [
        "len(maildata)"
      ]
    },
    {
      "cell_type": "code",
      "execution_count": 44,
      "metadata": {},
      "outputs": [],
      "source": [
        "femail_loc = []\n",
        "for roots, dirs, files in os.walk(\"/root/femail\"):\n",
        "        for file in files:\n",
        "            femail_loc.append(f\"{roots}/{file}\")\n"
      ]
    },
    {
      "cell_type": "code",
      "execution_count": 45,
      "metadata": {},
      "outputs": [],
      "source": [
        "# 파일읽기\n",
        "# femaildata 리스트에 어팬드\n",
        "# readline_test.py\n",
        "femaildata = []\n",
        "for i in range(len(files)):\n",
        "    f = open(femail_loc[i], 'r')\n",
        "    line = f.readline()\n",
        "    if not line: break\n",
        "    femaildata.append(line)\n",
        "    f.close()\n",
        "\n",
        "# 콤마 제거\n",
        "for i, x in enumerate(femaildata):\n",
        "    femaildata[i] = x.replace(',', '')\n"
      ]
    },
    {
      "cell_type": "code",
      "execution_count": 47,
      "metadata": {},
      "outputs": [
        {
          "data": {
            "text/plain": [
              "5007"
            ]
          },
          "execution_count": 47,
          "metadata": {},
          "output_type": "execute_result"
        }
      ],
      "source": [
        "len(femaildata)"
      ]
    },
    {
      "cell_type": "code",
      "execution_count": null,
      "metadata": {},
      "outputs": [],
      "source": []
    },
    {
      "cell_type": "markdown",
      "metadata": {
        "id": "bP1VuqUseHHM"
      },
      "source": [
        "# 1. 파일이동"
      ]
    },
    {
      "cell_type": "code",
      "execution_count": null,
      "metadata": {
        "id": "OjgvhU19eHHM"
      },
      "outputs": [],
      "source": [
        "import shutil\n",
        "import os\n",
        "# import re\n",
        "# p = re.compile(\"[0-9]+\")\n",
        "if not os.path.isdir(\"/root/mail\"):\n",
        "    os.mkdir(\"/root/mail\")\n",
        "if not os.path.isdir(\"/root/femail\"):\n",
        "    os.mkdir(\"/root/femail\")\n",
        "\n",
        "for roots, dirs, files in os.walk(\"/root/data\"):\n",
        "    for file in files:\n",
        "        if int(file.split('_')[2][0])%2 == 1:\n",
        "            shutil.move(f\"{roots}/{file}\", \"/root/mail\")\n",
        "        elif int(file.split('_')[2][0])%2 == 0:\n",
        "            shutil.move(f\"{roots}/{file}\", \"/root/femail\")\n",
        "\n"
      ]
    },
    {
      "cell_type": "code",
      "execution_count": null,
      "metadata": {},
      "outputs": [],
      "source": []
    },
    {
      "cell_type": "code",
      "execution_count": null,
      "metadata": {
        "id": "Zct4QYC2eHHM",
        "outputId": "acabe7ef-7c86-4725-d600-1d9728d6a3bf"
      },
      "outputs": [
        {
          "data": {
            "text/plain": [
              "'/root/PlayData-1/workspace/week1'"
            ]
          },
          "execution_count": 17,
          "metadata": {},
          "output_type": "execute_result"
        }
      ],
      "source": [
        "import os\n",
        "os.getcwd()"
      ]
    },
    {
      "cell_type": "markdown",
      "metadata": {
        "id": "F9ZGsn3HeHHN"
      },
      "source": [
        "# 3. 데이터프레임 구성"
      ]
    },
    {
      "cell_type": "code",
      "execution_count": 48,
      "metadata": {},
      "outputs": [
        {
          "data": {
            "text/html": [
              "<div>\n",
              "<style scoped>\n",
              "    .dataframe tbody tr th:only-of-type {\n",
              "        vertical-align: middle;\n",
              "    }\n",
              "\n",
              "    .dataframe tbody tr th {\n",
              "        vertical-align: top;\n",
              "    }\n",
              "\n",
              "    .dataframe thead th {\n",
              "        text-align: right;\n",
              "    }\n",
              "</style>\n",
              "<table border=\"1\" class=\"dataframe\">\n",
              "  <thead>\n",
              "    <tr style=\"text-align: right;\">\n",
              "      <th></th>\n",
              "      <th>mail</th>\n",
              "      <th>data</th>\n",
              "    </tr>\n",
              "  </thead>\n",
              "  <tbody>\n",
              "    <tr>\n",
              "      <th>0</th>\n",
              "      <td>/root/mail/강주헌_19601129_1xxxxxx.txt</td>\n",
              "      <td>23472543</td>\n",
              "    </tr>\n",
              "    <tr>\n",
              "      <th>1</th>\n",
              "      <td>/root/mail/문현설_19600509_3xxxxxx.txt</td>\n",
              "      <td>1467</td>\n",
              "    </tr>\n",
              "    <tr>\n",
              "      <th>2</th>\n",
              "      <td>/root/mail/강채빈_19900809_3xxxxxx.txt</td>\n",
              "      <td>25709</td>\n",
              "    </tr>\n",
              "    <tr>\n",
              "      <th>3</th>\n",
              "      <td>/root/mail/강민상_19921215_1xxxxxx.txt</td>\n",
              "      <td>79182</td>\n",
              "    </tr>\n",
              "    <tr>\n",
              "      <th>4</th>\n",
              "      <td>/root/mail/송지혁_19960717_3xxxxxx.txt</td>\n",
              "      <td>56584</td>\n",
              "    </tr>\n",
              "    <tr>\n",
              "      <th>...</th>\n",
              "      <td>...</td>\n",
              "      <td>...</td>\n",
              "    </tr>\n",
              "    <tr>\n",
              "      <th>4988</th>\n",
              "      <td>/root/mail/황세완_19620527_1xxxxxx.txt</td>\n",
              "      <td>715468</td>\n",
              "    </tr>\n",
              "    <tr>\n",
              "      <th>4989</th>\n",
              "      <td>/root/mail/안해연_19900303_3xxxxxx.txt</td>\n",
              "      <td>41289635</td>\n",
              "    </tr>\n",
              "    <tr>\n",
              "      <th>4990</th>\n",
              "      <td>/root/mail/이보민_19660126_3xxxxxx.txt</td>\n",
              "      <td>345871</td>\n",
              "    </tr>\n",
              "    <tr>\n",
              "      <th>4991</th>\n",
              "      <td>/root/mail/배원일_19800806_3xxxxxx.txt</td>\n",
              "      <td>7490</td>\n",
              "    </tr>\n",
              "    <tr>\n",
              "      <th>4992</th>\n",
              "      <td>/root/mail/허재환_19940306_1xxxxxx.txt</td>\n",
              "      <td>9618958</td>\n",
              "    </tr>\n",
              "  </tbody>\n",
              "</table>\n",
              "<p>4993 rows × 2 columns</p>\n",
              "</div>"
            ],
            "text/plain": [
              "                                     mail      data\n",
              "0     /root/mail/강주헌_19601129_1xxxxxx.txt  23472543\n",
              "1     /root/mail/문현설_19600509_3xxxxxx.txt      1467\n",
              "2     /root/mail/강채빈_19900809_3xxxxxx.txt     25709\n",
              "3     /root/mail/강민상_19921215_1xxxxxx.txt     79182\n",
              "4     /root/mail/송지혁_19960717_3xxxxxx.txt     56584\n",
              "...                                   ...       ...\n",
              "4988  /root/mail/황세완_19620527_1xxxxxx.txt    715468\n",
              "4989  /root/mail/안해연_19900303_3xxxxxx.txt  41289635\n",
              "4990  /root/mail/이보민_19660126_3xxxxxx.txt    345871\n",
              "4991  /root/mail/배원일_19800806_3xxxxxx.txt      7490\n",
              "4992  /root/mail/허재환_19940306_1xxxxxx.txt   9618958\n",
              "\n",
              "[4993 rows x 2 columns]"
            ]
          },
          "execution_count": 48,
          "metadata": {},
          "output_type": "execute_result"
        }
      ],
      "source": [
        "# mail dataframe 구축\n",
        "maildf = pd.DataFrame({\"mail\": mail_loc, \"data\": maildata})\n",
        "maildf\n",
        "\n",
        "# 원본 maildf"
      ]
    },
    {
      "cell_type": "code",
      "execution_count": 49,
      "metadata": {},
      "outputs": [
        {
          "data": {
            "text/html": [
              "<div>\n",
              "<style scoped>\n",
              "    .dataframe tbody tr th:only-of-type {\n",
              "        vertical-align: middle;\n",
              "    }\n",
              "\n",
              "    .dataframe tbody tr th {\n",
              "        vertical-align: top;\n",
              "    }\n",
              "\n",
              "    .dataframe thead th {\n",
              "        text-align: right;\n",
              "    }\n",
              "</style>\n",
              "<table border=\"1\" class=\"dataframe\">\n",
              "  <thead>\n",
              "    <tr style=\"text-align: right;\">\n",
              "      <th></th>\n",
              "      <th>femail</th>\n",
              "      <th>data</th>\n",
              "    </tr>\n",
              "  </thead>\n",
              "  <tbody>\n",
              "    <tr>\n",
              "      <th>0</th>\n",
              "      <td>/root/femail/배신화_19691226_4xxxxxx.txt</td>\n",
              "      <td>7682</td>\n",
              "    </tr>\n",
              "    <tr>\n",
              "      <th>1</th>\n",
              "      <td>/root/femail/고다완_19770224_2xxxxxx.txt</td>\n",
              "      <td>99911654</td>\n",
              "    </tr>\n",
              "    <tr>\n",
              "      <th>2</th>\n",
              "      <td>/root/femail/배종성_19621228_4xxxxxx.txt</td>\n",
              "      <td>99779180</td>\n",
              "    </tr>\n",
              "    <tr>\n",
              "      <th>3</th>\n",
              "      <td>/root/femail/장지아_19950525_4xxxxxx.txt</td>\n",
              "      <td>842901</td>\n",
              "    </tr>\n",
              "    <tr>\n",
              "      <th>4</th>\n",
              "      <td>/root/femail/이제헌_19730206_4xxxxxx.txt</td>\n",
              "      <td>47232018</td>\n",
              "    </tr>\n",
              "    <tr>\n",
              "      <th>...</th>\n",
              "      <td>...</td>\n",
              "      <td>...</td>\n",
              "    </tr>\n",
              "    <tr>\n",
              "      <th>5002</th>\n",
              "      <td>/root/femail/정채민_19681106_2xxxxxx.txt</td>\n",
              "      <td>8865</td>\n",
              "    </tr>\n",
              "    <tr>\n",
              "      <th>5003</th>\n",
              "      <td>/root/femail/임지은_19980521_4xxxxxx.txt</td>\n",
              "      <td>8899</td>\n",
              "    </tr>\n",
              "    <tr>\n",
              "      <th>5004</th>\n",
              "      <td>/root/femail/임범세_19981103_4xxxxxx.txt</td>\n",
              "      <td>8598</td>\n",
              "    </tr>\n",
              "    <tr>\n",
              "      <th>5005</th>\n",
              "      <td>/root/femail/고은한_19731011_4xxxxxx.txt</td>\n",
              "      <td>91745789</td>\n",
              "    </tr>\n",
              "    <tr>\n",
              "      <th>5006</th>\n",
              "      <td>/root/femail/정나현_19600725_4xxxxxx.txt</td>\n",
              "      <td>4996</td>\n",
              "    </tr>\n",
              "  </tbody>\n",
              "</table>\n",
              "<p>5007 rows × 2 columns</p>\n",
              "</div>"
            ],
            "text/plain": [
              "                                     femail      data\n",
              "0     /root/femail/배신화_19691226_4xxxxxx.txt      7682\n",
              "1     /root/femail/고다완_19770224_2xxxxxx.txt  99911654\n",
              "2     /root/femail/배종성_19621228_4xxxxxx.txt  99779180\n",
              "3     /root/femail/장지아_19950525_4xxxxxx.txt    842901\n",
              "4     /root/femail/이제헌_19730206_4xxxxxx.txt  47232018\n",
              "...                                     ...       ...\n",
              "5002  /root/femail/정채민_19681106_2xxxxxx.txt      8865\n",
              "5003  /root/femail/임지은_19980521_4xxxxxx.txt      8899\n",
              "5004  /root/femail/임범세_19981103_4xxxxxx.txt      8598\n",
              "5005  /root/femail/고은한_19731011_4xxxxxx.txt  91745789\n",
              "5006  /root/femail/정나현_19600725_4xxxxxx.txt      4996\n",
              "\n",
              "[5007 rows x 2 columns]"
            ]
          },
          "execution_count": 49,
          "metadata": {},
          "output_type": "execute_result"
        }
      ],
      "source": [
        "# femail dataframe 구축\n",
        "femaildf = pd.DataFrame({\"femail\": femail_loc, \"data\": femaildata})\n",
        "femaildf\n",
        "\n",
        "# 원본 femaildf"
      ]
    },
    {
      "cell_type": "code",
      "execution_count": 51,
      "metadata": {},
      "outputs": [],
      "source": [
        "# 복사본\n",
        "femaildf1 = femaildf\n",
        "maildf1 = maildf\n",
        "\n"
      ]
    },
    {
      "cell_type": "code",
      "execution_count": 52,
      "metadata": {},
      "outputs": [
        {
          "data": {
            "text/html": [
              "<div>\n",
              "<style scoped>\n",
              "    .dataframe tbody tr th:only-of-type {\n",
              "        vertical-align: middle;\n",
              "    }\n",
              "\n",
              "    .dataframe tbody tr th {\n",
              "        vertical-align: top;\n",
              "    }\n",
              "\n",
              "    .dataframe thead th {\n",
              "        text-align: right;\n",
              "    }\n",
              "</style>\n",
              "<table border=\"1\" class=\"dataframe\">\n",
              "  <thead>\n",
              "    <tr style=\"text-align: right;\">\n",
              "      <th></th>\n",
              "      <th>mail</th>\n",
              "      <th>data</th>\n",
              "      <th>femail</th>\n",
              "      <th>data</th>\n",
              "    </tr>\n",
              "  </thead>\n",
              "  <tbody>\n",
              "    <tr>\n",
              "      <th>0</th>\n",
              "      <td>/root/mail/강주헌_19601129_1xxxxxx.txt</td>\n",
              "      <td>23472543</td>\n",
              "      <td>/root/femail/배신화_19691226_4xxxxxx.txt</td>\n",
              "      <td>7682</td>\n",
              "    </tr>\n",
              "    <tr>\n",
              "      <th>1</th>\n",
              "      <td>/root/mail/문현설_19600509_3xxxxxx.txt</td>\n",
              "      <td>1467</td>\n",
              "      <td>/root/femail/고다완_19770224_2xxxxxx.txt</td>\n",
              "      <td>99911654</td>\n",
              "    </tr>\n",
              "    <tr>\n",
              "      <th>2</th>\n",
              "      <td>/root/mail/강채빈_19900809_3xxxxxx.txt</td>\n",
              "      <td>25709</td>\n",
              "      <td>/root/femail/배종성_19621228_4xxxxxx.txt</td>\n",
              "      <td>99779180</td>\n",
              "    </tr>\n",
              "    <tr>\n",
              "      <th>3</th>\n",
              "      <td>/root/mail/강민상_19921215_1xxxxxx.txt</td>\n",
              "      <td>79182</td>\n",
              "      <td>/root/femail/장지아_19950525_4xxxxxx.txt</td>\n",
              "      <td>842901</td>\n",
              "    </tr>\n",
              "    <tr>\n",
              "      <th>4</th>\n",
              "      <td>/root/mail/송지혁_19960717_3xxxxxx.txt</td>\n",
              "      <td>56584</td>\n",
              "      <td>/root/femail/이제헌_19730206_4xxxxxx.txt</td>\n",
              "      <td>47232018</td>\n",
              "    </tr>\n",
              "    <tr>\n",
              "      <th>...</th>\n",
              "      <td>...</td>\n",
              "      <td>...</td>\n",
              "      <td>...</td>\n",
              "      <td>...</td>\n",
              "    </tr>\n",
              "    <tr>\n",
              "      <th>5002</th>\n",
              "      <td>NaN</td>\n",
              "      <td>NaN</td>\n",
              "      <td>/root/femail/정채민_19681106_2xxxxxx.txt</td>\n",
              "      <td>8865</td>\n",
              "    </tr>\n",
              "    <tr>\n",
              "      <th>5003</th>\n",
              "      <td>NaN</td>\n",
              "      <td>NaN</td>\n",
              "      <td>/root/femail/임지은_19980521_4xxxxxx.txt</td>\n",
              "      <td>8899</td>\n",
              "    </tr>\n",
              "    <tr>\n",
              "      <th>5004</th>\n",
              "      <td>NaN</td>\n",
              "      <td>NaN</td>\n",
              "      <td>/root/femail/임범세_19981103_4xxxxxx.txt</td>\n",
              "      <td>8598</td>\n",
              "    </tr>\n",
              "    <tr>\n",
              "      <th>5005</th>\n",
              "      <td>NaN</td>\n",
              "      <td>NaN</td>\n",
              "      <td>/root/femail/고은한_19731011_4xxxxxx.txt</td>\n",
              "      <td>91745789</td>\n",
              "    </tr>\n",
              "    <tr>\n",
              "      <th>5006</th>\n",
              "      <td>NaN</td>\n",
              "      <td>NaN</td>\n",
              "      <td>/root/femail/정나현_19600725_4xxxxxx.txt</td>\n",
              "      <td>4996</td>\n",
              "    </tr>\n",
              "  </tbody>\n",
              "</table>\n",
              "<p>5007 rows × 4 columns</p>\n",
              "</div>"
            ],
            "text/plain": [
              "                                     mail      data  \\\n",
              "0     /root/mail/강주헌_19601129_1xxxxxx.txt  23472543   \n",
              "1     /root/mail/문현설_19600509_3xxxxxx.txt      1467   \n",
              "2     /root/mail/강채빈_19900809_3xxxxxx.txt     25709   \n",
              "3     /root/mail/강민상_19921215_1xxxxxx.txt     79182   \n",
              "4     /root/mail/송지혁_19960717_3xxxxxx.txt     56584   \n",
              "...                                   ...       ...   \n",
              "5002                                  NaN       NaN   \n",
              "5003                                  NaN       NaN   \n",
              "5004                                  NaN       NaN   \n",
              "5005                                  NaN       NaN   \n",
              "5006                                  NaN       NaN   \n",
              "\n",
              "                                     femail      data  \n",
              "0     /root/femail/배신화_19691226_4xxxxxx.txt      7682  \n",
              "1     /root/femail/고다완_19770224_2xxxxxx.txt  99911654  \n",
              "2     /root/femail/배종성_19621228_4xxxxxx.txt  99779180  \n",
              "3     /root/femail/장지아_19950525_4xxxxxx.txt    842901  \n",
              "4     /root/femail/이제헌_19730206_4xxxxxx.txt  47232018  \n",
              "...                                     ...       ...  \n",
              "5002  /root/femail/정채민_19681106_2xxxxxx.txt      8865  \n",
              "5003  /root/femail/임지은_19980521_4xxxxxx.txt      8899  \n",
              "5004  /root/femail/임범세_19981103_4xxxxxx.txt      8598  \n",
              "5005  /root/femail/고은한_19731011_4xxxxxx.txt  91745789  \n",
              "5006  /root/femail/정나현_19600725_4xxxxxx.txt      4996  \n",
              "\n",
              "[5007 rows x 4 columns]"
            ]
          },
          "execution_count": 52,
          "metadata": {},
          "output_type": "execute_result"
        }
      ],
      "source": [
        "totaldf = pd.concat([maildf1, femaildf1], axis = 1)\n",
        "totaldf"
      ]
    },
    {
      "cell_type": "code",
      "execution_count": null,
      "metadata": {},
      "outputs": [],
      "source": []
    },
    {
      "cell_type": "code",
      "execution_count": null,
      "metadata": {},
      "outputs": [],
      "source": []
    },
    {
      "cell_type": "code",
      "execution_count": null,
      "metadata": {},
      "outputs": [],
      "source": []
    },
    {
      "cell_type": "code",
      "execution_count": null,
      "metadata": {},
      "outputs": [],
      "source": []
    },
    {
      "cell_type": "code",
      "execution_count": null,
      "metadata": {},
      "outputs": [],
      "source": []
    },
    {
      "cell_type": "code",
      "execution_count": null,
      "metadata": {},
      "outputs": [],
      "source": []
    },
    {
      "cell_type": "code",
      "execution_count": null,
      "metadata": {},
      "outputs": [],
      "source": []
    }
  ],
  "metadata": {
    "colab": {
      "include_colab_link": true,
      "provenance": []
    },
    "kernelspec": {
      "display_name": "Python 3 (ipykernel)",
      "language": "python",
      "name": "python3"
    },
    "language_info": {
      "codemirror_mode": {
        "name": "ipython",
        "version": 3
      },
      "file_extension": ".py",
      "mimetype": "text/x-python",
      "name": "python",
      "nbconvert_exporter": "python",
      "pygments_lexer": "ipython3",
      "version": "3.8.10"
    }
  },
  "nbformat": 4,
  "nbformat_minor": 0
}
