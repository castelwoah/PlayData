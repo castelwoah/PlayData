{
  "cells": [
    {
      "cell_type": "markdown",
      "metadata": {
        "id": "view-in-github",
        "colab_type": "text"
      },
      "source": [
        "<a href=\"https://colab.research.google.com/github/castelwoah/PlayData/blob/main/workspace/week1/20240401.ipynb\" target=\"_parent\"><img src=\"https://colab.research.google.com/assets/colab-badge.svg\" alt=\"Open In Colab\"/></a>"
      ]
    },
    {
      "cell_type": "code",
      "execution_count": null,
      "metadata": {
        "id": "Q3KrPbiNje2q",
        "outputId": "ec13dd8a-6554-4c0c-cdac-d4ce94ff2ac3"
      },
      "outputs": [
        {
          "data": {
            "text/plain": [
              "3"
            ]
          },
          "execution_count": 34,
          "metadata": {},
          "output_type": "execute_result"
        }
      ],
      "source": [
        "1+2"
      ]
    },
    {
      "cell_type": "code",
      "execution_count": null,
      "metadata": {
        "id": "hAFKnSAije2t",
        "outputId": "5eef79f8-14cd-4015-cc2e-b3233e727194"
      },
      "outputs": [
        {
          "name": "stdout",
          "output_type": "stream",
          "text": [
            "hello world\n"
          ]
        }
      ],
      "source": [
        "print(\"hello world\")"
      ]
    },
    {
      "cell_type": "markdown",
      "metadata": {
        "id": "P2O492KGje2u"
      },
      "source": [
        "# (#title)\n",
        "## (## content)\n",
        "### (### content)"
      ]
    },
    {
      "cell_type": "markdown",
      "metadata": {
        "id": "cBt5xsCqje2x"
      },
      "source": [
        "# cell 전환\n",
        "- 비주얼모드 : m -> markdown cell\n",
        "- markdow cell -> 비주얼 모드 -> y = python cell"
      ]
    },
    {
      "cell_type": "code",
      "execution_count": null,
      "metadata": {
        "id": "xwiEnbxIje2y"
      },
      "outputs": [],
      "source": [
        "a = 10"
      ]
    },
    {
      "cell_type": "code",
      "execution_count": null,
      "metadata": {
        "id": "tKx9-1Nuje2z",
        "outputId": "dc1005c2-1616-4ff4-d6c5-c7b55fe104e9"
      },
      "outputs": [
        {
          "name": "stdout",
          "output_type": "stream",
          "text": [
            "20.0\n"
          ]
        }
      ],
      "source": [
        "b = 10.\n",
        "\n",
        "c = a+b\n",
        "print(c)"
      ]
    },
    {
      "cell_type": "code",
      "execution_count": null,
      "metadata": {
        "id": "PE4H-70Pje2z",
        "outputId": "319fbe9c-5cc9-46e9-8557-cce76825dd2a"
      },
      "outputs": [
        {
          "name": "stdout",
          "output_type": "stream",
          "text": [
            "<class 'float'>\n",
            "<class 'list'>\n"
          ]
        }
      ],
      "source": [
        "print(type(c))\n",
        "\n",
        "c = []\n",
        "print(type(c))"
      ]
    },
    {
      "cell_type": "code",
      "execution_count": null,
      "metadata": {
        "id": "zq6Ifgbtje2z"
      },
      "outputs": [],
      "source": []
    },
    {
      "cell_type": "code",
      "execution_count": null,
      "metadata": {
        "id": "wNIxS4cdje20",
        "outputId": "c3a5206b-c980-4de9-b1f1-f0c5f3ffcc1d"
      },
      "outputs": [
        {
          "data": {
            "text/plain": [
              "['__call__',\n",
              " '__class__',\n",
              " '__delattr__',\n",
              " '__dir__',\n",
              " '__doc__',\n",
              " '__eq__',\n",
              " '__format__',\n",
              " '__ge__',\n",
              " '__getattribute__',\n",
              " '__gt__',\n",
              " '__hash__',\n",
              " '__init__',\n",
              " '__init_subclass__',\n",
              " '__le__',\n",
              " '__lt__',\n",
              " '__module__',\n",
              " '__name__',\n",
              " '__ne__',\n",
              " '__new__',\n",
              " '__qualname__',\n",
              " '__reduce__',\n",
              " '__reduce_ex__',\n",
              " '__repr__',\n",
              " '__self__',\n",
              " '__setattr__',\n",
              " '__sizeof__',\n",
              " '__str__',\n",
              " '__subclasshook__',\n",
              " '__text_signature__']"
            ]
          },
          "execution_count": 39,
          "metadata": {},
          "output_type": "execute_result"
        }
      ],
      "source": [
        "list1 = [1,2,3,\n",
        "\n",
        "         ]\n",
        "dir(list1.remove)"
      ]
    },
    {
      "cell_type": "code",
      "execution_count": null,
      "metadata": {
        "id": "6rol6gjRje20",
        "outputId": "47a55af6-8d0a-44ef-f65b-67503a493e3d"
      },
      "outputs": [
        {
          "data": {
            "text/plain": [
              "[1, 2, 3]"
            ]
          },
          "execution_count": 40,
          "metadata": {},
          "output_type": "execute_result"
        }
      ],
      "source": [
        "list1"
      ]
    },
    {
      "cell_type": "code",
      "execution_count": null,
      "metadata": {
        "id": "Dbkv1ouuje20",
        "outputId": "30ada65d-18fc-4180-c13f-be1b151684fc"
      },
      "outputs": [
        {
          "ename": "NameError",
          "evalue": "name 'linst2' is not defined",
          "output_type": "error",
          "traceback": [
            "\u001b[0;31m---------------------------------------------------------------------------\u001b[0m",
            "\u001b[0;31mNameError\u001b[0m                                 Traceback (most recent call last)",
            "Cell \u001b[0;32mIn[41], line 2\u001b[0m\n\u001b[1;32m      1\u001b[0m list2 \u001b[38;5;241m=\u001b[39m [\u001b[38;5;124m'\u001b[39m\u001b[38;5;124ma\u001b[39m\u001b[38;5;124m'\u001b[39m, \u001b[38;5;124m'\u001b[39m\u001b[38;5;124mb\u001b[39m\u001b[38;5;124m'\u001b[39m, \u001b[38;5;124m'\u001b[39m\u001b[38;5;124mc\u001b[39m\u001b[38;5;124m'\u001b[39m, \u001b[38;5;124m'\u001b[39m\u001b[38;5;124md\u001b[39m\u001b[38;5;124m'\u001b[39m, \u001b[38;5;124m'\u001b[39m\u001b[38;5;124me\u001b[39m\u001b[38;5;124m'\u001b[39m, \u001b[38;5;124m'\u001b[39m\u001b[38;5;124mg\u001b[39m\u001b[38;5;124m'\u001b[39m]\n\u001b[0;32m----> 2\u001b[0m \u001b[38;5;28mlen\u001b[39m(\u001b[43mlinst2\u001b[49m)\n",
            "\u001b[0;31mNameError\u001b[0m: name 'linst2' is not defined"
          ]
        }
      ],
      "source": [
        "list2 = ['a', 'b', 'c', 'd', 'e', 'g']\n",
        "len(linst2)"
      ]
    },
    {
      "cell_type": "code",
      "execution_count": null,
      "metadata": {
        "id": "0S0B4Mtzje21",
        "outputId": "abef3be9-6342-41ef-8152-abaf4ef3860e"
      },
      "outputs": [
        {
          "name": "stdout",
          "output_type": "stream",
          "text": [
            "Defaulting to user installation because normal site-packages is not writeable\n",
            "Requirement already satisfied: pandas in /home/swp/.local/lib/python3.10/site-packages (2.2.1)\n",
            "Requirement already satisfied: python-dateutil>=2.8.2 in /home/swp/.local/lib/python3.10/site-packages (from pandas) (2.9.0.post0)\n",
            "Requirement already satisfied: pytz>=2020.1 in /home/swp/.local/lib/python3.10/site-packages (from pandas) (2024.1)\n",
            "Requirement already satisfied: numpy<2,>=1.22.4 in /home/swp/.local/lib/python3.10/site-packages (from pandas) (1.26.4)\n",
            "Requirement already satisfied: tzdata>=2022.7 in /home/swp/.local/lib/python3.10/site-packages (from pandas) (2024.1)\n",
            "Requirement already satisfied: six>=1.5 in /usr/lib/python3/dist-packages (from python-dateutil>=2.8.2->pandas) (1.16.0)\n",
            "Note: you may need to restart the kernel to use updated packages.\n"
          ]
        }
      ],
      "source": [
        "pip install pandas"
      ]
    },
    {
      "cell_type": "code",
      "execution_count": null,
      "metadata": {
        "id": "G6hAKqS6je21",
        "outputId": "0e7b9aba-a6ea-49d0-bb59-c76526046842"
      },
      "outputs": [
        {
          "name": "stdout",
          "output_type": "stream",
          "text": [
            "Defaulting to user installation because normal site-packages is not writeable\n",
            "Requirement already satisfied: lxml in /home/swp/.local/lib/python3.10/site-packages (5.2.0)\n",
            "Note: you may need to restart the kernel to use updated packages.\n"
          ]
        }
      ],
      "source": [
        "pip install lxml"
      ]
    },
    {
      "cell_type": "code",
      "execution_count": null,
      "metadata": {
        "id": "ufP21WkBje21",
        "outputId": "50072909-ba7f-4180-dab3-8d23959b1b1d"
      },
      "outputs": [
        {
          "data": {
            "text/plain": [
              "'요어싶 고먹 을빵 도늘오'"
            ]
          },
          "execution_count": 45,
          "metadata": {},
          "output_type": "execute_result"
        }
      ],
      "source": [
        "text1 = \"오늘도 빵을 먹고 싶어요\"\n",
        "text1[::-1]"
      ]
    },
    {
      "cell_type": "code",
      "execution_count": null,
      "metadata": {
        "id": "B8JKWK6ije21",
        "outputId": "7477b1fc-bf2b-473e-c9d0-68697d134529"
      },
      "outputs": [
        {
          "data": {
            "text/plain": [
              "['오늘도', '빵을', '먹고', '싶어요']"
            ]
          },
          "execution_count": 48,
          "metadata": {},
          "output_type": "execute_result"
        }
      ],
      "source": [
        "text1.split()"
      ]
    },
    {
      "cell_type": "code",
      "execution_count": null,
      "metadata": {
        "id": "YT9KYI6Cje22"
      },
      "outputs": [],
      "source": []
    },
    {
      "cell_type": "code",
      "execution_count": null,
      "metadata": {
        "id": "D5EdHrvEje22"
      },
      "outputs": [],
      "source": [
        "text4 = \"\"\"오늘도 아침엔 입에 빵을 물고\n",
        "똑같이 하루를 시작하고\n",
        "온종일 한 손엔 아이스 아메리카노\n",
        "피곤해 죽겠네\n",
        "\n",
        "지하철 속 이 장면 어제 꿈에서 봤나\n",
        "아참 매일이지 지나치고\n",
        "바쁜 이 삶에 그냥 흔한 날에\n",
        "그 애를 보고 말야\n",
        "\n",
        "평온했던 하늘이 무너지고\n",
        "어둡던 눈앞이 붉어지며\n",
        "뭔가 잊고 온 게 있는 것 같아\n",
        "괜히 이상하게 막 울 것만 같고\n",
        "그냥 지나치는 게 나을 것 같아\n",
        "나는 생각은 딱 질색이니까\n",
        "\n",
        "카페인으로 잡은 정신은 빠졌고\n",
        "하루 종일 신경 쓰여 토할 것 같아\n",
        "저녁이 돼도 배고픔까지 까먹고\n",
        "그치 이상하지 근데 말야 있잖아\n",
        "\n",
        "처음 본 순간 뭐라 할까 그립달까\n",
        "나도 웃긴데 말야\n",
        "\n",
        "평온했던 하늘이 무너지고\n",
        "어둡던 눈앞이 붉어지며\n",
        "뭔가 잊고 온 게 있는 것 같아\n",
        "괜히 이상하게 막 울 것만 같고\n",
        "그냥 지나치는 게 나을 것 같아\n",
        "나는 생각은 딱 질색이니까\n",
        "\n",
        "오랫동안 나를 아는\n",
        "슬픈 표정을 하고 Oh\n",
        "흔적 없는 기억 밖\n",
        "혹 과거에 미래에 딴 차원에 세계에\n",
        "1 2 3 4 5 6 7 8\n",
        "\n",
        "평온했던 하늘이 무너지고\n",
        "어둡던 눈앞이 붉어져도\n",
        "다시 놓쳐버리는 것만 같아\n",
        "괜히 이상하게 막 울 것만 같고\n",
        "그냥 지나치는 게 나을 것 같아\n",
        "나는 생각은 딱 질색이니까\n",
        "\n",
        "아냐 지나치는 게 나을 것 같아\n",
        "나는 아픈 건 딱 질색이니까\"\"\"\n"
      ]
    },
    {
      "cell_type": "code",
      "execution_count": null,
      "metadata": {
        "id": "ltjofXmJje22",
        "outputId": "ab608624-2700-48c1-fd38-eca0a238f915"
      },
      "outputs": [
        {
          "data": {
            "text/plain": [
              "184"
            ]
          },
          "execution_count": 51,
          "metadata": {},
          "output_type": "execute_result"
        }
      ],
      "source": [
        "len(text4.split())"
      ]
    },
    {
      "cell_type": "code",
      "execution_count": null,
      "metadata": {
        "id": "JHiTmhusje22"
      },
      "outputs": [],
      "source": [
        "loan = \"김미영팀장입니다. {}님께서는 최저이율로 최고 3000만원까지 입금 가능합니다.\""
      ]
    },
    {
      "cell_type": "code",
      "execution_count": null,
      "metadata": {
        "id": "2-j6TkyJje23",
        "outputId": "64f6c5b9-5733-465b-a3e6-1a461bd2a611"
      },
      "outputs": [
        {
          "name": "stdout",
          "output_type": "stream",
          "text": [
            "김미영팀장입니다. 권시은님께서는 최저이율로 최고 3000만원까지 입금 가능합니다.\n",
            "김미영팀장입니다. 기석광님께서는 최저이율로 최고 3000만원까지 입금 가능합니다.\n",
            "김미영팀장입니다. 김가현님께서는 최저이율로 최고 3000만원까지 입금 가능합니다.\n",
            "김미영팀장입니다. 김기호님께서는 최저이율로 최고 3000만원까지 입금 가능합니다.\n",
            "김미영팀장입니다. 김대건님께서는 최저이율로 최고 3000만원까지 입금 가능합니다.\n",
            "김미영팀장입니다. 김동현님께서는 최저이율로 최고 3000만원까지 입금 가능합니다.\n",
            "김미영팀장입니다. 김승주님께서는 최저이율로 최고 3000만원까지 입금 가능합니다.\n",
            "김미영팀장입니다. 김예송님께서는 최저이율로 최고 3000만원까지 입금 가능합니다.\n",
            "김미영팀장입니다. 김하영님께서는 최저이율로 최고 3000만원까지 입금 가능합니다.\n",
            "김미영팀장입니다. 김현지님께서는 최저이율로 최고 3000만원까지 입금 가능합니다.\n",
            "김미영팀장입니다. 노석현님께서는 최저이율로 최고 3000만원까지 입금 가능합니다.\n",
            "김미영팀장입니다. 박성우님께서는 최저이율로 최고 3000만원까지 입금 가능합니다.\n",
            "김미영팀장입니다. 변수현님께서는 최저이율로 최고 3000만원까지 입금 가능합니다.\n",
            "김미영팀장입니다. 신소영님께서는 최저이율로 최고 3000만원까지 입금 가능합니다.\n",
            "김미영팀장입니다. 원정인님께서는 최저이율로 최고 3000만원까지 입금 가능합니다.\n",
            "김미영팀장입니다. 유선우님께서는 최저이율로 최고 3000만원까지 입금 가능합니다.\n",
            "김미영팀장입니다. 유정연님께서는 최저이율로 최고 3000만원까지 입금 가능합니다.\n",
            "김미영팀장입니다. 이서연님께서는 최저이율로 최고 1억만원까지 입금 가능합니다.\n",
            "김미영팀장입니다. 이재연님께서는 최저이율로 최고 1억만원까지 입금 가능합니다.\n",
            "김미영팀장입니다. 이충원님께서는 최저이율로 최고 1억만원까지 입금 가능합니다.\n",
            "김미영팀장입니다. 이하은님께서는 최저이율로 최고 1억만원까지 입금 가능합니다.\n",
            "김미영팀장입니다. 이희재님께서는 최저이율로 최고 1억만원까지 입금 가능합니다.\n",
            "김미영팀장입니다. 정다인님께서는 최저이율로 최고 3000만원까지 입금 가능합니다.\n",
            "김미영팀장입니다. 조명아님께서는 최저이율로 최고 3000만원까지 입금 가능합니다.\n",
            "김미영팀장입니다. 조태식님께서는 최저이율로 최고 3000만원까지 입금 가능합니다.\n",
            "김미영팀장입니다. 조혜민님께서는 최저이율로 최고 3000만원까지 입금 가능합니다.\n",
            "김미영팀장입니다. 차민혁님께서는 최저이율로 최고 3000만원까지 입금 가능합니다.\n",
            "김미영팀장입니다. 최성현님께서는 최저이율로 최고 3000만원까지 입금 가능합니다.\n",
            "김미영팀장입니다. 최태성님께서는 최저이율로 최고 3000만원까지 입금 가능합니다.\n",
            "김미영팀장입니다. 한다솜님께서는 최저이율로 최고 3000만원까지 입금 가능합니다.\n",
            "30\n"
          ]
        }
      ],
      "source": [
        "name = [\"권시은\",\"기석광\",\"김가현\",\"김기호\",\"김대건\",\"김동현\",\"김승주\",\"김예송\",\"김하영\",\"김현지\",\"노석현\",\"박성우\",\"변수현\",\"신소영\",\"원정인\",\"유선우\",\"유정연\",\"이서연\",\"이재연\",\"이충원\",\"이하은\",\"이희재\",\"정다인\",\"조명아\",\"조태식\",\"조혜민\",\"차민혁\",\"최성현\",\"최태성\",\"한다솜\"]\n",
        "\n",
        "loan = \"김미영팀장입니다. {}님께서는 최저이율로 최고 {}만원까지 입금 가능합니다.\"\n",
        "\n",
        "for i in name:\n",
        "    if i[0] == \"이\":\n",
        "        print(loan.format(i, \"1억\"))\n",
        "    else:\n",
        "        print(loan.format(i, \"3000\"))\n",
        "\n",
        "print(len(name))"
      ]
    },
    {
      "cell_type": "code",
      "execution_count": null,
      "metadata": {
        "id": "9Ifrqvw9je23",
        "outputId": "65265441-cfb2-4200-f790-7294633c1454"
      },
      "outputs": [
        {
          "name": "stdout",
          "output_type": "stream",
          "text": [
            "true\n"
          ]
        }
      ],
      "source": [
        "if 50 < 60:\n",
        "    print(\"true\")\n",
        "elif 40 < 50:\n",
        "    print(\"false\")"
      ]
    },
    {
      "cell_type": "code",
      "execution_count": null,
      "metadata": {
        "id": "U5aypvs4je23",
        "outputId": "6bb3aae6-8f15-4b05-b427-b0fc4566efd5"
      },
      "outputs": [
        {
          "data": {
            "text/plain": [
              "True"
            ]
          },
          "execution_count": 70,
          "metadata": {},
          "output_type": "execute_result"
        }
      ],
      "source": [
        "True and False or not False"
      ]
    },
    {
      "cell_type": "code",
      "execution_count": null,
      "metadata": {
        "id": "GwK68jSRje23"
      },
      "outputs": [],
      "source": [
        "import requests"
      ]
    },
    {
      "cell_type": "code",
      "execution_count": null,
      "metadata": {
        "id": "UQn6ZeHJje23"
      },
      "outputs": [],
      "source": [
        "url = \"https://www.starbucks.co.kr/store/getStore.do?r=EXRPGE2OU7\"\n",
        "payload = {\"in_biz_cds\" : \"0\",\"in_scodes\" : \"0\",\"ins_lat\" : \"37.4947\",\"ins_lng\" : \"127.0493\",\"search_text\" : \"\",\"p_sido_cd\" : \"01\",\"p_gugun_cd\" : \"\",\"isError\" : \"true\",\"in_distance\" : \"0\",\"in_biz_cd\" : \"\",\"iend\" : \"1000\",\"searchType\" : \"C\",\"set_date\" : \"\",\"rndCod\" : \"Q878EXUG04\",\"all_store\" : \"0\",\"T03\" : \"0\",\"T01\" : \"0\",\"T27\" : \"0\",\"T12\" : \"0\",\"T09\" : \"0\",\"T30\" : \"0\",\"T05\" : \"0\",\"T22\" : \"0\",\"T21\" : \"0\",\"T10\" : \"0\",\"T36\" : \"0\",\"T43\" : \"0\",\"T48\" : \"0\",\"Z9999\" : \"0\",\"P02\" : \"0\",\"P10\" : \"0\",\"P50\" : \"0\",\"P20\" : \"0\",\"P60\" : \"0\",\"P30\" : \"0\",\"P70\" : \"0\",\"P40\" : \"0\",\"P80\" : \"0\",\"whcroad_yn\" : \"0\",\"P90\" : \"0\",\"P01\" : \"0\",\"new_bool\" : \"0\",}\n",
        "r = requests.post(url, data=payload)\n",
        "data = r.json()"
      ]
    },
    {
      "cell_type": "code",
      "execution_count": null,
      "metadata": {
        "id": "Xgr-Qi5Jje24",
        "outputId": "7c7eddc6-939d-41c8-86a8-9431765d875a"
      },
      "outputs": [
        {
          "name": "stdout",
          "output_type": "stream",
          "text": [
            "612\n",
            "hello\n"
          ]
        }
      ],
      "source": [
        "print(len(data['list']))\n",
        "print(\"hello\")"
      ]
    },
    {
      "cell_type": "markdown",
      "metadata": {
        "id": "WT7qj659je24"
      },
      "source": [
        "# 2일차"
      ]
    },
    {
      "cell_type": "code",
      "execution_count": null,
      "metadata": {
        "id": "jBleCOFMje24"
      },
      "outputs": [],
      "source": []
    },
    {
      "cell_type": "code",
      "execution_count": null,
      "metadata": {
        "id": "OJDVNC2Yje24"
      },
      "outputs": [],
      "source": []
    },
    {
      "cell_type": "code",
      "execution_count": null,
      "metadata": {
        "id": "CZFfkJPxje24"
      },
      "outputs": [],
      "source": []
    },
    {
      "cell_type": "code",
      "execution_count": null,
      "metadata": {
        "id": "F9fDcU_fje25"
      },
      "outputs": [],
      "source": []
    },
    {
      "cell_type": "code",
      "execution_count": null,
      "metadata": {
        "id": "24wuottRje25"
      },
      "outputs": [],
      "source": []
    },
    {
      "cell_type": "code",
      "execution_count": null,
      "metadata": {
        "id": "JDt2fy53je25"
      },
      "outputs": [],
      "source": []
    },
    {
      "cell_type": "code",
      "execution_count": null,
      "metadata": {
        "id": "aHUy8IGwje25"
      },
      "outputs": [],
      "source": []
    }
  ],
  "metadata": {
    "kernelspec": {
      "display_name": "Python 3 (ipykernel)",
      "language": "python",
      "name": "python3"
    },
    "language_info": {
      "codemirror_mode": {
        "name": "ipython",
        "version": 3
      },
      "file_extension": ".py",
      "mimetype": "text/x-python",
      "name": "python",
      "nbconvert_exporter": "python",
      "pygments_lexer": "ipython3",
      "version": "3.undefined.undefined"
    },
    "colab": {
      "provenance": [],
      "include_colab_link": true
    }
  },
  "nbformat": 4,
  "nbformat_minor": 0
}