{
 "cells": [
  {
   "cell_type": "code",
   "execution_count": 4,
   "id": "64b0d748-4539-4caf-a36a-f76598f785e9",
   "metadata": {},
   "outputs": [],
   "source": [
    "import pandas as pd\n",
    "import numpy as np\n",
    "import scipy as sc"
   ]
  },
  {
   "cell_type": "code",
   "execution_count": 6,
   "id": "703e3c7b-c694-4e7f-b307-c06214469407",
   "metadata": {},
   "outputs": [],
   "source": [
    "상반기 = pd.read_csv(\"./data/상반기 주유소 판매가격.csv\", encoding='cp949')\n",
    "하반기 = pd.read_csv(\"./data/하반기 주유소 판매가격.csv\", encoding='cp949')"
   ]
  },
  {
   "cell_type": "code",
   "execution_count": 7,
   "id": "3ed51539-4bd2-4418-aee0-1f60585b9920",
   "metadata": {},
   "outputs": [],
   "source": [
    "주유소 = pd.concat([상반기, 하반기])"
   ]
  },
  {
   "cell_type": "code",
   "execution_count": 13,
   "id": "22c756ac-3eaf-4026-9e56-88ffe0b78718",
   "metadata": {},
   "outputs": [
    {
     "data": {
      "text/plain": [
       "0"
      ]
     },
     "execution_count": 13,
     "metadata": {},
     "output_type": "execute_result"
    }
   ],
   "source": [
    "주유소.duplicated().sum()"
   ]
  },
  {
   "cell_type": "code",
   "execution_count": 270,
   "id": "08bc93e8-626c-46e0-97a1-018545905221",
   "metadata": {},
   "outputs": [
    {
     "data": {
      "text/plain": [
       "번호       0\n",
       "지역       0\n",
       "상호       0\n",
       "주소       0\n",
       "기간       0\n",
       "상표       0\n",
       "셀프여부     0\n",
       "고급휘발유    0\n",
       "휘발유      0\n",
       "경유       0\n",
       "실내등유     0\n",
       "dtype: int64"
      ]
     },
     "execution_count": 270,
     "metadata": {},
     "output_type": "execute_result"
    }
   ],
   "source": [
    "# 결측치\n",
    "주유소.isnull().sum()"
   ]
  },
  {
   "cell_type": "code",
   "execution_count": 15,
   "id": "45c30d52-ed0f-4892-86d6-eb0aa907c01c",
   "metadata": {},
   "outputs": [
    {
     "data": {
      "text/html": [
       "<div>\n",
       "<style scoped>\n",
       "    .dataframe tbody tr th:only-of-type {\n",
       "        vertical-align: middle;\n",
       "    }\n",
       "\n",
       "    .dataframe tbody tr th {\n",
       "        vertical-align: top;\n",
       "    }\n",
       "\n",
       "    .dataframe thead th {\n",
       "        text-align: right;\n",
       "    }\n",
       "</style>\n",
       "<table border=\"1\" class=\"dataframe\">\n",
       "  <thead>\n",
       "    <tr style=\"text-align: right;\">\n",
       "      <th></th>\n",
       "      <th>번호</th>\n",
       "      <th>지역</th>\n",
       "      <th>상호</th>\n",
       "      <th>주소</th>\n",
       "      <th>기간</th>\n",
       "      <th>상표</th>\n",
       "      <th>셀프여부</th>\n",
       "      <th>고급휘발유</th>\n",
       "      <th>휘발유</th>\n",
       "      <th>경유</th>\n",
       "      <th>실내등유</th>\n",
       "    </tr>\n",
       "  </thead>\n",
       "  <tbody>\n",
       "    <tr>\n",
       "      <th>0</th>\n",
       "      <td>A0006039</td>\n",
       "      <td>서울 강남구</td>\n",
       "      <td>(주)동하힐탑셀프주유소</td>\n",
       "      <td>서울 강남구 논현로 640</td>\n",
       "      <td>20190101</td>\n",
       "      <td>SK에너지</td>\n",
       "      <td>셀프</td>\n",
       "      <td>1673</td>\n",
       "      <td>1465</td>\n",
       "      <td>1365</td>\n",
       "      <td>0</td>\n",
       "    </tr>\n",
       "    <tr>\n",
       "      <th>1</th>\n",
       "      <td>A0006039</td>\n",
       "      <td>서울 강남구</td>\n",
       "      <td>(주)동하힐탑셀프주유소</td>\n",
       "      <td>서울 강남구 논현로 640</td>\n",
       "      <td>20190102</td>\n",
       "      <td>SK에너지</td>\n",
       "      <td>셀프</td>\n",
       "      <td>1673</td>\n",
       "      <td>1465</td>\n",
       "      <td>1365</td>\n",
       "      <td>0</td>\n",
       "    </tr>\n",
       "  </tbody>\n",
       "</table>\n",
       "</div>"
      ],
      "text/plain": [
       "         번호      지역            상호              주소        기간     상표 셀프여부  \\\n",
       "0  A0006039  서울 강남구  (주)동하힐탑셀프주유소  서울 강남구 논현로 640  20190101  SK에너지   셀프   \n",
       "1  A0006039  서울 강남구  (주)동하힐탑셀프주유소  서울 강남구 논현로 640  20190102  SK에너지   셀프   \n",
       "\n",
       "   고급휘발유   휘발유    경유  실내등유  \n",
       "0   1673  1465  1365     0  \n",
       "1   1673  1465  1365     0  "
      ]
     },
     "execution_count": 15,
     "metadata": {},
     "output_type": "execute_result"
    }
   ],
   "source": [
    "주유소.head(2)"
   ]
  },
  {
   "cell_type": "code",
   "execution_count": 273,
   "id": "1bb142c3-ad2e-4d69-a5ce-d528485d4149",
   "metadata": {},
   "outputs": [
    {
     "data": {
      "text/plain": [
       "지역\n",
       "서울 강남구     14597\n",
       "서울 강동구      5897\n",
       "서울 강북구      4736\n",
       "서울 강서구     12572\n",
       "서울 관악구      5997\n",
       "서울 광진구      6450\n",
       "서울 구로구      7917\n",
       "서울 금천구      4738\n",
       "서울 노원구      5466\n",
       "서울 도봉구      6711\n",
       "서울 동대문구     7996\n",
       "서울 동작구      3644\n",
       "서울 마포구      4051\n",
       "서울 서대문구     5594\n",
       "서울 서초구     13762\n",
       "서울 성동구      6192\n",
       "서울 성북구      8080\n",
       "서울 송파구     11630\n",
       "서울 양천구      9149\n",
       "서울 영등포구    11667\n",
       "서울 용산구      5439\n",
       "서울 은평구      6199\n",
       "서울 종로구      3276\n",
       "서울 중구       4235\n",
       "서울 중랑구      5719\n",
       "Name: 상호, dtype: int64"
      ]
     },
     "execution_count": 273,
     "metadata": {},
     "output_type": "execute_result"
    }
   ],
   "source": [
    "주유소.groupby(['지역']).상호.count()"
   ]
  },
  {
   "cell_type": "code",
   "execution_count": 53,
   "id": "84573ff2-fdbc-41fe-9f22-a3e93d3ce0fc",
   "metadata": {},
   "outputs": [
    {
     "data": {
      "text/html": [
       "<div>\n",
       "<style scoped>\n",
       "    .dataframe tbody tr th:only-of-type {\n",
       "        vertical-align: middle;\n",
       "    }\n",
       "\n",
       "    .dataframe tbody tr th {\n",
       "        vertical-align: top;\n",
       "    }\n",
       "\n",
       "    .dataframe thead th {\n",
       "        text-align: right;\n",
       "    }\n",
       "</style>\n",
       "<table border=\"1\" class=\"dataframe\">\n",
       "  <thead>\n",
       "    <tr style=\"text-align: right;\">\n",
       "      <th></th>\n",
       "      <th>지역</th>\n",
       "      <th>상표</th>\n",
       "      <th>count</th>\n",
       "    </tr>\n",
       "  </thead>\n",
       "  <tbody>\n",
       "    <tr>\n",
       "      <th>0</th>\n",
       "      <td>서울 강남구</td>\n",
       "      <td>SK에너지</td>\n",
       "      <td>6540</td>\n",
       "    </tr>\n",
       "    <tr>\n",
       "      <th>1</th>\n",
       "      <td>서울 강남구</td>\n",
       "      <td>GS칼텍스</td>\n",
       "      <td>4042</td>\n",
       "    </tr>\n",
       "    <tr>\n",
       "      <th>2</th>\n",
       "      <td>서울 강남구</td>\n",
       "      <td>S-OIL</td>\n",
       "      <td>2190</td>\n",
       "    </tr>\n",
       "    <tr>\n",
       "      <th>3</th>\n",
       "      <td>서울 강남구</td>\n",
       "      <td>현대오일뱅크</td>\n",
       "      <td>1825</td>\n",
       "    </tr>\n",
       "    <tr>\n",
       "      <th>4</th>\n",
       "      <td>서울 강동구</td>\n",
       "      <td>SK에너지</td>\n",
       "      <td>2552</td>\n",
       "    </tr>\n",
       "    <tr>\n",
       "      <th>...</th>\n",
       "      <td>...</td>\n",
       "      <td>...</td>\n",
       "      <td>...</td>\n",
       "    </tr>\n",
       "    <tr>\n",
       "      <th>109</th>\n",
       "      <td>서울 중랑구</td>\n",
       "      <td>S-OIL</td>\n",
       "      <td>1842</td>\n",
       "    </tr>\n",
       "    <tr>\n",
       "      <th>110</th>\n",
       "      <td>서울 중랑구</td>\n",
       "      <td>GS칼텍스</td>\n",
       "      <td>1705</td>\n",
       "    </tr>\n",
       "    <tr>\n",
       "      <th>111</th>\n",
       "      <td>서울 중랑구</td>\n",
       "      <td>SK에너지</td>\n",
       "      <td>1672</td>\n",
       "    </tr>\n",
       "    <tr>\n",
       "      <th>112</th>\n",
       "      <td>서울 중랑구</td>\n",
       "      <td>현대오일뱅크</td>\n",
       "      <td>365</td>\n",
       "    </tr>\n",
       "    <tr>\n",
       "      <th>113</th>\n",
       "      <td>서울 중랑구</td>\n",
       "      <td>알뜰주유소</td>\n",
       "      <td>135</td>\n",
       "    </tr>\n",
       "  </tbody>\n",
       "</table>\n",
       "<p>114 rows × 3 columns</p>\n",
       "</div>"
      ],
      "text/plain": [
       "         지역      상표  count\n",
       "0    서울 강남구   SK에너지   6540\n",
       "1    서울 강남구   GS칼텍스   4042\n",
       "2    서울 강남구   S-OIL   2190\n",
       "3    서울 강남구  현대오일뱅크   1825\n",
       "4    서울 강동구   SK에너지   2552\n",
       "..      ...     ...    ...\n",
       "109  서울 중랑구   S-OIL   1842\n",
       "110  서울 중랑구   GS칼텍스   1705\n",
       "111  서울 중랑구   SK에너지   1672\n",
       "112  서울 중랑구  현대오일뱅크    365\n",
       "113  서울 중랑구   알뜰주유소    135\n",
       "\n",
       "[114 rows x 3 columns]"
      ]
     },
     "execution_count": 53,
     "metadata": {},
     "output_type": "execute_result"
    }
   ],
   "source": [
    "주유소.groupby(['지역'], as_index=False)['상표'].value_counts()"
   ]
  },
  {
   "cell_type": "code",
   "execution_count": 65,
   "id": "ceac56f0-46d8-4d57-a0eb-c741da47819a",
   "metadata": {},
   "outputs": [],
   "source": [
    "집계결과 = 주유소[['지역', '상호', '상표']].drop_duplicates().groupby(['지역', '상표'])[['상표']].count().\\\n",
    "rename(columns={'상표':'집계'}).reset_index()"
   ]
  },
  {
   "cell_type": "code",
   "execution_count": 104,
   "id": "87e2bc56-b05a-4771-ad01-47ce6c0f492d",
   "metadata": {},
   "outputs": [
    {
     "data": {
      "text/plain": [
       "상표\n",
       "SK에너지     0.72\n",
       "GS칼텍스     0.16\n",
       "S-OIL     0.08\n",
       "현대오일뱅크    0.04\n",
       "Name: proportion, dtype: float64"
      ]
     },
     "execution_count": 104,
     "metadata": {},
     "output_type": "execute_result"
    }
   ],
   "source": [
    "# ascending = 오름차순(False)\n",
    "집계결과.sort_values(by=['집계'], ascending=False).groupby(['지역']).first().value_counts('상표', normalize=True)"
   ]
  },
  {
   "cell_type": "code",
   "execution_count": 74,
   "id": "5360fe56-d60f-4bdd-9e36-8775452f2cb9",
   "metadata": {},
   "outputs": [
    {
     "data": {
      "text/plain": [
       "528"
      ]
     },
     "execution_count": 74,
     "metadata": {},
     "output_type": "execute_result"
    }
   ],
   "source": [
    "집계결과['집계'].sum()"
   ]
  },
  {
   "cell_type": "code",
   "execution_count": 105,
   "id": "ee33576a-6f39-4d3e-9f16-7ba37a772edb",
   "metadata": {},
   "outputs": [],
   "source": [
    "# \n",
    "주유소_365 = 주유소.groupby(['상호'])['번호'].count()[주유소.groupby(['상호'])['번호'].count() == 365].index"
   ]
  },
  {
   "cell_type": "code",
   "execution_count": 106,
   "id": "c0971ea0-acc5-4e14-af1c-3b9cab271f72",
   "metadata": {},
   "outputs": [
    {
     "data": {
      "text/plain": [
       "Index([' 현대오일뱅크㈜직영 구로셀프주유소', '(주)MS주유소', '(주)가재울뉴타운주유소', '(주)강서오일', '(주)기지에너지',\n",
       "       '(주)남경주유소', '(주)뉴명성산업 남성주유소', '(주)대농석유 남태령주유소', '(주)대양씨앤씨 사직주유소',\n",
       "       '(주)대청에너지 대청주유소',\n",
       "       ...\n",
       "       '현대오일뱅크(주)직영 중곡현대주유소', '현대오일뱅크(주)직영 한양주유소', '현대오일뱅크㈜직영 고대셀프주유소',\n",
       "       '현대오일뱅크㈜직영 목동셀프주유소', '형산석유(주)원주유소', '홍능주유소', '화곡역주유소', '화랑대주유소',\n",
       "       '화성주유소', '흥국주유소'],\n",
       "      dtype='object', name='상호', length=403)"
      ]
     },
     "execution_count": 106,
     "metadata": {},
     "output_type": "execute_result"
    }
   ],
   "source": [
    "주유소_365"
   ]
  },
  {
   "cell_type": "code",
   "execution_count": 145,
   "id": "49e64ccc-c4b2-46f8-99e6-30735cca0282",
   "metadata": {},
   "outputs": [],
   "source": [
    "주유소_ = 주유소[~주유소.상호.isin(주유소_365)].copy()"
   ]
  },
  {
   "cell_type": "code",
   "execution_count": 146,
   "id": "ab5335c8-cf07-4511-a988-bf2e750be4c4",
   "metadata": {},
   "outputs": [
    {
     "data": {
      "text/plain": [
       "104"
      ]
     },
     "execution_count": 146,
     "metadata": {},
     "output_type": "execute_result"
    }
   ],
   "source": [
    "주유소_[주유소_.기간 == 20190101].번호.unique().size"
   ]
  },
  {
   "cell_type": "code",
   "execution_count": 148,
   "id": "5384deba-32d7-481b-868d-4455a0d361f3",
   "metadata": {},
   "outputs": [],
   "source": [
    "주유소_['월'] = 주유소_['기간'].apply(lambda x : str(x)[4:6])"
   ]
  },
  {
   "cell_type": "code",
   "execution_count": 149,
   "id": "177b54b8-8a1e-4e6f-ae76-242df4b09509",
   "metadata": {},
   "outputs": [
    {
     "data": {
      "text/html": [
       "<div>\n",
       "<style scoped>\n",
       "    .dataframe tbody tr th:only-of-type {\n",
       "        vertical-align: middle;\n",
       "    }\n",
       "\n",
       "    .dataframe tbody tr th {\n",
       "        vertical-align: top;\n",
       "    }\n",
       "\n",
       "    .dataframe thead th {\n",
       "        text-align: right;\n",
       "    }\n",
       "</style>\n",
       "<table border=\"1\" class=\"dataframe\">\n",
       "  <thead>\n",
       "    <tr style=\"text-align: right;\">\n",
       "      <th></th>\n",
       "      <th>번호</th>\n",
       "      <th>지역</th>\n",
       "      <th>상호</th>\n",
       "      <th>주소</th>\n",
       "      <th>기간</th>\n",
       "      <th>상표</th>\n",
       "      <th>셀프여부</th>\n",
       "      <th>고급휘발유</th>\n",
       "      <th>휘발유</th>\n",
       "      <th>경유</th>\n",
       "      <th>실내등유</th>\n",
       "      <th>월</th>\n",
       "    </tr>\n",
       "  </thead>\n",
       "  <tbody>\n",
       "    <tr>\n",
       "      <th>1086</th>\n",
       "      <td>A0009838</td>\n",
       "      <td>서울 강남구</td>\n",
       "      <td>GS칼텍스(주)직영 산성주유소</td>\n",
       "      <td>서울 강남구 헌릉로 730 (세곡동)</td>\n",
       "      <td>20190101</td>\n",
       "      <td>GS칼텍스</td>\n",
       "      <td>셀프</td>\n",
       "      <td>0</td>\n",
       "      <td>1458</td>\n",
       "      <td>1319</td>\n",
       "      <td>0</td>\n",
       "      <td>01</td>\n",
       "    </tr>\n",
       "    <tr>\n",
       "      <th>1087</th>\n",
       "      <td>A0009838</td>\n",
       "      <td>서울 강남구</td>\n",
       "      <td>GS칼텍스(주)직영 산성주유소</td>\n",
       "      <td>서울 강남구 헌릉로 730 (세곡동)</td>\n",
       "      <td>20190102</td>\n",
       "      <td>GS칼텍스</td>\n",
       "      <td>셀프</td>\n",
       "      <td>0</td>\n",
       "      <td>1458</td>\n",
       "      <td>1319</td>\n",
       "      <td>0</td>\n",
       "      <td>01</td>\n",
       "    </tr>\n",
       "    <tr>\n",
       "      <th>1088</th>\n",
       "      <td>A0009838</td>\n",
       "      <td>서울 강남구</td>\n",
       "      <td>GS칼텍스(주)직영 산성주유소</td>\n",
       "      <td>서울 강남구 헌릉로 730 (세곡동)</td>\n",
       "      <td>20190103</td>\n",
       "      <td>GS칼텍스</td>\n",
       "      <td>셀프</td>\n",
       "      <td>0</td>\n",
       "      <td>1458</td>\n",
       "      <td>1319</td>\n",
       "      <td>0</td>\n",
       "      <td>01</td>\n",
       "    </tr>\n",
       "    <tr>\n",
       "      <th>1089</th>\n",
       "      <td>A0009838</td>\n",
       "      <td>서울 강남구</td>\n",
       "      <td>GS칼텍스(주)직영 산성주유소</td>\n",
       "      <td>서울 강남구 헌릉로 730 (세곡동)</td>\n",
       "      <td>20190104</td>\n",
       "      <td>GS칼텍스</td>\n",
       "      <td>셀프</td>\n",
       "      <td>0</td>\n",
       "      <td>1438</td>\n",
       "      <td>1298</td>\n",
       "      <td>0</td>\n",
       "      <td>01</td>\n",
       "    </tr>\n",
       "    <tr>\n",
       "      <th>1090</th>\n",
       "      <td>A0009838</td>\n",
       "      <td>서울 강남구</td>\n",
       "      <td>GS칼텍스(주)직영 산성주유소</td>\n",
       "      <td>서울 강남구 헌릉로 730 (세곡동)</td>\n",
       "      <td>20190105</td>\n",
       "      <td>GS칼텍스</td>\n",
       "      <td>셀프</td>\n",
       "      <td>0</td>\n",
       "      <td>1398</td>\n",
       "      <td>1298</td>\n",
       "      <td>0</td>\n",
       "      <td>01</td>\n",
       "    </tr>\n",
       "    <tr>\n",
       "      <th>...</th>\n",
       "      <td>...</td>\n",
       "      <td>...</td>\n",
       "      <td>...</td>\n",
       "      <td>...</td>\n",
       "      <td>...</td>\n",
       "      <td>...</td>\n",
       "      <td>...</td>\n",
       "      <td>...</td>\n",
       "      <td>...</td>\n",
       "      <td>...</td>\n",
       "      <td>...</td>\n",
       "      <td>...</td>\n",
       "    </tr>\n",
       "    <tr>\n",
       "      <th>90383</th>\n",
       "      <td>A0009138</td>\n",
       "      <td>서울 중랑구</td>\n",
       "      <td>우림주유소</td>\n",
       "      <td>서울 중랑구 용마산로 487 (망우동)</td>\n",
       "      <td>20191227</td>\n",
       "      <td>GS칼텍스</td>\n",
       "      <td>셀프</td>\n",
       "      <td>0</td>\n",
       "      <td>1535</td>\n",
       "      <td>1355</td>\n",
       "      <td>0</td>\n",
       "      <td>12</td>\n",
       "    </tr>\n",
       "    <tr>\n",
       "      <th>90384</th>\n",
       "      <td>A0009138</td>\n",
       "      <td>서울 중랑구</td>\n",
       "      <td>우림주유소</td>\n",
       "      <td>서울 중랑구 용마산로 487 (망우동)</td>\n",
       "      <td>20191228</td>\n",
       "      <td>GS칼텍스</td>\n",
       "      <td>셀프</td>\n",
       "      <td>0</td>\n",
       "      <td>1535</td>\n",
       "      <td>1355</td>\n",
       "      <td>0</td>\n",
       "      <td>12</td>\n",
       "    </tr>\n",
       "    <tr>\n",
       "      <th>90385</th>\n",
       "      <td>A0009138</td>\n",
       "      <td>서울 중랑구</td>\n",
       "      <td>우림주유소</td>\n",
       "      <td>서울 중랑구 용마산로 487 (망우동)</td>\n",
       "      <td>20191229</td>\n",
       "      <td>GS칼텍스</td>\n",
       "      <td>셀프</td>\n",
       "      <td>0</td>\n",
       "      <td>1535</td>\n",
       "      <td>1355</td>\n",
       "      <td>0</td>\n",
       "      <td>12</td>\n",
       "    </tr>\n",
       "    <tr>\n",
       "      <th>90386</th>\n",
       "      <td>A0009138</td>\n",
       "      <td>서울 중랑구</td>\n",
       "      <td>우림주유소</td>\n",
       "      <td>서울 중랑구 용마산로 487 (망우동)</td>\n",
       "      <td>20191230</td>\n",
       "      <td>GS칼텍스</td>\n",
       "      <td>셀프</td>\n",
       "      <td>0</td>\n",
       "      <td>1535</td>\n",
       "      <td>1355</td>\n",
       "      <td>0</td>\n",
       "      <td>12</td>\n",
       "    </tr>\n",
       "    <tr>\n",
       "      <th>90387</th>\n",
       "      <td>A0009138</td>\n",
       "      <td>서울 중랑구</td>\n",
       "      <td>우림주유소</td>\n",
       "      <td>서울 중랑구 용마산로 487 (망우동)</td>\n",
       "      <td>20191231</td>\n",
       "      <td>GS칼텍스</td>\n",
       "      <td>셀프</td>\n",
       "      <td>0</td>\n",
       "      <td>1535</td>\n",
       "      <td>1355</td>\n",
       "      <td>0</td>\n",
       "      <td>12</td>\n",
       "    </tr>\n",
       "  </tbody>\n",
       "</table>\n",
       "<p>34619 rows × 12 columns</p>\n",
       "</div>"
      ],
      "text/plain": [
       "             번호      지역                상호                     주소        기간  \\\n",
       "1086   A0009838  서울 강남구  GS칼텍스(주)직영 산성주유소   서울 강남구 헌릉로 730 (세곡동)  20190101   \n",
       "1087   A0009838  서울 강남구  GS칼텍스(주)직영 산성주유소   서울 강남구 헌릉로 730 (세곡동)  20190102   \n",
       "1088   A0009838  서울 강남구  GS칼텍스(주)직영 산성주유소   서울 강남구 헌릉로 730 (세곡동)  20190103   \n",
       "1089   A0009838  서울 강남구  GS칼텍스(주)직영 산성주유소   서울 강남구 헌릉로 730 (세곡동)  20190104   \n",
       "1090   A0009838  서울 강남구  GS칼텍스(주)직영 산성주유소   서울 강남구 헌릉로 730 (세곡동)  20190105   \n",
       "...         ...     ...               ...                    ...       ...   \n",
       "90383  A0009138  서울 중랑구             우림주유소  서울 중랑구 용마산로 487 (망우동)  20191227   \n",
       "90384  A0009138  서울 중랑구             우림주유소  서울 중랑구 용마산로 487 (망우동)  20191228   \n",
       "90385  A0009138  서울 중랑구             우림주유소  서울 중랑구 용마산로 487 (망우동)  20191229   \n",
       "90386  A0009138  서울 중랑구             우림주유소  서울 중랑구 용마산로 487 (망우동)  20191230   \n",
       "90387  A0009138  서울 중랑구             우림주유소  서울 중랑구 용마산로 487 (망우동)  20191231   \n",
       "\n",
       "          상표 셀프여부  고급휘발유   휘발유    경유  실내등유   월  \n",
       "1086   GS칼텍스   셀프      0  1458  1319     0  01  \n",
       "1087   GS칼텍스   셀프      0  1458  1319     0  01  \n",
       "1088   GS칼텍스   셀프      0  1458  1319     0  01  \n",
       "1089   GS칼텍스   셀프      0  1438  1298     0  01  \n",
       "1090   GS칼텍스   셀프      0  1398  1298     0  01  \n",
       "...      ...  ...    ...   ...   ...   ...  ..  \n",
       "90383  GS칼텍스   셀프      0  1535  1355     0  12  \n",
       "90384  GS칼텍스   셀프      0  1535  1355     0  12  \n",
       "90385  GS칼텍스   셀프      0  1535  1355     0  12  \n",
       "90386  GS칼텍스   셀프      0  1535  1355     0  12  \n",
       "90387  GS칼텍스   셀프      0  1535  1355     0  12  \n",
       "\n",
       "[34619 rows x 12 columns]"
      ]
     },
     "execution_count": 149,
     "metadata": {},
     "output_type": "execute_result"
    }
   ],
   "source": [
    "주유소_"
   ]
  },
  {
   "cell_type": "code",
   "execution_count": 152,
   "id": "14964a51-b94d-46bc-9999-1a43e25ef2d3",
   "metadata": {},
   "outputs": [],
   "source": [
    "폐업 = 주유소_[['주소', '월']].drop_duplicates().groupby(['월'])[['주소']].count()"
   ]
  },
  {
   "cell_type": "code",
   "execution_count": 155,
   "id": "edf165ef-1729-48c7-8b8f-27ef12e86c9d",
   "metadata": {},
   "outputs": [],
   "source": [
    "# 전달과 이번달의 차이를 보고 싶은것\n",
    "폐업['현황'] = 폐업.주소 - 폐업.주소.shift(1)"
   ]
  },
  {
   "cell_type": "code",
   "execution_count": 161,
   "id": "95b61ccc-4f5e-4812-86e1-1a75b744f251",
   "metadata": {},
   "outputs": [
    {
     "data": {
      "text/html": [
       "<div>\n",
       "<style scoped>\n",
       "    .dataframe tbody tr th:only-of-type {\n",
       "        vertical-align: middle;\n",
       "    }\n",
       "\n",
       "    .dataframe tbody tr th {\n",
       "        vertical-align: top;\n",
       "    }\n",
       "\n",
       "    .dataframe thead th {\n",
       "        text-align: right;\n",
       "    }\n",
       "</style>\n",
       "<table border=\"1\" class=\"dataframe\">\n",
       "  <thead>\n",
       "    <tr style=\"text-align: right;\">\n",
       "      <th></th>\n",
       "      <th>월</th>\n",
       "      <th>집계</th>\n",
       "      <th>폐업갯수</th>\n",
       "    </tr>\n",
       "  </thead>\n",
       "  <tbody>\n",
       "    <tr>\n",
       "      <th>0</th>\n",
       "      <td>01</td>\n",
       "      <td>105</td>\n",
       "      <td>0.0</td>\n",
       "    </tr>\n",
       "    <tr>\n",
       "      <th>1</th>\n",
       "      <td>02</td>\n",
       "      <td>105</td>\n",
       "      <td>0.0</td>\n",
       "    </tr>\n",
       "    <tr>\n",
       "      <th>2</th>\n",
       "      <td>03</td>\n",
       "      <td>100</td>\n",
       "      <td>-5.0</td>\n",
       "    </tr>\n",
       "    <tr>\n",
       "      <th>3</th>\n",
       "      <td>04</td>\n",
       "      <td>98</td>\n",
       "      <td>-2.0</td>\n",
       "    </tr>\n",
       "    <tr>\n",
       "      <th>4</th>\n",
       "      <td>05</td>\n",
       "      <td>98</td>\n",
       "      <td>0.0</td>\n",
       "    </tr>\n",
       "    <tr>\n",
       "      <th>5</th>\n",
       "      <td>06</td>\n",
       "      <td>96</td>\n",
       "      <td>-2.0</td>\n",
       "    </tr>\n",
       "    <tr>\n",
       "      <th>6</th>\n",
       "      <td>07</td>\n",
       "      <td>97</td>\n",
       "      <td>1.0</td>\n",
       "    </tr>\n",
       "    <tr>\n",
       "      <th>7</th>\n",
       "      <td>08</td>\n",
       "      <td>96</td>\n",
       "      <td>-1.0</td>\n",
       "    </tr>\n",
       "    <tr>\n",
       "      <th>8</th>\n",
       "      <td>09</td>\n",
       "      <td>96</td>\n",
       "      <td>0.0</td>\n",
       "    </tr>\n",
       "    <tr>\n",
       "      <th>9</th>\n",
       "      <td>10</td>\n",
       "      <td>96</td>\n",
       "      <td>0.0</td>\n",
       "    </tr>\n",
       "    <tr>\n",
       "      <th>10</th>\n",
       "      <td>11</td>\n",
       "      <td>93</td>\n",
       "      <td>-3.0</td>\n",
       "    </tr>\n",
       "    <tr>\n",
       "      <th>11</th>\n",
       "      <td>12</td>\n",
       "      <td>92</td>\n",
       "      <td>-1.0</td>\n",
       "    </tr>\n",
       "  </tbody>\n",
       "</table>\n",
       "</div>"
      ],
      "text/plain": [
       "     월   집계  폐업갯수\n",
       "0   01  105   0.0\n",
       "1   02  105   0.0\n",
       "2   03  100  -5.0\n",
       "3   04   98  -2.0\n",
       "4   05   98   0.0\n",
       "5   06   96  -2.0\n",
       "6   07   97   1.0\n",
       "7   08   96  -1.0\n",
       "8   09   96   0.0\n",
       "9   10   96   0.0\n",
       "10  11   93  -3.0\n",
       "11  12   92  -1.0"
      ]
     },
     "execution_count": 161,
     "metadata": {},
     "output_type": "execute_result"
    }
   ],
   "source": [
    "폐업.fillna(0).rename(columns={\"주소\": '집계', '현황': '폐업갯수'}).reset_index()"
   ]
  },
  {
   "cell_type": "code",
   "execution_count": 163,
   "id": "eb013f23-fc04-400a-984b-8c9e939b67f7",
   "metadata": {},
   "outputs": [
    {
     "data": {
      "text/plain": [
       "92"
      ]
     },
     "execution_count": 163,
     "metadata": {},
     "output_type": "execute_result"
    }
   ],
   "source": [
    "주유소_[주유소_.기간 == 20191201].번호.unique().size"
   ]
  },
  {
   "cell_type": "code",
   "execution_count": 189,
   "id": "614d15d7-22b7-4d34-a030-3b0abbac3135",
   "metadata": {},
   "outputs": [
    {
     "data": {
      "text/html": [
       "<div>\n",
       "<style scoped>\n",
       "    .dataframe tbody tr th:only-of-type {\n",
       "        vertical-align: middle;\n",
       "    }\n",
       "\n",
       "    .dataframe tbody tr th {\n",
       "        vertical-align: top;\n",
       "    }\n",
       "\n",
       "    .dataframe thead th {\n",
       "        text-align: right;\n",
       "    }\n",
       "</style>\n",
       "<table border=\"1\" class=\"dataframe\">\n",
       "  <thead>\n",
       "    <tr style=\"text-align: right;\">\n",
       "      <th></th>\n",
       "      <th>휘발유</th>\n",
       "    </tr>\n",
       "    <tr>\n",
       "      <th>지역</th>\n",
       "      <th></th>\n",
       "    </tr>\n",
       "  </thead>\n",
       "  <tbody>\n",
       "    <tr>\n",
       "      <th>서울 중구</th>\n",
       "      <td>1976.948052</td>\n",
       "    </tr>\n",
       "    <tr>\n",
       "      <th>서울 용산구</th>\n",
       "      <td>1882.049825</td>\n",
       "    </tr>\n",
       "    <tr>\n",
       "      <th>서울 종로구</th>\n",
       "      <td>1838.554945</td>\n",
       "    </tr>\n",
       "    <tr>\n",
       "      <th>서울 강남구</th>\n",
       "      <td>1713.093581</td>\n",
       "    </tr>\n",
       "    <tr>\n",
       "      <th>서울 마포구</th>\n",
       "      <td>1689.755616</td>\n",
       "    </tr>\n",
       "    <tr>\n",
       "      <th>서울 성동구</th>\n",
       "      <td>1583.659561</td>\n",
       "    </tr>\n",
       "    <tr>\n",
       "      <th>서울 서초구</th>\n",
       "      <td>1577.131304</td>\n",
       "    </tr>\n",
       "    <tr>\n",
       "      <th>서울 강동구</th>\n",
       "      <td>1576.685264</td>\n",
       "    </tr>\n",
       "    <tr>\n",
       "      <th>서울 영등포구</th>\n",
       "      <td>1568.279506</td>\n",
       "    </tr>\n",
       "    <tr>\n",
       "      <th>서울 노원구</th>\n",
       "      <td>1531.221551</td>\n",
       "    </tr>\n",
       "    <tr>\n",
       "      <th>서울 서대문구</th>\n",
       "      <td>1528.943332</td>\n",
       "    </tr>\n",
       "    <tr>\n",
       "      <th>서울 구로구</th>\n",
       "      <td>1525.410383</td>\n",
       "    </tr>\n",
       "    <tr>\n",
       "      <th>서울 송파구</th>\n",
       "      <td>1518.957954</td>\n",
       "    </tr>\n",
       "    <tr>\n",
       "      <th>서울 관악구</th>\n",
       "      <td>1518.128564</td>\n",
       "    </tr>\n",
       "    <tr>\n",
       "      <th>서울 양천구</th>\n",
       "      <td>1512.890261</td>\n",
       "    </tr>\n",
       "    <tr>\n",
       "      <th>서울 동작구</th>\n",
       "      <td>1512.470911</td>\n",
       "    </tr>\n",
       "    <tr>\n",
       "      <th>서울 성북구</th>\n",
       "      <td>1507.948267</td>\n",
       "    </tr>\n",
       "    <tr>\n",
       "      <th>서울 동대문구</th>\n",
       "      <td>1506.833542</td>\n",
       "    </tr>\n",
       "    <tr>\n",
       "      <th>서울 도봉구</th>\n",
       "      <td>1494.171062</td>\n",
       "    </tr>\n",
       "    <tr>\n",
       "      <th>서울 광진구</th>\n",
       "      <td>1490.597054</td>\n",
       "    </tr>\n",
       "    <tr>\n",
       "      <th>서울 강서구</th>\n",
       "      <td>1488.818088</td>\n",
       "    </tr>\n",
       "    <tr>\n",
       "      <th>서울 은평구</th>\n",
       "      <td>1481.964026</td>\n",
       "    </tr>\n",
       "    <tr>\n",
       "      <th>서울 금천구</th>\n",
       "      <td>1477.121992</td>\n",
       "    </tr>\n",
       "    <tr>\n",
       "      <th>서울 중랑구</th>\n",
       "      <td>1469.009092</td>\n",
       "    </tr>\n",
       "    <tr>\n",
       "      <th>서울 강북구</th>\n",
       "      <td>1453.517525</td>\n",
       "    </tr>\n",
       "  </tbody>\n",
       "</table>\n",
       "</div>"
      ],
      "text/plain": [
       "                 휘발유\n",
       "지역                  \n",
       "서울 중구    1976.948052\n",
       "서울 용산구   1882.049825\n",
       "서울 종로구   1838.554945\n",
       "서울 강남구   1713.093581\n",
       "서울 마포구   1689.755616\n",
       "서울 성동구   1583.659561\n",
       "서울 서초구   1577.131304\n",
       "서울 강동구   1576.685264\n",
       "서울 영등포구  1568.279506\n",
       "서울 노원구   1531.221551\n",
       "서울 서대문구  1528.943332\n",
       "서울 구로구   1525.410383\n",
       "서울 송파구   1518.957954\n",
       "서울 관악구   1518.128564\n",
       "서울 양천구   1512.890261\n",
       "서울 동작구   1512.470911\n",
       "서울 성북구   1507.948267\n",
       "서울 동대문구  1506.833542\n",
       "서울 도봉구   1494.171062\n",
       "서울 광진구   1490.597054\n",
       "서울 강서구   1488.818088\n",
       "서울 은평구   1481.964026\n",
       "서울 금천구   1477.121992\n",
       "서울 중랑구   1469.009092\n",
       "서울 강북구   1453.517525"
      ]
     },
     "execution_count": 189,
     "metadata": {},
     "output_type": "execute_result"
    }
   ],
   "source": [
    "# 지역별 휘발류 평균값\n",
    "주유소.groupby(['지역'])[['휘발유']].mean().sort_values(by=['휘발유'], ascending=False)"
   ]
  },
  {
   "cell_type": "code",
   "execution_count": 191,
   "id": "5e8f226f-6b04-42ed-b682-a26d4c616367",
   "metadata": {},
   "outputs": [],
   "source": [
    "강남구 = 주유소_.query(\"지역 == '서울 강남구'\")\n",
    "도봉구 = 주유소_.query(\"지역 == '서울 도봉구'\")"
   ]
  },
  {
   "cell_type": "code",
   "execution_count": 212,
   "id": "5dd08eb0-2028-4d77-919b-95f0eaead188",
   "metadata": {},
   "outputs": [],
   "source": [
    "# 휘발유 평균\n",
    "a = 강남구.groupby(['상호'])[['휘발유']].mean().values"
   ]
  },
  {
   "cell_type": "code",
   "execution_count": 213,
   "id": "66b9914d-bcc2-4825-846a-62c456a682ba",
   "metadata": {},
   "outputs": [],
   "source": [
    "b = 도봉구.groupby(['상호'])[['휘발유']].mean().values"
   ]
  },
  {
   "cell_type": "code",
   "execution_count": 216,
   "id": "1d039487-354a-421d-966b-78680f4cf7cf",
   "metadata": {},
   "outputs": [
    {
     "data": {
      "text/plain": [
       "TtestResult(statistic=array([0.82533725]), pvalue=array([0.43051271]), df=array([9.]))"
      ]
     },
     "execution_count": 216,
     "metadata": {},
     "output_type": "execute_result"
    }
   ],
   "source": [
    "# 두 집단간의 평균 검증\n",
    "# ttest_ind ()\n",
    "sc.stats.ttest_ind(a , b)"
   ]
  },
  {
   "cell_type": "code",
   "execution_count": 215,
   "id": "ae79dda5-a1e3-4828-bb73-bb8516d7fd63",
   "metadata": {},
   "outputs": [
    {
     "data": {
      "text/plain": [
       "TtestResult(statistic=8.036914755927121, pvalue=1.2566011556030088e-15, df=3421.0)"
      ]
     },
     "execution_count": 215,
     "metadata": {},
     "output_type": "execute_result"
    }
   ],
   "source": [
    "sc.stats.ttest_ind(a = 강남구['휘발유'] , b = 도봉구['휘발유'])"
   ]
  },
  {
   "cell_type": "markdown",
   "id": "d8b73e9e-71e9-4dfb-809c-3d96872336fe",
   "metadata": {},
   "source": [
    "- Null hypothesis 귀무가설: 두 집단간의 평균은 동일하다.\n",
    "- 대립가설: 두 집단간의 평균은 차이가 있다."
   ]
  },
  {
   "cell_type": "markdown",
   "id": "3dc89d15-1927-4395-a4a0-84e6dbc10b61",
   "metadata": {},
   "source": [
    "pvalue = 유의수준"
   ]
  },
  {
   "cell_type": "code",
   "execution_count": null,
   "id": "6be46228-bfd3-4bf9-adb7-a11bf5f0a6eb",
   "metadata": {},
   "outputs": [],
   "source": []
  },
  {
   "cell_type": "code",
   "execution_count": 218,
   "id": "820a3d91-021c-475c-93d1-acc2c34de6ca",
   "metadata": {},
   "outputs": [],
   "source": [
    "import sqlalchemy\n",
    "from urllib import parse\n",
    "\n",
    "user = 'swp'\n",
    "password = 'swp1'\n",
    "host='172.29.132.70'\n",
    "port = 3306\n",
    "database = 'encore'\n",
    "password = parse.quote_plus(password)\n",
    "engine = sqlalchemy.create_engine(f\"mysql://{user}:{password}@{host}:{port}/{database}\")\n"
   ]
  },
  {
   "cell_type": "code",
   "execution_count": 220,
   "id": "9263ffb1-8d50-449b-a8ec-a08ca04ee710",
   "metadata": {},
   "outputs": [],
   "source": [
    "order_products__prior = pd.read_sql_query(\"select * from order_products__prior;\", con=engine)"
   ]
  },
  {
   "cell_type": "code",
   "execution_count": 228,
   "id": "3237e426-990c-4c14-9e57-7abd394674e6",
   "metadata": {},
   "outputs": [],
   "source": [
    "order_products__prior['first'] = order_products__prior[['add_to_cart_order']] == 1"
   ]
  },
  {
   "cell_type": "code",
   "execution_count": 230,
   "id": "61803adc-bc9d-4765-be89-78d613be12aa",
   "metadata": {},
   "outputs": [],
   "source": [
    "order_products__prior['first'] = order_products__prior.add_to_cart_order.apply(lambda x : 1 if x ==1 else 0)"
   ]
  },
  {
   "cell_type": "code",
   "execution_count": 231,
   "id": "5c6014c4-2df5-4809-bfbb-1dff6e51035f",
   "metadata": {},
   "outputs": [
    {
     "data": {
      "text/html": [
       "<div>\n",
       "<style scoped>\n",
       "    .dataframe tbody tr th:only-of-type {\n",
       "        vertical-align: middle;\n",
       "    }\n",
       "\n",
       "    .dataframe tbody tr th {\n",
       "        vertical-align: top;\n",
       "    }\n",
       "\n",
       "    .dataframe thead th {\n",
       "        text-align: right;\n",
       "    }\n",
       "</style>\n",
       "<table border=\"1\" class=\"dataframe\">\n",
       "  <thead>\n",
       "    <tr style=\"text-align: right;\">\n",
       "      <th></th>\n",
       "      <th>order_id</th>\n",
       "      <th>product_id</th>\n",
       "      <th>add_to_cart_order</th>\n",
       "      <th>reordered</th>\n",
       "      <th>first</th>\n",
       "    </tr>\n",
       "  </thead>\n",
       "  <tbody>\n",
       "    <tr>\n",
       "      <th>0</th>\n",
       "      <td>2581</td>\n",
       "      <td>40174</td>\n",
       "      <td>1</td>\n",
       "      <td>0</td>\n",
       "      <td>1</td>\n",
       "    </tr>\n",
       "    <tr>\n",
       "      <th>1</th>\n",
       "      <td>2581</td>\n",
       "      <td>17461</td>\n",
       "      <td>2</td>\n",
       "      <td>0</td>\n",
       "      <td>0</td>\n",
       "    </tr>\n",
       "    <tr>\n",
       "      <th>2</th>\n",
       "      <td>2581</td>\n",
       "      <td>19731</td>\n",
       "      <td>3</td>\n",
       "      <td>1</td>\n",
       "      <td>0</td>\n",
       "    </tr>\n",
       "    <tr>\n",
       "      <th>3</th>\n",
       "      <td>5880</td>\n",
       "      <td>24838</td>\n",
       "      <td>1</td>\n",
       "      <td>1</td>\n",
       "      <td>1</td>\n",
       "    </tr>\n",
       "    <tr>\n",
       "      <th>4</th>\n",
       "      <td>5880</td>\n",
       "      <td>24852</td>\n",
       "      <td>2</td>\n",
       "      <td>1</td>\n",
       "      <td>0</td>\n",
       "    </tr>\n",
       "    <tr>\n",
       "      <th>...</th>\n",
       "      <td>...</td>\n",
       "      <td>...</td>\n",
       "      <td>...</td>\n",
       "      <td>...</td>\n",
       "      <td>...</td>\n",
       "    </tr>\n",
       "    <tr>\n",
       "      <th>32285</th>\n",
       "      <td>3420098</td>\n",
       "      <td>46676</td>\n",
       "      <td>9</td>\n",
       "      <td>0</td>\n",
       "      <td>0</td>\n",
       "    </tr>\n",
       "    <tr>\n",
       "      <th>32286</th>\n",
       "      <td>3420098</td>\n",
       "      <td>5240</td>\n",
       "      <td>10</td>\n",
       "      <td>0</td>\n",
       "      <td>0</td>\n",
       "    </tr>\n",
       "    <tr>\n",
       "      <th>32287</th>\n",
       "      <td>3420098</td>\n",
       "      <td>23375</td>\n",
       "      <td>11</td>\n",
       "      <td>0</td>\n",
       "      <td>0</td>\n",
       "    </tr>\n",
       "    <tr>\n",
       "      <th>32288</th>\n",
       "      <td>3420098</td>\n",
       "      <td>42342</td>\n",
       "      <td>12</td>\n",
       "      <td>0</td>\n",
       "      <td>0</td>\n",
       "    </tr>\n",
       "    <tr>\n",
       "      <th>32289</th>\n",
       "      <td>3420098</td>\n",
       "      <td>17706</td>\n",
       "      <td>13</td>\n",
       "      <td>1</td>\n",
       "      <td>0</td>\n",
       "    </tr>\n",
       "  </tbody>\n",
       "</table>\n",
       "<p>32290 rows × 5 columns</p>\n",
       "</div>"
      ],
      "text/plain": [
       "       order_id  product_id  add_to_cart_order  reordered  first\n",
       "0          2581       40174                  1          0      1\n",
       "1          2581       17461                  2          0      0\n",
       "2          2581       19731                  3          1      0\n",
       "3          5880       24838                  1          1      1\n",
       "4          5880       24852                  2          1      0\n",
       "...         ...         ...                ...        ...    ...\n",
       "32285   3420098       46676                  9          0      0\n",
       "32286   3420098        5240                 10          0      0\n",
       "32287   3420098       23375                 11          0      0\n",
       "32288   3420098       42342                 12          0      0\n",
       "32289   3420098       17706                 13          1      0\n",
       "\n",
       "[32290 rows x 5 columns]"
      ]
     },
     "execution_count": 231,
     "metadata": {},
     "output_type": "execute_result"
    }
   ],
   "source": [
    "order_products__prior"
   ]
  },
  {
   "cell_type": "code",
   "execution_count": 234,
   "id": "131edf0a-0aed-43ff-a37d-4f8dc9e1fe12",
   "metadata": {},
   "outputs": [],
   "source": [
    "df2 = order_products__prior.groupby(['product_id'], as_index=False)[['first']].sum()"
   ]
  },
  {
   "cell_type": "code",
   "execution_count": 237,
   "id": "cbf73c67-e561-4d5c-827f-b0fdb32018e8",
   "metadata": {},
   "outputs": [
    {
     "data": {
      "text/html": [
       "<div>\n",
       "<style scoped>\n",
       "    .dataframe tbody tr th:only-of-type {\n",
       "        vertical-align: middle;\n",
       "    }\n",
       "\n",
       "    .dataframe tbody tr th {\n",
       "        vertical-align: top;\n",
       "    }\n",
       "\n",
       "    .dataframe thead th {\n",
       "        text-align: right;\n",
       "    }\n",
       "</style>\n",
       "<table border=\"1\" class=\"dataframe\">\n",
       "  <thead>\n",
       "    <tr style=\"text-align: right;\">\n",
       "      <th></th>\n",
       "      <th>product_id</th>\n",
       "      <th>first</th>\n",
       "    </tr>\n",
       "  </thead>\n",
       "  <tbody>\n",
       "    <tr>\n",
       "      <th>12</th>\n",
       "      <td>47</td>\n",
       "      <td>1</td>\n",
       "    </tr>\n",
       "    <tr>\n",
       "      <th>19</th>\n",
       "      <td>93</td>\n",
       "      <td>1</td>\n",
       "    </tr>\n",
       "    <tr>\n",
       "      <th>20</th>\n",
       "      <td>95</td>\n",
       "      <td>1</td>\n",
       "    </tr>\n",
       "    <tr>\n",
       "      <th>24</th>\n",
       "      <td>116</td>\n",
       "      <td>1</td>\n",
       "    </tr>\n",
       "    <tr>\n",
       "      <th>33</th>\n",
       "      <td>141</td>\n",
       "      <td>1</td>\n",
       "    </tr>\n",
       "    <tr>\n",
       "      <th>...</th>\n",
       "      <td>...</td>\n",
       "      <td>...</td>\n",
       "    </tr>\n",
       "    <tr>\n",
       "      <th>9254</th>\n",
       "      <td>49519</td>\n",
       "      <td>1</td>\n",
       "    </tr>\n",
       "    <tr>\n",
       "      <th>9266</th>\n",
       "      <td>49587</td>\n",
       "      <td>1</td>\n",
       "    </tr>\n",
       "    <tr>\n",
       "      <th>9270</th>\n",
       "      <td>49608</td>\n",
       "      <td>1</td>\n",
       "    </tr>\n",
       "    <tr>\n",
       "      <th>9271</th>\n",
       "      <td>49610</td>\n",
       "      <td>1</td>\n",
       "    </tr>\n",
       "    <tr>\n",
       "      <th>9276</th>\n",
       "      <td>49634</td>\n",
       "      <td>1</td>\n",
       "    </tr>\n",
       "  </tbody>\n",
       "</table>\n",
       "<p>1437 rows × 2 columns</p>\n",
       "</div>"
      ],
      "text/plain": [
       "      product_id  first\n",
       "12            47      1\n",
       "19            93      1\n",
       "20            95      1\n",
       "24           116      1\n",
       "33           141      1\n",
       "...          ...    ...\n",
       "9254       49519      1\n",
       "9266       49587      1\n",
       "9270       49608      1\n",
       "9271       49610      1\n",
       "9276       49634      1\n",
       "\n",
       "[1437 rows x 2 columns]"
      ]
     },
     "execution_count": 237,
     "metadata": {},
     "output_type": "execute_result"
    }
   ],
   "source": [
    "df2[df2['first'] == 1]"
   ]
  },
  {
   "cell_type": "code",
   "execution_count": 260,
   "id": "4c066b00-6bc3-46d2-82cb-12d8af251f19",
   "metadata": {},
   "outputs": [
    {
     "data": {
      "text/plain": [
       "117"
      ]
     },
     "execution_count": 260,
     "metadata": {},
     "output_type": "execute_result"
    }
   ],
   "source": [
    "df2['first'].max()"
   ]
  },
  {
   "cell_type": "code",
   "execution_count": 261,
   "id": "b9118fbc-1531-4d60-a3d6-27e913b19c5c",
   "metadata": {},
   "outputs": [
    {
     "data": {
      "text/html": [
       "<div>\n",
       "<style scoped>\n",
       "    .dataframe tbody tr th:only-of-type {\n",
       "        vertical-align: middle;\n",
       "    }\n",
       "\n",
       "    .dataframe tbody tr th {\n",
       "        vertical-align: top;\n",
       "    }\n",
       "\n",
       "    .dataframe thead th {\n",
       "        text-align: right;\n",
       "    }\n",
       "</style>\n",
       "<table border=\"1\" class=\"dataframe\">\n",
       "  <thead>\n",
       "    <tr style=\"text-align: right;\">\n",
       "      <th></th>\n",
       "      <th>product_id</th>\n",
       "      <th>first</th>\n",
       "    </tr>\n",
       "  </thead>\n",
       "  <tbody>\n",
       "    <tr>\n",
       "      <th>0</th>\n",
       "      <td>24852</td>\n",
       "      <td>117</td>\n",
       "    </tr>\n",
       "  </tbody>\n",
       "</table>\n",
       "</div>"
      ],
      "text/plain": [
       "   product_id  first\n",
       "0       24852    117"
      ]
     },
     "execution_count": 261,
     "metadata": {},
     "output_type": "execute_result"
    }
   ],
   "source": [
    "df2[df2['first'] == 117]"
   ]
  },
  {
   "cell_type": "code",
   "execution_count": 262,
   "id": "8bfe7854-646e-4ddd-9c3c-2f95b550fc45",
   "metadata": {},
   "outputs": [],
   "source": [
    "# ranking\n",
    "df3=df2.sort_values(by=['first'], ascending=False).reset_index(drop=True)"
   ]
  },
  {
   "cell_type": "code",
   "execution_count": 251,
   "id": "e9e61bed-7d3a-4fdb-a847-32c707126dfd",
   "metadata": {},
   "outputs": [
    {
     "data": {
      "text/plain": [
       "\u001b[0;31mSignature:\u001b[0m\n",
       "\u001b[0mpd\u001b[0m\u001b[0;34m.\u001b[0m\u001b[0mDataFrame\u001b[0m\u001b[0;34m.\u001b[0m\u001b[0mrank\u001b[0m\u001b[0;34m(\u001b[0m\u001b[0;34m\u001b[0m\n",
       "\u001b[0;34m\u001b[0m    \u001b[0mself\u001b[0m\u001b[0;34m,\u001b[0m\u001b[0;34m\u001b[0m\n",
       "\u001b[0;34m\u001b[0m    \u001b[0maxis\u001b[0m\u001b[0;34m:\u001b[0m \u001b[0;34m'Axis'\u001b[0m \u001b[0;34m=\u001b[0m \u001b[0;36m0\u001b[0m\u001b[0;34m,\u001b[0m\u001b[0;34m\u001b[0m\n",
       "\u001b[0;34m\u001b[0m    \u001b[0mmethod\u001b[0m\u001b[0;34m:\u001b[0m \u001b[0;34m\"Literal['average', 'min', 'max', 'first', 'dense']\"\u001b[0m \u001b[0;34m=\u001b[0m \u001b[0;34m'average'\u001b[0m\u001b[0;34m,\u001b[0m\u001b[0;34m\u001b[0m\n",
       "\u001b[0;34m\u001b[0m    \u001b[0mnumeric_only\u001b[0m\u001b[0;34m:\u001b[0m \u001b[0;34m'bool_t'\u001b[0m \u001b[0;34m=\u001b[0m \u001b[0;32mFalse\u001b[0m\u001b[0;34m,\u001b[0m\u001b[0;34m\u001b[0m\n",
       "\u001b[0;34m\u001b[0m    \u001b[0mna_option\u001b[0m\u001b[0;34m:\u001b[0m \u001b[0;34m\"Literal['keep', 'top', 'bottom']\"\u001b[0m \u001b[0;34m=\u001b[0m \u001b[0;34m'keep'\u001b[0m\u001b[0;34m,\u001b[0m\u001b[0;34m\u001b[0m\n",
       "\u001b[0;34m\u001b[0m    \u001b[0mascending\u001b[0m\u001b[0;34m:\u001b[0m \u001b[0;34m'bool_t'\u001b[0m \u001b[0;34m=\u001b[0m \u001b[0;32mTrue\u001b[0m\u001b[0;34m,\u001b[0m\u001b[0;34m\u001b[0m\n",
       "\u001b[0;34m\u001b[0m    \u001b[0mpct\u001b[0m\u001b[0;34m:\u001b[0m \u001b[0;34m'bool_t'\u001b[0m \u001b[0;34m=\u001b[0m \u001b[0;32mFalse\u001b[0m\u001b[0;34m,\u001b[0m\u001b[0;34m\u001b[0m\n",
       "\u001b[0;34m\u001b[0m\u001b[0;34m)\u001b[0m \u001b[0;34m->\u001b[0m \u001b[0;34m'Self'\u001b[0m\u001b[0;34m\u001b[0m\u001b[0;34m\u001b[0m\u001b[0m\n",
       "\u001b[0;31mDocstring:\u001b[0m\n",
       "Compute numerical data ranks (1 through n) along axis.\n",
       "\n",
       "By default, equal values are assigned a rank that is the average of the\n",
       "ranks of those values.\n",
       "\n",
       "Parameters\n",
       "----------\n",
       "axis : {0 or 'index', 1 or 'columns'}, default 0\n",
       "    Index to direct ranking.\n",
       "    For `Series` this parameter is unused and defaults to 0.\n",
       "method : {'average', 'min', 'max', 'first', 'dense'}, default 'average'\n",
       "    How to rank the group of records that have the same value (i.e. ties):\n",
       "\n",
       "    * average: average rank of the group\n",
       "    * min: lowest rank in the group\n",
       "    * max: highest rank in the group\n",
       "    * first: ranks assigned in order they appear in the array\n",
       "    * dense: like 'min', but rank always increases by 1 between groups.\n",
       "\n",
       "numeric_only : bool, default False\n",
       "    For DataFrame objects, rank only numeric columns if set to True.\n",
       "\n",
       "    .. versionchanged:: 2.0.0\n",
       "        The default value of ``numeric_only`` is now ``False``.\n",
       "\n",
       "na_option : {'keep', 'top', 'bottom'}, default 'keep'\n",
       "    How to rank NaN values:\n",
       "\n",
       "    * keep: assign NaN rank to NaN values\n",
       "    * top: assign lowest rank to NaN values\n",
       "    * bottom: assign highest rank to NaN values\n",
       "\n",
       "ascending : bool, default True\n",
       "    Whether or not the elements should be ranked in ascending order.\n",
       "pct : bool, default False\n",
       "    Whether or not to display the returned rankings in percentile\n",
       "    form.\n",
       "\n",
       "Returns\n",
       "-------\n",
       "same type as caller\n",
       "    Return a Series or DataFrame with data ranks as values.\n",
       "\n",
       "See Also\n",
       "--------\n",
       "core.groupby.DataFrameGroupBy.rank : Rank of values within each group.\n",
       "core.groupby.SeriesGroupBy.rank : Rank of values within each group.\n",
       "\n",
       "Examples\n",
       "--------\n",
       ">>> df = pd.DataFrame(data={'Animal': ['cat', 'penguin', 'dog',\n",
       "...                                    'spider', 'snake'],\n",
       "...                         'Number_legs': [4, 2, 4, 8, np.nan]})\n",
       ">>> df\n",
       "    Animal  Number_legs\n",
       "0      cat          4.0\n",
       "1  penguin          2.0\n",
       "2      dog          4.0\n",
       "3   spider          8.0\n",
       "4    snake          NaN\n",
       "\n",
       "Ties are assigned the mean of the ranks (by default) for the group.\n",
       "\n",
       ">>> s = pd.Series(range(5), index=list(\"abcde\"))\n",
       ">>> s[\"d\"] = s[\"b\"]\n",
       ">>> s.rank()\n",
       "a    1.0\n",
       "b    2.5\n",
       "c    4.0\n",
       "d    2.5\n",
       "e    5.0\n",
       "dtype: float64\n",
       "\n",
       "The following example shows how the method behaves with the above\n",
       "parameters:\n",
       "\n",
       "* default_rank: this is the default behaviour obtained without using\n",
       "  any parameter.\n",
       "* max_rank: setting ``method = 'max'`` the records that have the\n",
       "  same values are ranked using the highest rank (e.g.: since 'cat'\n",
       "  and 'dog' are both in the 2nd and 3rd position, rank 3 is assigned.)\n",
       "* NA_bottom: choosing ``na_option = 'bottom'``, if there are records\n",
       "  with NaN values they are placed at the bottom of the ranking.\n",
       "* pct_rank: when setting ``pct = True``, the ranking is expressed as\n",
       "  percentile rank.\n",
       "\n",
       ">>> df['default_rank'] = df['Number_legs'].rank()\n",
       ">>> df['max_rank'] = df['Number_legs'].rank(method='max')\n",
       ">>> df['NA_bottom'] = df['Number_legs'].rank(na_option='bottom')\n",
       ">>> df['pct_rank'] = df['Number_legs'].rank(pct=True)\n",
       ">>> df\n",
       "    Animal  Number_legs  default_rank  max_rank  NA_bottom  pct_rank\n",
       "0      cat          4.0           2.5       3.0        2.5     0.625\n",
       "1  penguin          2.0           1.0       1.0        1.0     0.250\n",
       "2      dog          4.0           2.5       3.0        2.5     0.625\n",
       "3   spider          8.0           4.0       4.0        4.0     1.000\n",
       "4    snake          NaN           NaN       NaN        5.0       NaN\n",
       "\u001b[0;31mFile:\u001b[0m      ~/miniconda3/lib/python3.10/site-packages/pandas/core/generic.py\n",
       "\u001b[0;31mType:\u001b[0m      function"
      ]
     },
     "metadata": {},
     "output_type": "display_data"
    }
   ],
   "source": [
    "?pd.DataFrame.rank"
   ]
  },
  {
   "cell_type": "code",
   "execution_count": 263,
   "id": "a9ab0ec5-4630-4e9f-880e-bdd270d03aba",
   "metadata": {},
   "outputs": [],
   "source": [
    "df3['rank'] = df3['first'].rank(ascending=False)"
   ]
  },
  {
   "cell_type": "code",
   "execution_count": 265,
   "id": "b78fd93e-f10b-47b3-abe1-874e16fc7d15",
   "metadata": {},
   "outputs": [],
   "source": [
    "df3['rank'] = df3['rank'].astype(int)"
   ]
  },
  {
   "cell_type": "code",
   "execution_count": 267,
   "id": "2b67755d-b1ba-468c-b892-284a07191693",
   "metadata": {},
   "outputs": [
    {
     "data": {
      "text/html": [
       "<div>\n",
       "<style scoped>\n",
       "    .dataframe tbody tr th:only-of-type {\n",
       "        vertical-align: middle;\n",
       "    }\n",
       "\n",
       "    .dataframe tbody tr th {\n",
       "        vertical-align: top;\n",
       "    }\n",
       "\n",
       "    .dataframe thead th {\n",
       "        text-align: right;\n",
       "    }\n",
       "</style>\n",
       "<table border=\"1\" class=\"dataframe\">\n",
       "  <thead>\n",
       "    <tr style=\"text-align: right;\">\n",
       "      <th></th>\n",
       "      <th>product_id</th>\n",
       "      <th>first</th>\n",
       "      <th>rank</th>\n",
       "    </tr>\n",
       "  </thead>\n",
       "  <tbody>\n",
       "    <tr>\n",
       "      <th>0</th>\n",
       "      <td>24852</td>\n",
       "      <td>117</td>\n",
       "      <td>1</td>\n",
       "    </tr>\n",
       "    <tr>\n",
       "      <th>1</th>\n",
       "      <td>13176</td>\n",
       "      <td>62</td>\n",
       "      <td>2</td>\n",
       "    </tr>\n",
       "    <tr>\n",
       "      <th>2</th>\n",
       "      <td>27845</td>\n",
       "      <td>37</td>\n",
       "      <td>3</td>\n",
       "    </tr>\n",
       "    <tr>\n",
       "      <th>3</th>\n",
       "      <td>21137</td>\n",
       "      <td>31</td>\n",
       "      <td>4</td>\n",
       "    </tr>\n",
       "    <tr>\n",
       "      <th>4</th>\n",
       "      <td>21903</td>\n",
       "      <td>27</td>\n",
       "      <td>5</td>\n",
       "    </tr>\n",
       "    <tr>\n",
       "      <th>5</th>\n",
       "      <td>47209</td>\n",
       "      <td>24</td>\n",
       "      <td>6</td>\n",
       "    </tr>\n",
       "    <tr>\n",
       "      <th>6</th>\n",
       "      <td>19660</td>\n",
       "      <td>18</td>\n",
       "      <td>7</td>\n",
       "    </tr>\n",
       "    <tr>\n",
       "      <th>7</th>\n",
       "      <td>16797</td>\n",
       "      <td>17</td>\n",
       "      <td>8</td>\n",
       "    </tr>\n",
       "    <tr>\n",
       "      <th>8</th>\n",
       "      <td>12341</td>\n",
       "      <td>16</td>\n",
       "      <td>9</td>\n",
       "    </tr>\n",
       "    <tr>\n",
       "      <th>9</th>\n",
       "      <td>5785</td>\n",
       "      <td>16</td>\n",
       "      <td>9</td>\n",
       "    </tr>\n",
       "  </tbody>\n",
       "</table>\n",
       "</div>"
      ],
      "text/plain": [
       "   product_id  first  rank\n",
       "0       24852    117     1\n",
       "1       13176     62     2\n",
       "2       27845     37     3\n",
       "3       21137     31     4\n",
       "4       21903     27     5\n",
       "5       47209     24     6\n",
       "6       19660     18     7\n",
       "7       16797     17     8\n",
       "8       12341     16     9\n",
       "9        5785     16     9"
      ]
     },
     "execution_count": 267,
     "metadata": {},
     "output_type": "execute_result"
    }
   ],
   "source": [
    "df3.head(10)"
   ]
  },
  {
   "cell_type": "code",
   "execution_count": null,
   "id": "6edd1e32-5d9b-4904-b49d-502c1940508b",
   "metadata": {},
   "outputs": [],
   "source": []
  },
  {
   "cell_type": "code",
   "execution_count": null,
   "id": "70271170-98f8-4482-b77c-2e903e679138",
   "metadata": {},
   "outputs": [],
   "source": []
  },
  {
   "cell_type": "code",
   "execution_count": null,
   "id": "67c6f545-0879-4b4a-831f-558c8f31efdc",
   "metadata": {},
   "outputs": [],
   "source": []
  },
  {
   "cell_type": "code",
   "execution_count": null,
   "id": "ff4e60af-6ff4-44c0-8db1-7d2adef01ad5",
   "metadata": {},
   "outputs": [],
   "source": []
  },
  {
   "cell_type": "code",
   "execution_count": null,
   "id": "b655da24-643c-431b-9668-a45a5705ba28",
   "metadata": {},
   "outputs": [],
   "source": []
  },
  {
   "cell_type": "code",
   "execution_count": null,
   "id": "e1f2c447-a113-4c24-b16d-3e86a20c70f1",
   "metadata": {},
   "outputs": [],
   "source": []
  },
  {
   "cell_type": "code",
   "execution_count": null,
   "id": "0b92b6f4-3025-4e5b-ab19-6b5f1699f5bb",
   "metadata": {},
   "outputs": [],
   "source": []
  },
  {
   "cell_type": "code",
   "execution_count": null,
   "id": "ec17d1b8-2dc4-4119-b0fe-5b34fcc150a2",
   "metadata": {},
   "outputs": [],
   "source": []
  },
  {
   "cell_type": "code",
   "execution_count": null,
   "id": "c53eb99b-2bb8-43af-af98-3e0891ed8217",
   "metadata": {},
   "outputs": [],
   "source": []
  },
  {
   "cell_type": "code",
   "execution_count": null,
   "id": "18f979c2-1e42-4354-ae76-b4b0fbca929f",
   "metadata": {},
   "outputs": [],
   "source": []
  },
  {
   "cell_type": "code",
   "execution_count": null,
   "id": "12fc17e7-a7bc-4f64-966c-6b1f6695f92e",
   "metadata": {},
   "outputs": [],
   "source": []
  },
  {
   "cell_type": "code",
   "execution_count": null,
   "id": "45063374-b2c5-449f-866b-ccb485f4a9e7",
   "metadata": {},
   "outputs": [],
   "source": []
  },
  {
   "cell_type": "code",
   "execution_count": null,
   "id": "dcb57b71-0c1a-4bb4-975a-76c6f41dd00d",
   "metadata": {},
   "outputs": [],
   "source": []
  },
  {
   "cell_type": "code",
   "execution_count": null,
   "id": "b0b6ed08-cd8e-49fb-ad3d-31ea0fd8b9ea",
   "metadata": {},
   "outputs": [],
   "source": []
  },
  {
   "cell_type": "code",
   "execution_count": null,
   "id": "27f1c13f-08ea-49c3-b42e-43a0544a6023",
   "metadata": {},
   "outputs": [],
   "source": []
  },
  {
   "cell_type": "code",
   "execution_count": null,
   "id": "d302c613-fa8b-45ea-b485-8d8e6e6495a0",
   "metadata": {},
   "outputs": [],
   "source": []
  },
  {
   "cell_type": "code",
   "execution_count": null,
   "id": "1fd52357-ec27-4c30-b350-efceff56488a",
   "metadata": {},
   "outputs": [],
   "source": []
  },
  {
   "cell_type": "code",
   "execution_count": null,
   "id": "c9424797-da98-4869-9cbb-4c210a3534a5",
   "metadata": {},
   "outputs": [],
   "source": []
  },
  {
   "cell_type": "code",
   "execution_count": null,
   "id": "89c162d3-aa8a-46ec-8a90-e727b2342e84",
   "metadata": {},
   "outputs": [],
   "source": []
  },
  {
   "cell_type": "code",
   "execution_count": null,
   "id": "14b71deb-eb7e-4e3e-b19d-8c51f9636bf3",
   "metadata": {},
   "outputs": [],
   "source": []
  },
  {
   "cell_type": "code",
   "execution_count": null,
   "id": "380dd60c-e5b4-45c7-bba1-b0d1217f92ba",
   "metadata": {},
   "outputs": [],
   "source": []
  },
  {
   "cell_type": "code",
   "execution_count": null,
   "id": "16f80e6c-a82b-4060-9e10-4e969f634b2f",
   "metadata": {},
   "outputs": [],
   "source": []
  },
  {
   "cell_type": "code",
   "execution_count": null,
   "id": "2ebecb66-3c9e-43d3-9dc7-22e979e5f970",
   "metadata": {},
   "outputs": [],
   "source": []
  },
  {
   "cell_type": "code",
   "execution_count": null,
   "id": "8bb5ac58-9ce6-4258-a647-6ed04b87c1f1",
   "metadata": {},
   "outputs": [],
   "source": []
  },
  {
   "cell_type": "code",
   "execution_count": null,
   "id": "d072c571-f018-4367-9175-7d5e60e6d458",
   "metadata": {},
   "outputs": [],
   "source": []
  },
  {
   "cell_type": "code",
   "execution_count": null,
   "id": "be517b9a-efc8-4dee-b745-a70ad5aa892c",
   "metadata": {},
   "outputs": [],
   "source": []
  },
  {
   "cell_type": "code",
   "execution_count": null,
   "id": "294043d5-c56f-4041-b9ce-8c13f5915ecd",
   "metadata": {},
   "outputs": [],
   "source": []
  },
  {
   "cell_type": "code",
   "execution_count": null,
   "id": "fe177dd3-9641-47fe-a62f-afe3dfcfe17e",
   "metadata": {},
   "outputs": [],
   "source": []
  },
  {
   "cell_type": "code",
   "execution_count": null,
   "id": "d25af11d-baa8-4a09-be56-195682e9a6c4",
   "metadata": {},
   "outputs": [],
   "source": []
  },
  {
   "cell_type": "code",
   "execution_count": null,
   "id": "25a9cdab-c634-47f8-a784-92214308ec19",
   "metadata": {},
   "outputs": [],
   "source": []
  },
  {
   "cell_type": "code",
   "execution_count": null,
   "id": "3bc1002c-0e84-43c0-a1de-2a43d046b8ea",
   "metadata": {},
   "outputs": [],
   "source": []
  },
  {
   "cell_type": "code",
   "execution_count": null,
   "id": "60bc28ed-7043-4bce-b511-f9ec82bc7446",
   "metadata": {},
   "outputs": [],
   "source": []
  },
  {
   "cell_type": "code",
   "execution_count": null,
   "id": "3a948ade-c7b1-41bf-822a-4804a5e98f9b",
   "metadata": {},
   "outputs": [],
   "source": []
  },
  {
   "cell_type": "code",
   "execution_count": null,
   "id": "15809a3b-5e1a-48ee-8b5c-500e157417a6",
   "metadata": {},
   "outputs": [],
   "source": []
  },
  {
   "cell_type": "code",
   "execution_count": null,
   "id": "543955f6-4911-4791-9d53-5bd6e1d7ab7f",
   "metadata": {},
   "outputs": [],
   "source": []
  },
  {
   "cell_type": "code",
   "execution_count": null,
   "id": "03d4d959-10b6-4922-bf6c-342ae7c4a91b",
   "metadata": {},
   "outputs": [],
   "source": []
  },
  {
   "cell_type": "code",
   "execution_count": null,
   "id": "d5ac3b8e-c3e2-4d02-8c27-cdc6152d5530",
   "metadata": {},
   "outputs": [],
   "source": []
  },
  {
   "cell_type": "code",
   "execution_count": null,
   "id": "7bfb8147-3504-4ce8-8693-18cdd8e2c1a6",
   "metadata": {},
   "outputs": [],
   "source": []
  },
  {
   "cell_type": "code",
   "execution_count": null,
   "id": "a39514ed-389e-4d90-82b1-5975a1654f05",
   "metadata": {},
   "outputs": [],
   "source": []
  },
  {
   "cell_type": "code",
   "execution_count": null,
   "id": "de26fb79-f9ad-4227-ac47-e7c46a8ed587",
   "metadata": {},
   "outputs": [],
   "source": []
  },
  {
   "cell_type": "code",
   "execution_count": null,
   "id": "8458ac7c-0106-4521-bc35-df8e08c3c28d",
   "metadata": {},
   "outputs": [],
   "source": []
  },
  {
   "cell_type": "code",
   "execution_count": null,
   "id": "275b6a75-d558-49d6-8075-3a72d41eb400",
   "metadata": {},
   "outputs": [],
   "source": []
  },
  {
   "cell_type": "code",
   "execution_count": null,
   "id": "7cd9cd95-c5b8-40d7-8854-26eca79880a0",
   "metadata": {},
   "outputs": [],
   "source": []
  },
  {
   "cell_type": "code",
   "execution_count": null,
   "id": "81550930-f073-4c71-94af-526143fbe25f",
   "metadata": {},
   "outputs": [],
   "source": []
  },
  {
   "cell_type": "code",
   "execution_count": null,
   "id": "bbf1a34a-f962-4a97-82ce-f485be0eb9b6",
   "metadata": {},
   "outputs": [],
   "source": []
  },
  {
   "cell_type": "code",
   "execution_count": null,
   "id": "a1f8711c-0762-4d2d-bf98-5446e0ef1b7e",
   "metadata": {},
   "outputs": [],
   "source": []
  },
  {
   "cell_type": "code",
   "execution_count": null,
   "id": "57ee5464-7cb3-4582-94f6-825790c520b1",
   "metadata": {},
   "outputs": [],
   "source": []
  },
  {
   "cell_type": "code",
   "execution_count": null,
   "id": "30138b13-8e28-4054-aa15-c4fffc2b8c2b",
   "metadata": {},
   "outputs": [],
   "source": []
  },
  {
   "cell_type": "code",
   "execution_count": null,
   "id": "2e589ea0-41f1-48c7-bfa4-fa48e2569b39",
   "metadata": {},
   "outputs": [],
   "source": []
  }
 ],
 "metadata": {
  "kernelspec": {
   "display_name": "Python 3 (ipykernel)",
   "language": "python",
   "name": "python3"
  },
  "language_info": {
   "codemirror_mode": {
    "name": "ipython",
    "version": 3
   },
   "file_extension": ".py",
   "mimetype": "text/x-python",
   "name": "python",
   "nbconvert_exporter": "python",
   "pygments_lexer": "ipython3",
   "version": "3.10.13"
  }
 },
 "nbformat": 4,
 "nbformat_minor": 5
}
